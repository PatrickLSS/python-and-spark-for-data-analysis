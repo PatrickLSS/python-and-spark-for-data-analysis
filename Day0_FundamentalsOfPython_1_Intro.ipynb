{
 "cells": [
  {
   "cell_type": "markdown",
   "metadata": {},
   "source": [
    "# Python and Spark for Data Analysis"
   ]
  },
  {
   "cell_type": "markdown",
   "metadata": {},
   "source": [
    "## Introduction"
   ]
  },
  {
   "cell_type": "markdown",
   "metadata": {},
   "source": [
    "### Who am I?\n",
    "\n",
    "[Patrick Varilly](https://be.linkedin.com/in/patvarilly) - Data Scientist / Architect at [Data Minded](http://www.dataminded.be)\n",
    "\n",
    "With Data Minded since Jan 2015.  There, I've worked on:\n",
    "* Optimizing back-end web app performance for a biotech startup (Java, MongoDB)\n",
    "* Helping SNCB Logistics optimize their wagon's maintenance schedule, lowering costs (Python)\n",
    "* (_ongoing_) Migrating a healthcare analytics client in NY from SQL Server to Hive/Hadoop on AWS.\n",
    "\n",
    "Previously:\n",
    "* 1 1/2 years at [Struq](http://www.struq.com), an online advertising company in London.  Worked on modeling for ad pricing and back-end infrastructure to respond to and analyze billions of requests a day.  Worked with C#, Java and Python, with technologies like ASP.NET, SQL Server, Cassandra, MongoDB and Hadoop/Hive.\n",
    "* 2 years as a Theoretical Chemistry post-doc at [Cambridge](http://www.ch.cam.ac.uk/) working on DNA-assisted self-assembly\n",
    "* PhD in Physics from [UC Berkeley](http://gold.cchem.berkeley.edu/The_Chandler_Group/), studying water through large-scale computer simulations.\n",
    "* BS in Physics (minor in Math) from [MIT](http://web.mit.edu)\n",
    "\n",
    "I've been using Python nearly every day for just over 4 years now.  I've contributed to [SciPy](http://www.scipy.org/) and have hosted a [number of](http://www.meetup.com/Open-Data-Innovation-Training-Hub/events/222892131/) [training](http://www.meetup.com/Open-Data-Innovation-Training-Hub/events/223934129/) [sessions](https://github.com/patvarilly/dihub-python-for-data-scientists-2015) for Python and PySpark at the [European Data Innovation Hub](http://www.datainnovationhub.eu/) in Brussels."
   ]
  },
  {
   "cell_type": "markdown",
   "metadata": {},
   "source": [
    "### Who are you?"
   ]
  },
  {
   "cell_type": "markdown",
   "metadata": {},
   "source": [
    "I'd like to take 10 minutes to get to know you all:\n",
    "* Name\n",
    "* What you do at work\n",
    "* What your background is\n",
    "* Why you are interested in Python\n",
    "* What you hope to learn in these 4 sessions"
   ]
  },
  {
   "cell_type": "markdown",
   "metadata": {},
   "source": [
    "---"
   ]
  },
  {
   "cell_type": "markdown",
   "metadata": {},
   "source": [
    "## Day 0: Fundamentals of Python"
   ]
  },
  {
   "cell_type": "markdown",
   "metadata": {},
   "source": [
    "The goal for today is to bring you all up to speed on basic Python.  Specifically, after today, you should be able to:\n",
    "* Start and run python programs interactively with python CLI\n",
    "* Use an IDE to write programs and execute them, including command line arguments\n",
    "* Create notebooks locally and on a server\n",
    "* Import libraries\n",
    "* Store data in variables and understand their reach\n",
    "* Know the standard operators\n",
    "* Control the flow of a program\n",
    "* Perform common string operations such as concatenation, substring, replace\n",
    "* Use the correct data structures\n",
    "* Use functions to structure your program\n",
    "\n",
    "Throughout, I'll ask you to do short exercises or work on longer problems.  After each exercise, we'll review the answers together.  I encourage you to work with each other if you get stuck!"
   ]
  },
  {
   "cell_type": "markdown",
   "metadata": {
    "collapsed": true
   },
   "source": [
    "### 0.1. Running Python on the command line"
   ]
  },
  {
   "cell_type": "markdown",
   "metadata": {},
   "source": [
    "Open a Terminal (`cmd.exe` in Windows) and type `python`.  You should see something like this:\n",
    "\n",
    "```\n",
    "Python 2.7.9 (v2.7.9:648dcafa7e5f, Dec 10 2014, 10:10:46) \n",
    "[GCC 4.2.1 (Apple Inc. build 5666) (dot 3)] on darwin\n",
    "Type \"help\", \"copyright\", \"credits\" or \"license\" for more information.\n",
    ">>> \n",
    "```"
   ]
  },
  {
   "cell_type": "markdown",
   "metadata": {},
   "source": [
    "You are in front of the Python REPL (read-eval-print loop).  You can type statements interactively here, and they are executed when you press `ENTER`.\n",
    "\n",
    "The simplest kinds of statements you can type involve simple math.  Here are a few examples:\n",
    "```\n",
    ">>> 2+2\n",
    "4\n",
    ">>> 3*5\n",
    "15\n",
    ">>> 5.0 / 4.0\n",
    "1.25\n",
    ">>> 3**2\n",
    "9\n",
    "```"
   ]
  },
  {
   "cell_type": "markdown",
   "metadata": {},
   "source": [
    "**Ex 0.1.1: To make sure you can run the Python REPL, calculate `2+2` by typing `2+2`, then pressing `ENTER`**"
   ]
  },
  {
   "cell_type": "markdown",
   "metadata": {},
   "source": [
    "**Ex 0.1.2: Calculate the value of the following expressions:**\n",
    "1. The sum of the numbers from 1 to 10\n",
    "2. The area of a triangle with base length 10 cm and height 5 cm\n",
    "3. The perimeter of a rectangle of width 20 cm and height 10 cm\n",
    "4. The amount of interest paid on a €100 balance in one year with an interest rate of 2%\n",
    "5. The sum of the first ten squares (i.e., $1^2 + 2^2 + \\cdots + 10^2$)\n",
    "6. The amount of interest paid on a €100 balance in 7 years with an interest rate of 2%"
   ]
  },
  {
   "cell_type": "markdown",
   "metadata": {},
   "source": [
    "In the Python REPL, you can use `_` to refer to the previous result"
   ]
  },
  {
   "cell_type": "markdown",
   "metadata": {},
   "source": [
    "**Ex 0.1.3. Calculate the sum of the numbers 1 to 5, showing each intermediate result**"
   ]
  },
  {
   "cell_type": "markdown",
   "metadata": {},
   "source": [
    "The Python `REPL` is available everywhere that Python is installed.  And this low-level interface is very useful when running code on remote servers (e.g., accessing a cluster via SSH).  But people rarely run the raw REPL nowadays.  Instead, they...\n",
    "* ...run an improved REPL called `IPython`\n",
    "* ...use a web notebook interface called `IPython notebook`\n",
    "* ...write their code in scripts and run the scripts\n",
    "* ...write larger programs in an IDE, such as `PyCharm`\n",
    "\n",
    "Let's look at each of these in turn."
   ]
  },
  {
   "cell_type": "markdown",
   "metadata": {},
   "source": [
    "### 0.2. Running `IPython` in a terminal"
   ]
  },
  {
   "cell_type": "markdown",
   "metadata": {},
   "source": [
    "[http://ipython.org/](IPython) (short for Interactive Python) is a more polished interface to the Python REPL, and a whole lot more"
   ]
  },
  {
   "cell_type": "markdown",
   "metadata": {},
   "source": [
    "**Ex 0.2.1. Open a Terminal (or `cmd.exe`) and type `ipython`.  Calculate 2+2.**"
   ]
  },
  {
   "cell_type": "markdown",
   "metadata": {},
   "source": [
    "Your output should look a bit like this:\n",
    "```\n",
    "Python 2.7.9 (v2.7.9:648dcafa7e5f, Dec 10 2014, 10:10:46) \n",
    "Type \"copyright\", \"credits\" or \"license\" for more information.\n",
    "\n",
    "IPython 3.1.0 -- An enhanced Interactive Python.\n",
    "?         -> Introduction and overview of IPython's features.\n",
    "%quickref -> Quick reference.\n",
    "help      -> Python's own help system.\n",
    "object?   -> Details about 'object', use 'object??' for extra details.\n",
    "\n",
    "In [1]: 2+2\n",
    "Out[1]: 4\n",
    "```"
   ]
  },
  {
   "cell_type": "markdown",
   "metadata": {},
   "source": [
    "IPython's most significant features are:\n",
    "* tab-completion\n",
    "* online help\n",
    "* nicer output formatting\n",
    "\n",
    "We'll come back to these when we know more Python."
   ]
  },
  {
   "cell_type": "markdown",
   "metadata": {},
   "source": [
    "### 0.3. Running Python code in a script"
   ]
  },
  {
   "cell_type": "markdown",
   "metadata": {},
   "source": [
    "Very often, you'll want to run a large piece of code repeatedly.  Or you want to work on a complex piece of logic.  Running Python interactively here is inconvenient.  For that, people use scripts."
   ]
  },
  {
   "cell_type": "markdown",
   "metadata": {},
   "source": [
    "**Ex 0.3.1. Create a new text file named `script1.py` with the following contents** (don't worry if you don't understand every detail yet)\n",
    "```\n",
    "answer = 40 + 2\n",
    "print(\"The answer is: {0}\".format(answer))\n",
    "```\n",
    "**Run the script in a Terminal by typing `python script1.py`**"
   ]
  },
  {
   "cell_type": "markdown",
   "metadata": {},
   "source": [
    "### 0.4. Running Python inside the IPython notebook"
   ]
  },
  {
   "cell_type": "markdown",
   "metadata": {},
   "source": [
    "The IPython Notebook is one of the nicest interfaces to Python.\n",
    "\n",
    "**Ex 0.4.1. Open the IPython Notebook interface by typing `ipython notebook` in a Terminal (`cmd.exe`).  A web browser should open up showing the contents of the local directory.  Click on \"New\" at the right-hand side, then on \"Notebooks -> Python 2\".**\n",
    "\n",
    "You should have an empty notebook in front of you."
   ]
  },
  {
   "cell_type": "markdown",
   "metadata": {},
   "source": [
    "An IPython notebook consists of a series of *cells*, of which there are two kinds:\n",
    "* Markdown cells: formatted text\n",
    "* Code cells: Python statements\n",
    "At any given moment, you can either navigate from one cell to the next, or edit the current cell (look for a pencil symbol at the top right).\n",
    "\n",
    "Initially, you have a single Code cell, which you are editing.  We can run Python commands directly."
   ]
  },
  {
   "cell_type": "markdown",
   "metadata": {},
   "source": [
    "**Ex 0.4.2. Type `2+2`, then `Shift-ENTER`**"
   ]
  },
  {
   "cell_type": "markdown",
   "metadata": {},
   "source": [
    "You should see the result of `2+2` next to `Out[1]`.  IPython will have created a new cell below, into which you can type new commands."
   ]
  },
  {
   "cell_type": "markdown",
   "metadata": {},
   "source": [
    "__Ex 0.4.3. Type `10*20`, then Shift-ENTER.  Next, type `2**8`, then Shift-ENTER__"
   ]
  },
  {
   "cell_type": "markdown",
   "metadata": {},
   "source": [
    "Now that you have a few cells, we can learn how to navigate the notebook and edit cells, as well as add and remove cells."
   ]
  },
  {
   "cell_type": "markdown",
   "metadata": {},
   "source": [
    "**Ex 0.4.4. Go back to the first cell, and change `2+2` to `2+3`, then re-evaluate it by pressing `Shift-ENTER`**"
   ]
  },
  {
   "cell_type": "markdown",
   "metadata": {},
   "source": [
    "Notice that you're now no longer in Edit mode.  There is no pencil at the top right and no cursor in each cell."
   ]
  },
  {
   "cell_type": "markdown",
   "metadata": {},
   "source": [
    "**Ex 0.4.5. Press the up arrow to go up a cell, down arrow to go down a cell**"
   ]
  },
  {
   "cell_type": "markdown",
   "metadata": {},
   "source": [
    "You can enter Edit mode for the selected cell by typing `ENTER`.  To leave Edit mode, press `ESC`."
   ]
  },
  {
   "cell_type": "markdown",
   "metadata": {},
   "source": [
    "__Ex 0.4.6. Press ESC to make sure you're out of Edit mode.  Using the keyboard only, navigate to the last cell and change `2**8` to `2**16`, then re-evaluate.  Then navigate to the top cell and change `2+3` back to `2+2`.  Re-evaluate the cell__"
   ]
  },
  {
   "cell_type": "markdown",
   "metadata": {},
   "source": [
    "There is now an empty cell at the bottom of the notebook.  Let's get rid of it."
   ]
  },
  {
   "cell_type": "markdown",
   "metadata": {},
   "source": [
    "**Ex 0.4.7. Navigate to the bottom, empty cell.  Delete it by pressing '`d`' twice**"
   ]
  },
  {
   "cell_type": "markdown",
   "metadata": {},
   "source": [
    "We can also add cells **A**bove or **B**elow the current cell."
   ]
  },
  {
   "cell_type": "markdown",
   "metadata": {},
   "source": [
    "**Ex 0.4.8. Navigate to the cell that says `10*20`.  Press '`a`' to add a cell above it.  Edit it and calculate 3+4+5.  Now navigate to the last cell.  Press '`b`' to add a cell below it.  Edit it to calculate 6+7+8.**"
   ]
  },
  {
   "cell_type": "markdown",
   "metadata": {},
   "source": [
    "You'll be using the IPython Notebook a lot in these training sessions, and hopefully in subsequent work as well.  It's well worth it to learn these navigation commands.  You can find a more complete tutorial and list of shortcuts under `Help -> User Interface Tour` and `Help -> Keyboard Shortcuts`."
   ]
  },
  {
   "cell_type": "markdown",
   "metadata": {},
   "source": [
    "One of the strengths of IPython notebooks is that you can mix text, maths, graphs and code in a single, live document.  Let's look at how to add cells."
   ]
  },
  {
   "cell_type": "markdown",
   "metadata": {},
   "source": [
    "**Ex 0.4.9. Add a new cell at the top of the notebook.  Before editing it, press '`m`' to change it from a Code cell to a Markdown cell.  Notice that the '`In[ ]:`' marker disappears.  Press `ENTER` to edit the cell.  Type the following text in Markdown format, then press Shift-ENTER to render the markdown:**\n",
    "```\n",
    "# My First Notebook\n",
    "\n",
    "## A few simple exercises\n",
    "\n",
    "Python arithmetic operators include:\n",
    "* addition: `+`\n",
    "* subtraction: `-`\n",
    "* ...\n",
    "\n",
    "Other operations (which are *really* **important**) are:\n",
    "1. multiplication: `*`\n",
    "2. division: `/`\n",
    "3. ...\n",
    "\n",
    "There's an [online Markdown tutorial](https://help.github.com/articles/markdown-basics/), which you can access via `Help -> Markdown`\n",
    "```"
   ]
  },
  {
   "cell_type": "markdown",
   "metadata": {},
   "source": [
    "---\n",
    "**Ex 0.4.10. Let's put it all together: create a new IPython Notebook that looks as follows:**"
   ]
  },
  {
   "cell_type": "markdown",
   "metadata": {},
   "source": [
    "# Exercise 15\n",
    "\n",
    "## Basic operations\n",
    "\n",
    "Addition and subtraction use the `+` and `-` operators (e.g., `2+2`):"
   ]
  },
  {
   "cell_type": "code",
   "execution_count": 4,
   "metadata": {
    "collapsed": false
   },
   "outputs": [
    {
     "data": {
      "text/plain": [
       "4"
      ]
     },
     "execution_count": 4,
     "metadata": {},
     "output_type": "execute_result"
    }
   ],
   "source": [
    "2+2"
   ]
  },
  {
   "cell_type": "code",
   "execution_count": 5,
   "metadata": {
    "collapsed": false
   },
   "outputs": [
    {
     "data": {
      "text/plain": [
       "40"
      ]
     },
     "execution_count": 5,
     "metadata": {},
     "output_type": "execute_result"
    }
   ],
   "source": [
    "42 - 2"
   ]
  },
  {
   "cell_type": "markdown",
   "metadata": {},
   "source": [
    "## More complicated operations\n",
    "\n",
    "Here's where multiplication and division come in."
   ]
  },
  {
   "cell_type": "code",
   "execution_count": 6,
   "metadata": {
    "collapsed": false
   },
   "outputs": [
    {
     "data": {
      "text/plain": [
       "7.434283382464002"
      ]
     },
     "execution_count": 6,
     "metadata": {},
     "output_type": "execute_result"
    }
   ],
   "source": [
    "100 * (1.02**7 - 1) / 2"
   ]
  },
  {
   "cell_type": "markdown",
   "metadata": {},
   "source": [
    "---"
   ]
  },
  {
   "cell_type": "markdown",
   "metadata": {},
   "source": [
    "One final note.  IPython runs as a webserver that you access through your web browser.  The IPython server could just as well be on a machine that's not on your laptop.  This allows you to run Python code on a different machine, which may:\n",
    "* be more powerful\n",
    "* have access to files and networks that you don't\n",
    "* be shared with others"
   ]
  },
  {
   "cell_type": "markdown",
   "metadata": {},
   "source": [
    "**Ex 0.4.11. Navigate to the IPython Server at the address below:**\n",
    "\n",
    "http://dataminded.be:8888/\n",
    "\n",
    "**Create a new notebook with your name and run a simple calculation.  Click the 'Save' icon at the top left.  Now open your neighbours notebook and see what they did.**\n",
    "\n",
    "_Note: before this exercise, I had logged into the server running dataminded.be, opened up port 8888 in the firewall, and started IPython Notebook as a nonlocal webserver with the following command:_\n",
    "```\n",
    "ipython notebook --no-browser --ip 0.0.0.0\n",
    "```"
   ]
  },
  {
   "cell_type": "markdown",
   "metadata": {},
   "source": [
    "### 0.5. Writing Python code in PyCharm"
   ]
  },
  {
   "cell_type": "markdown",
   "metadata": {},
   "source": [
    "For larger projects, a dedicated Integrated Development Environment becomes invaluable.  One of the most complete ones is [PyCharm](https://www.jetbrains.com/pycharm/), which should be installed in your laptops.\n",
    "\n",
    "We'll create a simple script and run it to get an idea of what PyCharm looks and feels like, but we'll only scratch the surface here."
   ]
  },
  {
   "cell_type": "markdown",
   "metadata": {},
   "source": [
    "**Ex 0.5.1: Open PyCharm Community Edition from the Start menu.  In the Welcome screen, select '`Create New Project`'.  Make a new project called '`pycharmtest`' somewhere convenient.  [The first time you open PyCharm, you may need to wait a few minutes while it indexes Python's standard libraries]  Once the project is created, right-click on \"`pycharmtest`\" on the left sidebar (Project), then select 'New -> File'.  Name the new file `script2.py`.  Type the following script:**\n",
    "```\n",
    "answer = 2 + 40\n",
    "print(\"The answer is: {0}\".format(answer))\n",
    "```\n",
    "**Notice how PyCharm provides syntax coloring and autocomplete suggestions as you type.  Now right-click on `script2.py` and select 'Run script2'.**\n",
    "\n",
    "Your screen should look something like this:"
   ]
  },
  {
   "cell_type": "markdown",
   "metadata": {},
   "source": [
    "<img src=images/script2_screenshot.png>"
   ]
  },
  {
   "cell_type": "markdown",
   "metadata": {},
   "source": [
    "---"
   ]
  },
  {
   "cell_type": "markdown",
   "metadata": {},
   "source": [
    "# 15-20 minute break here"
   ]
  }
 ],
 "metadata": {
  "kernelspec": {
   "display_name": "Python 2",
   "language": "python",
   "name": "python2"
  },
  "language_info": {
   "codemirror_mode": {
    "name": "ipython",
    "version": 2
   },
   "file_extension": ".py",
   "mimetype": "text/x-python",
   "name": "python",
   "nbconvert_exporter": "python",
   "pygments_lexer": "ipython2",
   "version": "2.7.9"
  }
 },
 "nbformat": 4,
 "nbformat_minor": 0
}
