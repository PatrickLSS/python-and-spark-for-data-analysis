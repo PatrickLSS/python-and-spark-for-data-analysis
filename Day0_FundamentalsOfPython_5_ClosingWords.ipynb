{
 "cells": [
  {
   "cell_type": "markdown",
   "metadata": {},
   "source": [
    "### 0.14 Closing words"
   ]
  },
  {
   "cell_type": "markdown",
   "metadata": {},
   "source": [
    "We've come a long way since the morning.  You now have a good idea how to:\n",
    "* Call Python from the command line, both interactively and for scripts with arguments\n",
    "* Write IPython notebooks\n",
    "* Use the PyCharm (a bit)\n",
    "* Use the basic data types:\n",
    "  - `int`\n",
    "  - `float`\n",
    "  - `bool`\n",
    "  - `str`\n",
    "  - `list`\n",
    "  - `tuple`\n",
    "  - `dict`\n",
    "* Control program flow with `if`, `while` and `for`\n",
    "* Import external modules and write your own simple modules\n",
    "* Use functions to structure your program"
   ]
  },
  {
   "cell_type": "markdown",
   "metadata": {},
   "source": [
    "But there is much more to learn about:\n",
    "* Use more advanced data types: `None`, `set`, `frozenset`, `long`, `complex`, ...\n",
    "* **Create your own data types (classes)**, with their own methods and their own definitions of the basic arithmetic operators\n",
    "* Exception and exception handling\n",
    "* Interact with files on your disk\n",
    "* Send and receive network requests\n",
    "* Write more complex modules, with proper documentation\n",
    "* Generator expressions\n",
    "* Generator functions\n",
    "* Anonymous functions (`lambda`)\n",
    "* Context managers (`with`)\n",
    "* Python 2 vs Python 3\n",
    "* ..."
   ]
  },
  {
   "cell_type": "markdown",
   "metadata": {},
   "source": [
    "There's much more to learn about Python!  But it's more important to practice with what you know now than it is to cover every aspect of the language.\n",
    "\n",
    "We'll have plenty of practice over the next few days, and we'll introduce a few new concepts as and when appropriate."
   ]
  },
  {
   "cell_type": "markdown",
   "metadata": {},
   "source": [
    "#### Where to learn more?"
   ]
  },
  {
   "cell_type": "markdown",
   "metadata": {},
   "source": [
    "The [official Python tutorial](https://docs.python.org/2/tutorial/) is a first step towards filling in the gaps\n"
   ]
  },
  {
   "cell_type": "markdown",
   "metadata": {},
   "source": [
    "The best book to learn everything, in my opinion, is [Python: Essential Reference](http://www.amazon.com/Python-Essential-Reference-4th-Edition/dp/0672329786) by David Beazley.  No nonsense and goes into great detail.  A challenge that's well worth it!"
   ]
  },
  {
   "cell_type": "markdown",
   "metadata": {},
   "source": [
    "A pragmatic way to learn more in bite-sized pieces is [Effective Python: 59 Specific Ways to Write Better Python](http://www.effectivepython.com/)."
   ]
  },
  {
   "cell_type": "markdown",
   "metadata": {},
   "source": [
    "Finally (full disclosure: I'm involved in this!), [DataCamp](http://www.datacamp.com), based in Leuven, is developing a suite of interactive Python courses that should start coming out in a few weeks.  The first introductory course can be found [here](https://www.datacamp.com/courses/intro-to-python-for-data-science)."
   ]
  }
 ],
 "metadata": {
  "kernelspec": {
   "display_name": "Python 2",
   "language": "python",
   "name": "python2"
  },
  "language_info": {
   "codemirror_mode": {
    "name": "ipython",
    "version": 2
   },
   "file_extension": ".py",
   "mimetype": "text/x-python",
   "name": "python",
   "nbconvert_exporter": "python",
   "pygments_lexer": "ipython2",
   "version": "2.7.9"
  }
 },
 "nbformat": 4,
 "nbformat_minor": 0
}
