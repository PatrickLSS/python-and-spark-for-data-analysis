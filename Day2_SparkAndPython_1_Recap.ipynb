{
 "cells": [
  {
   "cell_type": "markdown",
   "metadata": {},
   "source": [
    "# Day 2: Apache Spark and Python"
   ]
  },
  {
   "cell_type": "markdown",
   "metadata": {},
   "source": [
    "## 2.0 Recap of last week"
   ]
  },
  {
   "cell_type": "markdown",
   "metadata": {},
   "source": [
    "Last week, we spent a whole day learning the fundamentals of Python from scratch.  We learned how to:\n",
    "* Call Python from the command line, both interactively and for scripts with arguments\n",
    "* Write IPython notebooks\n",
    "* Use PyCharm (a bit)\n",
    "* Use the basic data types:\n",
    "  - `int`\n",
    "  - `float`\n",
    "  - `bool`\n",
    "  - `str`\n",
    "  - `list`\n",
    "  - `tuple`\n",
    "  - `dict`\n",
    "* Control program flow with `if`, `while` and `for`\n",
    "* Import external modules and write your own simple modules\n",
    "* Use functions to structure your program"
   ]
  },
  {
   "cell_type": "markdown",
   "metadata": {},
   "source": [
    "To refresh your mind, here's the quick summary from the beginning of Day 2:"
   ]
  },
  {
   "cell_type": "markdown",
   "metadata": {},
   "source": [
    "Python values come in several types:"
   ]
  },
  {
   "cell_type": "code",
   "execution_count": 1,
   "metadata": {
    "collapsed": true
   },
   "outputs": [],
   "source": [
    "a = 1                 # int\n",
    "b = 5.4               # float\n",
    "c = \"Hello\"           # str\n",
    "d = True              # bool\n",
    "e = [1,2,3]           # list\n",
    "f = (5,6)             # tuple\n",
    "g = {'a': 1, 'b': 2}  # dict"
   ]
  },
  {
   "cell_type": "markdown",
   "metadata": {},
   "source": [
    "Arithmetic operations work as you expect:"
   ]
  },
  {
   "cell_type": "code",
   "execution_count": 2,
   "metadata": {
    "collapsed": false
   },
   "outputs": [
    {
     "name": "stdout",
     "output_type": "stream",
     "text": [
      "60.5781476478\n"
     ]
    }
   ],
   "source": [
    "print(100 * (1.07**7 - 1))  # Interest on €100 over 7 years at 7%"
   ]
  },
  {
   "cell_type": "markdown",
   "metadata": {},
   "source": [
    "Lists can be accessed and modified in various ways:"
   ]
  },
  {
   "cell_type": "code",
   "execution_count": 3,
   "metadata": {
    "collapsed": false
   },
   "outputs": [
    {
     "name": "stdout",
     "output_type": "stream",
     "text": [
      "orange\n",
      "['apple', 'orange']\n",
      "['apple', 'orange']\n",
      "pear\n",
      "['orange', 'pear']\n"
     ]
    }
   ],
   "source": [
    "fruits = ['apple', 'orange', 'pear']\n",
    "print(fruits[1])    # 2nd item (0, 1, 2, ...)\n",
    "print(fruits[0:2])  # Slice from 0 (inclusive) to 2 (exclusive)\n",
    "print(fruits[:2])   # First 2 items\n",
    "print(fruits[-1])   # Last item\n",
    "print(fruits[-2:])  # Last 2 items"
   ]
  },
  {
   "cell_type": "code",
   "execution_count": 4,
   "metadata": {
    "collapsed": true
   },
   "outputs": [],
   "source": [
    "fruits.append('lemon')  # Add\n",
    "del fruits[0]           # Remove\n",
    "fruits[0:2] = ['banana', 'kiwi', 'grape']  # Slice replacement"
   ]
  },
  {
   "cell_type": "markdown",
   "metadata": {},
   "source": [
    "List comprehensions are a powerful way to build one list from another"
   ]
  },
  {
   "cell_type": "code",
   "execution_count": 5,
   "metadata": {
    "collapsed": false
   },
   "outputs": [
    {
     "name": "stdout",
     "output_type": "stream",
     "text": [
      "[1, 4, 9, 16, 25, 36, 49, 64, 81, 100]\n"
     ]
    }
   ],
   "source": [
    "print([i*i for i in range(1,10+1)])  # First 10 squares"
   ]
  },
  {
   "cell_type": "code",
   "execution_count": 6,
   "metadata": {
    "collapsed": false
   },
   "outputs": [
    {
     "name": "stdout",
     "output_type": "stream",
     "text": [
      "[(1, 24), (2, 12), (3, 8), (4, 6)]\n"
     ]
    }
   ],
   "source": [
    "# Ways to express 24 as a product of 2 positive integers\n",
    "n = 24\n",
    "print([(a,b) for a in range(1,n+1) for b in range(a, n+1) if a*b == n])"
   ]
  },
  {
   "cell_type": "markdown",
   "metadata": {},
   "source": [
    "Tuples give you lots of idiomatic ways of dealing with compound data:"
   ]
  },
  {
   "cell_type": "code",
   "execution_count": 7,
   "metadata": {
    "collapsed": false
   },
   "outputs": [
    {
     "name": "stdout",
     "output_type": "stream",
     "text": [
      "Jack is 10 years old\n",
      "Jane is 25 years old\n",
      "Jill is 42 years old\n",
      "John is 30 years old\n"
     ]
    }
   ],
   "source": [
    "ages = {'John': 30, 'Jane': 25, 'Jack': 10, 'Jill': 42}\n",
    "for name, age in sorted(ages.items()):\n",
    "    print(\"{0} is {1} years old\".format(name, age))"
   ]
  },
  {
   "cell_type": "code",
   "execution_count": 8,
   "metadata": {
    "collapsed": false
   },
   "outputs": [
    {
     "name": "stdout",
     "output_type": "stream",
     "text": [
      "Fruit number 0 is 'banana'\n",
      "Fruit number 1 is 'kiwi'\n",
      "Fruit number 2 is 'grape'\n",
      "Fruit number 3 is 'lemon'\n"
     ]
    }
   ],
   "source": [
    "for i, fruit in enumerate(fruits):\n",
    "    print(\"Fruit number {0} is '{1}'\".format(i, fruit))"
   ]
  },
  {
   "cell_type": "markdown",
   "metadata": {},
   "source": [
    "Functions allow you to build complex behaviours from simpler parts:"
   ]
  },
  {
   "cell_type": "code",
   "execution_count": 9,
   "metadata": {
    "collapsed": false
   },
   "outputs": [
    {
     "name": "stdout",
     "output_type": "stream",
     "text": [
      "Jack is 10 years old\n",
      "Jane is 25 years old\n",
      "Jill is 42 years old\n",
      "John is 30 years old\n"
     ]
    }
   ],
   "source": [
    "# Breaking up the above loop over a dictionary into smaller pieces\n",
    "# (this is a bit artificial: normally, only break up pieces of code\n",
    "# that are conceptually separate or more than about 10 lines long)\n",
    "\n",
    "def format_output(name, age):\n",
    "    return \"{0} is {1} years old\".format(name, age)\n",
    "\n",
    "def print_all_ages(ages):\n",
    "    for name, age in sorted(ages.items()):\n",
    "        print(format_output(name, age))\n",
    "        \n",
    "def make_ages_dict():\n",
    "    return {\n",
    "        'John': 30,\n",
    "        'Jane': 25,\n",
    "        'Jack': 10,\n",
    "        'Jill': 42\n",
    "    }\n",
    "\n",
    "def main():\n",
    "    print_all_ages(make_ages_dict())\n",
    "    \n",
    "main()"
   ]
  },
  {
   "cell_type": "markdown",
   "metadata": {},
   "source": [
    "Related definitions can be packaged into a module (also called a library).  You can then import these modules in other code."
   ]
  },
  {
   "cell_type": "code",
   "execution_count": 10,
   "metadata": {
    "collapsed": false
   },
   "outputs": [
    {
     "name": "stdout",
     "output_type": "stream",
     "text": [
      "1.71828182846\n",
      "('2015', '12', '06')\n"
     ]
    }
   ],
   "source": [
    "from math import pi, e, sin\n",
    "import re\n",
    "\n",
    "print(sin(1.5*pi)+e)\n",
    "m = re.match(r'(\\d{4})-(\\d{2})-(\\d{2})', '2015-12-06')\n",
    "print(m.groups())"
   ]
  },
  {
   "cell_type": "markdown",
   "metadata": {},
   "source": [
    "---"
   ]
  },
  {
   "cell_type": "markdown",
   "metadata": {},
   "source": [
    "On Day 1, we talked about `NumPy`, `SciPy`, `Matplotlib`, `Pandas` and `Scikit-learn`:"
   ]
  },
  {
   "cell_type": "markdown",
   "metadata": {},
   "source": [
    "NumPy `arrays` are like Python lists, with two big differences:\n",
    "* Every element is of the same type\n",
    "* We can write vectorized operations between arrays"
   ]
  },
  {
   "cell_type": "code",
   "execution_count": 11,
   "metadata": {
    "collapsed": false
   },
   "outputs": [
    {
     "name": "stdout",
     "output_type": "stream",
     "text": [
      "[ 1.  2.  3.]\n",
      "[ 5.  6.  7.]\n",
      "[ 16.  20.  24.]\n",
      "1232.0\n"
     ]
    }
   ],
   "source": [
    "import numpy as np\n",
    "A = np.array([1.0, 2.0, 3.0])\n",
    "B = np.array([5.0, 6.0, 7.0])\n",
    "C = A + 3*B\n",
    "\n",
    "print(A)\n",
    "print(B)\n",
    "print(C)\n",
    "print(np.sum(C*C))"
   ]
  },
  {
   "cell_type": "markdown",
   "metadata": {},
   "source": [
    "There are various ways of creating NumPy arrays:"
   ]
  },
  {
   "cell_type": "code",
   "execution_count": 12,
   "metadata": {
    "collapsed": true
   },
   "outputs": [],
   "source": [
    "A = np.array([1.0, 2.0, 3.0])     # From a Python list\n",
    "B = np.arange(10)                 # Like range()\n",
    "C = np.linspace(-10.0, 10.0, 21)  # Elements equally spaced between bounds\n",
    "D = np.zeros(10)                  # All zeros\n",
    "E = np.ones(4)                    # All ones"
   ]
  },
  {
   "cell_type": "markdown",
   "metadata": {},
   "source": [
    "Can index by lists and by Boolean arrays:"
   ]
  },
  {
   "cell_type": "code",
   "execution_count": 13,
   "metadata": {
    "collapsed": false
   },
   "outputs": [
    {
     "name": "stdout",
     "output_type": "stream",
     "text": [
      "[1 3 5 7 9]\n"
     ]
    }
   ],
   "source": [
    "F = np.arange(10)\n",
    "print(F[F % 2 == 1])"
   ]
  },
  {
   "cell_type": "markdown",
   "metadata": {},
   "source": [
    "Arrays can have multiple dimensions, most commonly two for matrices:"
   ]
  },
  {
   "cell_type": "code",
   "execution_count": 14,
   "metadata": {
    "collapsed": true
   },
   "outputs": [],
   "source": [
    "M = np.array([[1,2,3], [4,5,6], [7,8,9]])"
   ]
  },
  {
   "cell_type": "code",
   "execution_count": 15,
   "metadata": {
    "collapsed": false
   },
   "outputs": [
    {
     "data": {
      "text/plain": [
       "array([[1, 2, 3],\n",
       "       [4, 5, 6],\n",
       "       [7, 8, 9]])"
      ]
     },
     "execution_count": 15,
     "metadata": {},
     "output_type": "execute_result"
    }
   ],
   "source": [
    "M"
   ]
  },
  {
   "cell_type": "markdown",
   "metadata": {},
   "source": [
    "Multi-dimensional arrays have other interesting operators:"
   ]
  },
  {
   "cell_type": "code",
   "execution_count": 16,
   "metadata": {
    "collapsed": false
   },
   "outputs": [
    {
     "data": {
      "text/plain": [
       "array([ 14.,  32.,  50.])"
      ]
     },
     "execution_count": 16,
     "metadata": {},
     "output_type": "execute_result"
    }
   ],
   "source": [
    "M.T           # Transpose\n",
    "M.trace()     # Trace\n",
    "np.dot(M, A)  # Matrix-vector product"
   ]
  },
  {
   "cell_type": "markdown",
   "metadata": {},
   "source": [
    "Indexing / slicing happens on each dimension independently:"
   ]
  },
  {
   "cell_type": "code",
   "execution_count": 17,
   "metadata": {
    "collapsed": false
   },
   "outputs": [
    {
     "data": {
      "text/plain": [
       "array([[2],\n",
       "       [5]])"
      ]
     },
     "execution_count": 17,
     "metadata": {},
     "output_type": "execute_result"
    }
   ],
   "source": [
    "M[0,1]        # Specific item\n",
    "M[0,:]        # First row\n",
    "M[:,1]        # Second column\n",
    "M[0:2, 1:2]   # Submatrix"
   ]
  },
  {
   "cell_type": "markdown",
   "metadata": {},
   "source": [
    "NumPy and SciPy have plenty of support for linear algebra."
   ]
  },
  {
   "cell_type": "markdown",
   "metadata": {},
   "source": [
    "There are also plenty of functions dealing with random numbers and probability distributions:"
   ]
  },
  {
   "cell_type": "code",
   "execution_count": 18,
   "metadata": {
    "collapsed": false
   },
   "outputs": [
    {
     "name": "stdout",
     "output_type": "stream",
     "text": [
      "Mean 60.2% +/- 5.0%\n"
     ]
    }
   ],
   "source": [
    "surveys = np.random.binomial(n=100, p=0.6, size=1000) / 100.0\n",
    "print(\"Mean {0:.1%} +/- {1:.1%}\".format(np.mean(surveys), np.std(surveys)))"
   ]
  },
  {
   "cell_type": "markdown",
   "metadata": {},
   "source": [
    "`Matplotlib` has wide facilities for plotting.  The best way (_honestly!_) to learn it is by example / Stack Overflow."
   ]
  },
  {
   "cell_type": "code",
   "execution_count": 19,
   "metadata": {
    "collapsed": true
   },
   "outputs": [],
   "source": [
    "%matplotlib inline\n",
    "from matplotlib import pyplot as plt"
   ]
  },
  {
   "cell_type": "code",
   "execution_count": 20,
   "metadata": {
    "collapsed": false
   },
   "outputs": [
    {
     "data": {
      "text/plain": [
       "<matplotlib.text.Text at 0x105cdc750>"
      ]
     },
     "execution_count": 20,
     "metadata": {},
     "output_type": "execute_result"
    },
    {
     "data": {
      "image/png": "[encoded data removed]",
      "text/plain": [
       "<matplotlib.figure.Figure at 0x1041e4690>"
      ]
     },
     "metadata": {},
     "output_type": "display_data"
    }
   ],
   "source": [
    "import math\n",
    "x = np.linspace(0.0, 2*math.pi, 100)\n",
    "y = np.sin(x)\n",
    "plt.plot(x, y, 'r-')\n",
    "plt.xlabel('Angle (radians)')\n",
    "plt.ylabel('$\\sin(x)$')\n",
    "plt.title('Back to high-school')"
   ]
  },
  {
   "cell_type": "markdown",
   "metadata": {},
   "source": [
    "`Pandas` is like _Excel for Python_.  We only scratched the surface and I really recommend going through Wes McKinney's book [Python for Data Analysis](http://shop.oreilly.com/product/0636920023784.do).\n",
    "\n",
    "We won't use Pandas for the rest of the training, but just to jostle your memory..."
   ]
  },
  {
   "cell_type": "code",
   "execution_count": 21,
   "metadata": {
    "collapsed": true
   },
   "outputs": [],
   "source": [
    "import pandas as pd\n",
    "from pandas import DataFrame, Series"
   ]
  },
  {
   "cell_type": "code",
   "execution_count": 22,
   "metadata": {
    "collapsed": false
   },
   "outputs": [
    {
     "data": {
      "text/html": [
       "<div>\n",
       "<table border=\"1\" class=\"dataframe\">\n",
       "  <thead>\n",
       "    <tr style=\"text-align: right;\">\n",
       "      <th></th>\n",
       "      <th>year</th>\n",
       "      <th>province</th>\n",
       "      <th>population</th>\n",
       "    </tr>\n",
       "  </thead>\n",
       "  <tbody>\n",
       "    <tr>\n",
       "      <th>0</th>\n",
       "      <td>1950</td>\n",
       "      <td>Antwerp</td>\n",
       "      <td>270000</td>\n",
       "    </tr>\n",
       "    <tr>\n",
       "      <th>1</th>\n",
       "      <td>1950</td>\n",
       "      <td>Parking Space</td>\n",
       "      <td>4900000</td>\n",
       "    </tr>\n",
       "    <tr>\n",
       "      <th>2</th>\n",
       "      <td>2000</td>\n",
       "      <td>Antwerp</td>\n",
       "      <td>480000</td>\n",
       "    </tr>\n",
       "    <tr>\n",
       "      <th>3</th>\n",
       "      <td>2000</td>\n",
       "      <td>Parking Space</td>\n",
       "      <td>5900000</td>\n",
       "    </tr>\n",
       "  </tbody>\n",
       "</table>\n",
       "</div>"
      ],
      "text/plain": [
       "   year       province  population\n",
       "0  1950        Antwerp      270000\n",
       "1  1950  Parking Space     4900000\n",
       "2  2000        Antwerp      480000\n",
       "3  2000  Parking Space     5900000"
      ]
     },
     "execution_count": 22,
     "metadata": {},
     "output_type": "execute_result"
    }
   ],
   "source": [
    "populations = {\n",
    "    'year': [1950, 1950, 2000, 2000],\n",
    "    'province': ['Antwerp', 'Parking Space', 'Antwerp', 'Parking Space'],\n",
    "    'population': [270000, 4900000, 480000, 5900000]\n",
    "}\n",
    "df = DataFrame(populations, columns=['year', 'province', 'population'])\n",
    "df"
   ]
  },
  {
   "cell_type": "code",
   "execution_count": 23,
   "metadata": {
    "collapsed": false
   },
   "outputs": [
    {
     "data": {
      "text/plain": [
       "year\n",
       "1950    5170000\n",
       "2000    6380000\n",
       "Name: population, dtype: int64"
      ]
     },
     "execution_count": 23,
     "metadata": {},
     "output_type": "execute_result"
    }
   ],
   "source": [
    "df.groupby('year').population.sum()"
   ]
  },
  {
   "cell_type": "markdown",
   "metadata": {},
   "source": [
    "`Scikit-learn` has plenty of functions to generate random data with some underlying pattern, and other functions to apply machine learning algorithms to such kinds of data.  Here's the linear regression example from yesterday as a refresher:"
   ]
  },
  {
   "cell_type": "code",
   "execution_count": 24,
   "metadata": {
    "collapsed": false
   },
   "outputs": [
    {
     "data": {
      "image/png": "[encoded data removed]",
      "text/plain": [
       "<matplotlib.figure.Figure at 0x1058913d0>"
      ]
     },
     "metadata": {},
     "output_type": "display_data"
    }
   ],
   "source": [
    "import matplotlib.pyplot as plt\n",
    "%matplotlib inline\n",
    "\n",
    "import numpy as np\n",
    "from sklearn import datasets, linear_model\n",
    "\n",
    "# Optional: importing this package makes the default plot settings nicer\n",
    "import seaborn as sns; sns.set()\n",
    "\n",
    "def linear_data_sample(N=40, rseed=0, m=3, b=-2):\n",
    "    \"\"\"Sample N points on the line y = m*x + b + err, where err is normally distributed\"\"\"\n",
    "    rng = np.random.RandomState(rseed)\n",
    "\n",
    "    x = 10 * rng.rand(N)\n",
    "    y = m * x + b + 1.5*rng.randn(N)\n",
    "\n",
    "    return x, y\n",
    "\n",
    "# Generate data, then apply linear regression to it\n",
    "x, y = linear_data_sample()\n",
    "regr = linear_model.LinearRegression(fit_intercept=True)\n",
    "regr.fit(x.reshape((len(x), 1)), y)   # Scikit-learn expects x to be a column-vector\n",
    "\n",
    "# predict y from the data\n",
    "x_new = np.linspace(0, 10, 100)\n",
    "y_new = regr.predict(x_new.reshape((len(x_new), 1)))  # Column vector\n",
    "\n",
    "# plot the results\n",
    "ax = plt.axes()\n",
    "ax.scatter(x, y)\n",
    "ax.plot(x_new, y_new)\n",
    "\n",
    "ax.set_xlabel('x')\n",
    "ax.set_ylabel('y')\n",
    "\n",
    "ax.axis('tight');"
   ]
  },
  {
   "cell_type": "markdown",
   "metadata": {},
   "source": [
    "---"
   ]
  },
  {
   "cell_type": "markdown",
   "metadata": {},
   "source": [
    "Today, we'll switch gears to learn about `Spark`, a framework for big-data analysis.  Concretely, after today, you should be able to:\n",
    "* Understand the role of Spark and pyspark in the eco-system\n",
    "* Run spark locally from a shell\n",
    "* Run spark locally in IPython Notebooks\n",
    "* Do a word count on an input file\n",
    "* Load data in SparkSQL\n",
    "* Query data in SparkSQL\n",
    "* Use Spark MLlib to perform regression and classification analyses at scale"
   ]
  }
 ],
 "metadata": {
  "kernelspec": {
   "display_name": "Python 2",
   "language": "python",
   "name": "python2"
  },
  "language_info": {
   "codemirror_mode": {
    "name": "ipython",
    "version": 2
   },
   "file_extension": ".py",
   "mimetype": "text/x-python",
   "name": "python",
   "nbconvert_exporter": "python",
   "pygments_lexer": "ipython2",
   "version": "2.7.9"
  }
 },
 "nbformat": 4,
 "nbformat_minor": 0
}
