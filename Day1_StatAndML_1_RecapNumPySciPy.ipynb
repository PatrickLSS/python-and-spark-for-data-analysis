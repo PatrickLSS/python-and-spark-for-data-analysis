{
 "cells": [
  {
   "cell_type": "markdown",
   "metadata": {},
   "source": [
    "# Day 1. Statistical and Machine Learning Packages"
   ]
  },
  {
   "cell_type": "markdown",
   "metadata": {},
   "source": [
    "Welcome back!  Before jumping into today, let's review what we covered yesterday and answer any of your questions."
   ]
  },
  {
   "cell_type": "markdown",
   "metadata": {},
   "source": [
    "## 1.1 Recap"
   ]
  },
  {
   "cell_type": "markdown",
   "metadata": {},
   "source": [
    "Python values come in several types:"
   ]
  },
  {
   "cell_type": "code",
   "execution_count": 1,
   "metadata": {
    "collapsed": true
   },
   "outputs": [],
   "source": [
    "a = 1                 # int\n",
    "b = 5.4               # float\n",
    "c = \"Hello\"           # str\n",
    "d = True              # bool\n",
    "e = [1,2,3]           # list\n",
    "f = (5,6)             # tuple\n",
    "g = {'a': 1, 'b': 2}  # dict"
   ]
  },
  {
   "cell_type": "markdown",
   "metadata": {},
   "source": [
    "Arithmetic operations work as you expect:"
   ]
  },
  {
   "cell_type": "code",
   "execution_count": 2,
   "metadata": {
    "collapsed": false
   },
   "outputs": [
    {
     "name": "stdout",
     "output_type": "stream",
     "text": [
      "60.5781476478\n"
     ]
    }
   ],
   "source": [
    "print(100 * (1.07**7 - 1))  # Interest on €100 over 7 years at 7%"
   ]
  },
  {
   "cell_type": "markdown",
   "metadata": {},
   "source": [
    "Lists can be accessed and modified in various ways:"
   ]
  },
  {
   "cell_type": "code",
   "execution_count": 3,
   "metadata": {
    "collapsed": false
   },
   "outputs": [
    {
     "name": "stdout",
     "output_type": "stream",
     "text": [
      "orange\n",
      "['apple', 'orange']\n",
      "['apple', 'orange']\n",
      "pear\n",
      "['orange', 'pear']\n"
     ]
    }
   ],
   "source": [
    "fruits = ['apple', 'orange', 'pear']\n",
    "print(fruits[1])    # 2nd item (0, 1, 2, ...)\n",
    "print(fruits[0:2])  # Slice from 0 (inclusive) to 2 (exclusive)\n",
    "print(fruits[:2])   # First 2 items\n",
    "print(fruits[-1])   # Last item\n",
    "print(fruits[-2:])  # Last 2 items"
   ]
  },
  {
   "cell_type": "code",
   "execution_count": 4,
   "metadata": {
    "collapsed": true
   },
   "outputs": [],
   "source": [
    "fruits.append('lemon')  # Add\n",
    "del fruits[0]           # Remove\n",
    "fruits[0:2] = ['banana', 'kiwi', 'grape']  # Slice replacement"
   ]
  },
  {
   "cell_type": "markdown",
   "metadata": {},
   "source": [
    "List comprehensions are a powerful way to build one list from another"
   ]
  },
  {
   "cell_type": "code",
   "execution_count": 5,
   "metadata": {
    "collapsed": false
   },
   "outputs": [
    {
     "name": "stdout",
     "output_type": "stream",
     "text": [
      "[1, 4, 9, 16, 25, 36, 49, 64, 81, 100]\n"
     ]
    }
   ],
   "source": [
    "print([i*i for i in range(1,10+1)])  # First 10 squares"
   ]
  },
  {
   "cell_type": "code",
   "execution_count": 6,
   "metadata": {
    "collapsed": false
   },
   "outputs": [
    {
     "name": "stdout",
     "output_type": "stream",
     "text": [
      "[(1, 24), (2, 12), (3, 8), (4, 6)]\n"
     ]
    }
   ],
   "source": [
    "# Ways to express 24 as a product of 2 positive integers\n",
    "n = 24\n",
    "print([(a,b) for a in range(1,n+1) for b in range(a, n+1) if a*b == n])"
   ]
  },
  {
   "cell_type": "markdown",
   "metadata": {},
   "source": [
    "Tuples give you lots of idiomatic ways of dealing with compound data:"
   ]
  },
  {
   "cell_type": "code",
   "execution_count": 7,
   "metadata": {
    "collapsed": false
   },
   "outputs": [
    {
     "name": "stdout",
     "output_type": "stream",
     "text": [
      "Jack is 10 years old\n",
      "Jane is 25 years old\n",
      "Jill is 42 years old\n",
      "John is 30 years old\n"
     ]
    }
   ],
   "source": [
    "ages = {'John': 30, 'Jane': 25, 'Jack': 10, 'Jill': 42}\n",
    "for name, age in sorted(ages.items()):\n",
    "    print(\"{0} is {1} years old\".format(name, age))"
   ]
  },
  {
   "cell_type": "code",
   "execution_count": 8,
   "metadata": {
    "collapsed": false
   },
   "outputs": [
    {
     "name": "stdout",
     "output_type": "stream",
     "text": [
      "Fruit number 0 is 'banana'\n",
      "Fruit number 1 is 'kiwi'\n",
      "Fruit number 2 is 'grape'\n",
      "Fruit number 3 is 'lemon'\n"
     ]
    }
   ],
   "source": [
    "for i, fruit in enumerate(fruits):\n",
    "    print(\"Fruit number {0} is '{1}'\".format(i, fruit))"
   ]
  },
  {
   "cell_type": "markdown",
   "metadata": {},
   "source": [
    "Functions allow you to build complex behaviours from simpler parts:"
   ]
  },
  {
   "cell_type": "code",
   "execution_count": 9,
   "metadata": {
    "collapsed": false
   },
   "outputs": [
    {
     "name": "stdout",
     "output_type": "stream",
     "text": [
      "Jack is 10 years old\n",
      "Jane is 25 years old\n",
      "Jill is 42 years old\n",
      "John is 30 years old\n"
     ]
    }
   ],
   "source": [
    "# Breaking up the above loop over a dictionary into smaller pieces\n",
    "# (this is a bit artificial: normally, only break up pieces of code\n",
    "# that are conceptually separate or more than about 10 lines long)\n",
    "\n",
    "def format_output(name, age):\n",
    "    return \"{0} is {1} years old\".format(name, age)\n",
    "\n",
    "def print_all_ages(ages):\n",
    "    for name, age in sorted(ages.items()):\n",
    "        print(format_output(name, age))\n",
    "        \n",
    "def make_ages_dict():\n",
    "    return {\n",
    "        'John': 30,\n",
    "        'Jane': 25,\n",
    "        'Jack': 10,\n",
    "        'Jill': 42\n",
    "    }\n",
    "\n",
    "def main():\n",
    "    print_all_ages(make_ages_dict())\n",
    "    \n",
    "main()"
   ]
  },
  {
   "cell_type": "markdown",
   "metadata": {},
   "source": [
    "Related definitions can be packaged into a module (also called a library).  You can then import these modules in other code."
   ]
  },
  {
   "cell_type": "code",
   "execution_count": 10,
   "metadata": {
    "collapsed": false
   },
   "outputs": [
    {
     "name": "stdout",
     "output_type": "stream",
     "text": [
      "1.71828182846\n",
      "('2015', '12', '06')\n"
     ]
    }
   ],
   "source": [
    "from math import pi, e, sin\n",
    "import re\n",
    "\n",
    "print(sin(1.5*pi)+e)\n",
    "m = re.match(r'(\\d{4})-(\\d{2})-(\\d{2})', '2015-12-06')\n",
    "print(m.groups())"
   ]
  },
  {
   "cell_type": "markdown",
   "metadata": {},
   "source": [
    "---\n",
    "### Question time!\n",
    "---"
   ]
  },
  {
   "cell_type": "markdown",
   "metadata": {},
   "source": [
    "### Plan for today"
   ]
  },
  {
   "cell_type": "markdown",
   "metadata": {},
   "source": [
    "Today, we'll discuss several powerful statistical and machine learning libraries in Python.  This will be a very hands-on introduction and we will not dive into the mathematical theories behind them.\n",
    "\n",
    "After today, you should be able to:"
   ]
  },
  {
   "cell_type": "markdown",
   "metadata": {},
   "source": [
    "* Import and export data in csv\n",
    "* Use numpy/scipy to perform mathematical computations\n",
    "* Slice and dice data\n",
    "* Use pandas to wrangle data\n",
    "* Plot data and perform exploratory analysis\n",
    "* Use `scikit-learn`\n",
    "* Perform regression analysis in Python\n",
    "* Perform classification analysis in Python\n",
    "* Model selection and model validation  [_postponed to next week_]"
   ]
  },
  {
   "cell_type": "markdown",
   "metadata": {},
   "source": [
    "## 1.2 NumPy and SciPy"
   ]
  },
  {
   "cell_type": "markdown",
   "metadata": {},
   "source": [
    "[NumPy](http://www.numpy.org/) adds efficient vectors and matrices to Python that support vectorized operations"
   ]
  },
  {
   "cell_type": "code",
   "execution_count": 11,
   "metadata": {
    "collapsed": true
   },
   "outputs": [],
   "source": [
    "import numpy as np  # Idiomatic import"
   ]
  },
  {
   "cell_type": "code",
   "execution_count": 12,
   "metadata": {
    "collapsed": false
   },
   "outputs": [
    {
     "data": {
      "text/plain": [
       "array([ 1. ,  1.5,  2. ,  2.5])"
      ]
     },
     "execution_count": 12,
     "metadata": {},
     "output_type": "execute_result"
    }
   ],
   "source": [
    "# Create a NumPy Array\n",
    "A = np.array([1,1.5,2,2.5])\n",
    "A"
   ]
  },
  {
   "cell_type": "markdown",
   "metadata": {},
   "source": [
    "Unlike Python lists, all the values in a NumPy array have the same type.  This allows NumPy to implement operations on vectors much more efficiently than Python's operations on lists."
   ]
  },
  {
   "cell_type": "code",
   "execution_count": 13,
   "metadata": {
    "collapsed": false
   },
   "outputs": [
    {
     "data": {
      "text/plain": [
       "array([ 22.,  26.,  30.])"
      ]
     },
     "execution_count": 13,
     "metadata": {},
     "output_type": "execute_result"
    }
   ],
   "source": [
    "# Vector operations\n",
    "A = np.array([1.0, 2.0, 3.0])\n",
    "B = np.array([7.0, 8.0, 9.0])\n",
    "C = A + 3*B\n",
    "C"
   ]
  },
  {
   "cell_type": "markdown",
   "metadata": {},
   "source": [
    "**Ex 1.2.1.  How would you do this operation with two lists [1.0,2.0,3.0] and [7.0, 8.0, 9.0]**  \n",
    "**Hint: `zip`**"
   ]
  },
  {
   "cell_type": "markdown",
   "metadata": {},
   "source": [
    "Indexing for NumPy arrays works like for lists:"
   ]
  },
  {
   "cell_type": "code",
   "execution_count": 14,
   "metadata": {
    "collapsed": false
   },
   "outputs": [
    {
     "name": "stdout",
     "output_type": "stream",
     "text": [
      "1.0\n",
      "[ 2.  3.]\n",
      "[ 1.  2.]\n",
      "3.0\n"
     ]
    }
   ],
   "source": [
    "print(A[0])\n",
    "print(A[1:3])\n",
    "print(A[:2])\n",
    "print(A[-1])"
   ]
  },
  {
   "cell_type": "code",
   "execution_count": 15,
   "metadata": {
    "collapsed": false
   },
   "outputs": [
    {
     "name": "stdout",
     "output_type": "stream",
     "text": [
      "[ 7.  8.  9.]\n",
      "[  7.   9.  10.]\n"
     ]
    }
   ],
   "source": [
    "# Can apply operations to particular slices of an array\n",
    "print(B)\n",
    "B[1:3] += 1\n",
    "print(B)"
   ]
  },
  {
   "cell_type": "markdown",
   "metadata": {},
   "source": [
    "There are various ways of creating vectors with some structure.  Here are some examples:"
   ]
  },
  {
   "cell_type": "code",
   "execution_count": 16,
   "metadata": {
    "collapsed": false
   },
   "outputs": [
    {
     "data": {
      "text/plain": [
       "array([ 0.,  0.,  0.])"
      ]
     },
     "execution_count": 16,
     "metadata": {},
     "output_type": "execute_result"
    }
   ],
   "source": [
    "np.zeros(3)"
   ]
  },
  {
   "cell_type": "code",
   "execution_count": 17,
   "metadata": {
    "collapsed": false
   },
   "outputs": [
    {
     "data": {
      "text/plain": [
       "array([ 1.,  1.,  1.,  1.,  1.])"
      ]
     },
     "execution_count": 17,
     "metadata": {},
     "output_type": "execute_result"
    }
   ],
   "source": [
    "np.ones(5)"
   ]
  },
  {
   "cell_type": "markdown",
   "metadata": {},
   "source": [
    "A useful operation is to create a vector of $n$ items regularly spaced in the interval $[start,end]$.  That's what `np.linspace` is for:\n",
    "```\n",
    "np.linspace(start, end, n)\n",
    "```"
   ]
  },
  {
   "cell_type": "code",
   "execution_count": 18,
   "metadata": {
    "collapsed": false
   },
   "outputs": [
    {
     "data": {
      "text/plain": [
       "array([ 1. ,  1.5,  2. ,  2.5,  3. ,  3.5,  4. ])"
      ]
     },
     "execution_count": 18,
     "metadata": {},
     "output_type": "execute_result"
    }
   ],
   "source": [
    "x = np.linspace(1.0, 4.0, 7)\n",
    "x"
   ]
  },
  {
   "cell_type": "markdown",
   "metadata": {},
   "source": [
    "Sometimes all you want is the equivalent of `range` as a NumPy array.  Use `np.arange` for that:"
   ]
  },
  {
   "cell_type": "code",
   "execution_count": 19,
   "metadata": {
    "collapsed": false
   },
   "outputs": [
    {
     "name": "stdout",
     "output_type": "stream",
     "text": [
      "[0, 1, 2, 3, 4, 5, 6, 7, 8, 9]\n",
      "[0 1 2 3 4 5 6 7 8 9]\n"
     ]
    }
   ],
   "source": [
    "print(range(10))\n",
    "print(np.arange(10))"
   ]
  },
  {
   "cell_type": "markdown",
   "metadata": {},
   "source": [
    "**Ex 1.2.2 Using only NumPy operations, create a vector containing the numbers from 1 to 10.  Then construct from there a vector with the squares from $1^2$ to $10^2$.**"
   ]
  },
  {
   "cell_type": "markdown",
   "metadata": {
    "collapsed": false
   },
   "source": [
    "Sometimes, it's more useful to space the elements equally in log-space:"
   ]
  },
  {
   "cell_type": "code",
   "execution_count": 20,
   "metadata": {
    "collapsed": false
   },
   "outputs": [
    {
     "data": {
      "text/plain": [
       "array([    10.,    100.,   1000.,  10000.])"
      ]
     },
     "execution_count": 20,
     "metadata": {},
     "output_type": "execute_result"
    }
   ],
   "source": [
    "# [base**start, base**(start+1), ..., base**(stop)]\n",
    "np.logspace(1, 4, num=4, base=10)"
   ]
  },
  {
   "cell_type": "markdown",
   "metadata": {},
   "source": [
    "---"
   ]
  },
  {
   "cell_type": "markdown",
   "metadata": {},
   "source": [
    "The `np` module has element-wise versions of most common math operations:"
   ]
  },
  {
   "cell_type": "code",
   "execution_count": 21,
   "metadata": {
    "collapsed": false
   },
   "outputs": [
    {
     "name": "stdout",
     "output_type": "stream",
     "text": [
      "[  2.71828183   4.48168907   7.3890561   12.18249396  20.08553692\n",
      "  33.11545196  54.59815003]\n",
      "[ 0.84147098  0.99749499  0.90929743  0.59847214  0.14112001 -0.35078323\n",
      " -0.7568025 ]\n",
      "4.0\n",
      "17.5\n"
     ]
    }
   ],
   "source": [
    "print(np.exp(x))\n",
    "print(np.sin(x))\n",
    "print(np.max(x))\n",
    "print(np.sum(x))"
   ]
  },
  {
   "cell_type": "code",
   "execution_count": 22,
   "metadata": {
    "collapsed": false
   },
   "outputs": [
    {
     "name": "stdout",
     "output_type": "stream",
     "text": [
      "[ 1.   1.5  2.   2.5  3.   3.5  4. ]\n"
     ]
    },
    {
     "data": {
      "text/plain": [
       "array([ True, False, False, False,  True, False, False], dtype=bool)"
      ]
     },
     "execution_count": 22,
     "metadata": {},
     "output_type": "execute_result"
    }
   ],
   "source": [
    "# Can apply Boolean expressions element-wise..\n",
    "print(x)\n",
    "x % 2 == 1   # Which elements are odd?"
   ]
  },
  {
   "cell_type": "markdown",
   "metadata": {},
   "source": [
    "Element-wise Boolean expression, such as the one above, are useful for selecting the elements in an array with a certain property:"
   ]
  },
  {
   "cell_type": "code",
   "execution_count": 23,
   "metadata": {
    "collapsed": false
   },
   "outputs": [
    {
     "data": {
      "text/plain": [
       "array([ 1.,  3.])"
      ]
     },
     "execution_count": 23,
     "metadata": {},
     "output_type": "execute_result"
    }
   ],
   "source": [
    "x[x % 2 == 1]          # Which members of x are odd?"
   ]
  },
  {
   "cell_type": "markdown",
   "metadata": {},
   "source": [
    "This leads to very idiomatic expressions, such as this one:"
   ]
  },
  {
   "cell_type": "code",
   "execution_count": 24,
   "metadata": {
    "collapsed": false
   },
   "outputs": [
    {
     "data": {
      "text/plain": [
       "4.0"
      ]
     },
     "execution_count": 24,
     "metadata": {},
     "output_type": "execute_result"
    }
   ],
   "source": [
    "np.sum(x[x % 2 == 1])  # Sum odd numbers in x"
   ]
  },
  {
   "cell_type": "markdown",
   "metadata": {},
   "source": [
    "Of course, vectors have more interesting operations that simply element-wise math:"
   ]
  },
  {
   "cell_type": "code",
   "execution_count": 25,
   "metadata": {
    "collapsed": false
   },
   "outputs": [
    {
     "name": "stdout",
     "output_type": "stream",
     "text": [
      "[ 1.  2.  3.]\n",
      "[  7.   9.  10.]\n",
      "55.0\n",
      "55.0\n"
     ]
    }
   ],
   "source": [
    "# Dot products\n",
    "print(A)\n",
    "print(B)\n",
    "print(A.dot(B))\n",
    "print(np.dot(A,B))  # Equivalent syntax, more symmetric"
   ]
  },
  {
   "cell_type": "markdown",
   "metadata": {},
   "source": [
    "**Ex 1.2.3. Calculate the dot product of A and B without using np.dot**"
   ]
  },
  {
   "cell_type": "code",
   "execution_count": 26,
   "metadata": {
    "collapsed": false
   },
   "outputs": [
    {
     "name": "stdout",
     "output_type": "stream",
     "text": [
      "[ 1.   1.5  2.   2.5  3.   3.5  4. ]\n",
      "[  1.    2.5   4.5   7.   10.   13.5  17.5]\n",
      "[   1.      1.5     3.      7.5    22.5    78.75  315.  ]\n"
     ]
    }
   ],
   "source": [
    "# Cumulative sums and products\n",
    "print(x)\n",
    "print(x.cumsum())\n",
    "print(x.cumprod())"
   ]
  },
  {
   "cell_type": "markdown",
   "metadata": {},
   "source": [
    "**Ex 1.2.4  Use `dot` and `linspace` to calculate the following sum:**\n",
    "\n",
    "$$\n",
    "1\\cdot 2 + 2\\cdot 3 + \\cdots + 10\\cdot 11.\n",
    "$$"
   ]
  },
  {
   "cell_type": "markdown",
   "metadata": {},
   "source": [
    "**Ex 1.2.5 Write your own my_cumsum() and my_cumprod() functions that operate on lists instead of NumPy arrays**"
   ]
  },
  {
   "cell_type": "markdown",
   "metadata": {},
   "source": [
    "We can test if `any` or `all` of the elements of a vector have some property:"
   ]
  },
  {
   "cell_type": "code",
   "execution_count": 27,
   "metadata": {
    "collapsed": false
   },
   "outputs": [
    {
     "data": {
      "text/plain": [
       "True"
      ]
     },
     "execution_count": 27,
     "metadata": {},
     "output_type": "execute_result"
    }
   ],
   "source": [
    "one_to_ten = np.arange(1,10+1)\n",
    "np.all(one_to_ten > 0)"
   ]
  },
  {
   "cell_type": "code",
   "execution_count": 28,
   "metadata": {
    "collapsed": false
   },
   "outputs": [
    {
     "name": "stdout",
     "output_type": "stream",
     "text": [
      "[False False False False  True False False False False  True]\n"
     ]
    },
    {
     "data": {
      "text/plain": [
       "True"
      ]
     },
     "execution_count": 28,
     "metadata": {},
     "output_type": "execute_result"
    }
   ],
   "source": [
    "print(one_to_ten % 5 == 0)\n",
    "np.any(one_to_ten % 5 == 0)  # Any multiples of five in there?"
   ]
  },
  {
   "cell_type": "markdown",
   "metadata": {},
   "source": [
    "---"
   ]
  },
  {
   "cell_type": "markdown",
   "metadata": {},
   "source": [
    "Matrices are represented as 2D arrays"
   ]
  },
  {
   "cell_type": "code",
   "execution_count": 29,
   "metadata": {
    "collapsed": false
   },
   "outputs": [
    {
     "data": {
      "text/plain": [
       "array([[ 1.,  2.],\n",
       "       [ 3.,  4.]])"
      ]
     },
     "execution_count": 29,
     "metadata": {},
     "output_type": "execute_result"
    }
   ],
   "source": [
    "mat = np.array([\n",
    "        [1., 2.],\n",
    "        [3., 4.]\n",
    "    ])\n",
    "mat"
   ]
  },
  {
   "cell_type": "markdown",
   "metadata": {},
   "source": [
    "Some simple matrices can be constructed directly, and are useful for building up more complicated operations:"
   ]
  },
  {
   "cell_type": "code",
   "execution_count": 30,
   "metadata": {
    "collapsed": false
   },
   "outputs": [
    {
     "data": {
      "text/plain": [
       "array([[ 1.,  0.,  0.],\n",
       "       [ 0.,  1.,  0.],\n",
       "       [ 0.,  0.,  1.]])"
      ]
     },
     "execution_count": 30,
     "metadata": {},
     "output_type": "execute_result"
    }
   ],
   "source": [
    "# nxn Identity\n",
    "I = np.eye(3)\n",
    "I"
   ]
  },
  {
   "cell_type": "code",
   "execution_count": 31,
   "metadata": {
    "collapsed": false
   },
   "outputs": [
    {
     "data": {
      "text/plain": [
       "array([[ 0.,  0.,  0.],\n",
       "       [ 0.,  0.,  0.],\n",
       "       [ 0.,  0.,  0.]])"
      ]
     },
     "execution_count": 31,
     "metadata": {},
     "output_type": "execute_result"
    }
   ],
   "source": [
    "# nxn zeros\n",
    "Z = np.zeros((3,3))  # Pass shape as a tuple\n",
    "Z"
   ]
  },
  {
   "cell_type": "code",
   "execution_count": 32,
   "metadata": {
    "collapsed": false
   },
   "outputs": [
    {
     "data": {
      "text/plain": [
       "array([[1, 0, 0],\n",
       "       [0, 2, 0],\n",
       "       [0, 0, 3]])"
      ]
     },
     "execution_count": 32,
     "metadata": {},
     "output_type": "execute_result"
    }
   ],
   "source": [
    "# A diagonal matrix\n",
    "D = np.diag((1,2,3))  # Pass diagonal elements as a tuple\n",
    "D"
   ]
  },
  {
   "cell_type": "markdown",
   "metadata": {},
   "source": [
    "We can also build larger matrices by stacking smaller ones:"
   ]
  },
  {
   "cell_type": "code",
   "execution_count": 33,
   "metadata": {
    "collapsed": false
   },
   "outputs": [
    {
     "name": "stdout",
     "output_type": "stream",
     "text": [
      "[  1.   2.   3.  10.  20.  30.]\n",
      "[[  1.   2.   3.]\n",
      " [ 10.  20.  30.]]\n"
     ]
    }
   ],
   "source": [
    "x = np.array([1., 2., 3.])\n",
    "y = np.array([10., 20., 30.])\n",
    "print np.hstack((x, y))  # [x y]\n",
    "print np.vstack((x, y))  # / x \\\n",
    "                         # \\ y /"
   ]
  },
  {
   "cell_type": "markdown",
   "metadata": {},
   "source": [
    "The shape of a matrix can be accessed with `shape` and changed with `reshape()`:"
   ]
  },
  {
   "cell_type": "code",
   "execution_count": 34,
   "metadata": {
    "collapsed": false
   },
   "outputs": [
    {
     "name": "stdout",
     "output_type": "stream",
     "text": [
      "(2, 3)\n",
      "[[1 2 3]\n",
      " [4 5 6]]\n",
      "[[1 2]\n",
      " [3 4]\n",
      " [5 6]]\n",
      "[[1]\n",
      " [2]\n",
      " [3]\n",
      " [4]\n",
      " [5]\n",
      " [6]]\n"
     ]
    }
   ],
   "source": [
    "A = np.array([[1,2,3], [4,5,6]])\n",
    "print(A.shape)\n",
    "print(A)\n",
    "print(A.reshape((3,2)))\n",
    "print(A.reshape((6,1)))"
   ]
  },
  {
   "cell_type": "code",
   "execution_count": 35,
   "metadata": {
    "collapsed": false
   },
   "outputs": [
    {
     "data": {
      "text/plain": [
       "array([[1, 2, 3, 4, 5, 6, 7, 8]])"
      ]
     },
     "execution_count": 35,
     "metadata": {},
     "output_type": "execute_result"
    }
   ],
   "source": [
    "B = np.array([[1,2,3,4,5,6,7,8]])\n",
    "B"
   ]
  },
  {
   "cell_type": "code",
   "execution_count": 36,
   "metadata": {
    "collapsed": false
   },
   "outputs": [
    {
     "data": {
      "text/plain": [
       "(1, 8)"
      ]
     },
     "execution_count": 36,
     "metadata": {},
     "output_type": "execute_result"
    }
   ],
   "source": [
    "B.shape"
   ]
  },
  {
   "cell_type": "code",
   "execution_count": 37,
   "metadata": {
    "collapsed": false
   },
   "outputs": [
    {
     "data": {
      "text/plain": [
       "array([[1],\n",
       "       [2],\n",
       "       [3],\n",
       "       [4],\n",
       "       [5],\n",
       "       [6],\n",
       "       [7],\n",
       "       [8]])"
      ]
     },
     "execution_count": 37,
     "metadata": {},
     "output_type": "execute_result"
    }
   ],
   "source": [
    "B.reshape((8,1))"
   ]
  },
  {
   "cell_type": "code",
   "execution_count": 38,
   "metadata": {
    "collapsed": false
   },
   "outputs": [
    {
     "name": "stdout",
     "output_type": "stream",
     "text": [
      "[[1 2 3 4 5 6 7 8]]\n",
      "[[1]\n",
      " [2]\n",
      " [3]\n",
      " [4]\n",
      " [5]\n",
      " [6]\n",
      " [7]\n",
      " [8]]\n"
     ]
    }
   ],
   "source": [
    "print (B)\n",
    "print(B.T)"
   ]
  },
  {
   "cell_type": "markdown",
   "metadata": {},
   "source": [
    "Indexing 2D arrays can be quite interesting.  Here are some examples:"
   ]
  },
  {
   "cell_type": "code",
   "execution_count": 39,
   "metadata": {
    "collapsed": false
   },
   "outputs": [
    {
     "name": "stdout",
     "output_type": "stream",
     "text": [
      "3\n",
      "[[2]]\n",
      "[4 5 6]\n",
      "[3 6]\n"
     ]
    }
   ],
   "source": [
    "print(A[0,2])      # One element\n",
    "print(A[0:1,1:2])  # Slicing in multiple dimensions\n",
    "print(A[1,:])      # Whole 2nd row\n",
    "print(A[:,2])      # Whole 3rd column"
   ]
  },
  {
   "cell_type": "markdown",
   "metadata": {},
   "source": [
    "Normal matrix operations are there:"
   ]
  },
  {
   "cell_type": "code",
   "execution_count": 40,
   "metadata": {
    "collapsed": false
   },
   "outputs": [],
   "source": [
    "mat = np.array([\n",
    "        [1., 2.],\n",
    "        [3., 4.]\n",
    "    ])"
   ]
  },
  {
   "cell_type": "code",
   "execution_count": 41,
   "metadata": {
    "collapsed": false
   },
   "outputs": [
    {
     "data": {
      "text/plain": [
       "array([[ 1.,  3.],\n",
       "       [ 2.,  4.]])"
      ]
     },
     "execution_count": 41,
     "metadata": {},
     "output_type": "execute_result"
    }
   ],
   "source": [
    "# Transpose\n",
    "mat.T"
   ]
  },
  {
   "cell_type": "code",
   "execution_count": 42,
   "metadata": {
    "collapsed": false
   },
   "outputs": [
    {
     "data": {
      "text/plain": [
       "5.0"
      ]
     },
     "execution_count": 42,
     "metadata": {},
     "output_type": "execute_result"
    }
   ],
   "source": [
    "# Trace\n",
    "mat.trace()"
   ]
  },
  {
   "cell_type": "code",
   "execution_count": 43,
   "metadata": {
    "collapsed": false
   },
   "outputs": [
    {
     "data": {
      "text/plain": [
       "array([ 17.,  39.])"
      ]
     },
     "execution_count": 43,
     "metadata": {},
     "output_type": "execute_result"
    }
   ],
   "source": [
    "# Matrix-vector product\n",
    "v = np.array([5., 6.])\n",
    "mat.dot(v)"
   ]
  },
  {
   "cell_type": "code",
   "execution_count": 44,
   "metadata": {
    "collapsed": false
   },
   "outputs": [
    {
     "data": {
      "text/plain": [
       "array([[  5.,  12.],\n",
       "       [ 15.,  24.]])"
      ]
     },
     "execution_count": 44,
     "metadata": {},
     "output_type": "execute_result"
    }
   ],
   "source": [
    "# NOTE: `mat * v` is element-wise multiplication, with the elements of `v`\n",
    "# broadcast (repeated) along the additional dimensions of `mat`.\n",
    "# Broadcasting is an advanced topic that we won't cover, but be\n",
    "# aware of the actual meaning of `mat * v`, which is not matrix-vector\n",
    "# multiplication in the mathematical sense!\n",
    "mat * v"
   ]
  },
  {
   "cell_type": "markdown",
   "metadata": {},
   "source": [
    "More advanced linear algebra operations are also implemented within the `np.linalg` module:"
   ]
  },
  {
   "cell_type": "code",
   "execution_count": 45,
   "metadata": {
    "collapsed": false
   },
   "outputs": [
    {
     "name": "stdout",
     "output_type": "stream",
     "text": [
      "[-0.37228132  5.37228132]\n",
      "[-0.82456484 -0.41597356]\n",
      "[ 0.56576746 -0.90937671]\n"
     ]
    }
   ],
   "source": [
    "# Eigenstuff\n",
    "eigvals, eigvecs = np.linalg.eig(mat)\n",
    "print eigvals\n",
    "print eigvecs[0]\n",
    "print eigvecs[1]"
   ]
  },
  {
   "cell_type": "code",
   "execution_count": 46,
   "metadata": {
    "collapsed": false
   },
   "outputs": [
    {
     "data": {
      "text/plain": [
       "-2.0000000000000004"
      ]
     },
     "execution_count": 46,
     "metadata": {},
     "output_type": "execute_result"
    }
   ],
   "source": [
    "# Determinants\n",
    "np.linalg.det(mat)"
   ]
  },
  {
   "cell_type": "code",
   "execution_count": 47,
   "metadata": {
    "collapsed": false
   },
   "outputs": [
    {
     "data": {
      "text/plain": [
       "array([[-2. ,  1. ],\n",
       "       [ 1.5, -0.5]])"
      ]
     },
     "execution_count": 47,
     "metadata": {},
     "output_type": "execute_result"
    }
   ],
   "source": [
    "# Matrix inverse\n",
    "np.linalg.inv(mat)"
   ]
  },
  {
   "cell_type": "code",
   "execution_count": 48,
   "metadata": {
    "collapsed": false
   },
   "outputs": [
    {
     "name": "stdout",
     "output_type": "stream",
     "text": [
      "[-4.   4.5]\n",
      "[-4.   4.5]\n"
     ]
    }
   ],
   "source": [
    "# Solve linear systems: M*x = v\n",
    "print np.linalg.solve(mat, v)\n",
    "print np.linalg.inv(mat).dot(v)"
   ]
  },
  {
   "cell_type": "markdown",
   "metadata": {},
   "source": [
    "**Ex 1.2.6. With the help of IPython's autocomplete, calculate the Singular Value Decomposition $U S V$ of the matrix `mat` above.  Combine the resulting matrices to verify that the decomposition is correct.**"
   ]
  },
  {
   "cell_type": "markdown",
   "metadata": {},
   "source": [
    "## Random Numbers"
   ]
  },
  {
   "cell_type": "markdown",
   "metadata": {},
   "source": [
    "Plenty of common probability distributions are implemented in NumPy.  You can probe information about these distributions, as well as sample random variates from them.\n",
    "\n",
    "We'll only scratch the surface here, in order to generate random data for our machine learning examples later today."
   ]
  },
  {
   "cell_type": "code",
   "execution_count": 49,
   "metadata": {
    "collapsed": false
   },
   "outputs": [
    {
     "data": {
      "text/plain": [
       "17"
      ]
     },
     "execution_count": 49,
     "metadata": {},
     "output_type": "execute_result"
    }
   ],
   "source": [
    "np.random.randint(100)  # Random integer in [0,100)"
   ]
  },
  {
   "cell_type": "code",
   "execution_count": 50,
   "metadata": {
    "collapsed": false
   },
   "outputs": [
    {
     "data": {
      "text/plain": [
       "0.12054533603703499"
      ]
     },
     "execution_count": 50,
     "metadata": {},
     "output_type": "execute_result"
    }
   ],
   "source": [
    "np.random.rand()  # Random number in [0,1)"
   ]
  },
  {
   "cell_type": "code",
   "execution_count": 51,
   "metadata": {
    "collapsed": false
   },
   "outputs": [
    {
     "data": {
      "text/plain": [
       "array([[ 0.84485502,  0.93113617,  0.24028584,  0.5565359 ],\n",
       "       [ 0.57800915,  0.64983393,  0.08862662,  0.47107447],\n",
       "       [ 0.74746244,  0.63511684,  0.22167597,  0.45374678]])"
      ]
     },
     "execution_count": 51,
     "metadata": {},
     "output_type": "execute_result"
    }
   ],
   "source": [
    "# Random 3x4 matrix, elements are uniformly sampled from [0,1)\n",
    "np.random.rand(3,4)"
   ]
  },
  {
   "cell_type": "code",
   "execution_count": 52,
   "metadata": {
    "collapsed": false
   },
   "outputs": [
    {
     "data": {
      "text/plain": [
       "0.417022004702574"
      ]
     },
     "execution_count": 52,
     "metadata": {},
     "output_type": "execute_result"
    }
   ],
   "source": [
    "np.random.seed(1)\n",
    "np.random.rand()"
   ]
  },
  {
   "cell_type": "code",
   "execution_count": 53,
   "metadata": {
    "collapsed": false
   },
   "outputs": [
    {
     "name": "stdout",
     "output_type": "stream",
     "text": [
      "0.796740742027\n"
     ]
    }
   ],
   "source": [
    "# Generators for lots of distributions\n",
    "# There's more in scipy.random.distributions later today...\n",
    "mu = 2.0\n",
    "sigma = 1.5\n",
    "print np.random.normal(mu, sigma)"
   ]
  },
  {
   "cell_type": "code",
   "execution_count": 54,
   "metadata": {
    "collapsed": false
   },
   "outputs": [
    {
     "name": "stdout",
     "output_type": "stream",
     "text": [
      "[ 1.32668329  0.34109739 -0.48177318 -1.54520291  3.70301802  0.4744788\n",
      "  2.95604272  0.71014009  4.65891144  0.33445542]\n",
      "Mean: 2.06, Std Dev 1.46\n"
     ]
    }
   ],
   "source": [
    "# Generate lots of numbers and check statistics on them\n",
    "N = 1000\n",
    "nums = np.random.normal(mu, sigma, N)\n",
    "print nums[:10]  # Print first 10 for debugging\n",
    "print 'Mean: %.2f, Std Dev %.2f' % (np.mean(nums), np.std(nums))"
   ]
  },
  {
   "cell_type": "markdown",
   "metadata": {},
   "source": [
    "**(!) Ex 1.2.7.  We're having elections in a few weeks!  If we could ask everyone their opinion, we'd find the vote split like this:**\n",
    "* **60%: Oligarch's Party**\n",
    "* **40%: Plutocrat's Party**\n",
    "\n",
    "**But we can't ask everyone: we have to do a survey.**\n",
    "\n",
    "**Write a function to run a survey with N people, returning the fraction that supports the Oligarch's Party.  Now write another function to run K surveys, and reports the mean and standard deviation of the results of the surveys.**\n",
    "\n",
    "**By picking a large value for K (say, 1000), estimate the margin of error of a survey of 100 people.  What about 1000 people?  Would it be much better to ask 10,000 people? 1,000,000 people?**"
   ]
  },
  {
   "cell_type": "markdown",
   "metadata": {},
   "source": [
    "---\n",
    "# 15-20 minute break\n",
    "---"
   ]
  },
  {
   "cell_type": "markdown",
   "metadata": {},
   "source": [
    "### SciPy\n",
    "\n",
    "[SciPy](http://docs.scipy.org/doc/scipy/reference/) adds lots of operations common in scientific and engineering contexts.  It's a huge library with lots to explore.\n",
    "\n",
    "Many SciPy functions are wrappers around heavy-duty Fortran libraries that have stood the test of time (e.g., LAPACK, MINPACK, ...)\n",
    "\n",
    "Again, we'll just scratch the surface here."
   ]
  },
  {
   "cell_type": "markdown",
   "metadata": {},
   "source": [
    "### Lambdas"
   ]
  },
  {
   "cell_type": "markdown",
   "metadata": {},
   "source": [
    "We need to introduce one new Python concept before moving on: anonymous functions, or **lambdas**."
   ]
  },
  {
   "cell_type": "markdown",
   "metadata": {},
   "source": [
    "Lambdas are single-expression functions that you don't need to name explicitly.  You typically use them when you want to pass a function as a parameter, instead of just data."
   ]
  },
  {
   "cell_type": "markdown",
   "metadata": {},
   "source": [
    "Here's an example of a simple function, and its lambda equivalent:"
   ]
  },
  {
   "cell_type": "code",
   "execution_count": 55,
   "metadata": {
    "collapsed": true
   },
   "outputs": [],
   "source": [
    "def add_two_named(a,b):\n",
    "    return a + b\n",
    "\n",
    "add_two_lambda = (lambda a, b: a + b)"
   ]
  },
  {
   "cell_type": "code",
   "execution_count": 56,
   "metadata": {
    "collapsed": false
   },
   "outputs": [
    {
     "name": "stdout",
     "output_type": "stream",
     "text": [
      "5\n",
      "5\n"
     ]
    }
   ],
   "source": [
    "print(add_two_named(2,3))\n",
    "print(add_two_lambda(2,3))"
   ]
  },
  {
   "cell_type": "markdown",
   "metadata": {},
   "source": [
    "The general syntax is:\n",
    "```\n",
    "lambda <param1>, <param2>, ...: <expression>\n",
    "```"
   ]
  },
  {
   "cell_type": "markdown",
   "metadata": {},
   "source": [
    "Let's build an example where this is useful.  The `map` built-in function in Python applies a function to each item in a list.  Here's an example:"
   ]
  },
  {
   "cell_type": "code",
   "execution_count": 57,
   "metadata": {
    "collapsed": false
   },
   "outputs": [
    {
     "data": {
      "text/plain": [
       "[1, 4, 9]"
      ]
     },
     "execution_count": 57,
     "metadata": {},
     "output_type": "execute_result"
    }
   ],
   "source": [
    "def f(x):\n",
    "    return x**2\n",
    "\n",
    "map(f, [1,2,3])"
   ]
  },
  {
   "cell_type": "code",
   "execution_count": 58,
   "metadata": {
    "collapsed": false
   },
   "outputs": [
    {
     "data": {
      "text/plain": [
       "[1, 4, 9]"
      ]
     },
     "execution_count": 58,
     "metadata": {},
     "output_type": "execute_result"
    }
   ],
   "source": [
    "[f(1), f(2), f(3)]"
   ]
  },
  {
   "cell_type": "markdown",
   "metadata": {},
   "source": [
    "In idiomatic Python, you'd usually use a list comprehension for this:"
   ]
  },
  {
   "cell_type": "code",
   "execution_count": 59,
   "metadata": {
    "collapsed": false
   },
   "outputs": [
    {
     "data": {
      "text/plain": [
       "[1, 4, 9]"
      ]
     },
     "execution_count": 59,
     "metadata": {},
     "output_type": "execute_result"
    }
   ],
   "source": [
    "[x**2 for x in [1,2,3]]"
   ]
  },
  {
   "cell_type": "markdown",
   "metadata": {},
   "source": [
    "But in other contexts (such as when using `PySpark`, which we'll talk about next week), the `map` way is more natural.\n",
    "\n",
    "In most cases, you'd pass in a simple function, so it's overkill (and less readable) to define a named function and then pass it by name.  Instead, you'd do this:"
   ]
  },
  {
   "cell_type": "code",
   "execution_count": 60,
   "metadata": {
    "collapsed": false
   },
   "outputs": [
    {
     "data": {
      "text/plain": [
       "[1, 4, 9]"
      ]
     },
     "execution_count": 60,
     "metadata": {},
     "output_type": "execute_result"
    }
   ],
   "source": [
    "map(lambda x: x**2, [1,2,3])"
   ]
  },
  {
   "cell_type": "markdown",
   "metadata": {},
   "source": [
    "Another common use case is when sorting a list.  Sometimes you want to sort not by the contents of the list, but by something closely related.  For instance, here's one way of sorting a list of strings without regards to case:"
   ]
  },
  {
   "cell_type": "code",
   "execution_count": 61,
   "metadata": {
    "collapsed": false
   },
   "outputs": [
    {
     "name": "stdout",
     "output_type": "stream",
     "text": [
      "['BANANA', 'DaTE', 'apple', 'cherry']\n",
      "['apple', 'BANANA', 'cherry', 'DaTE']\n"
     ]
    }
   ],
   "source": [
    "fruits = ['BANANA', 'cherry', 'DaTE', 'apple']\n",
    "print(sorted(fruits))  # Case-sensitive\n",
    "print(sorted(fruits, key=lambda x: x.lower()))  # Case insensitive"
   ]
  },
  {
   "cell_type": "markdown",
   "metadata": {},
   "source": [
    "**Ex 1.2.8  Sort the following list of full names by surname:**\n",
    "```\n",
    "names = [\"John Doe\", \"Mary Jane\", \"Jake Williamson\", \"Jack Ripper\"]\n",
    "```"
   ]
  },
  {
   "cell_type": "markdown",
   "metadata": {},
   "source": [
    "In SciPy, it's common to apply operations on functions (e.g., integration, differentiation, root-finding, etc.).  For small functions, you'd use a lambda.  We'll see examples below."
   ]
  },
  {
   "cell_type": "markdown",
   "metadata": {},
   "source": [
    "### Numerical integration"
   ]
  },
  {
   "cell_type": "markdown",
   "metadata": {},
   "source": [
    "SciPy is good at calculating integrals of arbitrary functions, as follows:"
   ]
  },
  {
   "cell_type": "code",
   "execution_count": 62,
   "metadata": {
    "collapsed": true
   },
   "outputs": [],
   "source": [
    "from scipy import integrate"
   ]
  },
  {
   "cell_type": "markdown",
   "metadata": {},
   "source": [
    "Single integrals:\n",
    "$$\n",
    "\\int_0^1 3 x^2 = \\left[x^3\\right]^1_0 = 1\n",
    "$$"
   ]
  },
  {
   "cell_type": "code",
   "execution_count": 63,
   "metadata": {
    "collapsed": false
   },
   "outputs": [
    {
     "name": "stdout",
     "output_type": "stream",
     "text": [
      "Answer: 1.000000 +/- 1.11022e-14\n"
     ]
    }
   ],
   "source": [
    "answer, err = integrate.quad(lambda x: 3 * x**2, 0, 1)  # [x**3]^1_0 == 1\n",
    "print 'Answer: %f +/- %g' % (answer, err)"
   ]
  },
  {
   "cell_type": "markdown",
   "metadata": {},
   "source": [
    "Double integrals:\n",
    "$$\n",
    "\\int_0^\\infty dt\\, \\int_1^\\infty dx\\, \\frac{e^{-x t}}{t^n}\n",
    "$$"
   ]
  },
  {
   "cell_type": "code",
   "execution_count": 64,
   "metadata": {
    "collapsed": false
   },
   "outputs": [
    {
     "data": {
      "text/plain": [
       "(0.4999999999985751, 1.8855521033422917e-09)"
      ]
     },
     "execution_count": 64,
     "metadata": {},
     "output_type": "execute_result"
    }
   ],
   "source": [
    "from scipy import Inf, exp\n",
    "n = 2\n",
    "integrate.dblquad(lambda t, x: exp(-x*t)/t**n, 0, Inf,\n",
    "                  lambda t: 1, lambda t: Inf)"
   ]
  },
  {
   "cell_type": "markdown",
   "metadata": {},
   "source": [
    "## Optimization"
   ]
  },
  {
   "cell_type": "markdown",
   "metadata": {},
   "source": [
    "Let's say we want to know where a function $f(x)$ attains its minimum.  Let's use a super-simple function to illustrate:\n",
    "\n",
    "$$\n",
    "f(x) = 2 x^2 + 5 x - 7.\n",
    "$$"
   ]
  },
  {
   "cell_type": "code",
   "execution_count": 65,
   "metadata": {
    "collapsed": true
   },
   "outputs": [],
   "source": [
    "def f(x):\n",
    "    return 2 * x**2 + 5*x - 7"
   ]
  },
  {
   "cell_type": "markdown",
   "metadata": {},
   "source": [
    "Without any further information, SciPy can find this function's minimum by astute trial and error (technically, using the Nelder-Mead algorithm).  We need to provide a starting guess:"
   ]
  },
  {
   "cell_type": "code",
   "execution_count": 66,
   "metadata": {
    "collapsed": false
   },
   "outputs": [
    {
     "name": "stdout",
     "output_type": "stream",
     "text": [
      "Optimization terminated successfully.\n",
      "         Current function value: -10.125000\n",
      "         Iterations: 38\n",
      "         Function evaluations: 77\n",
      "  status: 0\n",
      "    nfev: 77\n",
      " success: True\n",
      "     fun: -10.125\n",
      "       x: array([-1.25])\n",
      " message: 'Optimization terminated successfully.'\n",
      "     nit: 38\n"
     ]
    }
   ],
   "source": [
    "from scipy.optimize import minimize\n",
    "x0 = np.array([0.0])\n",
    "res = minimize(f, x0, method='nelder-mead',\n",
    "               options={'xtol': 1e-8, 'disp': True})\n",
    "print res"
   ]
  },
  {
   "cell_type": "markdown",
   "metadata": {},
   "source": [
    "We get see that $f(x)$ is minimized at $x=-1.25$, where it attains the value $-10.125$."
   ]
  },
  {
   "cell_type": "markdown",
   "metadata": {},
   "source": [
    "Note that we had to provide the starting guess, and SciPy gives us its answer, as a 1-element NumPy array.  This is because SciPy can minimize multi-variable functions."
   ]
  },
  {
   "cell_type": "markdown",
   "metadata": {},
   "source": [
    "For this function, trial and error is quick, but for more complicated functions, SciPy can do much better if we give it gradient information.  In our example:\n",
    "\n",
    "$$\n",
    "f'(x) = 4 x + 5.\n",
    "$$"
   ]
  },
  {
   "cell_type": "code",
   "execution_count": 67,
   "metadata": {
    "collapsed": true
   },
   "outputs": [],
   "source": [
    "def f_prime(x):\n",
    "    return 4*x + 5"
   ]
  },
  {
   "cell_type": "code",
   "execution_count": 68,
   "metadata": {
    "collapsed": false
   },
   "outputs": [
    {
     "name": "stdout",
     "output_type": "stream",
     "text": [
      "Optimization terminated successfully.\n",
      "         Current function value: -10.125000\n",
      "         Iterations: 1\n",
      "         Function evaluations: 3\n",
      "         Gradient evaluations: 3\n",
      "   status: 0\n",
      "  success: True\n",
      "     njev: 3\n",
      "     nfev: 3\n",
      " hess_inv: array([[1]])\n",
      "      fun: -10.125\n",
      "        x: array([-1.25])\n",
      "  message: 'Optimization terminated successfully.'\n",
      "      jac: array([ 0.])\n"
     ]
    }
   ],
   "source": [
    "x0 = np.array([0.0])\n",
    "res = minimize(f, x0, method='BFGS', jac=f_prime,\n",
    "               options={'disp': True})\n",
    "print res"
   ]
  },
  {
   "cell_type": "markdown",
   "metadata": {},
   "source": [
    "With derivative information, it took SciPy 3 attempts instead of 77.  Quite a difference!"
   ]
  },
  {
   "cell_type": "markdown",
   "metadata": {},
   "source": [
    "Let's put this all together in a machine learning example.  We'll implement least squares line fitting from first principles.  You'd never do this in production code, but its instructive to see how to put it together with what you know thus far."
   ]
  },
  {
   "cell_type": "markdown",
   "metadata": {},
   "source": [
    "**(!!) Ex 1.2.9  Least-squares fitting from first principles**\n",
    "\n",
    "**(a) Write a function f(x, m, c) that represents a straight line according to the following equation:**\n",
    "\n",
    "$$\n",
    "f(x, m, c) = m x + c.\n",
    "$$\n",
    "\n",
    "**(b) Using a lambda, how would you specialize this function to a 1-parameter function g(x), defined as follows:**\n",
    "\n",
    "$$\n",
    "g(x) = f(x, 5.0, 2.0).\n",
    "$$\n",
    "\n",
    "_As in the survey exercise above, we'll generate some simulated data to test out our least-squares fit._\n",
    "\n",
    "**(c) Write a function to generate N random values of x between 0.0 and 10.0.**\n",
    "\n",
    "**(d) Write a function to generate the corresponding values of g(x), plus some normal random noise of standard deviation 0.1 and mean 0.0.**\n",
    "\n",
    "**(e) Least-squares fitting tries to find values of $m$ and $c$ that can be plugged into $y = f(x, m, c)$ that minimize the distance between the actual $y$s and the model $y$s.  In other words, it minimizes the following loss function:**\n",
    "\n",
    "$$\n",
    "L(m, c) = \\sum_{i=1}^N [y_i - f(x_i, m, c)]^2.\n",
    "$$\n",
    "\n",
    "**Write a Python function that calculate L(m, c, xs, ys) given a set of $x_i$ and corresponding $y_i$.**\n",
    "\n",
    "**(f) Use SciPy to minimize this function and estimate the values of $m$ and $c$.  How close are they to the values used to generate the simulated data?**"
   ]
  },
  {
   "cell_type": "markdown",
   "metadata": {},
   "source": [
    "## Root finding"
   ]
  },
  {
   "cell_type": "markdown",
   "metadata": {},
   "source": [
    "We'll quickly highlight a few more things SciPy can do:"
   ]
  },
  {
   "cell_type": "markdown",
   "metadata": {},
   "source": [
    "Solve\n",
    "$$\n",
    "x + 2 \\cos(x) = 0.\n",
    "$$"
   ]
  },
  {
   "cell_type": "code",
   "execution_count": 69,
   "metadata": {
    "collapsed": false
   },
   "outputs": [
    {
     "name": "stdout",
     "output_type": "stream",
     "text": [
      "  status: 1\n",
      " success: True\n",
      "     qtf: array([ -1.20746968e-09])\n",
      "    nfev: 10\n",
      "       r: array([-2.71445911])\n",
      "     fun: array([ -6.66133815e-16])\n",
      "       x: array([-1.02986653])\n",
      " message: 'The solution converged.'\n",
      "    fjac: array([[-1.]])\n"
     ]
    }
   ],
   "source": [
    "from scipy.optimize import root\n",
    "\n",
    "# x_0 = 0.3 is our starting guess\n",
    "sol = root(lambda x: x + 2 * np.cos(x), 0.3)\n",
    "\n",
    "print sol"
   ]
  },
  {
   "cell_type": "code",
   "execution_count": 70,
   "metadata": {
    "collapsed": false
   },
   "outputs": [
    {
     "data": {
      "text/plain": [
       "-1.8397017242932634e-09"
      ]
     },
     "execution_count": 70,
     "metadata": {},
     "output_type": "execute_result"
    }
   ],
   "source": [
    "import math\n",
    "-1.02986653 + 2*math.cos(-1.02986653)"
   ]
  },
  {
   "cell_type": "markdown",
   "metadata": {},
   "source": [
    "Solve\n",
    "\\begin{eqnarray}\n",
    "x_0 \\cdot cos(x_1)&=4,\\\\\n",
    "x_0 x_1 - x_1 &=5\n",
    "\\end{eqnarray}"
   ]
  },
  {
   "cell_type": "code",
   "execution_count": 71,
   "metadata": {
    "collapsed": false
   },
   "outputs": [
    {
     "name": "stdout",
     "output_type": "stream",
     "text": [
      "  status: 2\n",
      "   cov_x: array([[ 0.87470958, -0.02852752],\n",
      "       [-0.02852752,  0.01859874]])\n",
      " success: True\n",
      "     qtf: array([  9.53474074e-13,   1.20388645e-13])\n",
      "    nfev: 8\n",
      "    ipvt: array([2, 1], dtype=int32)\n",
      "     fun: array([ 0.,  0.])\n",
      "       x: array([ 6.50409711,  0.90841421])\n",
      " message: 'The relative error between two consecutive iterates is at most 0.000000'\n",
      "    fjac: array([[ 7.52318843, -0.73161761],\n",
      "       [ 0.24535902, -1.06922242]])\n",
      "    njev: 7\n"
     ]
    }
   ],
   "source": [
    "def func2(x):\n",
    "    f = [x[0] * np.cos(x[1]) - 4,  # == 0\n",
    "         x[1]*x[0] - x[1]    - 5]  # == 0\n",
    "    \n",
    "    # Provide Jacobian to use better solver than above\n",
    "    df = np.array([[np.cos(x[1]), -x[0] * np.sin(x[1])],\n",
    "                   [x[1],         x[0] - 1              ]])\n",
    "    \n",
    "    return f, df\n",
    "\n",
    "# method='lm' => use Levenberg-Marquardt algorithm\n",
    "sol = root(func2, [1, 1], jac=True, method='lm')\n",
    "\n",
    "print sol"
   ]
  },
  {
   "cell_type": "markdown",
   "metadata": {},
   "source": [
    "## Statistics\n",
    "\n",
    "**Lots** of predefined distributions, with generators, pdfs, cdfs, inverse cdfs, etc."
   ]
  },
  {
   "cell_type": "code",
   "execution_count": 72,
   "metadata": {
    "collapsed": true
   },
   "outputs": [],
   "source": [
    "from scipy import stats"
   ]
  },
  {
   "cell_type": "code",
   "execution_count": 73,
   "metadata": {
    "collapsed": false
   },
   "outputs": [
    {
     "data": {
      "text/plain": [
       "'Tester, absolute_import, alpha, anderson, anderson_ksamp, anglit, ansari, arcsine, bartlett, bayes_mvs, bernoulli, beta, betai, betaprime, binned_statistic, binned_statistic_2d, binned_statistic_dd, binom, binom_test, boltzmann, boxcox, boxcox_llf, boxcox_normmax, boxcox_normplot, bradford, burr, callable, cauchy, chi, chi2, chi2_contingency, chisqprob, chisquare, circmean, circstd, circvar, combine_pvalues, contingency, cosine, cumfreq, describe, dgamma, dirichlet, distributions, division, dlaplace, dweibull, entropy, erlang, expon, exponpow, exponweib, f, f_oneway, f_value, f_value_multivariate, f_value_wilks_lambda, fastsort, fatiguelife, find_repeats, fisher_exact, fisk, fligner, foldcauchy, foldnorm, fprob, frechet_l, frechet_r, friedmanchisquare, futil, gamma, gausshyper, gaussian_kde, genexpon, genextreme, gengamma, genhalflogistic, genlogistic, genpareto, geom, gilbrat, gmean, gompertz, gumbel_l, gumbel_r, halfcauchy, halflogistic, halfnorm, histogram, histogram2, hmean, hypergeom, hypsecant, invgamma, invgauss, invweibull, itemfreq, jarque_bera, johnsonsb, johnsonsu, kde, kendalltau, kruskal, ks_2samp, ksone, ksprob, kstat, kstatvar, kstest, kstwobign, kurtosis, kurtosistest, laplace, levene, levy, levy_l, levy_stable, linregress, loggamma, logistic, loglaplace, lognorm, logser, lomax, mannwhitneyu, maxwell, median_test, mielke, mode, moment, mood, morestats, mstats, mstats_basic, mstats_extras, multivariate_normal, mvn, mvsdist, nakagami, nanmean, nanmedian, nanstd, nbinom, ncf, nct, ncx2, norm, normaltest, np, obrientransform, pareto, pdf_fromgamma, pearson3, pearsonr, percentileofscore, planck, pointbiserialr, poisson, power_divergence, powerlaw, powerlognorm, powernorm, ppcc_max, ppcc_plot, print_function, probplot, randint, randwcdf, randwppf, rankdata, ranksums, rayleigh, rdist, recipinvgauss, reciprocal, relfreq, rice, rv, rv_continuous, rv_discrete, s, scoreatpercentile, sem, semicircular, shapiro, sigmaclip, signaltonoise, skellam, skew, skewtest, spearmanr, square_of_sums, ss, statlib, stats, t, test, theilslopes, threshold, tiecorrect, tmax, tmean, tmin, triang, trim1, trim_mean, trimboth, truncexpon, truncnorm, tsem, tstd, ttest_1samp, ttest_ind, ttest_rel, tukeylambda, tvar, uniform, variation, vonmises, vonmises_cython, vonmises_line, wald, warnings, weibull_max, weibull_min, wilcoxon, wrapcauchy, zipf, zmap, zprob, zscore'"
      ]
     },
     "execution_count": 73,
     "metadata": {},
     "output_type": "execute_result"
    }
   ],
   "source": [
    "# Like TAB completion in IPython if you type \"stats.<TAB>\"\n",
    "', '.join(_ for _ in dir(stats) if not _.startswith('_'))"
   ]
  },
  {
   "cell_type": "code",
   "execution_count": 74,
   "metadata": {
    "collapsed": true
   },
   "outputs": [],
   "source": [
    "mu = 1.0\n",
    "sigma = 2.0\n",
    "N = stats.norm(loc=mu, scale=sigma)"
   ]
  },
  {
   "cell_type": "code",
   "execution_count": 75,
   "metadata": {
    "collapsed": false
   },
   "outputs": [
    {
     "data": {
      "text/plain": [
       "'args, cdf, dist, entropy, interval, isf, kwds, logcdf, logpdf, logpmf, logsf, mean, median, moment, pdf, pmf, ppf, rvs, sf, stats, std, var'"
      ]
     },
     "execution_count": 75,
     "metadata": {},
     "output_type": "execute_result"
    }
   ],
   "source": [
    "# Like TAB-completion in IPython if you type \"N.<TAB>\"\n",
    "', '.join(_ for _ in dir(N) if not _.startswith('_'))"
   ]
  },
  {
   "cell_type": "code",
   "execution_count": 76,
   "metadata": {
    "collapsed": false
   },
   "outputs": [
    {
     "name": "stdout",
     "output_type": "stream",
     "text": [
      "1.0\n",
      "1.0\n",
      "2.0\n"
     ]
    }
   ],
   "source": [
    "print(N.mean())\n",
    "print(N.median())\n",
    "print(N.std())"
   ]
  },
  {
   "cell_type": "code",
   "execution_count": 77,
   "metadata": {
    "collapsed": false
   },
   "outputs": [
    {
     "name": "stdout",
     "output_type": "stream",
     "text": [
      "0.0913245426945\n"
     ]
    }
   ],
   "source": [
    "print N.pdf(3.5)  # P(N = 3.5) / dx"
   ]
  },
  {
   "cell_type": "code",
   "execution_count": 78,
   "metadata": {
    "collapsed": false
   },
   "outputs": [
    {
     "name": "stdout",
     "output_type": "stream",
     "text": [
      "0.894350226333\n"
     ]
    }
   ],
   "source": [
    "print N.cdf(3.5)  # P(N < 3.5)"
   ]
  },
  {
   "cell_type": "code",
   "execution_count": 79,
   "metadata": {
    "collapsed": false
   },
   "outputs": [
    {
     "name": "stdout",
     "output_type": "stream",
     "text": [
      "4.2897072539\n"
     ]
    }
   ],
   "source": [
    "print N.ppf(0.95) # n such that P(N < n) = 95%"
   ]
  },
  {
   "cell_type": "code",
   "execution_count": 80,
   "metadata": {
    "collapsed": false
   },
   "outputs": [
    {
     "name": "stdout",
     "output_type": "stream",
     "text": [
      "[-0.66800735  0.63070068  2.38797834 -2.37056008  0.90228352]\n"
     ]
    }
   ],
   "source": [
    "# sample a few random variates\n",
    "print N.rvs(5)"
   ]
  },
  {
   "cell_type": "markdown",
   "metadata": {},
   "source": [
    "---\n",
    "There is **A LOT** more functionality in NumPy and SciPy than we've covered here.  Do explore the documentation for both:\n",
    "* [NumPy Reference documentation](http://docs.scipy.org/doc/numpy/reference/index.html)\n",
    "* [SciPy Reference documentation](http://docs.scipy.org/doc/scipy/reference/index.html)"
   ]
  }
 ],
 "metadata": {
  "kernelspec": {
   "display_name": "Python 2",
   "language": "python",
   "name": "python2"
  },
  "language_info": {
   "codemirror_mode": {
    "name": "ipython",
    "version": 2
   },
   "file_extension": ".py",
   "mimetype": "text/x-python",
   "name": "python",
   "nbconvert_exporter": "python",
   "pygments_lexer": "ipython2",
   "version": "2.7.9"
  }
 },
 "nbformat": 4,
 "nbformat_minor": 0
}
