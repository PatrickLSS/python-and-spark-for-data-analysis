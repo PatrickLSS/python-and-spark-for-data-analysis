{
 "cells": [
  {
   "cell_type": "markdown",
   "metadata": {},
   "source": [
    "## 1.4 Pandas"
   ]
  },
  {
   "cell_type": "markdown",
   "metadata": {},
   "source": [
    "[Pandas](http://pandas.pydata.org/), written by Wes McKinney and others, is a powerful module that you can think of as _Excel for Python_."
   ]
  },
  {
   "cell_type": "markdown",
   "metadata": {},
   "source": [
    "Throughout this section, we'll be closely following the presentation in Wes McKinney's book [Python for Data Analysis](http://shop.oreilly.com/product/0636920023784.do).  I can't recommend this book enough!  I've added context to give you a solid understanding of Pandas, as well as exercises to pace the lesson and give you an opportunity to experiment.\n",
    "\n",
    "**Warning:**  Learning to use Pandas well takes time and practice.  There are no shortcuts :-("
   ]
  },
  {
   "cell_type": "markdown",
   "metadata": {},
   "source": [
    "First, like `numpy`, most people import `pandas` with the shorthand `pd`.  Its two key data structures, `Series` and `DataFrame`, are so common that people tend to import them directly as well:"
   ]
  },
  {
   "cell_type": "code",
   "execution_count": 1,
   "metadata": {
    "collapsed": true
   },
   "outputs": [],
   "source": [
    "from pandas import Series, DataFrame\n",
    "import pandas as pd"
   ]
  },
  {
   "cell_type": "markdown",
   "metadata": {},
   "source": [
    "#### Series"
   ]
  },
  {
   "cell_type": "markdown",
   "metadata": {},
   "source": [
    "A `Series` is like a NumPy array, but with a set of element labels, called an _index_.  Think of it as a single column in a spreadsheet."
   ]
  },
  {
   "cell_type": "code",
   "execution_count": 2,
   "metadata": {
    "collapsed": false
   },
   "outputs": [
    {
     "data": {
      "text/plain": [
       "0    4\n",
       "1    7\n",
       "2   -5\n",
       "3    3\n",
       "dtype: int64"
      ]
     },
     "execution_count": 2,
     "metadata": {},
     "output_type": "execute_result"
    }
   ],
   "source": [
    "obj = Series([4,7,-5,3])\n",
    "obj"
   ]
  },
  {
   "cell_type": "markdown",
   "metadata": {},
   "source": [
    "By default, the index is just the set of numbers $0, 1, \\ldots, N-1$, so you can access the rows in a series like an array:"
   ]
  },
  {
   "cell_type": "code",
   "execution_count": 3,
   "metadata": {
    "collapsed": false
   },
   "outputs": [
    {
     "data": {
      "text/plain": [
       "7"
      ]
     },
     "execution_count": 3,
     "metadata": {},
     "output_type": "execute_result"
    }
   ],
   "source": [
    "obj[1]"
   ]
  },
  {
   "cell_type": "markdown",
   "metadata": {},
   "source": [
    "You can also grab the underlying values and index directly:"
   ]
  },
  {
   "cell_type": "code",
   "execution_count": 4,
   "metadata": {
    "collapsed": false
   },
   "outputs": [
    {
     "data": {
      "text/plain": [
       "array([ 4,  7, -5,  3])"
      ]
     },
     "execution_count": 4,
     "metadata": {},
     "output_type": "execute_result"
    }
   ],
   "source": [
    "obj.values"
   ]
  },
  {
   "cell_type": "code",
   "execution_count": 5,
   "metadata": {
    "collapsed": false
   },
   "outputs": [
    {
     "data": {
      "text/plain": [
       "Int64Index([0, 1, 2, 3], dtype='int64')"
      ]
     },
     "execution_count": 5,
     "metadata": {},
     "output_type": "execute_result"
    }
   ],
   "source": [
    "obj.index"
   ]
  },
  {
   "cell_type": "markdown",
   "metadata": {},
   "source": [
    "You can create a series with a different index as follows:"
   ]
  },
  {
   "cell_type": "code",
   "execution_count": 6,
   "metadata": {
    "collapsed": false
   },
   "outputs": [
    {
     "data": {
      "text/plain": [
       "d    4\n",
       "b    7\n",
       "a   -5\n",
       "c    3\n",
       "dtype: int64"
      ]
     },
     "execution_count": 6,
     "metadata": {},
     "output_type": "execute_result"
    }
   ],
   "source": [
    "obj2 = Series([4, 7, -5, 3], index=['d', 'b', 'a', 'c'])\n",
    "obj2"
   ]
  },
  {
   "cell_type": "markdown",
   "metadata": {},
   "source": [
    "Now you can use that index label to get one or more rows in the series:"
   ]
  },
  {
   "cell_type": "code",
   "execution_count": 7,
   "metadata": {
    "collapsed": false
   },
   "outputs": [
    {
     "data": {
      "text/plain": [
       "4"
      ]
     },
     "execution_count": 7,
     "metadata": {},
     "output_type": "execute_result"
    }
   ],
   "source": [
    "obj2['d']"
   ]
  },
  {
   "cell_type": "code",
   "execution_count": 8,
   "metadata": {
    "collapsed": false
   },
   "outputs": [
    {
     "data": {
      "text/plain": [
       "a   -5\n",
       "c    3\n",
       "dtype: int64"
      ]
     },
     "execution_count": 8,
     "metadata": {},
     "output_type": "execute_result"
    }
   ],
   "source": [
    "obj2[['a', 'c']]  # Get more than one row"
   ]
  },
  {
   "cell_type": "code",
   "execution_count": 9,
   "metadata": {
    "collapsed": false
   },
   "outputs": [
    {
     "data": {
      "text/plain": [
       "c    3\n",
       "a   -5\n",
       "dtype: int64"
      ]
     },
     "execution_count": 9,
     "metadata": {},
     "output_type": "execute_result"
    }
   ],
   "source": [
    "# Series have a defined ordering\n",
    "obj2[['c', 'a']]"
   ]
  },
  {
   "cell_type": "markdown",
   "metadata": {},
   "source": [
    "Like a NumPy array, you can perform element-wise operations and filtering on Series, but unlike NumPy, these operations preserve the indices:"
   ]
  },
  {
   "cell_type": "code",
   "execution_count": 10,
   "metadata": {
    "collapsed": false
   },
   "outputs": [
    {
     "data": {
      "text/plain": [
       "d    4\n",
       "b    7\n",
       "c    3\n",
       "dtype: int64"
      ]
     },
     "execution_count": 10,
     "metadata": {},
     "output_type": "execute_result"
    }
   ],
   "source": [
    "obj2[obj2 > 2]"
   ]
  },
  {
   "cell_type": "code",
   "execution_count": 11,
   "metadata": {
    "collapsed": false
   },
   "outputs": [
    {
     "data": {
      "text/plain": [
       "d    5\n",
       "b    8\n",
       "a   -4\n",
       "c    4\n",
       "dtype: int64"
      ]
     },
     "execution_count": 11,
     "metadata": {},
     "output_type": "execute_result"
    }
   ],
   "source": [
    "obj2 + 1"
   ]
  },
  {
   "cell_type": "markdown",
   "metadata": {},
   "source": [
    "Series can also be thought of as \"ordered dictionaries\".  In fact, you can create a series from a dictionary:"
   ]
  },
  {
   "cell_type": "code",
   "execution_count": 12,
   "metadata": {
    "collapsed": false
   },
   "outputs": [
    {
     "data": {
      "text/plain": [
       "Belgium        11259000\n",
       "France         67063000\n",
       "Germany        81276000\n",
       "Luxembourg       570000\n",
       "Netherlands    16933000\n",
       "dtype: int64"
      ]
     },
     "execution_count": 12,
     "metadata": {},
     "output_type": "execute_result"
    }
   ],
   "source": [
    "country_pops = {\n",
    "    'Belgium':     11259000,\n",
    "    'Netherlands': 16933000,\n",
    "    'Luxembourg':    570000,\n",
    "    'France':      67063000,\n",
    "    'Germany':     81276000,\n",
    "}\n",
    "obj3 = Series(country_pops)\n",
    "obj3"
   ]
  },
  {
   "cell_type": "markdown",
   "metadata": {},
   "source": [
    "By default, all the keys in the dictionary are included, in sorted order.  You can be more specific by specifying the index explicitly:"
   ]
  },
  {
   "cell_type": "code",
   "execution_count": 13,
   "metadata": {
    "collapsed": false
   },
   "outputs": [
    {
     "data": {
      "text/plain": [
       "Belgium        11259000\n",
       "Netherlands    16933000\n",
       "Spain               NaN\n",
       "dtype: float64"
      ]
     },
     "execution_count": 13,
     "metadata": {},
     "output_type": "execute_result"
    }
   ],
   "source": [
    "obj4 = Series(country_pops, index=['Belgium', 'Netherlands', 'Spain'])\n",
    "obj4"
   ]
  },
  {
   "cell_type": "markdown",
   "metadata": {},
   "source": [
    "Note that because there was no value for `'Spain'` in `country_pops`, the value in the series is `NaN` (Not-a-Number).  This is Pandas' standard way of representing **missing data**.  You can see if each element in a series was missing data with the `isnull` and `notnull` methods:"
   ]
  },
  {
   "cell_type": "code",
   "execution_count": 14,
   "metadata": {
    "collapsed": false
   },
   "outputs": [
    {
     "data": {
      "text/plain": [
       "Belgium        False\n",
       "Netherlands    False\n",
       "Spain           True\n",
       "dtype: bool"
      ]
     },
     "execution_count": 14,
     "metadata": {},
     "output_type": "execute_result"
    }
   ],
   "source": [
    "obj4.isnull()"
   ]
  },
  {
   "cell_type": "code",
   "execution_count": 15,
   "metadata": {
    "collapsed": false
   },
   "outputs": [
    {
     "data": {
      "text/plain": [
       "Belgium         True\n",
       "Netherlands     True\n",
       "Spain          False\n",
       "dtype: bool"
      ]
     },
     "execution_count": 15,
     "metadata": {},
     "output_type": "execute_result"
    }
   ],
   "source": [
    "obj4.notnull()"
   ]
  },
  {
   "cell_type": "markdown",
   "metadata": {},
   "source": [
    "Vector operations between `Series` align along the index labels, not along the row numbers, which can be very useful:"
   ]
  },
  {
   "cell_type": "code",
   "execution_count": 16,
   "metadata": {
    "collapsed": false
   },
   "outputs": [
    {
     "data": {
      "text/plain": [
       "Belgium        11259000\n",
       "France         67063000\n",
       "Germany        81276000\n",
       "Luxembourg       570000\n",
       "Netherlands    16933000\n",
       "dtype: int64"
      ]
     },
     "execution_count": 16,
     "metadata": {},
     "output_type": "execute_result"
    }
   ],
   "source": [
    "obj3"
   ]
  },
  {
   "cell_type": "code",
   "execution_count": 17,
   "metadata": {
    "collapsed": false
   },
   "outputs": [
    {
     "data": {
      "text/plain": [
       "Belgium        11259000\n",
       "Netherlands    16933000\n",
       "Spain               NaN\n",
       "dtype: float64"
      ]
     },
     "execution_count": 17,
     "metadata": {},
     "output_type": "execute_result"
    }
   ],
   "source": [
    "obj4"
   ]
  },
  {
   "cell_type": "code",
   "execution_count": 18,
   "metadata": {
    "collapsed": false
   },
   "outputs": [
    {
     "data": {
      "text/plain": [
       "Belgium        22518000\n",
       "France              NaN\n",
       "Germany             NaN\n",
       "Luxembourg          NaN\n",
       "Netherlands    33866000\n",
       "Spain               NaN\n",
       "dtype: float64"
      ]
     },
     "execution_count": 18,
     "metadata": {},
     "output_type": "execute_result"
    }
   ],
   "source": [
    "obj3 + obj4"
   ]
  },
  {
   "cell_type": "markdown",
   "metadata": {},
   "source": [
    "You can assign names to both the `Series` itself and the `index`.  Think of these as column names in a spreasheet:"
   ]
  },
  {
   "cell_type": "code",
   "execution_count": 19,
   "metadata": {
    "collapsed": false
   },
   "outputs": [
    {
     "data": {
      "text/plain": [
       "country\n",
       "Belgium        11259000\n",
       "Netherlands    16933000\n",
       "Spain               NaN\n",
       "Name: population, dtype: float64"
      ]
     },
     "execution_count": 19,
     "metadata": {},
     "output_type": "execute_result"
    }
   ],
   "source": [
    "obj4.name = 'population'\n",
    "obj4.index.name = 'country'\n",
    "obj4"
   ]
  },
  {
   "cell_type": "markdown",
   "metadata": {},
   "source": [
    "**Ex 1.4.1 Starting from a dictionary, build a `Series` to represent the population of Belgium broken down by province.  Give both the series and the index a proper name.  From that `Series`, use indexing to sort the `Series` by number of customers.**  \n",
    "Note: We'll see how to sort `Series` easily later.  For now, use explicit indexing."
   ]
  },
  {
   "cell_type": "markdown",
   "metadata": {},
   "source": [
    "#### DataFrame"
   ]
  },
  {
   "cell_type": "markdown",
   "metadata": {},
   "source": [
    "A `DataFrame` is the 2D analog to the 1D `Series` object.  Think of it as a spreadsheet.  You have a set of columns (each of a single, fixed type).  Both the columns and the rows have an index as well."
   ]
  },
  {
   "cell_type": "markdown",
   "metadata": {},
   "source": [
    "A common way to create a `DataFrame` is with two nested dictionaries:"
   ]
  },
  {
   "cell_type": "code",
   "execution_count": 20,
   "metadata": {
    "collapsed": false
   },
   "outputs": [
    {
     "data": {
      "text/html": [
       "<div>\n",
       "<table border=\"1\" class=\"dataframe\">\n",
       "  <thead>\n",
       "    <tr style=\"text-align: right;\">\n",
       "      <th></th>\n",
       "      <th>country</th>\n",
       "      <th>gdp_per_capita</th>\n",
       "      <th>year</th>\n",
       "    </tr>\n",
       "  </thead>\n",
       "  <tbody>\n",
       "    <tr>\n",
       "      <th>0</th>\n",
       "      <td>BE</td>\n",
       "      <td>4220</td>\n",
       "      <td>1913</td>\n",
       "    </tr>\n",
       "    <tr>\n",
       "      <th>1</th>\n",
       "      <td>BE</td>\n",
       "      <td>5462</td>\n",
       "      <td>1950</td>\n",
       "    </tr>\n",
       "    <tr>\n",
       "      <th>2</th>\n",
       "      <td>BE</td>\n",
       "      <td>21205</td>\n",
       "      <td>2003</td>\n",
       "    </tr>\n",
       "    <tr>\n",
       "      <th>3</th>\n",
       "      <td>NL</td>\n",
       "      <td>4049</td>\n",
       "      <td>1913</td>\n",
       "    </tr>\n",
       "    <tr>\n",
       "      <th>4</th>\n",
       "      <td>NL</td>\n",
       "      <td>5996</td>\n",
       "      <td>1950</td>\n",
       "    </tr>\n",
       "    <tr>\n",
       "      <th>5</th>\n",
       "      <td>NL</td>\n",
       "      <td>21480</td>\n",
       "      <td>2003</td>\n",
       "    </tr>\n",
       "  </tbody>\n",
       "</table>\n",
       "</div>"
      ],
      "text/plain": [
       "  country  gdp_per_capita  year\n",
       "0      BE            4220  1913\n",
       "1      BE            5462  1950\n",
       "2      BE           21205  2003\n",
       "3      NL            4049  1913\n",
       "4      NL            5996  1950\n",
       "5      NL           21480  2003"
      ]
     },
     "execution_count": 20,
     "metadata": {},
     "output_type": "execute_result"
    }
   ],
   "source": [
    "# From https://en.wikipedia.org/wiki/List_of_regions_by_past_GDP_%28PPP%29_per_capita\n",
    "data = {\n",
    "    'country': ['BE', 'BE', 'BE', 'NL', 'NL', 'NL'],\n",
    "    'year': [1913, 1950, 2003, 1913, 1950, 2003],\n",
    "    'gdp_per_capita': [4220, 5462, 21205, 4049, 5996, 21480]\n",
    "}\n",
    "frame = DataFrame(data)\n",
    "frame"
   ]
  },
  {
   "cell_type": "markdown",
   "metadata": {},
   "source": [
    "Notice that IPython has special support for rendering `DataFrame`s"
   ]
  },
  {
   "cell_type": "markdown",
   "metadata": {},
   "source": [
    "We can reorder the columns as we wish and give the rows some other index:"
   ]
  },
  {
   "cell_type": "code",
   "execution_count": 21,
   "metadata": {
    "collapsed": false
   },
   "outputs": [
    {
     "data": {
      "text/html": [
       "<div>\n",
       "<table border=\"1\" class=\"dataframe\">\n",
       "  <thead>\n",
       "    <tr style=\"text-align: right;\">\n",
       "      <th></th>\n",
       "      <th>year</th>\n",
       "      <th>country</th>\n",
       "      <th>gdp_per_capita</th>\n",
       "    </tr>\n",
       "  </thead>\n",
       "  <tbody>\n",
       "    <tr>\n",
       "      <th>one</th>\n",
       "      <td>1913</td>\n",
       "      <td>BE</td>\n",
       "      <td>4220</td>\n",
       "    </tr>\n",
       "    <tr>\n",
       "      <th>two</th>\n",
       "      <td>1950</td>\n",
       "      <td>BE</td>\n",
       "      <td>5462</td>\n",
       "    </tr>\n",
       "    <tr>\n",
       "      <th>three</th>\n",
       "      <td>2003</td>\n",
       "      <td>BE</td>\n",
       "      <td>21205</td>\n",
       "    </tr>\n",
       "    <tr>\n",
       "      <th>four</th>\n",
       "      <td>1913</td>\n",
       "      <td>NL</td>\n",
       "      <td>4049</td>\n",
       "    </tr>\n",
       "    <tr>\n",
       "      <th>five</th>\n",
       "      <td>1950</td>\n",
       "      <td>NL</td>\n",
       "      <td>5996</td>\n",
       "    </tr>\n",
       "    <tr>\n",
       "      <th>six</th>\n",
       "      <td>2003</td>\n",
       "      <td>NL</td>\n",
       "      <td>21480</td>\n",
       "    </tr>\n",
       "  </tbody>\n",
       "</table>\n",
       "</div>"
      ],
      "text/plain": [
       "       year country  gdp_per_capita\n",
       "one    1913      BE            4220\n",
       "two    1950      BE            5462\n",
       "three  2003      BE           21205\n",
       "four   1913      NL            4049\n",
       "five   1950      NL            5996\n",
       "six    2003      NL           21480"
      ]
     },
     "execution_count": 21,
     "metadata": {},
     "output_type": "execute_result"
    }
   ],
   "source": [
    "DataFrame(data,\n",
    "          columns=['year', 'country', 'gdp_per_capita'],\n",
    "          index=['one', 'two', 'three', 'four', 'five', 'six'])"
   ]
  },
  {
   "cell_type": "markdown",
   "metadata": {},
   "source": [
    "As with Series' any columns you specify not in the dictionary are filled with missing values:"
   ]
  },
  {
   "cell_type": "code",
   "execution_count": 22,
   "metadata": {
    "collapsed": false
   },
   "outputs": [
    {
     "data": {
      "text/html": [
       "<div>\n",
       "<table border=\"1\" class=\"dataframe\">\n",
       "  <thead>\n",
       "    <tr style=\"text-align: right;\">\n",
       "      <th></th>\n",
       "      <th>year</th>\n",
       "      <th>country</th>\n",
       "      <th>gdp_per_capita</th>\n",
       "      <th>beer_quality</th>\n",
       "    </tr>\n",
       "  </thead>\n",
       "  <tbody>\n",
       "    <tr>\n",
       "      <th>one</th>\n",
       "      <td>1913</td>\n",
       "      <td>BE</td>\n",
       "      <td>4220</td>\n",
       "      <td>NaN</td>\n",
       "    </tr>\n",
       "    <tr>\n",
       "      <th>two</th>\n",
       "      <td>1950</td>\n",
       "      <td>BE</td>\n",
       "      <td>5462</td>\n",
       "      <td>NaN</td>\n",
       "    </tr>\n",
       "    <tr>\n",
       "      <th>three</th>\n",
       "      <td>2003</td>\n",
       "      <td>BE</td>\n",
       "      <td>21205</td>\n",
       "      <td>NaN</td>\n",
       "    </tr>\n",
       "    <tr>\n",
       "      <th>four</th>\n",
       "      <td>1913</td>\n",
       "      <td>NL</td>\n",
       "      <td>4049</td>\n",
       "      <td>NaN</td>\n",
       "    </tr>\n",
       "    <tr>\n",
       "      <th>five</th>\n",
       "      <td>1950</td>\n",
       "      <td>NL</td>\n",
       "      <td>5996</td>\n",
       "      <td>NaN</td>\n",
       "    </tr>\n",
       "    <tr>\n",
       "      <th>six</th>\n",
       "      <td>2003</td>\n",
       "      <td>NL</td>\n",
       "      <td>21480</td>\n",
       "      <td>NaN</td>\n",
       "    </tr>\n",
       "  </tbody>\n",
       "</table>\n",
       "</div>"
      ],
      "text/plain": [
       "       year country  gdp_per_capita beer_quality\n",
       "one    1913      BE            4220          NaN\n",
       "two    1950      BE            5462          NaN\n",
       "three  2003      BE           21205          NaN\n",
       "four   1913      NL            4049          NaN\n",
       "five   1950      NL            5996          NaN\n",
       "six    2003      NL           21480          NaN"
      ]
     },
     "execution_count": 22,
     "metadata": {},
     "output_type": "execute_result"
    }
   ],
   "source": [
    "frame2 = DataFrame(data,\n",
    "                   columns=['year', 'country', 'gdp_per_capita', 'beer_quality'],\n",
    "                   index=['one', 'two', 'three', 'four', 'five', 'six'])\n",
    "frame2"
   ]
  },
  {
   "cell_type": "markdown",
   "metadata": {},
   "source": [
    "As with Series and their indices, we can get at the underlying data in a DataFrame:"
   ]
  },
  {
   "cell_type": "code",
   "execution_count": 23,
   "metadata": {
    "collapsed": false
   },
   "outputs": [
    {
     "data": {
      "text/plain": [
       "Index([u'year', u'country', u'gdp_per_capita', u'beer_quality'], dtype='object')"
      ]
     },
     "execution_count": 23,
     "metadata": {},
     "output_type": "execute_result"
    }
   ],
   "source": [
    "frame2.columns"
   ]
  },
  {
   "cell_type": "code",
   "execution_count": 24,
   "metadata": {
    "collapsed": false
   },
   "outputs": [
    {
     "data": {
      "text/plain": [
       "Index([u'one', u'two', u'three', u'four', u'five', u'six'], dtype='object')"
      ]
     },
     "execution_count": 24,
     "metadata": {},
     "output_type": "execute_result"
    }
   ],
   "source": [
    "frame2.index"
   ]
  },
  {
   "cell_type": "code",
   "execution_count": 25,
   "metadata": {
    "collapsed": false
   },
   "outputs": [
    {
     "data": {
      "text/plain": [
       "array([[1913, 'BE', 4220, nan],\n",
       "       [1950, 'BE', 5462, nan],\n",
       "       [2003, 'BE', 21205, nan],\n",
       "       [1913, 'NL', 4049, nan],\n",
       "       [1950, 'NL', 5996, nan],\n",
       "       [2003, 'NL', 21480, nan]], dtype=object)"
      ]
     },
     "execution_count": 25,
     "metadata": {},
     "output_type": "execute_result"
    }
   ],
   "source": [
    "frame2.values"
   ]
  },
  {
   "cell_type": "markdown",
   "metadata": {},
   "source": [
    "You can select out one column from a DataFrame, either like a dictionary or (thanks to some Python magic) as if it was an attribute of a DataFrame:"
   ]
  },
  {
   "cell_type": "code",
   "execution_count": 26,
   "metadata": {
    "collapsed": false
   },
   "outputs": [
    {
     "data": {
      "text/plain": [
       "one      1913\n",
       "two      1950\n",
       "three    2003\n",
       "four     1913\n",
       "five     1950\n",
       "six      2003\n",
       "Name: year, dtype: int64"
      ]
     },
     "execution_count": 26,
     "metadata": {},
     "output_type": "execute_result"
    }
   ],
   "source": [
    "frame2['year']"
   ]
  },
  {
   "cell_type": "code",
   "execution_count": 27,
   "metadata": {
    "collapsed": false
   },
   "outputs": [
    {
     "data": {
      "text/plain": [
       "one      BE\n",
       "two      BE\n",
       "three    BE\n",
       "four     NL\n",
       "five     NL\n",
       "six      NL\n",
       "Name: country, dtype: object"
      ]
     },
     "execution_count": 27,
     "metadata": {},
     "output_type": "execute_result"
    }
   ],
   "source": [
    "frame2.country"
   ]
  },
  {
   "cell_type": "markdown",
   "metadata": {},
   "source": [
    "Note how a column in a DataFrame is represented as a Series, with an appropriate index and name."
   ]
  },
  {
   "cell_type": "markdown",
   "metadata": {},
   "source": [
    "**Ex 1.4.2 Build a DataFrame that captures how the population in each  province of Flanders changed in the years 2013, 2014 and 2015.**"
   ]
  },
  {
   "cell_type": "markdown",
   "metadata": {},
   "source": [
    "You can index rows with the `.ix[]` notation as follows:"
   ]
  },
  {
   "cell_type": "code",
   "execution_count": 28,
   "metadata": {
    "collapsed": false
   },
   "outputs": [
    {
     "data": {
      "text/plain": [
       "year              1913\n",
       "country             BE\n",
       "gdp_per_capita    4220\n",
       "beer_quality       NaN\n",
       "Name: one, dtype: object"
      ]
     },
     "execution_count": 28,
     "metadata": {},
     "output_type": "execute_result"
    }
   ],
   "source": [
    "frame2.ix['one']    # Single row, returned as a Series"
   ]
  },
  {
   "cell_type": "code",
   "execution_count": 29,
   "metadata": {
    "collapsed": false
   },
   "outputs": [
    {
     "data": {
      "text/html": [
       "<div>\n",
       "<table border=\"1\" class=\"dataframe\">\n",
       "  <thead>\n",
       "    <tr style=\"text-align: right;\">\n",
       "      <th></th>\n",
       "      <th>year</th>\n",
       "      <th>country</th>\n",
       "      <th>gdp_per_capita</th>\n",
       "      <th>beer_quality</th>\n",
       "    </tr>\n",
       "  </thead>\n",
       "  <tbody>\n",
       "    <tr>\n",
       "      <th>one</th>\n",
       "      <td>1913</td>\n",
       "      <td>BE</td>\n",
       "      <td>4220</td>\n",
       "      <td>NaN</td>\n",
       "    </tr>\n",
       "    <tr>\n",
       "      <th>two</th>\n",
       "      <td>1950</td>\n",
       "      <td>BE</td>\n",
       "      <td>5462</td>\n",
       "      <td>NaN</td>\n",
       "    </tr>\n",
       "  </tbody>\n",
       "</table>\n",
       "</div>"
      ],
      "text/plain": [
       "     year country  gdp_per_capita beer_quality\n",
       "one  1913      BE            4220          NaN\n",
       "two  1950      BE            5462          NaN"
      ]
     },
     "execution_count": 29,
     "metadata": {},
     "output_type": "execute_result"
    }
   ],
   "source": [
    "frame2.ix[['one', 'two']]  # Multiple rows, returned as a DataFrame"
   ]
  },
  {
   "cell_type": "markdown",
   "metadata": {},
   "source": [
    "You can use slicing notation, but unlike lists and NumPy arrays, DataFrame slices have an **inclusive** endpoint:"
   ]
  },
  {
   "cell_type": "code",
   "execution_count": 30,
   "metadata": {
    "collapsed": false
   },
   "outputs": [
    {
     "data": {
      "text/html": [
       "<div>\n",
       "<table border=\"1\" class=\"dataframe\">\n",
       "  <thead>\n",
       "    <tr style=\"text-align: right;\">\n",
       "      <th></th>\n",
       "      <th>year</th>\n",
       "      <th>country</th>\n",
       "      <th>gdp_per_capita</th>\n",
       "      <th>beer_quality</th>\n",
       "    </tr>\n",
       "  </thead>\n",
       "  <tbody>\n",
       "    <tr>\n",
       "      <th>one</th>\n",
       "      <td>1913</td>\n",
       "      <td>BE</td>\n",
       "      <td>4220</td>\n",
       "      <td>NaN</td>\n",
       "    </tr>\n",
       "    <tr>\n",
       "      <th>two</th>\n",
       "      <td>1950</td>\n",
       "      <td>BE</td>\n",
       "      <td>5462</td>\n",
       "      <td>NaN</td>\n",
       "    </tr>\n",
       "    <tr>\n",
       "      <th>three</th>\n",
       "      <td>2003</td>\n",
       "      <td>BE</td>\n",
       "      <td>21205</td>\n",
       "      <td>NaN</td>\n",
       "    </tr>\n",
       "  </tbody>\n",
       "</table>\n",
       "</div>"
      ],
      "text/plain": [
       "       year country  gdp_per_capita beer_quality\n",
       "one    1913      BE            4220          NaN\n",
       "two    1950      BE            5462          NaN\n",
       "three  2003      BE           21205          NaN"
      ]
     },
     "execution_count": 30,
     "metadata": {},
     "output_type": "execute_result"
    }
   ],
   "source": [
    "frame2['one':'three']"
   ]
  },
  {
   "cell_type": "markdown",
   "metadata": {},
   "source": [
    "You can also select only some of the columns:"
   ]
  },
  {
   "cell_type": "code",
   "execution_count": 31,
   "metadata": {
    "collapsed": false
   },
   "outputs": [
    {
     "data": {
      "text/html": [
       "<div>\n",
       "<table border=\"1\" class=\"dataframe\">\n",
       "  <thead>\n",
       "    <tr style=\"text-align: right;\">\n",
       "      <th></th>\n",
       "      <th>year</th>\n",
       "      <th>country</th>\n",
       "      <th>gdp_per_capita</th>\n",
       "    </tr>\n",
       "  </thead>\n",
       "  <tbody>\n",
       "    <tr>\n",
       "      <th>one</th>\n",
       "      <td>1913</td>\n",
       "      <td>BE</td>\n",
       "      <td>4220</td>\n",
       "    </tr>\n",
       "    <tr>\n",
       "      <th>two</th>\n",
       "      <td>1950</td>\n",
       "      <td>BE</td>\n",
       "      <td>5462</td>\n",
       "    </tr>\n",
       "  </tbody>\n",
       "</table>\n",
       "</div>"
      ],
      "text/plain": [
       "     year country  gdp_per_capita\n",
       "one  1913      BE            4220\n",
       "two  1950      BE            5462"
      ]
     },
     "execution_count": 31,
     "metadata": {},
     "output_type": "execute_result"
    }
   ],
   "source": [
    "frame2.ix[['one', 'two'], ['year', 'country', 'gdp_per_capita']]"
   ]
  },
  {
   "cell_type": "markdown",
   "metadata": {},
   "source": [
    "It might be easier to `drop` certain rows or columns instead of selecting the complement:"
   ]
  },
  {
   "cell_type": "code",
   "execution_count": 32,
   "metadata": {
    "collapsed": false
   },
   "outputs": [
    {
     "data": {
      "text/html": [
       "<div>\n",
       "<table border=\"1\" class=\"dataframe\">\n",
       "  <thead>\n",
       "    <tr style=\"text-align: right;\">\n",
       "      <th></th>\n",
       "      <th>year</th>\n",
       "      <th>country</th>\n",
       "      <th>gdp_per_capita</th>\n",
       "      <th>beer_quality</th>\n",
       "    </tr>\n",
       "  </thead>\n",
       "  <tbody>\n",
       "    <tr>\n",
       "      <th>two</th>\n",
       "      <td>1950</td>\n",
       "      <td>BE</td>\n",
       "      <td>5462</td>\n",
       "      <td>NaN</td>\n",
       "    </tr>\n",
       "    <tr>\n",
       "      <th>four</th>\n",
       "      <td>1913</td>\n",
       "      <td>NL</td>\n",
       "      <td>4049</td>\n",
       "      <td>NaN</td>\n",
       "    </tr>\n",
       "    <tr>\n",
       "      <th>five</th>\n",
       "      <td>1950</td>\n",
       "      <td>NL</td>\n",
       "      <td>5996</td>\n",
       "      <td>NaN</td>\n",
       "    </tr>\n",
       "    <tr>\n",
       "      <th>six</th>\n",
       "      <td>2003</td>\n",
       "      <td>NL</td>\n",
       "      <td>21480</td>\n",
       "      <td>NaN</td>\n",
       "    </tr>\n",
       "  </tbody>\n",
       "</table>\n",
       "</div>"
      ],
      "text/plain": [
       "      year country  gdp_per_capita beer_quality\n",
       "two   1950      BE            5462          NaN\n",
       "four  1913      NL            4049          NaN\n",
       "five  1950      NL            5996          NaN\n",
       "six   2003      NL           21480          NaN"
      ]
     },
     "execution_count": 32,
     "metadata": {},
     "output_type": "execute_result"
    }
   ],
   "source": [
    "frame2.drop(['one', 'three'])  # Returns a copy with rows removed"
   ]
  },
  {
   "cell_type": "code",
   "execution_count": 33,
   "metadata": {
    "collapsed": false
   },
   "outputs": [
    {
     "data": {
      "text/html": [
       "<div>\n",
       "<table border=\"1\" class=\"dataframe\">\n",
       "  <thead>\n",
       "    <tr style=\"text-align: right;\">\n",
       "      <th></th>\n",
       "      <th>country</th>\n",
       "      <th>gdp_per_capita</th>\n",
       "      <th>beer_quality</th>\n",
       "    </tr>\n",
       "  </thead>\n",
       "  <tbody>\n",
       "    <tr>\n",
       "      <th>one</th>\n",
       "      <td>BE</td>\n",
       "      <td>4220</td>\n",
       "      <td>NaN</td>\n",
       "    </tr>\n",
       "    <tr>\n",
       "      <th>two</th>\n",
       "      <td>BE</td>\n",
       "      <td>5462</td>\n",
       "      <td>NaN</td>\n",
       "    </tr>\n",
       "    <tr>\n",
       "      <th>three</th>\n",
       "      <td>BE</td>\n",
       "      <td>21205</td>\n",
       "      <td>NaN</td>\n",
       "    </tr>\n",
       "    <tr>\n",
       "      <th>four</th>\n",
       "      <td>NL</td>\n",
       "      <td>4049</td>\n",
       "      <td>NaN</td>\n",
       "    </tr>\n",
       "    <tr>\n",
       "      <th>five</th>\n",
       "      <td>NL</td>\n",
       "      <td>5996</td>\n",
       "      <td>NaN</td>\n",
       "    </tr>\n",
       "    <tr>\n",
       "      <th>six</th>\n",
       "      <td>NL</td>\n",
       "      <td>21480</td>\n",
       "      <td>NaN</td>\n",
       "    </tr>\n",
       "  </tbody>\n",
       "</table>\n",
       "</div>"
      ],
      "text/plain": [
       "      country  gdp_per_capita beer_quality\n",
       "one        BE            4220          NaN\n",
       "two        BE            5462          NaN\n",
       "three      BE           21205          NaN\n",
       "four       NL            4049          NaN\n",
       "five       NL            5996          NaN\n",
       "six        NL           21480          NaN"
      ]
     },
     "execution_count": 33,
     "metadata": {},
     "output_type": "execute_result"
    }
   ],
   "source": [
    "frame2.drop('year', axis=1)  # Returns a copy with columns removed"
   ]
  },
  {
   "cell_type": "markdown",
   "metadata": {},
   "source": [
    "We can modify columns in a frame: either set them to the same value, or specify a list of values, one for each row:"
   ]
  },
  {
   "cell_type": "code",
   "execution_count": 34,
   "metadata": {
    "collapsed": false
   },
   "outputs": [
    {
     "data": {
      "text/html": [
       "<div>\n",
       "<table border=\"1\" class=\"dataframe\">\n",
       "  <thead>\n",
       "    <tr style=\"text-align: right;\">\n",
       "      <th></th>\n",
       "      <th>year</th>\n",
       "      <th>country</th>\n",
       "      <th>gdp_per_capita</th>\n",
       "      <th>beer_quality</th>\n",
       "    </tr>\n",
       "  </thead>\n",
       "  <tbody>\n",
       "    <tr>\n",
       "      <th>one</th>\n",
       "      <td>1913</td>\n",
       "      <td>BE</td>\n",
       "      <td>4220</td>\n",
       "      <td>10</td>\n",
       "    </tr>\n",
       "    <tr>\n",
       "      <th>two</th>\n",
       "      <td>1950</td>\n",
       "      <td>BE</td>\n",
       "      <td>5462</td>\n",
       "      <td>10</td>\n",
       "    </tr>\n",
       "    <tr>\n",
       "      <th>three</th>\n",
       "      <td>2003</td>\n",
       "      <td>BE</td>\n",
       "      <td>21205</td>\n",
       "      <td>10</td>\n",
       "    </tr>\n",
       "    <tr>\n",
       "      <th>four</th>\n",
       "      <td>1913</td>\n",
       "      <td>NL</td>\n",
       "      <td>4049</td>\n",
       "      <td>10</td>\n",
       "    </tr>\n",
       "    <tr>\n",
       "      <th>five</th>\n",
       "      <td>1950</td>\n",
       "      <td>NL</td>\n",
       "      <td>5996</td>\n",
       "      <td>10</td>\n",
       "    </tr>\n",
       "    <tr>\n",
       "      <th>six</th>\n",
       "      <td>2003</td>\n",
       "      <td>NL</td>\n",
       "      <td>21480</td>\n",
       "      <td>10</td>\n",
       "    </tr>\n",
       "  </tbody>\n",
       "</table>\n",
       "</div>"
      ],
      "text/plain": [
       "       year country  gdp_per_capita  beer_quality\n",
       "one    1913      BE            4220            10\n",
       "two    1950      BE            5462            10\n",
       "three  2003      BE           21205            10\n",
       "four   1913      NL            4049            10\n",
       "five   1950      NL            5996            10\n",
       "six    2003      NL           21480            10"
      ]
     },
     "execution_count": 34,
     "metadata": {},
     "output_type": "execute_result"
    }
   ],
   "source": [
    "frame2.beer_quality = 10.0\n",
    "frame2"
   ]
  },
  {
   "cell_type": "code",
   "execution_count": 35,
   "metadata": {
    "collapsed": false
   },
   "outputs": [
    {
     "data": {
      "text/html": [
       "<div>\n",
       "<table border=\"1\" class=\"dataframe\">\n",
       "  <thead>\n",
       "    <tr style=\"text-align: right;\">\n",
       "      <th></th>\n",
       "      <th>year</th>\n",
       "      <th>country</th>\n",
       "      <th>gdp_per_capita</th>\n",
       "      <th>beer_quality</th>\n",
       "    </tr>\n",
       "  </thead>\n",
       "  <tbody>\n",
       "    <tr>\n",
       "      <th>one</th>\n",
       "      <td>1913</td>\n",
       "      <td>BE</td>\n",
       "      <td>4220</td>\n",
       "      <td>10</td>\n",
       "    </tr>\n",
       "    <tr>\n",
       "      <th>two</th>\n",
       "      <td>1950</td>\n",
       "      <td>BE</td>\n",
       "      <td>5462</td>\n",
       "      <td>10</td>\n",
       "    </tr>\n",
       "    <tr>\n",
       "      <th>three</th>\n",
       "      <td>2003</td>\n",
       "      <td>BE</td>\n",
       "      <td>21205</td>\n",
       "      <td>10</td>\n",
       "    </tr>\n",
       "    <tr>\n",
       "      <th>four</th>\n",
       "      <td>1913</td>\n",
       "      <td>NL</td>\n",
       "      <td>4049</td>\n",
       "      <td>4</td>\n",
       "    </tr>\n",
       "    <tr>\n",
       "      <th>five</th>\n",
       "      <td>1950</td>\n",
       "      <td>NL</td>\n",
       "      <td>5996</td>\n",
       "      <td>3</td>\n",
       "    </tr>\n",
       "    <tr>\n",
       "      <th>six</th>\n",
       "      <td>2003</td>\n",
       "      <td>NL</td>\n",
       "      <td>21480</td>\n",
       "      <td>2</td>\n",
       "    </tr>\n",
       "  </tbody>\n",
       "</table>\n",
       "</div>"
      ],
      "text/plain": [
       "       year country  gdp_per_capita  beer_quality\n",
       "one    1913      BE            4220            10\n",
       "two    1950      BE            5462            10\n",
       "three  2003      BE           21205            10\n",
       "four   1913      NL            4049             4\n",
       "five   1950      NL            5996             3\n",
       "six    2003      NL           21480             2"
      ]
     },
     "execution_count": 35,
     "metadata": {},
     "output_type": "execute_result"
    }
   ],
   "source": [
    "# Not quite right...\n",
    "frame2.beer_quality = [10.0, 10.0, 10.0, 4.0, 3.0, 2.0]\n",
    "frame2"
   ]
  },
  {
   "cell_type": "markdown",
   "metadata": {},
   "source": [
    "You can also assign a Series to a column, in which case rows are matched by index and missing elements are set to `NaN`:"
   ]
  },
  {
   "cell_type": "code",
   "execution_count": 36,
   "metadata": {
    "collapsed": false
   },
   "outputs": [
    {
     "data": {
      "text/plain": [
       "one     10\n",
       "four     2\n",
       "five     1\n",
       "dtype: float64"
      ]
     },
     "execution_count": 36,
     "metadata": {},
     "output_type": "execute_result"
    }
   ],
   "source": [
    "val = Series([10.0, 2.0, 1.0], index=['one', 'four', 'five'])\n",
    "val"
   ]
  },
  {
   "cell_type": "code",
   "execution_count": 37,
   "metadata": {
    "collapsed": false
   },
   "outputs": [
    {
     "data": {
      "text/html": [
       "<div>\n",
       "<table border=\"1\" class=\"dataframe\">\n",
       "  <thead>\n",
       "    <tr style=\"text-align: right;\">\n",
       "      <th></th>\n",
       "      <th>year</th>\n",
       "      <th>country</th>\n",
       "      <th>gdp_per_capita</th>\n",
       "      <th>beer_quality</th>\n",
       "    </tr>\n",
       "  </thead>\n",
       "  <tbody>\n",
       "    <tr>\n",
       "      <th>one</th>\n",
       "      <td>1913</td>\n",
       "      <td>BE</td>\n",
       "      <td>4220</td>\n",
       "      <td>10</td>\n",
       "    </tr>\n",
       "    <tr>\n",
       "      <th>two</th>\n",
       "      <td>1950</td>\n",
       "      <td>BE</td>\n",
       "      <td>5462</td>\n",
       "      <td>NaN</td>\n",
       "    </tr>\n",
       "    <tr>\n",
       "      <th>three</th>\n",
       "      <td>2003</td>\n",
       "      <td>BE</td>\n",
       "      <td>21205</td>\n",
       "      <td>NaN</td>\n",
       "    </tr>\n",
       "    <tr>\n",
       "      <th>four</th>\n",
       "      <td>1913</td>\n",
       "      <td>NL</td>\n",
       "      <td>4049</td>\n",
       "      <td>2</td>\n",
       "    </tr>\n",
       "    <tr>\n",
       "      <th>five</th>\n",
       "      <td>1950</td>\n",
       "      <td>NL</td>\n",
       "      <td>5996</td>\n",
       "      <td>1</td>\n",
       "    </tr>\n",
       "    <tr>\n",
       "      <th>six</th>\n",
       "      <td>2003</td>\n",
       "      <td>NL</td>\n",
       "      <td>21480</td>\n",
       "      <td>NaN</td>\n",
       "    </tr>\n",
       "  </tbody>\n",
       "</table>\n",
       "</div>"
      ],
      "text/plain": [
       "       year country  gdp_per_capita  beer_quality\n",
       "one    1913      BE            4220            10\n",
       "two    1950      BE            5462           NaN\n",
       "three  2003      BE           21205           NaN\n",
       "four   1913      NL            4049             2\n",
       "five   1950      NL            5996             1\n",
       "six    2003      NL           21480           NaN"
      ]
     },
     "execution_count": 37,
     "metadata": {},
     "output_type": "execute_result"
    }
   ],
   "source": [
    "frame2.beer_quality = val\n",
    "frame2"
   ]
  },
  {
   "cell_type": "markdown",
   "metadata": {},
   "source": [
    "You can create a new column by simply assigning something to it:"
   ]
  },
  {
   "cell_type": "code",
   "execution_count": 38,
   "metadata": {
    "collapsed": false
   },
   "outputs": [
    {
     "data": {
      "text/html": [
       "<div>\n",
       "<table border=\"1\" class=\"dataframe\">\n",
       "  <thead>\n",
       "    <tr style=\"text-align: right;\">\n",
       "      <th></th>\n",
       "      <th>year</th>\n",
       "      <th>country</th>\n",
       "      <th>gdp_per_capita</th>\n",
       "      <th>beer_quality</th>\n",
       "      <th>livable</th>\n",
       "    </tr>\n",
       "  </thead>\n",
       "  <tbody>\n",
       "    <tr>\n",
       "      <th>one</th>\n",
       "      <td>1913</td>\n",
       "      <td>BE</td>\n",
       "      <td>4220</td>\n",
       "      <td>10</td>\n",
       "      <td>True</td>\n",
       "    </tr>\n",
       "    <tr>\n",
       "      <th>two</th>\n",
       "      <td>1950</td>\n",
       "      <td>BE</td>\n",
       "      <td>5462</td>\n",
       "      <td>NaN</td>\n",
       "      <td>False</td>\n",
       "    </tr>\n",
       "    <tr>\n",
       "      <th>three</th>\n",
       "      <td>2003</td>\n",
       "      <td>BE</td>\n",
       "      <td>21205</td>\n",
       "      <td>NaN</td>\n",
       "      <td>False</td>\n",
       "    </tr>\n",
       "    <tr>\n",
       "      <th>four</th>\n",
       "      <td>1913</td>\n",
       "      <td>NL</td>\n",
       "      <td>4049</td>\n",
       "      <td>2</td>\n",
       "      <td>False</td>\n",
       "    </tr>\n",
       "    <tr>\n",
       "      <th>five</th>\n",
       "      <td>1950</td>\n",
       "      <td>NL</td>\n",
       "      <td>5996</td>\n",
       "      <td>1</td>\n",
       "      <td>False</td>\n",
       "    </tr>\n",
       "    <tr>\n",
       "      <th>six</th>\n",
       "      <td>2003</td>\n",
       "      <td>NL</td>\n",
       "      <td>21480</td>\n",
       "      <td>NaN</td>\n",
       "      <td>False</td>\n",
       "    </tr>\n",
       "  </tbody>\n",
       "</table>\n",
       "</div>"
      ],
      "text/plain": [
       "       year country  gdp_per_capita  beer_quality livable\n",
       "one    1913      BE            4220            10    True\n",
       "two    1950      BE            5462           NaN   False\n",
       "three  2003      BE           21205           NaN   False\n",
       "four   1913      NL            4049             2   False\n",
       "five   1950      NL            5996             1   False\n",
       "six    2003      NL           21480           NaN   False"
      ]
     },
     "execution_count": 38,
     "metadata": {},
     "output_type": "execute_result"
    }
   ],
   "source": [
    "frame2['livable'] = (frame2.beer_quality >= 9.0)\n",
    "# Can't do this though: frame2.livable = ...\n",
    "\n",
    "frame2"
   ]
  },
  {
   "cell_type": "markdown",
   "metadata": {},
   "source": [
    "You can also delete columns in place with `del`:"
   ]
  },
  {
   "cell_type": "code",
   "execution_count": 39,
   "metadata": {
    "collapsed": false
   },
   "outputs": [
    {
     "data": {
      "text/html": [
       "<div>\n",
       "<table border=\"1\" class=\"dataframe\">\n",
       "  <thead>\n",
       "    <tr style=\"text-align: right;\">\n",
       "      <th></th>\n",
       "      <th>year</th>\n",
       "      <th>country</th>\n",
       "      <th>gdp_per_capita</th>\n",
       "      <th>livable</th>\n",
       "    </tr>\n",
       "  </thead>\n",
       "  <tbody>\n",
       "    <tr>\n",
       "      <th>one</th>\n",
       "      <td>1913</td>\n",
       "      <td>BE</td>\n",
       "      <td>4220</td>\n",
       "      <td>True</td>\n",
       "    </tr>\n",
       "    <tr>\n",
       "      <th>two</th>\n",
       "      <td>1950</td>\n",
       "      <td>BE</td>\n",
       "      <td>5462</td>\n",
       "      <td>False</td>\n",
       "    </tr>\n",
       "    <tr>\n",
       "      <th>three</th>\n",
       "      <td>2003</td>\n",
       "      <td>BE</td>\n",
       "      <td>21205</td>\n",
       "      <td>False</td>\n",
       "    </tr>\n",
       "    <tr>\n",
       "      <th>four</th>\n",
       "      <td>1913</td>\n",
       "      <td>NL</td>\n",
       "      <td>4049</td>\n",
       "      <td>False</td>\n",
       "    </tr>\n",
       "    <tr>\n",
       "      <th>five</th>\n",
       "      <td>1950</td>\n",
       "      <td>NL</td>\n",
       "      <td>5996</td>\n",
       "      <td>False</td>\n",
       "    </tr>\n",
       "    <tr>\n",
       "      <th>six</th>\n",
       "      <td>2003</td>\n",
       "      <td>NL</td>\n",
       "      <td>21480</td>\n",
       "      <td>False</td>\n",
       "    </tr>\n",
       "  </tbody>\n",
       "</table>\n",
       "</div>"
      ],
      "text/plain": [
       "       year country  gdp_per_capita livable\n",
       "one    1913      BE            4220    True\n",
       "two    1950      BE            5462   False\n",
       "three  2003      BE           21205   False\n",
       "four   1913      NL            4049   False\n",
       "five   1950      NL            5996   False\n",
       "six    2003      NL           21480   False"
      ]
     },
     "execution_count": 39,
     "metadata": {},
     "output_type": "execute_result"
    }
   ],
   "source": [
    "del frame2['beer_quality']\n",
    "frame2"
   ]
  },
  {
   "cell_type": "markdown",
   "metadata": {},
   "source": [
    "**Ex 1.4.3 Quick: what's the difference between `frame2.drop('beer_quality')` and `del frame2['beer_quality']`?**"
   ]
  },
  {
   "cell_type": "markdown",
   "metadata": {},
   "source": [
    "You can also create a `DataFrame` using nested dictionaries.  The outer keys are the columns, the inner ones are the rows, and missing data is marked appropriately:"
   ]
  },
  {
   "cell_type": "code",
   "execution_count": 40,
   "metadata": {
    "collapsed": false
   },
   "outputs": [
    {
     "data": {
      "text/html": [
       "<div>\n",
       "<table border=\"1\" class=\"dataframe\">\n",
       "  <thead>\n",
       "    <tr style=\"text-align: right;\">\n",
       "      <th></th>\n",
       "      <th>Belgium</th>\n",
       "      <th>Netherlands</th>\n",
       "    </tr>\n",
       "  </thead>\n",
       "  <tbody>\n",
       "    <tr>\n",
       "      <th>1913</th>\n",
       "      <td>4220</td>\n",
       "      <td>NaN</td>\n",
       "    </tr>\n",
       "    <tr>\n",
       "      <th>1950</th>\n",
       "      <td>5462</td>\n",
       "      <td>5996</td>\n",
       "    </tr>\n",
       "    <tr>\n",
       "      <th>1973</th>\n",
       "      <td>NaN</td>\n",
       "      <td>13082</td>\n",
       "    </tr>\n",
       "    <tr>\n",
       "      <th>2003</th>\n",
       "      <td>21205</td>\n",
       "      <td>21480</td>\n",
       "    </tr>\n",
       "  </tbody>\n",
       "</table>\n",
       "</div>"
      ],
      "text/plain": [
       "      Belgium  Netherlands\n",
       "1913     4220          NaN\n",
       "1950     5462         5996\n",
       "1973      NaN        13082\n",
       "2003    21205        21480"
      ]
     },
     "execution_count": 40,
     "metadata": {},
     "output_type": "execute_result"
    }
   ],
   "source": [
    "data = {\n",
    "    'Belgium': {1913: 4220.0, 1950: 5462.0, 2003: 21205.0},\n",
    "    'Netherlands': {1950: 5996.0, 1973: 13082.0, 2003: 21480.0}\n",
    "}\n",
    "frame3 = DataFrame(data)\n",
    "frame3"
   ]
  },
  {
   "cell_type": "markdown",
   "metadata": {},
   "source": [
    "Like with matrices, you can transpose a DataFrame:"
   ]
  },
  {
   "cell_type": "code",
   "execution_count": 41,
   "metadata": {
    "collapsed": false
   },
   "outputs": [
    {
     "data": {
      "text/html": [
       "<div>\n",
       "<table border=\"1\" class=\"dataframe\">\n",
       "  <thead>\n",
       "    <tr style=\"text-align: right;\">\n",
       "      <th></th>\n",
       "      <th>1913</th>\n",
       "      <th>1950</th>\n",
       "      <th>1973</th>\n",
       "      <th>2003</th>\n",
       "    </tr>\n",
       "  </thead>\n",
       "  <tbody>\n",
       "    <tr>\n",
       "      <th>Belgium</th>\n",
       "      <td>4220</td>\n",
       "      <td>5462</td>\n",
       "      <td>NaN</td>\n",
       "      <td>21205</td>\n",
       "    </tr>\n",
       "    <tr>\n",
       "      <th>Netherlands</th>\n",
       "      <td>NaN</td>\n",
       "      <td>5996</td>\n",
       "      <td>13082</td>\n",
       "      <td>21480</td>\n",
       "    </tr>\n",
       "  </tbody>\n",
       "</table>\n",
       "</div>"
      ],
      "text/plain": [
       "             1913  1950   1973   2003\n",
       "Belgium      4220  5462    NaN  21205\n",
       "Netherlands   NaN  5996  13082  21480"
      ]
     },
     "execution_count": 41,
     "metadata": {},
     "output_type": "execute_result"
    }
   ],
   "source": [
    "frame3.T"
   ]
  },
  {
   "cell_type": "markdown",
   "metadata": {},
   "source": [
    "It's good form to explicitly name the row and column indices:"
   ]
  },
  {
   "cell_type": "code",
   "execution_count": 42,
   "metadata": {
    "collapsed": false
   },
   "outputs": [
    {
     "data": {
      "text/html": [
       "<div>\n",
       "<table border=\"1\" class=\"dataframe\">\n",
       "  <thead>\n",
       "    <tr style=\"text-align: right;\">\n",
       "      <th>country</th>\n",
       "      <th>Belgium</th>\n",
       "      <th>Netherlands</th>\n",
       "    </tr>\n",
       "    <tr>\n",
       "      <th>year</th>\n",
       "      <th></th>\n",
       "      <th></th>\n",
       "    </tr>\n",
       "  </thead>\n",
       "  <tbody>\n",
       "    <tr>\n",
       "      <th>1913</th>\n",
       "      <td>4220</td>\n",
       "      <td>NaN</td>\n",
       "    </tr>\n",
       "    <tr>\n",
       "      <th>1950</th>\n",
       "      <td>5462</td>\n",
       "      <td>5996</td>\n",
       "    </tr>\n",
       "    <tr>\n",
       "      <th>1973</th>\n",
       "      <td>NaN</td>\n",
       "      <td>13082</td>\n",
       "    </tr>\n",
       "    <tr>\n",
       "      <th>2003</th>\n",
       "      <td>21205</td>\n",
       "      <td>21480</td>\n",
       "    </tr>\n",
       "  </tbody>\n",
       "</table>\n",
       "</div>"
      ],
      "text/plain": [
       "country  Belgium  Netherlands\n",
       "year                         \n",
       "1913        4220          NaN\n",
       "1950        5462         5996\n",
       "1973         NaN        13082\n",
       "2003       21205        21480"
      ]
     },
     "execution_count": 42,
     "metadata": {},
     "output_type": "execute_result"
    }
   ],
   "source": [
    "frame3.index.name = 'year'\n",
    "frame3.columns.name = 'country'\n",
    "frame3"
   ]
  },
  {
   "cell_type": "markdown",
   "metadata": {},
   "source": [
    "**Ex 1.4.5 Let's get some practice with slicing and dicing data.  Given the following DataFrame, extract:**\n",
    "1. **the first 2 rows**\n",
    "2. **the second and third column**\n",
    "3. **all rows where gdp_per_capita exceeds 5000**\n",
    "\n",
    "```\n",
    "data = {\n",
    "    'year': [1913, 1950, 2003, 1913, 1950, 2003],\n",
    "    'country': ['BE', 'BE', 'BE', 'NL', 'NL', 'NL'],\n",
    "    'gdp_per_capita': [4220, 5462, 21205, 4049, 5996, 21480]\n",
    "}\n",
    "frame = DataFrame(data, columns=['year', 'country', 'gdp_per_capita'])\n",
    "```"
   ]
  },
  {
   "cell_type": "markdown",
   "metadata": {},
   "source": [
    "From now on, we'll quickly survey a few DataFrame operations, then work through a long and interesting example."
   ]
  },
  {
   "cell_type": "markdown",
   "metadata": {},
   "source": [
    "As with Series, arithmetic between DataFrames is defined and aligns over row and column indices.  For example:"
   ]
  },
  {
   "cell_type": "code",
   "execution_count": 43,
   "metadata": {
    "collapsed": false
   },
   "outputs": [],
   "source": [
    "import numpy as np\n",
    "df1 = DataFrame(np.arange(9.).reshape((3,3)),\n",
    "                columns=['b', 'c', 'd'],\n",
    "                index=['Belgium', 'Netherlands', 'Luxembourg'])\n",
    "df2 = DataFrame(np.arange(12.).reshape((4,3)),\n",
    "                columns=['b', 'd', 'e'],\n",
    "                index=['France', 'Belgium', 'Netherlands', 'Germany'])"
   ]
  },
  {
   "cell_type": "code",
   "execution_count": 44,
   "metadata": {
    "collapsed": false
   },
   "outputs": [
    {
     "data": {
      "text/html": [
       "<div>\n",
       "<table border=\"1\" class=\"dataframe\">\n",
       "  <thead>\n",
       "    <tr style=\"text-align: right;\">\n",
       "      <th></th>\n",
       "      <th>b</th>\n",
       "      <th>c</th>\n",
       "      <th>d</th>\n",
       "    </tr>\n",
       "  </thead>\n",
       "  <tbody>\n",
       "    <tr>\n",
       "      <th>Belgium</th>\n",
       "      <td>0</td>\n",
       "      <td>1</td>\n",
       "      <td>2</td>\n",
       "    </tr>\n",
       "    <tr>\n",
       "      <th>Netherlands</th>\n",
       "      <td>3</td>\n",
       "      <td>4</td>\n",
       "      <td>5</td>\n",
       "    </tr>\n",
       "    <tr>\n",
       "      <th>Luxembourg</th>\n",
       "      <td>6</td>\n",
       "      <td>7</td>\n",
       "      <td>8</td>\n",
       "    </tr>\n",
       "  </tbody>\n",
       "</table>\n",
       "</div>"
      ],
      "text/plain": [
       "             b  c  d\n",
       "Belgium      0  1  2\n",
       "Netherlands  3  4  5\n",
       "Luxembourg   6  7  8"
      ]
     },
     "execution_count": 44,
     "metadata": {},
     "output_type": "execute_result"
    }
   ],
   "source": [
    "df1 "
   ]
  },
  {
   "cell_type": "code",
   "execution_count": 45,
   "metadata": {
    "collapsed": false
   },
   "outputs": [
    {
     "data": {
      "text/html": [
       "<div>\n",
       "<table border=\"1\" class=\"dataframe\">\n",
       "  <thead>\n",
       "    <tr style=\"text-align: right;\">\n",
       "      <th></th>\n",
       "      <th>b</th>\n",
       "      <th>d</th>\n",
       "      <th>e</th>\n",
       "    </tr>\n",
       "  </thead>\n",
       "  <tbody>\n",
       "    <tr>\n",
       "      <th>France</th>\n",
       "      <td>0</td>\n",
       "      <td>1</td>\n",
       "      <td>2</td>\n",
       "    </tr>\n",
       "    <tr>\n",
       "      <th>Belgium</th>\n",
       "      <td>3</td>\n",
       "      <td>4</td>\n",
       "      <td>5</td>\n",
       "    </tr>\n",
       "    <tr>\n",
       "      <th>Netherlands</th>\n",
       "      <td>6</td>\n",
       "      <td>7</td>\n",
       "      <td>8</td>\n",
       "    </tr>\n",
       "    <tr>\n",
       "      <th>Germany</th>\n",
       "      <td>9</td>\n",
       "      <td>10</td>\n",
       "      <td>11</td>\n",
       "    </tr>\n",
       "  </tbody>\n",
       "</table>\n",
       "</div>"
      ],
      "text/plain": [
       "             b   d   e\n",
       "France       0   1   2\n",
       "Belgium      3   4   5\n",
       "Netherlands  6   7   8\n",
       "Germany      9  10  11"
      ]
     },
     "execution_count": 45,
     "metadata": {},
     "output_type": "execute_result"
    }
   ],
   "source": [
    "df2"
   ]
  },
  {
   "cell_type": "code",
   "execution_count": 46,
   "metadata": {
    "collapsed": false
   },
   "outputs": [
    {
     "data": {
      "text/html": [
       "<div>\n",
       "<table border=\"1\" class=\"dataframe\">\n",
       "  <thead>\n",
       "    <tr style=\"text-align: right;\">\n",
       "      <th></th>\n",
       "      <th>b</th>\n",
       "      <th>c</th>\n",
       "      <th>d</th>\n",
       "      <th>e</th>\n",
       "    </tr>\n",
       "  </thead>\n",
       "  <tbody>\n",
       "    <tr>\n",
       "      <th>Belgium</th>\n",
       "      <td>3</td>\n",
       "      <td>NaN</td>\n",
       "      <td>6</td>\n",
       "      <td>NaN</td>\n",
       "    </tr>\n",
       "    <tr>\n",
       "      <th>France</th>\n",
       "      <td>NaN</td>\n",
       "      <td>NaN</td>\n",
       "      <td>NaN</td>\n",
       "      <td>NaN</td>\n",
       "    </tr>\n",
       "    <tr>\n",
       "      <th>Germany</th>\n",
       "      <td>NaN</td>\n",
       "      <td>NaN</td>\n",
       "      <td>NaN</td>\n",
       "      <td>NaN</td>\n",
       "    </tr>\n",
       "    <tr>\n",
       "      <th>Luxembourg</th>\n",
       "      <td>NaN</td>\n",
       "      <td>NaN</td>\n",
       "      <td>NaN</td>\n",
       "      <td>NaN</td>\n",
       "    </tr>\n",
       "    <tr>\n",
       "      <th>Netherlands</th>\n",
       "      <td>9</td>\n",
       "      <td>NaN</td>\n",
       "      <td>12</td>\n",
       "      <td>NaN</td>\n",
       "    </tr>\n",
       "  </tbody>\n",
       "</table>\n",
       "</div>"
      ],
      "text/plain": [
       "              b   c   d   e\n",
       "Belgium       3 NaN   6 NaN\n",
       "France      NaN NaN NaN NaN\n",
       "Germany     NaN NaN NaN NaN\n",
       "Luxembourg  NaN NaN NaN NaN\n",
       "Netherlands   9 NaN  12 NaN"
      ]
     },
     "execution_count": 46,
     "metadata": {},
     "output_type": "execute_result"
    }
   ],
   "source": [
    "df1 + df2"
   ]
  },
  {
   "cell_type": "markdown",
   "metadata": {},
   "source": [
    "Note that in places where either `df1` or `df2` was missing data, the result of `df1 + df2` will be missing as well.  We can instead tell `pandas` to assume some other value, like 0, if we use the `add` method:"
   ]
  },
  {
   "cell_type": "code",
   "execution_count": 47,
   "metadata": {
    "collapsed": false
   },
   "outputs": [
    {
     "data": {
      "text/html": [
       "<div>\n",
       "<table border=\"1\" class=\"dataframe\">\n",
       "  <thead>\n",
       "    <tr style=\"text-align: right;\">\n",
       "      <th></th>\n",
       "      <th>b</th>\n",
       "      <th>c</th>\n",
       "      <th>d</th>\n",
       "    </tr>\n",
       "  </thead>\n",
       "  <tbody>\n",
       "    <tr>\n",
       "      <th>Belgium</th>\n",
       "      <td>0</td>\n",
       "      <td>1</td>\n",
       "      <td>2</td>\n",
       "    </tr>\n",
       "    <tr>\n",
       "      <th>Netherlands</th>\n",
       "      <td>3</td>\n",
       "      <td>4</td>\n",
       "      <td>5</td>\n",
       "    </tr>\n",
       "    <tr>\n",
       "      <th>Luxembourg</th>\n",
       "      <td>6</td>\n",
       "      <td>7</td>\n",
       "      <td>8</td>\n",
       "    </tr>\n",
       "  </tbody>\n",
       "</table>\n",
       "</div>"
      ],
      "text/plain": [
       "             b  c  d\n",
       "Belgium      0  1  2\n",
       "Netherlands  3  4  5\n",
       "Luxembourg   6  7  8"
      ]
     },
     "execution_count": 47,
     "metadata": {},
     "output_type": "execute_result"
    }
   ],
   "source": [
    "df1"
   ]
  },
  {
   "cell_type": "code",
   "execution_count": 48,
   "metadata": {
    "collapsed": false
   },
   "outputs": [
    {
     "data": {
      "text/html": [
       "<div>\n",
       "<table border=\"1\" class=\"dataframe\">\n",
       "  <thead>\n",
       "    <tr style=\"text-align: right;\">\n",
       "      <th></th>\n",
       "      <th>b</th>\n",
       "      <th>d</th>\n",
       "      <th>e</th>\n",
       "    </tr>\n",
       "  </thead>\n",
       "  <tbody>\n",
       "    <tr>\n",
       "      <th>France</th>\n",
       "      <td>0</td>\n",
       "      <td>1</td>\n",
       "      <td>2</td>\n",
       "    </tr>\n",
       "    <tr>\n",
       "      <th>Belgium</th>\n",
       "      <td>3</td>\n",
       "      <td>4</td>\n",
       "      <td>5</td>\n",
       "    </tr>\n",
       "    <tr>\n",
       "      <th>Netherlands</th>\n",
       "      <td>6</td>\n",
       "      <td>7</td>\n",
       "      <td>8</td>\n",
       "    </tr>\n",
       "    <tr>\n",
       "      <th>Germany</th>\n",
       "      <td>9</td>\n",
       "      <td>10</td>\n",
       "      <td>11</td>\n",
       "    </tr>\n",
       "  </tbody>\n",
       "</table>\n",
       "</div>"
      ],
      "text/plain": [
       "             b   d   e\n",
       "France       0   1   2\n",
       "Belgium      3   4   5\n",
       "Netherlands  6   7   8\n",
       "Germany      9  10  11"
      ]
     },
     "execution_count": 48,
     "metadata": {},
     "output_type": "execute_result"
    }
   ],
   "source": [
    "df2"
   ]
  },
  {
   "cell_type": "code",
   "execution_count": 49,
   "metadata": {
    "collapsed": false
   },
   "outputs": [
    {
     "data": {
      "text/html": [
       "<div>\n",
       "<table border=\"1\" class=\"dataframe\">\n",
       "  <thead>\n",
       "    <tr style=\"text-align: right;\">\n",
       "      <th></th>\n",
       "      <th>b</th>\n",
       "      <th>c</th>\n",
       "      <th>d</th>\n",
       "      <th>e</th>\n",
       "    </tr>\n",
       "  </thead>\n",
       "  <tbody>\n",
       "    <tr>\n",
       "      <th>Belgium</th>\n",
       "      <td>3</td>\n",
       "      <td>1</td>\n",
       "      <td>6</td>\n",
       "      <td>5</td>\n",
       "    </tr>\n",
       "    <tr>\n",
       "      <th>France</th>\n",
       "      <td>0</td>\n",
       "      <td>NaN</td>\n",
       "      <td>1</td>\n",
       "      <td>2</td>\n",
       "    </tr>\n",
       "    <tr>\n",
       "      <th>Germany</th>\n",
       "      <td>9</td>\n",
       "      <td>NaN</td>\n",
       "      <td>10</td>\n",
       "      <td>11</td>\n",
       "    </tr>\n",
       "    <tr>\n",
       "      <th>Luxembourg</th>\n",
       "      <td>6</td>\n",
       "      <td>7</td>\n",
       "      <td>8</td>\n",
       "      <td>NaN</td>\n",
       "    </tr>\n",
       "    <tr>\n",
       "      <th>Netherlands</th>\n",
       "      <td>9</td>\n",
       "      <td>4</td>\n",
       "      <td>12</td>\n",
       "      <td>8</td>\n",
       "    </tr>\n",
       "  </tbody>\n",
       "</table>\n",
       "</div>"
      ],
      "text/plain": [
       "             b   c   d   e\n",
       "Belgium      3   1   6   5\n",
       "France       0 NaN   1   2\n",
       "Germany      9 NaN  10  11\n",
       "Luxembourg   6   7   8 NaN\n",
       "Netherlands  9   4  12   8"
      ]
     },
     "execution_count": 49,
     "metadata": {},
     "output_type": "execute_result"
    }
   ],
   "source": [
    "df1.add(df2, fill_value=0)"
   ]
  },
  {
   "cell_type": "markdown",
   "metadata": {},
   "source": [
    "Notice that there are still some entries for which data wasn't available in either `df1` or `df2`, and those are still marked as missing."
   ]
  },
  {
   "cell_type": "markdown",
   "metadata": {},
   "source": [
    "There are also analogous methods for `-` (`sub`), `*` (`mul`) and `/` (`div`)."
   ]
  },
  {
   "cell_type": "markdown",
   "metadata": {},
   "source": [
    "You can also do arithmetic between DataFrames and Series.  `pandas` lines these up along the columns of the DataFrame, then uses the same Series for every row:"
   ]
  },
  {
   "cell_type": "code",
   "execution_count": 50,
   "metadata": {
    "collapsed": false
   },
   "outputs": [
    {
     "data": {
      "text/html": [
       "<div>\n",
       "<table border=\"1\" class=\"dataframe\">\n",
       "  <thead>\n",
       "    <tr style=\"text-align: right;\">\n",
       "      <th></th>\n",
       "      <th>BeerLovers</th>\n",
       "      <th>WineLovers</th>\n",
       "    </tr>\n",
       "  </thead>\n",
       "  <tbody>\n",
       "    <tr>\n",
       "      <th>BE</th>\n",
       "      <td>55</td>\n",
       "      <td>10</td>\n",
       "    </tr>\n",
       "    <tr>\n",
       "      <th>FR</th>\n",
       "      <td>15</td>\n",
       "      <td>30</td>\n",
       "    </tr>\n",
       "  </tbody>\n",
       "</table>\n",
       "</div>"
      ],
      "text/plain": [
       "    BeerLovers  WineLovers\n",
       "BE          55          10\n",
       "FR          15          30"
      ]
     },
     "execution_count": 50,
     "metadata": {},
     "output_type": "execute_result"
    }
   ],
   "source": [
    "df = DataFrame({\n",
    "        'BeerLovers': {'BE': 55, 'FR': 15},\n",
    "        'WineLovers': {'BE': 10, 'FR': 30}\n",
    "    })\n",
    "df"
   ]
  },
  {
   "cell_type": "code",
   "execution_count": 51,
   "metadata": {
    "collapsed": false
   },
   "outputs": [
    {
     "data": {
      "text/html": [
       "<div>\n",
       "<table border=\"1\" class=\"dataframe\">\n",
       "  <thead>\n",
       "    <tr style=\"text-align: right;\">\n",
       "      <th></th>\n",
       "      <th>BeerLovers</th>\n",
       "      <th>WineLovers</th>\n",
       "    </tr>\n",
       "  </thead>\n",
       "  <tbody>\n",
       "    <tr>\n",
       "      <th>BE</th>\n",
       "      <td>55</td>\n",
       "      <td>10</td>\n",
       "    </tr>\n",
       "    <tr>\n",
       "      <th>FR</th>\n",
       "      <td>15</td>\n",
       "      <td>30</td>\n",
       "    </tr>\n",
       "    <tr>\n",
       "      <th>Total</th>\n",
       "      <td>70</td>\n",
       "      <td>40</td>\n",
       "    </tr>\n",
       "  </tbody>\n",
       "</table>\n",
       "</div>"
      ],
      "text/plain": [
       "       BeerLovers  WineLovers\n",
       "BE             55          10\n",
       "FR             15          30\n",
       "Total          70          40"
      ]
     },
     "execution_count": 51,
     "metadata": {},
     "output_type": "execute_result"
    }
   ],
   "source": [
    "df.ix['Total'] = df.ix['BE'] + df.ix['FR']\n",
    "df"
   ]
  },
  {
   "cell_type": "code",
   "execution_count": 52,
   "metadata": {
    "collapsed": false
   },
   "outputs": [
    {
     "data": {
      "text/html": [
       "<div>\n",
       "<table border=\"1\" class=\"dataframe\">\n",
       "  <thead>\n",
       "    <tr style=\"text-align: right;\">\n",
       "      <th></th>\n",
       "      <th>BeerLovers</th>\n",
       "      <th>WineLovers</th>\n",
       "    </tr>\n",
       "  </thead>\n",
       "  <tbody>\n",
       "    <tr>\n",
       "      <th>BE</th>\n",
       "      <td>0.785714</td>\n",
       "      <td>0.25</td>\n",
       "    </tr>\n",
       "    <tr>\n",
       "      <th>FR</th>\n",
       "      <td>0.214286</td>\n",
       "      <td>0.75</td>\n",
       "    </tr>\n",
       "    <tr>\n",
       "      <th>Total</th>\n",
       "      <td>1.000000</td>\n",
       "      <td>1.00</td>\n",
       "    </tr>\n",
       "  </tbody>\n",
       "</table>\n",
       "</div>"
      ],
      "text/plain": [
       "       BeerLovers  WineLovers\n",
       "BE       0.785714        0.25\n",
       "FR       0.214286        0.75\n",
       "Total    1.000000        1.00"
      ]
     },
     "execution_count": 52,
     "metadata": {},
     "output_type": "execute_result"
    }
   ],
   "source": [
    "df.astype(float) / df.ix['Total']  # Need to avoid integer division!"
   ]
  },
  {
   "cell_type": "markdown",
   "metadata": {},
   "source": [
    "Perhaps that's a bit more natural in the other orientation.  We can specify an axis along which to replicate the series when using the explicit `div` method:"
   ]
  },
  {
   "cell_type": "code",
   "execution_count": 53,
   "metadata": {
    "collapsed": false
   },
   "outputs": [
    {
     "data": {
      "text/html": [
       "<div>\n",
       "<table border=\"1\" class=\"dataframe\">\n",
       "  <thead>\n",
       "    <tr style=\"text-align: right;\">\n",
       "      <th></th>\n",
       "      <th>BE</th>\n",
       "      <th>FR</th>\n",
       "    </tr>\n",
       "  </thead>\n",
       "  <tbody>\n",
       "    <tr>\n",
       "      <th>BeerLovers</th>\n",
       "      <td>55</td>\n",
       "      <td>15</td>\n",
       "    </tr>\n",
       "    <tr>\n",
       "      <th>WineLovers</th>\n",
       "      <td>10</td>\n",
       "      <td>30</td>\n",
       "    </tr>\n",
       "  </tbody>\n",
       "</table>\n",
       "</div>"
      ],
      "text/plain": [
       "            BE  FR\n",
       "BeerLovers  55  15\n",
       "WineLovers  10  30"
      ]
     },
     "execution_count": 53,
     "metadata": {},
     "output_type": "execute_result"
    }
   ],
   "source": [
    "df = DataFrame({\n",
    "        'BE': {'BeerLovers': 55, 'WineLovers': 10},\n",
    "        'FR': {'BeerLovers': 15, 'WineLovers': 30}\n",
    "    })\n",
    "df"
   ]
  },
  {
   "cell_type": "code",
   "execution_count": 54,
   "metadata": {
    "collapsed": false
   },
   "outputs": [
    {
     "data": {
      "text/html": [
       "<div>\n",
       "<table border=\"1\" class=\"dataframe\">\n",
       "  <thead>\n",
       "    <tr style=\"text-align: right;\">\n",
       "      <th></th>\n",
       "      <th>BE</th>\n",
       "      <th>FR</th>\n",
       "      <th>Total</th>\n",
       "    </tr>\n",
       "  </thead>\n",
       "  <tbody>\n",
       "    <tr>\n",
       "      <th>BeerLovers</th>\n",
       "      <td>55</td>\n",
       "      <td>15</td>\n",
       "      <td>70</td>\n",
       "    </tr>\n",
       "    <tr>\n",
       "      <th>WineLovers</th>\n",
       "      <td>10</td>\n",
       "      <td>30</td>\n",
       "      <td>40</td>\n",
       "    </tr>\n",
       "  </tbody>\n",
       "</table>\n",
       "</div>"
      ],
      "text/plain": [
       "            BE  FR  Total\n",
       "BeerLovers  55  15     70\n",
       "WineLovers  10  30     40"
      ]
     },
     "execution_count": 54,
     "metadata": {},
     "output_type": "execute_result"
    }
   ],
   "source": [
    "df['Total'] = df.BE + df.FR\n",
    "df"
   ]
  },
  {
   "cell_type": "code",
   "execution_count": 55,
   "metadata": {
    "collapsed": false
   },
   "outputs": [
    {
     "data": {
      "text/html": [
       "<div>\n",
       "<table border=\"1\" class=\"dataframe\">\n",
       "  <thead>\n",
       "    <tr style=\"text-align: right;\">\n",
       "      <th></th>\n",
       "      <th>BE</th>\n",
       "      <th>FR</th>\n",
       "      <th>Total</th>\n",
       "    </tr>\n",
       "  </thead>\n",
       "  <tbody>\n",
       "    <tr>\n",
       "      <th>BeerLovers</th>\n",
       "      <td>0.785714</td>\n",
       "      <td>0.214286</td>\n",
       "      <td>1</td>\n",
       "    </tr>\n",
       "    <tr>\n",
       "      <th>WineLovers</th>\n",
       "      <td>0.250000</td>\n",
       "      <td>0.750000</td>\n",
       "      <td>1</td>\n",
       "    </tr>\n",
       "  </tbody>\n",
       "</table>\n",
       "</div>"
      ],
      "text/plain": [
       "                  BE        FR  Total\n",
       "BeerLovers  0.785714  0.214286      1\n",
       "WineLovers  0.250000  0.750000      1"
      ]
     },
     "execution_count": 55,
     "metadata": {},
     "output_type": "execute_result"
    }
   ],
   "source": [
    "df2 = df.astype(float).div(df.Total, axis=0)\n",
    "df2"
   ]
  },
  {
   "cell_type": "code",
   "execution_count": 56,
   "metadata": {
    "collapsed": false
   },
   "outputs": [
    {
     "data": {
      "text/plain": [
       "BeerLovers    1\n",
       "WineLovers    1\n",
       "Name: Total, dtype: float64"
      ]
     },
     "execution_count": 56,
     "metadata": {},
     "output_type": "execute_result"
    }
   ],
   "source": [
    "df2['Total']"
   ]
  },
  {
   "cell_type": "markdown",
   "metadata": {},
   "source": [
    "Or maybe you want the proportions within each country:"
   ]
  },
  {
   "cell_type": "code",
   "execution_count": 57,
   "metadata": {
    "collapsed": false
   },
   "outputs": [
    {
     "name": "stdout",
     "output_type": "stream",
     "text": [
      "            BE  FR  Total\n",
      "BeerLovers  55  15     70\n",
      "WineLovers  10  30     40\n"
     ]
    },
    {
     "data": {
      "text/html": [
       "<div>\n",
       "<table border=\"1\" class=\"dataframe\">\n",
       "  <thead>\n",
       "    <tr style=\"text-align: right;\">\n",
       "      <th></th>\n",
       "      <th>BeerLovers</th>\n",
       "      <th>WineLovers</th>\n",
       "    </tr>\n",
       "  </thead>\n",
       "  <tbody>\n",
       "    <tr>\n",
       "      <th>BE</th>\n",
       "      <td>55</td>\n",
       "      <td>10</td>\n",
       "    </tr>\n",
       "    <tr>\n",
       "      <th>FR</th>\n",
       "      <td>15</td>\n",
       "      <td>30</td>\n",
       "    </tr>\n",
       "    <tr>\n",
       "      <th>Total</th>\n",
       "      <td>70</td>\n",
       "      <td>40</td>\n",
       "    </tr>\n",
       "  </tbody>\n",
       "</table>\n",
       "</div>"
      ],
      "text/plain": [
       "       BeerLovers  WineLovers\n",
       "BE             55          10\n",
       "FR             15          30\n",
       "Total          70          40"
      ]
     },
     "execution_count": 57,
     "metadata": {},
     "output_type": "execute_result"
    }
   ],
   "source": [
    "print(df)\n",
    "df2 = df.T\n",
    "df2"
   ]
  },
  {
   "cell_type": "code",
   "execution_count": 58,
   "metadata": {
    "collapsed": false
   },
   "outputs": [
    {
     "data": {
      "text/html": [
       "<div>\n",
       "<table border=\"1\" class=\"dataframe\">\n",
       "  <thead>\n",
       "    <tr style=\"text-align: right;\">\n",
       "      <th></th>\n",
       "      <th>BeerLovers</th>\n",
       "      <th>WineLovers</th>\n",
       "      <th>Total</th>\n",
       "    </tr>\n",
       "  </thead>\n",
       "  <tbody>\n",
       "    <tr>\n",
       "      <th>BE</th>\n",
       "      <td>55</td>\n",
       "      <td>10</td>\n",
       "      <td>65</td>\n",
       "    </tr>\n",
       "    <tr>\n",
       "      <th>FR</th>\n",
       "      <td>15</td>\n",
       "      <td>30</td>\n",
       "      <td>45</td>\n",
       "    </tr>\n",
       "    <tr>\n",
       "      <th>Total</th>\n",
       "      <td>70</td>\n",
       "      <td>40</td>\n",
       "      <td>110</td>\n",
       "    </tr>\n",
       "  </tbody>\n",
       "</table>\n",
       "</div>"
      ],
      "text/plain": [
       "       BeerLovers  WineLovers  Total\n",
       "BE             55          10     65\n",
       "FR             15          30     45\n",
       "Total          70          40    110"
      ]
     },
     "execution_count": 58,
     "metadata": {},
     "output_type": "execute_result"
    }
   ],
   "source": [
    "df2['Total'] = df2.BeerLovers + df2.WineLovers\n",
    "df2"
   ]
  },
  {
   "cell_type": "code",
   "execution_count": 59,
   "metadata": {
    "collapsed": false
   },
   "outputs": [
    {
     "data": {
      "text/html": [
       "<div>\n",
       "<table border=\"1\" class=\"dataframe\">\n",
       "  <thead>\n",
       "    <tr style=\"text-align: right;\">\n",
       "      <th></th>\n",
       "      <th>BeerLovers</th>\n",
       "      <th>WineLovers</th>\n",
       "      <th>Total</th>\n",
       "    </tr>\n",
       "  </thead>\n",
       "  <tbody>\n",
       "    <tr>\n",
       "      <th>BE</th>\n",
       "      <td>0.846154</td>\n",
       "      <td>0.153846</td>\n",
       "      <td>1</td>\n",
       "    </tr>\n",
       "    <tr>\n",
       "      <th>FR</th>\n",
       "      <td>0.333333</td>\n",
       "      <td>0.666667</td>\n",
       "      <td>1</td>\n",
       "    </tr>\n",
       "    <tr>\n",
       "      <th>Total</th>\n",
       "      <td>0.636364</td>\n",
       "      <td>0.363636</td>\n",
       "      <td>1</td>\n",
       "    </tr>\n",
       "  </tbody>\n",
       "</table>\n",
       "</div>"
      ],
      "text/plain": [
       "       BeerLovers  WineLovers  Total\n",
       "BE       0.846154    0.153846      1\n",
       "FR       0.333333    0.666667      1\n",
       "Total    0.636364    0.363636      1"
      ]
     },
     "execution_count": 59,
     "metadata": {},
     "output_type": "execute_result"
    }
   ],
   "source": [
    "df2.div(df2.Total, axis=0)"
   ]
  },
  {
   "cell_type": "markdown",
   "metadata": {},
   "source": [
    "You can apply NumPy functions element by element to a DataFrame:"
   ]
  },
  {
   "cell_type": "code",
   "execution_count": 60,
   "metadata": {
    "collapsed": false
   },
   "outputs": [
    {
     "data": {
      "text/html": [
       "<div>\n",
       "<table border=\"1\" class=\"dataframe\">\n",
       "  <thead>\n",
       "    <tr style=\"text-align: right;\">\n",
       "      <th></th>\n",
       "      <th>a</th>\n",
       "      <th>b</th>\n",
       "      <th>c</th>\n",
       "      <th>d</th>\n",
       "    </tr>\n",
       "  </thead>\n",
       "  <tbody>\n",
       "    <tr>\n",
       "      <th>0</th>\n",
       "      <td>0.260945</td>\n",
       "      <td>0.644361</td>\n",
       "      <td>0.554564</td>\n",
       "      <td>0.632985</td>\n",
       "    </tr>\n",
       "    <tr>\n",
       "      <th>1</th>\n",
       "      <td>0.383714</td>\n",
       "      <td>0.674574</td>\n",
       "      <td>0.756515</td>\n",
       "      <td>0.595260</td>\n",
       "    </tr>\n",
       "    <tr>\n",
       "      <th>2</th>\n",
       "      <td>0.416512</td>\n",
       "      <td>0.526751</td>\n",
       "      <td>0.380712</td>\n",
       "      <td>0.967233</td>\n",
       "    </tr>\n",
       "  </tbody>\n",
       "</table>\n",
       "</div>"
      ],
      "text/plain": [
       "          a         b         c         d\n",
       "0  0.260945  0.644361  0.554564  0.632985\n",
       "1  0.383714  0.674574  0.756515  0.595260\n",
       "2  0.416512  0.526751  0.380712  0.967233"
      ]
     },
     "execution_count": 60,
     "metadata": {},
     "output_type": "execute_result"
    }
   ],
   "source": [
    "df = DataFrame(np.random.rand(3,4), columns=['a','b','c','d'])\n",
    "df"
   ]
  },
  {
   "cell_type": "code",
   "execution_count": 61,
   "metadata": {
    "collapsed": false
   },
   "outputs": [
    {
     "data": {
      "text/html": [
       "<div>\n",
       "<table border=\"1\" class=\"dataframe\">\n",
       "  <thead>\n",
       "    <tr style=\"text-align: right;\">\n",
       "      <th></th>\n",
       "      <th>a</th>\n",
       "      <th>b</th>\n",
       "      <th>c</th>\n",
       "      <th>d</th>\n",
       "    </tr>\n",
       "  </thead>\n",
       "  <tbody>\n",
       "    <tr>\n",
       "      <th>0</th>\n",
       "      <td>1.298156</td>\n",
       "      <td>1.904770</td>\n",
       "      <td>1.741181</td>\n",
       "      <td>1.883224</td>\n",
       "    </tr>\n",
       "    <tr>\n",
       "      <th>1</th>\n",
       "      <td>1.467726</td>\n",
       "      <td>1.963197</td>\n",
       "      <td>2.130836</td>\n",
       "      <td>1.813502</td>\n",
       "    </tr>\n",
       "    <tr>\n",
       "      <th>2</th>\n",
       "      <td>1.516663</td>\n",
       "      <td>1.693421</td>\n",
       "      <td>1.463326</td>\n",
       "      <td>2.630655</td>\n",
       "    </tr>\n",
       "  </tbody>\n",
       "</table>\n",
       "</div>"
      ],
      "text/plain": [
       "          a         b         c         d\n",
       "0  1.298156  1.904770  1.741181  1.883224\n",
       "1  1.467726  1.963197  2.130836  1.813502\n",
       "2  1.516663  1.693421  1.463326  2.630655"
      ]
     },
     "execution_count": 61,
     "metadata": {},
     "output_type": "execute_result"
    }
   ],
   "source": [
    "np.exp(df)"
   ]
  },
  {
   "cell_type": "markdown",
   "metadata": {},
   "source": [
    "Or you can apply a function to each row or column:"
   ]
  },
  {
   "cell_type": "code",
   "execution_count": 62,
   "metadata": {
    "collapsed": false
   },
   "outputs": [],
   "source": [
    "def dynamic_range(xs):\n",
    "    return xs.max() - xs.min()"
   ]
  },
  {
   "cell_type": "code",
   "execution_count": 63,
   "metadata": {
    "collapsed": false
   },
   "outputs": [
    {
     "data": {
      "text/plain": [
       "a    0.155568\n",
       "b    0.147823\n",
       "c    0.375802\n",
       "d    0.371973\n",
       "dtype: float64"
      ]
     },
     "execution_count": 63,
     "metadata": {},
     "output_type": "execute_result"
    }
   ],
   "source": [
    "df.apply(dynamic_range)  # Apply it to a column"
   ]
  },
  {
   "cell_type": "code",
   "execution_count": 64,
   "metadata": {
    "collapsed": false
   },
   "outputs": [
    {
     "data": {
      "text/plain": [
       "0    0.383417\n",
       "1    0.372800\n",
       "2    0.586521\n",
       "dtype: float64"
      ]
     },
     "execution_count": 64,
     "metadata": {},
     "output_type": "execute_result"
    }
   ],
   "source": [
    "df.apply(dynamic_range, axis=1) # Apply it to each row"
   ]
  },
  {
   "cell_type": "markdown",
   "metadata": {},
   "source": [
    "Instead of collapsing the DataFrame to a Series, the applied function can itself return a Series:"
   ]
  },
  {
   "cell_type": "code",
   "execution_count": 65,
   "metadata": {
    "collapsed": true
   },
   "outputs": [],
   "source": [
    "def dynamic_range_2(xs):\n",
    "    return Series([xs.max(), xs.min()], index=['min', 'max'])"
   ]
  },
  {
   "cell_type": "code",
   "execution_count": 66,
   "metadata": {
    "collapsed": false
   },
   "outputs": [
    {
     "data": {
      "text/html": [
       "<div>\n",
       "<table border=\"1\" class=\"dataframe\">\n",
       "  <thead>\n",
       "    <tr style=\"text-align: right;\">\n",
       "      <th></th>\n",
       "      <th>a</th>\n",
       "      <th>b</th>\n",
       "      <th>c</th>\n",
       "      <th>d</th>\n",
       "    </tr>\n",
       "  </thead>\n",
       "  <tbody>\n",
       "    <tr>\n",
       "      <th>0</th>\n",
       "      <td>0.260945</td>\n",
       "      <td>0.644361</td>\n",
       "      <td>0.554564</td>\n",
       "      <td>0.632985</td>\n",
       "    </tr>\n",
       "    <tr>\n",
       "      <th>1</th>\n",
       "      <td>0.383714</td>\n",
       "      <td>0.674574</td>\n",
       "      <td>0.756515</td>\n",
       "      <td>0.595260</td>\n",
       "    </tr>\n",
       "    <tr>\n",
       "      <th>2</th>\n",
       "      <td>0.416512</td>\n",
       "      <td>0.526751</td>\n",
       "      <td>0.380712</td>\n",
       "      <td>0.967233</td>\n",
       "    </tr>\n",
       "  </tbody>\n",
       "</table>\n",
       "</div>"
      ],
      "text/plain": [
       "          a         b         c         d\n",
       "0  0.260945  0.644361  0.554564  0.632985\n",
       "1  0.383714  0.674574  0.756515  0.595260\n",
       "2  0.416512  0.526751  0.380712  0.967233"
      ]
     },
     "execution_count": 66,
     "metadata": {},
     "output_type": "execute_result"
    }
   ],
   "source": [
    "df"
   ]
  },
  {
   "cell_type": "code",
   "execution_count": 67,
   "metadata": {
    "collapsed": false
   },
   "outputs": [
    {
     "data": {
      "text/html": [
       "<div>\n",
       "<table border=\"1\" class=\"dataframe\">\n",
       "  <thead>\n",
       "    <tr style=\"text-align: right;\">\n",
       "      <th></th>\n",
       "      <th>a</th>\n",
       "      <th>b</th>\n",
       "      <th>c</th>\n",
       "      <th>d</th>\n",
       "    </tr>\n",
       "  </thead>\n",
       "  <tbody>\n",
       "    <tr>\n",
       "      <th>min</th>\n",
       "      <td>0.416512</td>\n",
       "      <td>0.674574</td>\n",
       "      <td>0.756515</td>\n",
       "      <td>0.967233</td>\n",
       "    </tr>\n",
       "    <tr>\n",
       "      <th>max</th>\n",
       "      <td>0.260945</td>\n",
       "      <td>0.526751</td>\n",
       "      <td>0.380712</td>\n",
       "      <td>0.595260</td>\n",
       "    </tr>\n",
       "  </tbody>\n",
       "</table>\n",
       "</div>"
      ],
      "text/plain": [
       "            a         b         c         d\n",
       "min  0.416512  0.674574  0.756515  0.967233\n",
       "max  0.260945  0.526751  0.380712  0.595260"
      ]
     },
     "execution_count": 67,
     "metadata": {},
     "output_type": "execute_result"
    }
   ],
   "source": [
    "df.apply(dynamic_range_2)"
   ]
  },
  {
   "cell_type": "code",
   "execution_count": 68,
   "metadata": {
    "collapsed": false
   },
   "outputs": [
    {
     "data": {
      "text/html": [
       "<div>\n",
       "<table border=\"1\" class=\"dataframe\">\n",
       "  <thead>\n",
       "    <tr style=\"text-align: right;\">\n",
       "      <th></th>\n",
       "      <th>min</th>\n",
       "      <th>max</th>\n",
       "    </tr>\n",
       "  </thead>\n",
       "  <tbody>\n",
       "    <tr>\n",
       "      <th>0</th>\n",
       "      <td>0.644361</td>\n",
       "      <td>0.260945</td>\n",
       "    </tr>\n",
       "    <tr>\n",
       "      <th>1</th>\n",
       "      <td>0.756515</td>\n",
       "      <td>0.383714</td>\n",
       "    </tr>\n",
       "    <tr>\n",
       "      <th>2</th>\n",
       "      <td>0.967233</td>\n",
       "      <td>0.380712</td>\n",
       "    </tr>\n",
       "  </tbody>\n",
       "</table>\n",
       "</div>"
      ],
      "text/plain": [
       "        min       max\n",
       "0  0.644361  0.260945\n",
       "1  0.756515  0.383714\n",
       "2  0.967233  0.380712"
      ]
     },
     "execution_count": 68,
     "metadata": {},
     "output_type": "execute_result"
    }
   ],
   "source": [
    "df.apply(dynamic_range_2, axis=1)"
   ]
  },
  {
   "cell_type": "markdown",
   "metadata": {},
   "source": [
    "There are a couple of predefined functions that are useful:"
   ]
  },
  {
   "cell_type": "code",
   "execution_count": 69,
   "metadata": {
    "collapsed": false
   },
   "outputs": [
    {
     "data": {
      "text/html": [
       "<div>\n",
       "<table border=\"1\" class=\"dataframe\">\n",
       "  <thead>\n",
       "    <tr style=\"text-align: right;\">\n",
       "      <th></th>\n",
       "      <th>a</th>\n",
       "      <th>b</th>\n",
       "      <th>c</th>\n",
       "      <th>d</th>\n",
       "    </tr>\n",
       "  </thead>\n",
       "  <tbody>\n",
       "    <tr>\n",
       "      <th>0</th>\n",
       "      <td>0.260945</td>\n",
       "      <td>0.644361</td>\n",
       "      <td>0.554564</td>\n",
       "      <td>0.632985</td>\n",
       "    </tr>\n",
       "    <tr>\n",
       "      <th>1</th>\n",
       "      <td>0.383714</td>\n",
       "      <td>0.674574</td>\n",
       "      <td>0.756515</td>\n",
       "      <td>0.595260</td>\n",
       "    </tr>\n",
       "    <tr>\n",
       "      <th>2</th>\n",
       "      <td>0.416512</td>\n",
       "      <td>0.526751</td>\n",
       "      <td>0.380712</td>\n",
       "      <td>0.967233</td>\n",
       "    </tr>\n",
       "  </tbody>\n",
       "</table>\n",
       "</div>"
      ],
      "text/plain": [
       "          a         b         c         d\n",
       "0  0.260945  0.644361  0.554564  0.632985\n",
       "1  0.383714  0.674574  0.756515  0.595260\n",
       "2  0.416512  0.526751  0.380712  0.967233"
      ]
     },
     "execution_count": 69,
     "metadata": {},
     "output_type": "execute_result"
    }
   ],
   "source": [
    "df"
   ]
  },
  {
   "cell_type": "code",
   "execution_count": 70,
   "metadata": {
    "collapsed": false
   },
   "outputs": [
    {
     "data": {
      "text/plain": [
       "a    1.061171\n",
       "b    1.845687\n",
       "c    1.691791\n",
       "d    2.195478\n",
       "dtype: float64"
      ]
     },
     "execution_count": 70,
     "metadata": {},
     "output_type": "execute_result"
    }
   ],
   "source": [
    "df.sum()"
   ]
  },
  {
   "cell_type": "code",
   "execution_count": 71,
   "metadata": {
    "collapsed": false
   },
   "outputs": [
    {
     "data": {
      "text/plain": [
       "0    2.092856\n",
       "1    2.410063\n",
       "2    2.291208\n",
       "dtype: float64"
      ]
     },
     "execution_count": 71,
     "metadata": {},
     "output_type": "execute_result"
    }
   ],
   "source": [
    "df.sum(axis=1)"
   ]
  },
  {
   "cell_type": "code",
   "execution_count": 72,
   "metadata": {
    "collapsed": false
   },
   "outputs": [
    {
     "data": {
      "text/html": [
       "<div>\n",
       "<table border=\"1\" class=\"dataframe\">\n",
       "  <thead>\n",
       "    <tr style=\"text-align: right;\">\n",
       "      <th></th>\n",
       "      <th>a</th>\n",
       "      <th>b</th>\n",
       "      <th>c</th>\n",
       "      <th>d</th>\n",
       "    </tr>\n",
       "  </thead>\n",
       "  <tbody>\n",
       "    <tr>\n",
       "      <th>0</th>\n",
       "      <td>0.260945</td>\n",
       "      <td>0.644361</td>\n",
       "      <td>0.554564</td>\n",
       "      <td>0.632985</td>\n",
       "    </tr>\n",
       "    <tr>\n",
       "      <th>1</th>\n",
       "      <td>0.383714</td>\n",
       "      <td>0.674574</td>\n",
       "      <td>0.756515</td>\n",
       "      <td>0.595260</td>\n",
       "    </tr>\n",
       "    <tr>\n",
       "      <th>2</th>\n",
       "      <td>0.416512</td>\n",
       "      <td>0.526751</td>\n",
       "      <td>0.380712</td>\n",
       "      <td>0.967233</td>\n",
       "    </tr>\n",
       "  </tbody>\n",
       "</table>\n",
       "</div>"
      ],
      "text/plain": [
       "          a         b         c         d\n",
       "0  0.260945  0.644361  0.554564  0.632985\n",
       "1  0.383714  0.674574  0.756515  0.595260\n",
       "2  0.416512  0.526751  0.380712  0.967233"
      ]
     },
     "execution_count": 72,
     "metadata": {},
     "output_type": "execute_result"
    }
   ],
   "source": [
    "df"
   ]
  },
  {
   "cell_type": "code",
   "execution_count": 73,
   "metadata": {
    "collapsed": false
   },
   "outputs": [
    {
     "data": {
      "text/plain": [
       "a    0.353724\n",
       "b    0.615229\n",
       "c    0.563930\n",
       "d    0.731826\n",
       "dtype: float64"
      ]
     },
     "execution_count": 73,
     "metadata": {},
     "output_type": "execute_result"
    }
   ],
   "source": [
    "df.mean()"
   ]
  },
  {
   "cell_type": "code",
   "execution_count": 74,
   "metadata": {
    "collapsed": false
   },
   "outputs": [
    {
     "data": {
      "text/html": [
       "<div>\n",
       "<table border=\"1\" class=\"dataframe\">\n",
       "  <thead>\n",
       "    <tr style=\"text-align: right;\">\n",
       "      <th></th>\n",
       "      <th>a</th>\n",
       "      <th>b</th>\n",
       "      <th>c</th>\n",
       "      <th>d</th>\n",
       "    </tr>\n",
       "  </thead>\n",
       "  <tbody>\n",
       "    <tr>\n",
       "      <th>0</th>\n",
       "      <td>0.260945</td>\n",
       "      <td>0.644361</td>\n",
       "      <td>0.554564</td>\n",
       "      <td>0.632985</td>\n",
       "    </tr>\n",
       "    <tr>\n",
       "      <th>1</th>\n",
       "      <td>0.644659</td>\n",
       "      <td>1.318936</td>\n",
       "      <td>1.311078</td>\n",
       "      <td>1.228245</td>\n",
       "    </tr>\n",
       "    <tr>\n",
       "      <th>2</th>\n",
       "      <td>1.061171</td>\n",
       "      <td>1.845687</td>\n",
       "      <td>1.691791</td>\n",
       "      <td>2.195478</td>\n",
       "    </tr>\n",
       "  </tbody>\n",
       "</table>\n",
       "</div>"
      ],
      "text/plain": [
       "          a         b         c         d\n",
       "0  0.260945  0.644361  0.554564  0.632985\n",
       "1  0.644659  1.318936  1.311078  1.228245\n",
       "2  1.061171  1.845687  1.691791  2.195478"
      ]
     },
     "execution_count": 74,
     "metadata": {},
     "output_type": "execute_result"
    }
   ],
   "source": [
    "df.cumsum()"
   ]
  },
  {
   "cell_type": "markdown",
   "metadata": {},
   "source": [
    "A particularly useful method for exploring data is `describe`:"
   ]
  },
  {
   "cell_type": "code",
   "execution_count": 75,
   "metadata": {
    "collapsed": false
   },
   "outputs": [
    {
     "data": {
      "text/html": [
       "<div>\n",
       "<table border=\"1\" class=\"dataframe\">\n",
       "  <thead>\n",
       "    <tr style=\"text-align: right;\">\n",
       "      <th></th>\n",
       "      <th>a</th>\n",
       "      <th>b</th>\n",
       "      <th>c</th>\n",
       "      <th>d</th>\n",
       "    </tr>\n",
       "  </thead>\n",
       "  <tbody>\n",
       "    <tr>\n",
       "      <th>count</th>\n",
       "      <td>3.000000</td>\n",
       "      <td>3.000000</td>\n",
       "      <td>3.000000</td>\n",
       "      <td>3.000000</td>\n",
       "    </tr>\n",
       "    <tr>\n",
       "      <th>mean</th>\n",
       "      <td>0.353724</td>\n",
       "      <td>0.615229</td>\n",
       "      <td>0.563930</td>\n",
       "      <td>0.731826</td>\n",
       "    </tr>\n",
       "    <tr>\n",
       "      <th>std</th>\n",
       "      <td>0.082005</td>\n",
       "      <td>0.078099</td>\n",
       "      <td>0.188076</td>\n",
       "      <td>0.204739</td>\n",
       "    </tr>\n",
       "    <tr>\n",
       "      <th>min</th>\n",
       "      <td>0.260945</td>\n",
       "      <td>0.526751</td>\n",
       "      <td>0.380712</td>\n",
       "      <td>0.595260</td>\n",
       "    </tr>\n",
       "    <tr>\n",
       "      <th>25%</th>\n",
       "      <td>0.322329</td>\n",
       "      <td>0.585556</td>\n",
       "      <td>0.467638</td>\n",
       "      <td>0.614123</td>\n",
       "    </tr>\n",
       "    <tr>\n",
       "      <th>50%</th>\n",
       "      <td>0.383714</td>\n",
       "      <td>0.644361</td>\n",
       "      <td>0.554564</td>\n",
       "      <td>0.632985</td>\n",
       "    </tr>\n",
       "    <tr>\n",
       "      <th>75%</th>\n",
       "      <td>0.400113</td>\n",
       "      <td>0.659468</td>\n",
       "      <td>0.655539</td>\n",
       "      <td>0.800109</td>\n",
       "    </tr>\n",
       "    <tr>\n",
       "      <th>max</th>\n",
       "      <td>0.416512</td>\n",
       "      <td>0.674574</td>\n",
       "      <td>0.756515</td>\n",
       "      <td>0.967233</td>\n",
       "    </tr>\n",
       "  </tbody>\n",
       "</table>\n",
       "</div>"
      ],
      "text/plain": [
       "              a         b         c         d\n",
       "count  3.000000  3.000000  3.000000  3.000000\n",
       "mean   0.353724  0.615229  0.563930  0.731826\n",
       "std    0.082005  0.078099  0.188076  0.204739\n",
       "min    0.260945  0.526751  0.380712  0.595260\n",
       "25%    0.322329  0.585556  0.467638  0.614123\n",
       "50%    0.383714  0.644361  0.554564  0.632985\n",
       "75%    0.400113  0.659468  0.655539  0.800109\n",
       "max    0.416512  0.674574  0.756515  0.967233"
      ]
     },
     "execution_count": 75,
     "metadata": {},
     "output_type": "execute_result"
    }
   ],
   "source": [
    "df.describe()"
   ]
  },
  {
   "cell_type": "markdown",
   "metadata": {},
   "source": [
    "On non-numeric data, `describe` yields different results:"
   ]
  },
  {
   "cell_type": "code",
   "execution_count": 76,
   "metadata": {
    "collapsed": false
   },
   "outputs": [
    {
     "data": {
      "text/plain": [
       "['a', 'b', 'a', 'b', 'a', 'b']"
      ]
     },
     "execution_count": 76,
     "metadata": {},
     "output_type": "execute_result"
    }
   ],
   "source": [
    "['a', 'b'] * 3"
   ]
  },
  {
   "cell_type": "code",
   "execution_count": 77,
   "metadata": {
    "collapsed": false
   },
   "outputs": [
    {
     "data": {
      "text/plain": [
       "count     16\n",
       "unique     3\n",
       "top        a\n",
       "freq       8\n",
       "dtype: object"
      ]
     },
     "execution_count": 77,
     "metadata": {},
     "output_type": "execute_result"
    }
   ],
   "source": [
    "obj = Series(['a', 'a', 'b', 'c'] * 4)\n",
    "obj.describe()"
   ]
  },
  {
   "cell_type": "markdown",
   "metadata": {},
   "source": [
    "One final topic we'll touch on is how to read and write CSV files.  CSV files (or also TSV files) are the most common way of getting large amounts of data into and out of Pandas."
   ]
  },
  {
   "cell_type": "markdown",
   "metadata": {},
   "source": [
    "Let's create a CSV file in the current directory:"
   ]
  },
  {
   "cell_type": "code",
   "execution_count": 78,
   "metadata": {
    "collapsed": true
   },
   "outputs": [],
   "source": [
    "# We haven't discussed Python's functions for reading and writing\n",
    "# text in files, but I hope these are self-explanatory\n",
    "f = open('mysample.csv', 'w')\n",
    "f.write(\n",
    "\"\"\"Year,Belgium,Netherlands\n",
    "1913,4220,4049\n",
    "1950,5462,5996\n",
    "2003,21205,21480\n",
    "\"\"\")\n",
    "f.close()"
   ]
  },
  {
   "cell_type": "markdown",
   "metadata": {},
   "source": [
    "With the file in place, here's how we can read it into a DataFrame:"
   ]
  },
  {
   "cell_type": "code",
   "execution_count": 79,
   "metadata": {
    "collapsed": false
   },
   "outputs": [
    {
     "data": {
      "text/html": [
       "<div>\n",
       "<table border=\"1\" class=\"dataframe\">\n",
       "  <thead>\n",
       "    <tr style=\"text-align: right;\">\n",
       "      <th></th>\n",
       "      <th>Year</th>\n",
       "      <th>Belgium</th>\n",
       "      <th>Netherlands</th>\n",
       "    </tr>\n",
       "  </thead>\n",
       "  <tbody>\n",
       "    <tr>\n",
       "      <th>0</th>\n",
       "      <td>1913</td>\n",
       "      <td>4220</td>\n",
       "      <td>4049</td>\n",
       "    </tr>\n",
       "    <tr>\n",
       "      <th>1</th>\n",
       "      <td>1950</td>\n",
       "      <td>5462</td>\n",
       "      <td>5996</td>\n",
       "    </tr>\n",
       "    <tr>\n",
       "      <th>2</th>\n",
       "      <td>2003</td>\n",
       "      <td>21205</td>\n",
       "      <td>21480</td>\n",
       "    </tr>\n",
       "  </tbody>\n",
       "</table>\n",
       "</div>"
      ],
      "text/plain": [
       "   Year  Belgium  Netherlands\n",
       "0  1913     4220         4049\n",
       "1  1950     5462         5996\n",
       "2  2003    21205        21480"
      ]
     },
     "execution_count": 79,
     "metadata": {},
     "output_type": "execute_result"
    }
   ],
   "source": [
    "df = pd.read_csv('mysample.csv')\n",
    "df"
   ]
  },
  {
   "cell_type": "markdown",
   "metadata": {},
   "source": [
    "If you show the help for `read_csv`, you'll see it has a *ton* of options.  With the right options, you can read almost any CSV file out there into the exact DataFrame of your dreams.."
   ]
  },
  {
   "cell_type": "markdown",
   "metadata": {},
   "source": [
    "Now let's save the data to a csv:"
   ]
  },
  {
   "cell_type": "code",
   "execution_count": 80,
   "metadata": {
    "collapsed": true
   },
   "outputs": [],
   "source": [
    "df.to_csv('mysample2.csv')"
   ]
  },
  {
   "cell_type": "code",
   "execution_count": 81,
   "metadata": {
    "collapsed": false
   },
   "outputs": [
    {
     "name": "stdout",
     "output_type": "stream",
     "text": [
      ",Year,Belgium,Netherlands\n",
      "0,1913,4220,4049\n",
      "1,1950,5462,5996\n",
      "2,2003,21205,21480\n"
     ]
    }
   ],
   "source": [
    "# Read out file and print it\n",
    "for line in open('mysample2.csv', 'r'):\n",
    "    print line.strip()"
   ]
  },
  {
   "cell_type": "markdown",
   "metadata": {},
   "source": [
    "---"
   ]
  },
  {
   "cell_type": "markdown",
   "metadata": {},
   "source": [
    "#### Extended demo"
   ]
  },
  {
   "cell_type": "markdown",
   "metadata": {},
   "source": [
    "This demo closely follows the extended example in Wes McKinney's book that traces US baby names through the years.  We'll introduce lots of functionality \"by osmosis\".  The goal is that you can get an idea of what kinds of higher-order manipulations there exist in Pandas."
   ]
  },
  {
   "cell_type": "markdown",
   "metadata": {},
   "source": [
    "In the US, the equivalent to an ID number in the National Registry is called a _Social Security Number_.  Everyone is assigned one of these at birth (or immigration).  As a result, the Social Security Administration has a detailed record of the names of everyone born in the US over the last century:\n",
    "\n",
    "http://www.ssa.gov/oact/babynames/limits.html"
   ]
  },
  {
   "cell_type": "markdown",
   "metadata": {},
   "source": [
    "**Ex 1.4.6 Go to the website above and download the \"National Data\" set.  Extract the files into a folder \"names\" next to your IPython Notebook**"
   ]
  },
  {
   "cell_type": "markdown",
   "metadata": {},
   "source": [
    "The names data set is provided as one CSV file per year.  Let's look at one of these files:"
   ]
  },
  {
   "cell_type": "code",
   "execution_count": 82,
   "metadata": {
    "collapsed": false
   },
   "outputs": [
    {
     "name": "stdout",
     "output_type": "stream",
     "text": [
      "Emma,F,20799\n",
      "Olivia,F,19674\n",
      "Sophia,F,18490\n",
      "Isabella,F,16950\n",
      "Ava,F,15586\n",
      "Mia,F,13442\n",
      "Emily,F,12562\n",
      "Abigail,F,11985\n",
      "Madison,F,10247\n",
      "Charlotte,F,10048\n"
     ]
    }
   ],
   "source": [
    "for line in open('names/yob2014.txt', 'r').readlines()[:10]:\n",
    "    print line.strip()"
   ]
  },
  {
   "cell_type": "markdown",
   "metadata": {},
   "source": [
    "OK, so the format is \"name\", \"sex\" and \"count\".  Let's read one of the files into a DataFrame:"
   ]
  },
  {
   "cell_type": "code",
   "execution_count": 83,
   "metadata": {
    "collapsed": true
   },
   "outputs": [],
   "source": [
    "names1880 = pd.read_csv('names/yob1880.txt',\n",
    "                        names=['name', 'sex', 'births'])"
   ]
  },
  {
   "cell_type": "code",
   "execution_count": 84,
   "metadata": {
    "collapsed": false
   },
   "outputs": [
    {
     "data": {
      "text/html": [
       "<div>\n",
       "<table border=\"1\" class=\"dataframe\">\n",
       "  <thead>\n",
       "    <tr style=\"text-align: right;\">\n",
       "      <th></th>\n",
       "      <th>name</th>\n",
       "      <th>sex</th>\n",
       "      <th>births</th>\n",
       "    </tr>\n",
       "  </thead>\n",
       "  <tbody>\n",
       "    <tr>\n",
       "      <th>0</th>\n",
       "      <td>Mary</td>\n",
       "      <td>F</td>\n",
       "      <td>7065</td>\n",
       "    </tr>\n",
       "    <tr>\n",
       "      <th>1</th>\n",
       "      <td>Anna</td>\n",
       "      <td>F</td>\n",
       "      <td>2604</td>\n",
       "    </tr>\n",
       "    <tr>\n",
       "      <th>2</th>\n",
       "      <td>Emma</td>\n",
       "      <td>F</td>\n",
       "      <td>2003</td>\n",
       "    </tr>\n",
       "    <tr>\n",
       "      <th>3</th>\n",
       "      <td>Elizabeth</td>\n",
       "      <td>F</td>\n",
       "      <td>1939</td>\n",
       "    </tr>\n",
       "    <tr>\n",
       "      <th>4</th>\n",
       "      <td>Minnie</td>\n",
       "      <td>F</td>\n",
       "      <td>1746</td>\n",
       "    </tr>\n",
       "    <tr>\n",
       "      <th>5</th>\n",
       "      <td>Margaret</td>\n",
       "      <td>F</td>\n",
       "      <td>1578</td>\n",
       "    </tr>\n",
       "    <tr>\n",
       "      <th>6</th>\n",
       "      <td>Ida</td>\n",
       "      <td>F</td>\n",
       "      <td>1472</td>\n",
       "    </tr>\n",
       "    <tr>\n",
       "      <th>7</th>\n",
       "      <td>Alice</td>\n",
       "      <td>F</td>\n",
       "      <td>1414</td>\n",
       "    </tr>\n",
       "    <tr>\n",
       "      <th>8</th>\n",
       "      <td>Bertha</td>\n",
       "      <td>F</td>\n",
       "      <td>1320</td>\n",
       "    </tr>\n",
       "    <tr>\n",
       "      <th>9</th>\n",
       "      <td>Sarah</td>\n",
       "      <td>F</td>\n",
       "      <td>1288</td>\n",
       "    </tr>\n",
       "    <tr>\n",
       "      <th>10</th>\n",
       "      <td>Annie</td>\n",
       "      <td>F</td>\n",
       "      <td>1258</td>\n",
       "    </tr>\n",
       "    <tr>\n",
       "      <th>11</th>\n",
       "      <td>Clara</td>\n",
       "      <td>F</td>\n",
       "      <td>1226</td>\n",
       "    </tr>\n",
       "    <tr>\n",
       "      <th>12</th>\n",
       "      <td>Ella</td>\n",
       "      <td>F</td>\n",
       "      <td>1156</td>\n",
       "    </tr>\n",
       "    <tr>\n",
       "      <th>13</th>\n",
       "      <td>Florence</td>\n",
       "      <td>F</td>\n",
       "      <td>1063</td>\n",
       "    </tr>\n",
       "    <tr>\n",
       "      <th>14</th>\n",
       "      <td>Cora</td>\n",
       "      <td>F</td>\n",
       "      <td>1045</td>\n",
       "    </tr>\n",
       "    <tr>\n",
       "      <th>15</th>\n",
       "      <td>Martha</td>\n",
       "      <td>F</td>\n",
       "      <td>1040</td>\n",
       "    </tr>\n",
       "    <tr>\n",
       "      <th>16</th>\n",
       "      <td>Laura</td>\n",
       "      <td>F</td>\n",
       "      <td>1012</td>\n",
       "    </tr>\n",
       "    <tr>\n",
       "      <th>17</th>\n",
       "      <td>Nellie</td>\n",
       "      <td>F</td>\n",
       "      <td>995</td>\n",
       "    </tr>\n",
       "    <tr>\n",
       "      <th>18</th>\n",
       "      <td>Grace</td>\n",
       "      <td>F</td>\n",
       "      <td>982</td>\n",
       "    </tr>\n",
       "    <tr>\n",
       "      <th>19</th>\n",
       "      <td>Carrie</td>\n",
       "      <td>F</td>\n",
       "      <td>949</td>\n",
       "    </tr>\n",
       "    <tr>\n",
       "      <th>20</th>\n",
       "      <td>Maude</td>\n",
       "      <td>F</td>\n",
       "      <td>858</td>\n",
       "    </tr>\n",
       "    <tr>\n",
       "      <th>21</th>\n",
       "      <td>Mabel</td>\n",
       "      <td>F</td>\n",
       "      <td>808</td>\n",
       "    </tr>\n",
       "    <tr>\n",
       "      <th>22</th>\n",
       "      <td>Bessie</td>\n",
       "      <td>F</td>\n",
       "      <td>796</td>\n",
       "    </tr>\n",
       "    <tr>\n",
       "      <th>23</th>\n",
       "      <td>Jennie</td>\n",
       "      <td>F</td>\n",
       "      <td>793</td>\n",
       "    </tr>\n",
       "    <tr>\n",
       "      <th>24</th>\n",
       "      <td>Gertrude</td>\n",
       "      <td>F</td>\n",
       "      <td>787</td>\n",
       "    </tr>\n",
       "    <tr>\n",
       "      <th>25</th>\n",
       "      <td>Julia</td>\n",
       "      <td>F</td>\n",
       "      <td>783</td>\n",
       "    </tr>\n",
       "    <tr>\n",
       "      <th>26</th>\n",
       "      <td>Hattie</td>\n",
       "      <td>F</td>\n",
       "      <td>769</td>\n",
       "    </tr>\n",
       "    <tr>\n",
       "      <th>27</th>\n",
       "      <td>Edith</td>\n",
       "      <td>F</td>\n",
       "      <td>768</td>\n",
       "    </tr>\n",
       "    <tr>\n",
       "      <th>28</th>\n",
       "      <td>Mattie</td>\n",
       "      <td>F</td>\n",
       "      <td>704</td>\n",
       "    </tr>\n",
       "    <tr>\n",
       "      <th>29</th>\n",
       "      <td>Rose</td>\n",
       "      <td>F</td>\n",
       "      <td>700</td>\n",
       "    </tr>\n",
       "    <tr>\n",
       "      <th>...</th>\n",
       "      <td>...</td>\n",
       "      <td>...</td>\n",
       "      <td>...</td>\n",
       "    </tr>\n",
       "    <tr>\n",
       "      <th>1970</th>\n",
       "      <td>Philo</td>\n",
       "      <td>M</td>\n",
       "      <td>5</td>\n",
       "    </tr>\n",
       "    <tr>\n",
       "      <th>1971</th>\n",
       "      <td>Phineas</td>\n",
       "      <td>M</td>\n",
       "      <td>5</td>\n",
       "    </tr>\n",
       "    <tr>\n",
       "      <th>1972</th>\n",
       "      <td>Presley</td>\n",
       "      <td>M</td>\n",
       "      <td>5</td>\n",
       "    </tr>\n",
       "    <tr>\n",
       "      <th>1973</th>\n",
       "      <td>Ransom</td>\n",
       "      <td>M</td>\n",
       "      <td>5</td>\n",
       "    </tr>\n",
       "    <tr>\n",
       "      <th>1974</th>\n",
       "      <td>Reece</td>\n",
       "      <td>M</td>\n",
       "      <td>5</td>\n",
       "    </tr>\n",
       "    <tr>\n",
       "      <th>1975</th>\n",
       "      <td>Rene</td>\n",
       "      <td>M</td>\n",
       "      <td>5</td>\n",
       "    </tr>\n",
       "    <tr>\n",
       "      <th>1976</th>\n",
       "      <td>Roswell</td>\n",
       "      <td>M</td>\n",
       "      <td>5</td>\n",
       "    </tr>\n",
       "    <tr>\n",
       "      <th>1977</th>\n",
       "      <td>Rowland</td>\n",
       "      <td>M</td>\n",
       "      <td>5</td>\n",
       "    </tr>\n",
       "    <tr>\n",
       "      <th>1978</th>\n",
       "      <td>Sampson</td>\n",
       "      <td>M</td>\n",
       "      <td>5</td>\n",
       "    </tr>\n",
       "    <tr>\n",
       "      <th>1979</th>\n",
       "      <td>Samual</td>\n",
       "      <td>M</td>\n",
       "      <td>5</td>\n",
       "    </tr>\n",
       "    <tr>\n",
       "      <th>1980</th>\n",
       "      <td>Santos</td>\n",
       "      <td>M</td>\n",
       "      <td>5</td>\n",
       "    </tr>\n",
       "    <tr>\n",
       "      <th>1981</th>\n",
       "      <td>Schuyler</td>\n",
       "      <td>M</td>\n",
       "      <td>5</td>\n",
       "    </tr>\n",
       "    <tr>\n",
       "      <th>1982</th>\n",
       "      <td>Sheppard</td>\n",
       "      <td>M</td>\n",
       "      <td>5</td>\n",
       "    </tr>\n",
       "    <tr>\n",
       "      <th>1983</th>\n",
       "      <td>Spurgeon</td>\n",
       "      <td>M</td>\n",
       "      <td>5</td>\n",
       "    </tr>\n",
       "    <tr>\n",
       "      <th>1984</th>\n",
       "      <td>Starling</td>\n",
       "      <td>M</td>\n",
       "      <td>5</td>\n",
       "    </tr>\n",
       "    <tr>\n",
       "      <th>1985</th>\n",
       "      <td>Sylvanus</td>\n",
       "      <td>M</td>\n",
       "      <td>5</td>\n",
       "    </tr>\n",
       "    <tr>\n",
       "      <th>1986</th>\n",
       "      <td>Theadore</td>\n",
       "      <td>M</td>\n",
       "      <td>5</td>\n",
       "    </tr>\n",
       "    <tr>\n",
       "      <th>1987</th>\n",
       "      <td>Theophile</td>\n",
       "      <td>M</td>\n",
       "      <td>5</td>\n",
       "    </tr>\n",
       "    <tr>\n",
       "      <th>1988</th>\n",
       "      <td>Tilmon</td>\n",
       "      <td>M</td>\n",
       "      <td>5</td>\n",
       "    </tr>\n",
       "    <tr>\n",
       "      <th>1989</th>\n",
       "      <td>Tommy</td>\n",
       "      <td>M</td>\n",
       "      <td>5</td>\n",
       "    </tr>\n",
       "    <tr>\n",
       "      <th>1990</th>\n",
       "      <td>Unknown</td>\n",
       "      <td>M</td>\n",
       "      <td>5</td>\n",
       "    </tr>\n",
       "    <tr>\n",
       "      <th>1991</th>\n",
       "      <td>Vann</td>\n",
       "      <td>M</td>\n",
       "      <td>5</td>\n",
       "    </tr>\n",
       "    <tr>\n",
       "      <th>1992</th>\n",
       "      <td>Wes</td>\n",
       "      <td>M</td>\n",
       "      <td>5</td>\n",
       "    </tr>\n",
       "    <tr>\n",
       "      <th>1993</th>\n",
       "      <td>Winston</td>\n",
       "      <td>M</td>\n",
       "      <td>5</td>\n",
       "    </tr>\n",
       "    <tr>\n",
       "      <th>1994</th>\n",
       "      <td>Wood</td>\n",
       "      <td>M</td>\n",
       "      <td>5</td>\n",
       "    </tr>\n",
       "    <tr>\n",
       "      <th>1995</th>\n",
       "      <td>Woodie</td>\n",
       "      <td>M</td>\n",
       "      <td>5</td>\n",
       "    </tr>\n",
       "    <tr>\n",
       "      <th>1996</th>\n",
       "      <td>Worthy</td>\n",
       "      <td>M</td>\n",
       "      <td>5</td>\n",
       "    </tr>\n",
       "    <tr>\n",
       "      <th>1997</th>\n",
       "      <td>Wright</td>\n",
       "      <td>M</td>\n",
       "      <td>5</td>\n",
       "    </tr>\n",
       "    <tr>\n",
       "      <th>1998</th>\n",
       "      <td>York</td>\n",
       "      <td>M</td>\n",
       "      <td>5</td>\n",
       "    </tr>\n",
       "    <tr>\n",
       "      <th>1999</th>\n",
       "      <td>Zachariah</td>\n",
       "      <td>M</td>\n",
       "      <td>5</td>\n",
       "    </tr>\n",
       "  </tbody>\n",
       "</table>\n",
       "<p>2000 rows × 3 columns</p>\n",
       "</div>"
      ],
      "text/plain": [
       "           name sex  births\n",
       "0          Mary   F    7065\n",
       "1          Anna   F    2604\n",
       "2          Emma   F    2003\n",
       "3     Elizabeth   F    1939\n",
       "4        Minnie   F    1746\n",
       "5      Margaret   F    1578\n",
       "6           Ida   F    1472\n",
       "7         Alice   F    1414\n",
       "8        Bertha   F    1320\n",
       "9         Sarah   F    1288\n",
       "10        Annie   F    1258\n",
       "11        Clara   F    1226\n",
       "12         Ella   F    1156\n",
       "13     Florence   F    1063\n",
       "14         Cora   F    1045\n",
       "15       Martha   F    1040\n",
       "16        Laura   F    1012\n",
       "17       Nellie   F     995\n",
       "18        Grace   F     982\n",
       "19       Carrie   F     949\n",
       "20        Maude   F     858\n",
       "21        Mabel   F     808\n",
       "22       Bessie   F     796\n",
       "23       Jennie   F     793\n",
       "24     Gertrude   F     787\n",
       "25        Julia   F     783\n",
       "26       Hattie   F     769\n",
       "27        Edith   F     768\n",
       "28       Mattie   F     704\n",
       "29         Rose   F     700\n",
       "...         ...  ..     ...\n",
       "1970      Philo   M       5\n",
       "1971    Phineas   M       5\n",
       "1972    Presley   M       5\n",
       "1973     Ransom   M       5\n",
       "1974      Reece   M       5\n",
       "1975       Rene   M       5\n",
       "1976    Roswell   M       5\n",
       "1977    Rowland   M       5\n",
       "1978    Sampson   M       5\n",
       "1979     Samual   M       5\n",
       "1980     Santos   M       5\n",
       "1981   Schuyler   M       5\n",
       "1982   Sheppard   M       5\n",
       "1983   Spurgeon   M       5\n",
       "1984   Starling   M       5\n",
       "1985   Sylvanus   M       5\n",
       "1986   Theadore   M       5\n",
       "1987  Theophile   M       5\n",
       "1988     Tilmon   M       5\n",
       "1989      Tommy   M       5\n",
       "1990    Unknown   M       5\n",
       "1991       Vann   M       5\n",
       "1992        Wes   M       5\n",
       "1993    Winston   M       5\n",
       "1994       Wood   M       5\n",
       "1995     Woodie   M       5\n",
       "1996     Worthy   M       5\n",
       "1997     Wright   M       5\n",
       "1998       York   M       5\n",
       "1999  Zachariah   M       5\n",
       "\n",
       "[2000 rows x 3 columns]"
      ]
     },
     "execution_count": 84,
     "metadata": {},
     "output_type": "execute_result"
    }
   ],
   "source": [
    "names1880"
   ]
  },
  {
   "cell_type": "markdown",
   "metadata": {},
   "source": [
    "Notice that IPython only shows the beginning and end of a long DataFrame."
   ]
  },
  {
   "cell_type": "markdown",
   "metadata": {},
   "source": [
    "Straight away, let's count how many men and women were born in 1880.  We'll use the `groupby` method:"
   ]
  },
  {
   "cell_type": "code",
   "execution_count": 85,
   "metadata": {
    "collapsed": false
   },
   "outputs": [
    {
     "data": {
      "text/plain": [
       "sex\n",
       "F     90993\n",
       "M    110491\n",
       "Name: births, dtype: int64"
      ]
     },
     "execution_count": 85,
     "metadata": {},
     "output_type": "execute_result"
    }
   ],
   "source": [
    "# .sum() adds up the numbers in the 'births' column\n",
    "# separately for each group\n",
    "names1880.groupby('sex').births.sum()"
   ]
  },
  {
   "cell_type": "markdown",
   "metadata": {},
   "source": [
    "**Ex 1.4.7 How many different male and female names were used in 1880?**"
   ]
  },
  {
   "cell_type": "markdown",
   "metadata": {},
   "source": [
    "We'd like to paste together all the names from all the years.  I'll do two years, then you'll do all the years as an exercise"
   ]
  },
  {
   "cell_type": "markdown",
   "metadata": {},
   "source": [
    "The trick is that we can paste two DataFrames one after another using `pd.concat`.  If we just paste the frames directly, we'll lose the information about years because that was implicit in the filenames.  But we can add it to each data frame easily:"
   ]
  },
  {
   "cell_type": "code",
   "execution_count": 86,
   "metadata": {
    "collapsed": true
   },
   "outputs": [],
   "source": [
    "names1880 = pd.read_csv('names/yob1880.txt', names=['name', 'sex', 'births'])\n",
    "names1880['year'] = 1880\n",
    "\n",
    "names1881 = pd.read_csv('names/yob1881.txt', names=['name', 'sex', 'births'])\n",
    "names1881['year'] = 1881\n",
    "\n",
    "# We use ignore_index to create a new index column, instead of \n",
    "# pasting the indices from each smaller DataFrame\n",
    "names = pd.concat([names1880, names1881], ignore_index=True)"
   ]
  },
  {
   "cell_type": "code",
   "execution_count": 87,
   "metadata": {
    "collapsed": false
   },
   "outputs": [
    {
     "data": {
      "text/html": [
       "<div>\n",
       "<table border=\"1\" class=\"dataframe\">\n",
       "  <thead>\n",
       "    <tr style=\"text-align: right;\">\n",
       "      <th></th>\n",
       "      <th>name</th>\n",
       "      <th>sex</th>\n",
       "      <th>births</th>\n",
       "      <th>year</th>\n",
       "    </tr>\n",
       "  </thead>\n",
       "  <tbody>\n",
       "    <tr>\n",
       "      <th>0</th>\n",
       "      <td>Mary</td>\n",
       "      <td>F</td>\n",
       "      <td>7065</td>\n",
       "      <td>1880</td>\n",
       "    </tr>\n",
       "    <tr>\n",
       "      <th>1</th>\n",
       "      <td>Anna</td>\n",
       "      <td>F</td>\n",
       "      <td>2604</td>\n",
       "      <td>1880</td>\n",
       "    </tr>\n",
       "    <tr>\n",
       "      <th>2</th>\n",
       "      <td>Emma</td>\n",
       "      <td>F</td>\n",
       "      <td>2003</td>\n",
       "      <td>1880</td>\n",
       "    </tr>\n",
       "    <tr>\n",
       "      <th>3</th>\n",
       "      <td>Elizabeth</td>\n",
       "      <td>F</td>\n",
       "      <td>1939</td>\n",
       "      <td>1880</td>\n",
       "    </tr>\n",
       "    <tr>\n",
       "      <th>4</th>\n",
       "      <td>Minnie</td>\n",
       "      <td>F</td>\n",
       "      <td>1746</td>\n",
       "      <td>1880</td>\n",
       "    </tr>\n",
       "    <tr>\n",
       "      <th>5</th>\n",
       "      <td>Margaret</td>\n",
       "      <td>F</td>\n",
       "      <td>1578</td>\n",
       "      <td>1880</td>\n",
       "    </tr>\n",
       "    <tr>\n",
       "      <th>6</th>\n",
       "      <td>Ida</td>\n",
       "      <td>F</td>\n",
       "      <td>1472</td>\n",
       "      <td>1880</td>\n",
       "    </tr>\n",
       "    <tr>\n",
       "      <th>7</th>\n",
       "      <td>Alice</td>\n",
       "      <td>F</td>\n",
       "      <td>1414</td>\n",
       "      <td>1880</td>\n",
       "    </tr>\n",
       "    <tr>\n",
       "      <th>8</th>\n",
       "      <td>Bertha</td>\n",
       "      <td>F</td>\n",
       "      <td>1320</td>\n",
       "      <td>1880</td>\n",
       "    </tr>\n",
       "    <tr>\n",
       "      <th>9</th>\n",
       "      <td>Sarah</td>\n",
       "      <td>F</td>\n",
       "      <td>1288</td>\n",
       "      <td>1880</td>\n",
       "    </tr>\n",
       "    <tr>\n",
       "      <th>10</th>\n",
       "      <td>Annie</td>\n",
       "      <td>F</td>\n",
       "      <td>1258</td>\n",
       "      <td>1880</td>\n",
       "    </tr>\n",
       "    <tr>\n",
       "      <th>11</th>\n",
       "      <td>Clara</td>\n",
       "      <td>F</td>\n",
       "      <td>1226</td>\n",
       "      <td>1880</td>\n",
       "    </tr>\n",
       "    <tr>\n",
       "      <th>12</th>\n",
       "      <td>Ella</td>\n",
       "      <td>F</td>\n",
       "      <td>1156</td>\n",
       "      <td>1880</td>\n",
       "    </tr>\n",
       "    <tr>\n",
       "      <th>13</th>\n",
       "      <td>Florence</td>\n",
       "      <td>F</td>\n",
       "      <td>1063</td>\n",
       "      <td>1880</td>\n",
       "    </tr>\n",
       "    <tr>\n",
       "      <th>14</th>\n",
       "      <td>Cora</td>\n",
       "      <td>F</td>\n",
       "      <td>1045</td>\n",
       "      <td>1880</td>\n",
       "    </tr>\n",
       "    <tr>\n",
       "      <th>15</th>\n",
       "      <td>Martha</td>\n",
       "      <td>F</td>\n",
       "      <td>1040</td>\n",
       "      <td>1880</td>\n",
       "    </tr>\n",
       "    <tr>\n",
       "      <th>16</th>\n",
       "      <td>Laura</td>\n",
       "      <td>F</td>\n",
       "      <td>1012</td>\n",
       "      <td>1880</td>\n",
       "    </tr>\n",
       "    <tr>\n",
       "      <th>17</th>\n",
       "      <td>Nellie</td>\n",
       "      <td>F</td>\n",
       "      <td>995</td>\n",
       "      <td>1880</td>\n",
       "    </tr>\n",
       "    <tr>\n",
       "      <th>18</th>\n",
       "      <td>Grace</td>\n",
       "      <td>F</td>\n",
       "      <td>982</td>\n",
       "      <td>1880</td>\n",
       "    </tr>\n",
       "    <tr>\n",
       "      <th>19</th>\n",
       "      <td>Carrie</td>\n",
       "      <td>F</td>\n",
       "      <td>949</td>\n",
       "      <td>1880</td>\n",
       "    </tr>\n",
       "    <tr>\n",
       "      <th>20</th>\n",
       "      <td>Maude</td>\n",
       "      <td>F</td>\n",
       "      <td>858</td>\n",
       "      <td>1880</td>\n",
       "    </tr>\n",
       "    <tr>\n",
       "      <th>21</th>\n",
       "      <td>Mabel</td>\n",
       "      <td>F</td>\n",
       "      <td>808</td>\n",
       "      <td>1880</td>\n",
       "    </tr>\n",
       "    <tr>\n",
       "      <th>22</th>\n",
       "      <td>Bessie</td>\n",
       "      <td>F</td>\n",
       "      <td>796</td>\n",
       "      <td>1880</td>\n",
       "    </tr>\n",
       "    <tr>\n",
       "      <th>23</th>\n",
       "      <td>Jennie</td>\n",
       "      <td>F</td>\n",
       "      <td>793</td>\n",
       "      <td>1880</td>\n",
       "    </tr>\n",
       "    <tr>\n",
       "      <th>24</th>\n",
       "      <td>Gertrude</td>\n",
       "      <td>F</td>\n",
       "      <td>787</td>\n",
       "      <td>1880</td>\n",
       "    </tr>\n",
       "    <tr>\n",
       "      <th>25</th>\n",
       "      <td>Julia</td>\n",
       "      <td>F</td>\n",
       "      <td>783</td>\n",
       "      <td>1880</td>\n",
       "    </tr>\n",
       "    <tr>\n",
       "      <th>26</th>\n",
       "      <td>Hattie</td>\n",
       "      <td>F</td>\n",
       "      <td>769</td>\n",
       "      <td>1880</td>\n",
       "    </tr>\n",
       "    <tr>\n",
       "      <th>27</th>\n",
       "      <td>Edith</td>\n",
       "      <td>F</td>\n",
       "      <td>768</td>\n",
       "      <td>1880</td>\n",
       "    </tr>\n",
       "    <tr>\n",
       "      <th>28</th>\n",
       "      <td>Mattie</td>\n",
       "      <td>F</td>\n",
       "      <td>704</td>\n",
       "      <td>1880</td>\n",
       "    </tr>\n",
       "    <tr>\n",
       "      <th>29</th>\n",
       "      <td>Rose</td>\n",
       "      <td>F</td>\n",
       "      <td>700</td>\n",
       "      <td>1880</td>\n",
       "    </tr>\n",
       "    <tr>\n",
       "      <th>...</th>\n",
       "      <td>...</td>\n",
       "      <td>...</td>\n",
       "      <td>...</td>\n",
       "      <td>...</td>\n",
       "    </tr>\n",
       "    <tr>\n",
       "      <th>3905</th>\n",
       "      <td>Mercer</td>\n",
       "      <td>M</td>\n",
       "      <td>5</td>\n",
       "      <td>1881</td>\n",
       "    </tr>\n",
       "    <tr>\n",
       "      <th>3906</th>\n",
       "      <td>Monte</td>\n",
       "      <td>M</td>\n",
       "      <td>5</td>\n",
       "      <td>1881</td>\n",
       "    </tr>\n",
       "    <tr>\n",
       "      <th>3907</th>\n",
       "      <td>Montgomery</td>\n",
       "      <td>M</td>\n",
       "      <td>5</td>\n",
       "      <td>1881</td>\n",
       "    </tr>\n",
       "    <tr>\n",
       "      <th>3908</th>\n",
       "      <td>Nolan</td>\n",
       "      <td>M</td>\n",
       "      <td>5</td>\n",
       "      <td>1881</td>\n",
       "    </tr>\n",
       "    <tr>\n",
       "      <th>3909</th>\n",
       "      <td>Okey</td>\n",
       "      <td>M</td>\n",
       "      <td>5</td>\n",
       "      <td>1881</td>\n",
       "    </tr>\n",
       "    <tr>\n",
       "      <th>3910</th>\n",
       "      <td>Orley</td>\n",
       "      <td>M</td>\n",
       "      <td>5</td>\n",
       "      <td>1881</td>\n",
       "    </tr>\n",
       "    <tr>\n",
       "      <th>3911</th>\n",
       "      <td>Page</td>\n",
       "      <td>M</td>\n",
       "      <td>5</td>\n",
       "      <td>1881</td>\n",
       "    </tr>\n",
       "    <tr>\n",
       "      <th>3912</th>\n",
       "      <td>Philo</td>\n",
       "      <td>M</td>\n",
       "      <td>5</td>\n",
       "      <td>1881</td>\n",
       "    </tr>\n",
       "    <tr>\n",
       "      <th>3913</th>\n",
       "      <td>Primus</td>\n",
       "      <td>M</td>\n",
       "      <td>5</td>\n",
       "      <td>1881</td>\n",
       "    </tr>\n",
       "    <tr>\n",
       "      <th>3914</th>\n",
       "      <td>Prosper</td>\n",
       "      <td>M</td>\n",
       "      <td>5</td>\n",
       "      <td>1881</td>\n",
       "    </tr>\n",
       "    <tr>\n",
       "      <th>3915</th>\n",
       "      <td>Pryor</td>\n",
       "      <td>M</td>\n",
       "      <td>5</td>\n",
       "      <td>1881</td>\n",
       "    </tr>\n",
       "    <tr>\n",
       "      <th>3916</th>\n",
       "      <td>Rene</td>\n",
       "      <td>M</td>\n",
       "      <td>5</td>\n",
       "      <td>1881</td>\n",
       "    </tr>\n",
       "    <tr>\n",
       "      <th>3917</th>\n",
       "      <td>Robin</td>\n",
       "      <td>M</td>\n",
       "      <td>5</td>\n",
       "      <td>1881</td>\n",
       "    </tr>\n",
       "    <tr>\n",
       "      <th>3918</th>\n",
       "      <td>Roll</td>\n",
       "      <td>M</td>\n",
       "      <td>5</td>\n",
       "      <td>1881</td>\n",
       "    </tr>\n",
       "    <tr>\n",
       "      <th>3919</th>\n",
       "      <td>Rolland</td>\n",
       "      <td>M</td>\n",
       "      <td>5</td>\n",
       "      <td>1881</td>\n",
       "    </tr>\n",
       "    <tr>\n",
       "      <th>3920</th>\n",
       "      <td>Seward</td>\n",
       "      <td>M</td>\n",
       "      <td>5</td>\n",
       "      <td>1881</td>\n",
       "    </tr>\n",
       "    <tr>\n",
       "      <th>3921</th>\n",
       "      <td>Shannon</td>\n",
       "      <td>M</td>\n",
       "      <td>5</td>\n",
       "      <td>1881</td>\n",
       "    </tr>\n",
       "    <tr>\n",
       "      <th>3922</th>\n",
       "      <td>Talmage</td>\n",
       "      <td>M</td>\n",
       "      <td>5</td>\n",
       "      <td>1881</td>\n",
       "    </tr>\n",
       "    <tr>\n",
       "      <th>3923</th>\n",
       "      <td>Urban</td>\n",
       "      <td>M</td>\n",
       "      <td>5</td>\n",
       "      <td>1881</td>\n",
       "    </tr>\n",
       "    <tr>\n",
       "      <th>3924</th>\n",
       "      <td>Vaughn</td>\n",
       "      <td>M</td>\n",
       "      <td>5</td>\n",
       "      <td>1881</td>\n",
       "    </tr>\n",
       "    <tr>\n",
       "      <th>3925</th>\n",
       "      <td>Verner</td>\n",
       "      <td>M</td>\n",
       "      <td>5</td>\n",
       "      <td>1881</td>\n",
       "    </tr>\n",
       "    <tr>\n",
       "      <th>3926</th>\n",
       "      <td>Waverly</td>\n",
       "      <td>M</td>\n",
       "      <td>5</td>\n",
       "      <td>1881</td>\n",
       "    </tr>\n",
       "    <tr>\n",
       "      <th>3927</th>\n",
       "      <td>Webster</td>\n",
       "      <td>M</td>\n",
       "      <td>5</td>\n",
       "      <td>1881</td>\n",
       "    </tr>\n",
       "    <tr>\n",
       "      <th>3928</th>\n",
       "      <td>Weldon</td>\n",
       "      <td>M</td>\n",
       "      <td>5</td>\n",
       "      <td>1881</td>\n",
       "    </tr>\n",
       "    <tr>\n",
       "      <th>3929</th>\n",
       "      <td>Wells</td>\n",
       "      <td>M</td>\n",
       "      <td>5</td>\n",
       "      <td>1881</td>\n",
       "    </tr>\n",
       "    <tr>\n",
       "      <th>3930</th>\n",
       "      <td>Wiliam</td>\n",
       "      <td>M</td>\n",
       "      <td>5</td>\n",
       "      <td>1881</td>\n",
       "    </tr>\n",
       "    <tr>\n",
       "      <th>3931</th>\n",
       "      <td>Wilton</td>\n",
       "      <td>M</td>\n",
       "      <td>5</td>\n",
       "      <td>1881</td>\n",
       "    </tr>\n",
       "    <tr>\n",
       "      <th>3932</th>\n",
       "      <td>Wing</td>\n",
       "      <td>M</td>\n",
       "      <td>5</td>\n",
       "      <td>1881</td>\n",
       "    </tr>\n",
       "    <tr>\n",
       "      <th>3933</th>\n",
       "      <td>Wood</td>\n",
       "      <td>M</td>\n",
       "      <td>5</td>\n",
       "      <td>1881</td>\n",
       "    </tr>\n",
       "    <tr>\n",
       "      <th>3934</th>\n",
       "      <td>Wright</td>\n",
       "      <td>M</td>\n",
       "      <td>5</td>\n",
       "      <td>1881</td>\n",
       "    </tr>\n",
       "  </tbody>\n",
       "</table>\n",
       "<p>3935 rows × 4 columns</p>\n",
       "</div>"
      ],
      "text/plain": [
       "            name sex  births  year\n",
       "0           Mary   F    7065  1880\n",
       "1           Anna   F    2604  1880\n",
       "2           Emma   F    2003  1880\n",
       "3      Elizabeth   F    1939  1880\n",
       "4         Minnie   F    1746  1880\n",
       "5       Margaret   F    1578  1880\n",
       "6            Ida   F    1472  1880\n",
       "7          Alice   F    1414  1880\n",
       "8         Bertha   F    1320  1880\n",
       "9          Sarah   F    1288  1880\n",
       "10         Annie   F    1258  1880\n",
       "11         Clara   F    1226  1880\n",
       "12          Ella   F    1156  1880\n",
       "13      Florence   F    1063  1880\n",
       "14          Cora   F    1045  1880\n",
       "15        Martha   F    1040  1880\n",
       "16         Laura   F    1012  1880\n",
       "17        Nellie   F     995  1880\n",
       "18         Grace   F     982  1880\n",
       "19        Carrie   F     949  1880\n",
       "20         Maude   F     858  1880\n",
       "21         Mabel   F     808  1880\n",
       "22        Bessie   F     796  1880\n",
       "23        Jennie   F     793  1880\n",
       "24      Gertrude   F     787  1880\n",
       "25         Julia   F     783  1880\n",
       "26        Hattie   F     769  1880\n",
       "27         Edith   F     768  1880\n",
       "28        Mattie   F     704  1880\n",
       "29          Rose   F     700  1880\n",
       "...          ...  ..     ...   ...\n",
       "3905      Mercer   M       5  1881\n",
       "3906       Monte   M       5  1881\n",
       "3907  Montgomery   M       5  1881\n",
       "3908       Nolan   M       5  1881\n",
       "3909        Okey   M       5  1881\n",
       "3910       Orley   M       5  1881\n",
       "3911        Page   M       5  1881\n",
       "3912       Philo   M       5  1881\n",
       "3913      Primus   M       5  1881\n",
       "3914     Prosper   M       5  1881\n",
       "3915       Pryor   M       5  1881\n",
       "3916        Rene   M       5  1881\n",
       "3917       Robin   M       5  1881\n",
       "3918        Roll   M       5  1881\n",
       "3919     Rolland   M       5  1881\n",
       "3920      Seward   M       5  1881\n",
       "3921     Shannon   M       5  1881\n",
       "3922     Talmage   M       5  1881\n",
       "3923       Urban   M       5  1881\n",
       "3924      Vaughn   M       5  1881\n",
       "3925      Verner   M       5  1881\n",
       "3926     Waverly   M       5  1881\n",
       "3927     Webster   M       5  1881\n",
       "3928      Weldon   M       5  1881\n",
       "3929       Wells   M       5  1881\n",
       "3930      Wiliam   M       5  1881\n",
       "3931      Wilton   M       5  1881\n",
       "3932        Wing   M       5  1881\n",
       "3933        Wood   M       5  1881\n",
       "3934      Wright   M       5  1881\n",
       "\n",
       "[3935 rows x 4 columns]"
      ]
     },
     "execution_count": 87,
     "metadata": {},
     "output_type": "execute_result"
    }
   ],
   "source": [
    "names"
   ]
  },
  {
   "cell_type": "markdown",
   "metadata": {},
   "source": [
    "**Ex 1.4.8 Write a function to read all names data from 1880 to 2014 into a single `DataFrame`.  Store the result in `names`**"
   ]
  },
  {
   "cell_type": "code",
   "execution_count": 88,
   "metadata": {
    "collapsed": true
   },
   "outputs": [],
   "source": [
    "# HERE'S THE SOLUTION TO THE EXERCISE!\n",
    "#\n",
    "# We need it to read in the `names` DataFrame, so we can\n",
    "# use it throughout the rest of this notebook\n",
    "\n",
    "# First, we'll write a function to read in one year\n",
    "def read_one_year(year):\n",
    "    df = pd.read_csv('names/yob{0}.txt'.format(year),\n",
    "                     names=['name', 'sex', 'births'])\n",
    "    df['year'] = int(year)\n",
    "    return df\n",
    "\n",
    "# Then use list comprehension to read all years in and concat them\n",
    "names = pd.concat([read_one_year(y) for y in range(1880, 2014+1)],\n",
    "                 ignore_index=False)"
   ]
  },
  {
   "cell_type": "code",
   "execution_count": 89,
   "metadata": {
    "collapsed": false
   },
   "outputs": [
    {
     "data": {
      "text/html": [
       "<div>\n",
       "<table border=\"1\" class=\"dataframe\">\n",
       "  <thead>\n",
       "    <tr style=\"text-align: right;\">\n",
       "      <th></th>\n",
       "      <th>name</th>\n",
       "      <th>sex</th>\n",
       "      <th>births</th>\n",
       "      <th>year</th>\n",
       "    </tr>\n",
       "  </thead>\n",
       "  <tbody>\n",
       "    <tr>\n",
       "      <th>0</th>\n",
       "      <td>Mary</td>\n",
       "      <td>F</td>\n",
       "      <td>7065</td>\n",
       "      <td>1880</td>\n",
       "    </tr>\n",
       "    <tr>\n",
       "      <th>1</th>\n",
       "      <td>Anna</td>\n",
       "      <td>F</td>\n",
       "      <td>2604</td>\n",
       "      <td>1880</td>\n",
       "    </tr>\n",
       "    <tr>\n",
       "      <th>2</th>\n",
       "      <td>Emma</td>\n",
       "      <td>F</td>\n",
       "      <td>2003</td>\n",
       "      <td>1880</td>\n",
       "    </tr>\n",
       "    <tr>\n",
       "      <th>3</th>\n",
       "      <td>Elizabeth</td>\n",
       "      <td>F</td>\n",
       "      <td>1939</td>\n",
       "      <td>1880</td>\n",
       "    </tr>\n",
       "    <tr>\n",
       "      <th>4</th>\n",
       "      <td>Minnie</td>\n",
       "      <td>F</td>\n",
       "      <td>1746</td>\n",
       "      <td>1880</td>\n",
       "    </tr>\n",
       "    <tr>\n",
       "      <th>5</th>\n",
       "      <td>Margaret</td>\n",
       "      <td>F</td>\n",
       "      <td>1578</td>\n",
       "      <td>1880</td>\n",
       "    </tr>\n",
       "    <tr>\n",
       "      <th>6</th>\n",
       "      <td>Ida</td>\n",
       "      <td>F</td>\n",
       "      <td>1472</td>\n",
       "      <td>1880</td>\n",
       "    </tr>\n",
       "    <tr>\n",
       "      <th>7</th>\n",
       "      <td>Alice</td>\n",
       "      <td>F</td>\n",
       "      <td>1414</td>\n",
       "      <td>1880</td>\n",
       "    </tr>\n",
       "    <tr>\n",
       "      <th>8</th>\n",
       "      <td>Bertha</td>\n",
       "      <td>F</td>\n",
       "      <td>1320</td>\n",
       "      <td>1880</td>\n",
       "    </tr>\n",
       "    <tr>\n",
       "      <th>9</th>\n",
       "      <td>Sarah</td>\n",
       "      <td>F</td>\n",
       "      <td>1288</td>\n",
       "      <td>1880</td>\n",
       "    </tr>\n",
       "    <tr>\n",
       "      <th>10</th>\n",
       "      <td>Annie</td>\n",
       "      <td>F</td>\n",
       "      <td>1258</td>\n",
       "      <td>1880</td>\n",
       "    </tr>\n",
       "    <tr>\n",
       "      <th>11</th>\n",
       "      <td>Clara</td>\n",
       "      <td>F</td>\n",
       "      <td>1226</td>\n",
       "      <td>1880</td>\n",
       "    </tr>\n",
       "    <tr>\n",
       "      <th>12</th>\n",
       "      <td>Ella</td>\n",
       "      <td>F</td>\n",
       "      <td>1156</td>\n",
       "      <td>1880</td>\n",
       "    </tr>\n",
       "    <tr>\n",
       "      <th>13</th>\n",
       "      <td>Florence</td>\n",
       "      <td>F</td>\n",
       "      <td>1063</td>\n",
       "      <td>1880</td>\n",
       "    </tr>\n",
       "    <tr>\n",
       "      <th>14</th>\n",
       "      <td>Cora</td>\n",
       "      <td>F</td>\n",
       "      <td>1045</td>\n",
       "      <td>1880</td>\n",
       "    </tr>\n",
       "    <tr>\n",
       "      <th>15</th>\n",
       "      <td>Martha</td>\n",
       "      <td>F</td>\n",
       "      <td>1040</td>\n",
       "      <td>1880</td>\n",
       "    </tr>\n",
       "    <tr>\n",
       "      <th>16</th>\n",
       "      <td>Laura</td>\n",
       "      <td>F</td>\n",
       "      <td>1012</td>\n",
       "      <td>1880</td>\n",
       "    </tr>\n",
       "    <tr>\n",
       "      <th>17</th>\n",
       "      <td>Nellie</td>\n",
       "      <td>F</td>\n",
       "      <td>995</td>\n",
       "      <td>1880</td>\n",
       "    </tr>\n",
       "    <tr>\n",
       "      <th>18</th>\n",
       "      <td>Grace</td>\n",
       "      <td>F</td>\n",
       "      <td>982</td>\n",
       "      <td>1880</td>\n",
       "    </tr>\n",
       "    <tr>\n",
       "      <th>19</th>\n",
       "      <td>Carrie</td>\n",
       "      <td>F</td>\n",
       "      <td>949</td>\n",
       "      <td>1880</td>\n",
       "    </tr>\n",
       "    <tr>\n",
       "      <th>20</th>\n",
       "      <td>Maude</td>\n",
       "      <td>F</td>\n",
       "      <td>858</td>\n",
       "      <td>1880</td>\n",
       "    </tr>\n",
       "    <tr>\n",
       "      <th>21</th>\n",
       "      <td>Mabel</td>\n",
       "      <td>F</td>\n",
       "      <td>808</td>\n",
       "      <td>1880</td>\n",
       "    </tr>\n",
       "    <tr>\n",
       "      <th>22</th>\n",
       "      <td>Bessie</td>\n",
       "      <td>F</td>\n",
       "      <td>796</td>\n",
       "      <td>1880</td>\n",
       "    </tr>\n",
       "    <tr>\n",
       "      <th>23</th>\n",
       "      <td>Jennie</td>\n",
       "      <td>F</td>\n",
       "      <td>793</td>\n",
       "      <td>1880</td>\n",
       "    </tr>\n",
       "    <tr>\n",
       "      <th>24</th>\n",
       "      <td>Gertrude</td>\n",
       "      <td>F</td>\n",
       "      <td>787</td>\n",
       "      <td>1880</td>\n",
       "    </tr>\n",
       "    <tr>\n",
       "      <th>25</th>\n",
       "      <td>Julia</td>\n",
       "      <td>F</td>\n",
       "      <td>783</td>\n",
       "      <td>1880</td>\n",
       "    </tr>\n",
       "    <tr>\n",
       "      <th>26</th>\n",
       "      <td>Hattie</td>\n",
       "      <td>F</td>\n",
       "      <td>769</td>\n",
       "      <td>1880</td>\n",
       "    </tr>\n",
       "    <tr>\n",
       "      <th>27</th>\n",
       "      <td>Edith</td>\n",
       "      <td>F</td>\n",
       "      <td>768</td>\n",
       "      <td>1880</td>\n",
       "    </tr>\n",
       "    <tr>\n",
       "      <th>28</th>\n",
       "      <td>Mattie</td>\n",
       "      <td>F</td>\n",
       "      <td>704</td>\n",
       "      <td>1880</td>\n",
       "    </tr>\n",
       "    <tr>\n",
       "      <th>29</th>\n",
       "      <td>Rose</td>\n",
       "      <td>F</td>\n",
       "      <td>700</td>\n",
       "      <td>1880</td>\n",
       "    </tr>\n",
       "    <tr>\n",
       "      <th>...</th>\n",
       "      <td>...</td>\n",
       "      <td>...</td>\n",
       "      <td>...</td>\n",
       "      <td>...</td>\n",
       "    </tr>\n",
       "    <tr>\n",
       "      <th>33014</th>\n",
       "      <td>Zedrick</td>\n",
       "      <td>M</td>\n",
       "      <td>5</td>\n",
       "      <td>2014</td>\n",
       "    </tr>\n",
       "    <tr>\n",
       "      <th>33015</th>\n",
       "      <td>Zeid</td>\n",
       "      <td>M</td>\n",
       "      <td>5</td>\n",
       "      <td>2014</td>\n",
       "    </tr>\n",
       "    <tr>\n",
       "      <th>33016</th>\n",
       "      <td>Zeidan</td>\n",
       "      <td>M</td>\n",
       "      <td>5</td>\n",
       "      <td>2014</td>\n",
       "    </tr>\n",
       "    <tr>\n",
       "      <th>33017</th>\n",
       "      <td>Zekeriah</td>\n",
       "      <td>M</td>\n",
       "      <td>5</td>\n",
       "      <td>2014</td>\n",
       "    </tr>\n",
       "    <tr>\n",
       "      <th>33018</th>\n",
       "      <td>Zenas</td>\n",
       "      <td>M</td>\n",
       "      <td>5</td>\n",
       "      <td>2014</td>\n",
       "    </tr>\n",
       "    <tr>\n",
       "      <th>33019</th>\n",
       "      <td>Zephen</td>\n",
       "      <td>M</td>\n",
       "      <td>5</td>\n",
       "      <td>2014</td>\n",
       "    </tr>\n",
       "    <tr>\n",
       "      <th>33020</th>\n",
       "      <td>Zerick</td>\n",
       "      <td>M</td>\n",
       "      <td>5</td>\n",
       "      <td>2014</td>\n",
       "    </tr>\n",
       "    <tr>\n",
       "      <th>33021</th>\n",
       "      <td>Zhaiden</td>\n",
       "      <td>M</td>\n",
       "      <td>5</td>\n",
       "      <td>2014</td>\n",
       "    </tr>\n",
       "    <tr>\n",
       "      <th>33022</th>\n",
       "      <td>Zhalen</td>\n",
       "      <td>M</td>\n",
       "      <td>5</td>\n",
       "      <td>2014</td>\n",
       "    </tr>\n",
       "    <tr>\n",
       "      <th>33023</th>\n",
       "      <td>Zhayden</td>\n",
       "      <td>M</td>\n",
       "      <td>5</td>\n",
       "      <td>2014</td>\n",
       "    </tr>\n",
       "    <tr>\n",
       "      <th>33024</th>\n",
       "      <td>Ziar</td>\n",
       "      <td>M</td>\n",
       "      <td>5</td>\n",
       "      <td>2014</td>\n",
       "    </tr>\n",
       "    <tr>\n",
       "      <th>33025</th>\n",
       "      <td>Zichen</td>\n",
       "      <td>M</td>\n",
       "      <td>5</td>\n",
       "      <td>2014</td>\n",
       "    </tr>\n",
       "    <tr>\n",
       "      <th>33026</th>\n",
       "      <td>Ziden</td>\n",
       "      <td>M</td>\n",
       "      <td>5</td>\n",
       "      <td>2014</td>\n",
       "    </tr>\n",
       "    <tr>\n",
       "      <th>33027</th>\n",
       "      <td>Zierre</td>\n",
       "      <td>M</td>\n",
       "      <td>5</td>\n",
       "      <td>2014</td>\n",
       "    </tr>\n",
       "    <tr>\n",
       "      <th>33028</th>\n",
       "      <td>Ziion</td>\n",
       "      <td>M</td>\n",
       "      <td>5</td>\n",
       "      <td>2014</td>\n",
       "    </tr>\n",
       "    <tr>\n",
       "      <th>33029</th>\n",
       "      <td>Zijun</td>\n",
       "      <td>M</td>\n",
       "      <td>5</td>\n",
       "      <td>2014</td>\n",
       "    </tr>\n",
       "    <tr>\n",
       "      <th>33030</th>\n",
       "      <td>Zilas</td>\n",
       "      <td>M</td>\n",
       "      <td>5</td>\n",
       "      <td>2014</td>\n",
       "    </tr>\n",
       "    <tr>\n",
       "      <th>33031</th>\n",
       "      <td>Zirui</td>\n",
       "      <td>M</td>\n",
       "      <td>5</td>\n",
       "      <td>2014</td>\n",
       "    </tr>\n",
       "    <tr>\n",
       "      <th>33032</th>\n",
       "      <td>Zivon</td>\n",
       "      <td>M</td>\n",
       "      <td>5</td>\n",
       "      <td>2014</td>\n",
       "    </tr>\n",
       "    <tr>\n",
       "      <th>33033</th>\n",
       "      <td>Ziyah</td>\n",
       "      <td>M</td>\n",
       "      <td>5</td>\n",
       "      <td>2014</td>\n",
       "    </tr>\n",
       "    <tr>\n",
       "      <th>33034</th>\n",
       "      <td>Ziyang</td>\n",
       "      <td>M</td>\n",
       "      <td>5</td>\n",
       "      <td>2014</td>\n",
       "    </tr>\n",
       "    <tr>\n",
       "      <th>33035</th>\n",
       "      <td>Zmarion</td>\n",
       "      <td>M</td>\n",
       "      <td>5</td>\n",
       "      <td>2014</td>\n",
       "    </tr>\n",
       "    <tr>\n",
       "      <th>33036</th>\n",
       "      <td>Zo</td>\n",
       "      <td>M</td>\n",
       "      <td>5</td>\n",
       "      <td>2014</td>\n",
       "    </tr>\n",
       "    <tr>\n",
       "      <th>33037</th>\n",
       "      <td>Zyeir</td>\n",
       "      <td>M</td>\n",
       "      <td>5</td>\n",
       "      <td>2014</td>\n",
       "    </tr>\n",
       "    <tr>\n",
       "      <th>33038</th>\n",
       "      <td>Zyel</td>\n",
       "      <td>M</td>\n",
       "      <td>5</td>\n",
       "      <td>2014</td>\n",
       "    </tr>\n",
       "    <tr>\n",
       "      <th>33039</th>\n",
       "      <td>Zykeem</td>\n",
       "      <td>M</td>\n",
       "      <td>5</td>\n",
       "      <td>2014</td>\n",
       "    </tr>\n",
       "    <tr>\n",
       "      <th>33040</th>\n",
       "      <td>Zymeer</td>\n",
       "      <td>M</td>\n",
       "      <td>5</td>\n",
       "      <td>2014</td>\n",
       "    </tr>\n",
       "    <tr>\n",
       "      <th>33041</th>\n",
       "      <td>Zymiere</td>\n",
       "      <td>M</td>\n",
       "      <td>5</td>\n",
       "      <td>2014</td>\n",
       "    </tr>\n",
       "    <tr>\n",
       "      <th>33042</th>\n",
       "      <td>Zyran</td>\n",
       "      <td>M</td>\n",
       "      <td>5</td>\n",
       "      <td>2014</td>\n",
       "    </tr>\n",
       "    <tr>\n",
       "      <th>33043</th>\n",
       "      <td>Zyrin</td>\n",
       "      <td>M</td>\n",
       "      <td>5</td>\n",
       "      <td>2014</td>\n",
       "    </tr>\n",
       "  </tbody>\n",
       "</table>\n",
       "<p>1825433 rows × 4 columns</p>\n",
       "</div>"
      ],
      "text/plain": [
       "            name sex  births  year\n",
       "0           Mary   F    7065  1880\n",
       "1           Anna   F    2604  1880\n",
       "2           Emma   F    2003  1880\n",
       "3      Elizabeth   F    1939  1880\n",
       "4         Minnie   F    1746  1880\n",
       "5       Margaret   F    1578  1880\n",
       "6            Ida   F    1472  1880\n",
       "7          Alice   F    1414  1880\n",
       "8         Bertha   F    1320  1880\n",
       "9          Sarah   F    1288  1880\n",
       "10         Annie   F    1258  1880\n",
       "11         Clara   F    1226  1880\n",
       "12          Ella   F    1156  1880\n",
       "13      Florence   F    1063  1880\n",
       "14          Cora   F    1045  1880\n",
       "15        Martha   F    1040  1880\n",
       "16         Laura   F    1012  1880\n",
       "17        Nellie   F     995  1880\n",
       "18         Grace   F     982  1880\n",
       "19        Carrie   F     949  1880\n",
       "20         Maude   F     858  1880\n",
       "21         Mabel   F     808  1880\n",
       "22        Bessie   F     796  1880\n",
       "23        Jennie   F     793  1880\n",
       "24      Gertrude   F     787  1880\n",
       "25         Julia   F     783  1880\n",
       "26        Hattie   F     769  1880\n",
       "27         Edith   F     768  1880\n",
       "28        Mattie   F     704  1880\n",
       "29          Rose   F     700  1880\n",
       "...          ...  ..     ...   ...\n",
       "33014    Zedrick   M       5  2014\n",
       "33015       Zeid   M       5  2014\n",
       "33016     Zeidan   M       5  2014\n",
       "33017   Zekeriah   M       5  2014\n",
       "33018      Zenas   M       5  2014\n",
       "33019     Zephen   M       5  2014\n",
       "33020     Zerick   M       5  2014\n",
       "33021    Zhaiden   M       5  2014\n",
       "33022     Zhalen   M       5  2014\n",
       "33023    Zhayden   M       5  2014\n",
       "33024       Ziar   M       5  2014\n",
       "33025     Zichen   M       5  2014\n",
       "33026      Ziden   M       5  2014\n",
       "33027     Zierre   M       5  2014\n",
       "33028      Ziion   M       5  2014\n",
       "33029      Zijun   M       5  2014\n",
       "33030      Zilas   M       5  2014\n",
       "33031      Zirui   M       5  2014\n",
       "33032      Zivon   M       5  2014\n",
       "33033      Ziyah   M       5  2014\n",
       "33034     Ziyang   M       5  2014\n",
       "33035    Zmarion   M       5  2014\n",
       "33036         Zo   M       5  2014\n",
       "33037      Zyeir   M       5  2014\n",
       "33038       Zyel   M       5  2014\n",
       "33039     Zykeem   M       5  2014\n",
       "33040     Zymeer   M       5  2014\n",
       "33041    Zymiere   M       5  2014\n",
       "33042      Zyran   M       5  2014\n",
       "33043      Zyrin   M       5  2014\n",
       "\n",
       "[1825433 rows x 4 columns]"
      ]
     },
     "execution_count": 89,
     "metadata": {},
     "output_type": "execute_result"
    }
   ],
   "source": [
    "names"
   ]
  },
  {
   "cell_type": "markdown",
   "metadata": {},
   "source": [
    "OK, we have all our data in memory.  Since `pandas` is basically `Excel for Python`, let's summarize the data with a Pivot Table:"
   ]
  },
  {
   "cell_type": "code",
   "execution_count": 90,
   "metadata": {
    "collapsed": false
   },
   "outputs": [
    {
     "data": {
      "text/html": [
       "<div>\n",
       "<table border=\"1\" class=\"dataframe\">\n",
       "  <thead>\n",
       "    <tr style=\"text-align: right;\">\n",
       "      <th>sex</th>\n",
       "      <th>F</th>\n",
       "      <th>M</th>\n",
       "    </tr>\n",
       "    <tr>\n",
       "      <th>year</th>\n",
       "      <th></th>\n",
       "      <th></th>\n",
       "    </tr>\n",
       "  </thead>\n",
       "  <tbody>\n",
       "    <tr>\n",
       "      <th>2010</th>\n",
       "      <td>1772738</td>\n",
       "      <td>1913851</td>\n",
       "    </tr>\n",
       "    <tr>\n",
       "      <th>2011</th>\n",
       "      <td>1753500</td>\n",
       "      <td>1893230</td>\n",
       "    </tr>\n",
       "    <tr>\n",
       "      <th>2012</th>\n",
       "      <td>1753922</td>\n",
       "      <td>1889414</td>\n",
       "    </tr>\n",
       "    <tr>\n",
       "      <th>2013</th>\n",
       "      <td>1745339</td>\n",
       "      <td>1881463</td>\n",
       "    </tr>\n",
       "    <tr>\n",
       "      <th>2014</th>\n",
       "      <td>1768775</td>\n",
       "      <td>1901376</td>\n",
       "    </tr>\n",
       "  </tbody>\n",
       "</table>\n",
       "</div>"
      ],
      "text/plain": [
       "sex         F        M\n",
       "year                  \n",
       "2010  1772738  1913851\n",
       "2011  1753500  1893230\n",
       "2012  1753922  1889414\n",
       "2013  1745339  1881463\n",
       "2014  1768775  1901376"
      ]
     },
     "execution_count": 90,
     "metadata": {},
     "output_type": "execute_result"
    }
   ],
   "source": [
    "total_births = names.pivot_table('births',\n",
    "                                 index='year',\n",
    "                                 columns='sex',\n",
    "                                 aggfunc=sum)\n",
    "total_births.tail()  # Show last rows only"
   ]
  },
  {
   "cell_type": "markdown",
   "metadata": {},
   "source": [
    "We can plot this new DataFrame easily:"
   ]
  },
  {
   "cell_type": "code",
   "execution_count": 91,
   "metadata": {
    "collapsed": false
   },
   "outputs": [
    {
     "data": {
      "text/plain": [
       "<matplotlib.axes._subplots.AxesSubplot at 0x1079dd090>"
      ]
     },
     "execution_count": 91,
     "metadata": {},
     "output_type": "execute_result"
    },
    {
     "data": {
      "image/png": "[encoded data removed]",
      "text/plain": [
       "<matplotlib.figure.Figure at 0x1079c8950>"
      ]
     },
     "metadata": {},
     "output_type": "display_data"
    }
   ],
   "source": [
    "# Need '%matplotlib inline' magic here to integrate plots into IPython\n",
    "%matplotlib inline\n",
    "total_births.plot(title='Total births by sex and year')"
   ]
  },
  {
   "cell_type": "markdown",
   "metadata": {},
   "source": [
    "We can convert raw numbers of births to proportions.  What we'll do is to group by 'year' and 'sex', and then for each group, divide the number of births for each name by the total number of births in that group."
   ]
  },
  {
   "cell_type": "code",
   "execution_count": 92,
   "metadata": {
    "collapsed": false
   },
   "outputs": [
    {
     "data": {
      "text/html": [
       "<div>\n",
       "<table border=\"1\" class=\"dataframe\">\n",
       "  <thead>\n",
       "    <tr style=\"text-align: right;\">\n",
       "      <th></th>\n",
       "      <th>name</th>\n",
       "      <th>sex</th>\n",
       "      <th>births</th>\n",
       "      <th>year</th>\n",
       "      <th>prop</th>\n",
       "    </tr>\n",
       "  </thead>\n",
       "  <tbody>\n",
       "    <tr>\n",
       "      <th>0</th>\n",
       "      <td>Mary</td>\n",
       "      <td>F</td>\n",
       "      <td>7065</td>\n",
       "      <td>1880</td>\n",
       "      <td>0.077643</td>\n",
       "    </tr>\n",
       "    <tr>\n",
       "      <th>1</th>\n",
       "      <td>Anna</td>\n",
       "      <td>F</td>\n",
       "      <td>2604</td>\n",
       "      <td>1880</td>\n",
       "      <td>0.028618</td>\n",
       "    </tr>\n",
       "    <tr>\n",
       "      <th>2</th>\n",
       "      <td>Emma</td>\n",
       "      <td>F</td>\n",
       "      <td>2003</td>\n",
       "      <td>1880</td>\n",
       "      <td>0.022013</td>\n",
       "    </tr>\n",
       "    <tr>\n",
       "      <th>3</th>\n",
       "      <td>Elizabeth</td>\n",
       "      <td>F</td>\n",
       "      <td>1939</td>\n",
       "      <td>1880</td>\n",
       "      <td>0.021309</td>\n",
       "    </tr>\n",
       "    <tr>\n",
       "      <th>4</th>\n",
       "      <td>Minnie</td>\n",
       "      <td>F</td>\n",
       "      <td>1746</td>\n",
       "      <td>1880</td>\n",
       "      <td>0.019188</td>\n",
       "    </tr>\n",
       "  </tbody>\n",
       "</table>\n",
       "</div>"
      ],
      "text/plain": [
       "        name sex  births  year      prop\n",
       "0       Mary   F    7065  1880  0.077643\n",
       "1       Anna   F    2604  1880  0.028618\n",
       "2       Emma   F    2003  1880  0.022013\n",
       "3  Elizabeth   F    1939  1880  0.021309\n",
       "4     Minnie   F    1746  1880  0.019188"
      ]
     },
     "execution_count": 92,
     "metadata": {},
     "output_type": "execute_result"
    }
   ],
   "source": [
    "def add_prop(group):\n",
    "    births = group.births.astype(float)\n",
    "    group['prop'] = births / births.sum()\n",
    "    return group\n",
    "\n",
    "names = names.groupby(['year', 'sex']).apply(add_prop)\n",
    "names.head()"
   ]
  },
  {
   "cell_type": "markdown",
   "metadata": {},
   "source": [
    "So, for example, 7.8% of all girls born in 1880 were called 'Mary'."
   ]
  },
  {
   "cell_type": "markdown",
   "metadata": {},
   "source": [
    "**Ex 1.4.9 What percentage of _all_ babies were called 'Mary' in 1880?**"
   ]
  },
  {
   "cell_type": "markdown",
   "metadata": {},
   "source": [
    "Let's check that the values of `prop` within each group add up to 1. "
   ]
  },
  {
   "cell_type": "code",
   "execution_count": 93,
   "metadata": {
    "collapsed": false
   },
   "outputs": [
    {
     "data": {
      "text/plain": [
       "year  sex\n",
       "1880  F      1\n",
       "      M      1\n",
       "1881  F      1\n",
       "      M      1\n",
       "1882  F      1\n",
       "      M      1\n",
       "1883  F      1\n",
       "      M      1\n",
       "1884  F      1\n",
       "      M      1\n",
       "1885  F      1\n",
       "      M      1\n",
       "1886  F      1\n",
       "      M      1\n",
       "1887  F      1\n",
       "      M      1\n",
       "1888  F      1\n",
       "      M      1\n",
       "1889  F      1\n",
       "      M      1\n",
       "1890  F      1\n",
       "      M      1\n",
       "1891  F      1\n",
       "      M      1\n",
       "1892  F      1\n",
       "      M      1\n",
       "1893  F      1\n",
       "      M      1\n",
       "1894  F      1\n",
       "      M      1\n",
       "            ..\n",
       "2000  F      1\n",
       "      M      1\n",
       "2001  F      1\n",
       "      M      1\n",
       "2002  F      1\n",
       "      M      1\n",
       "2003  F      1\n",
       "      M      1\n",
       "2004  F      1\n",
       "      M      1\n",
       "2005  F      1\n",
       "      M      1\n",
       "2006  F      1\n",
       "      M      1\n",
       "2007  F      1\n",
       "      M      1\n",
       "2008  F      1\n",
       "      M      1\n",
       "2009  F      1\n",
       "      M      1\n",
       "2010  F      1\n",
       "      M      1\n",
       "2011  F      1\n",
       "      M      1\n",
       "2012  F      1\n",
       "      M      1\n",
       "2013  F      1\n",
       "      M      1\n",
       "2014  F      1\n",
       "      M      1\n",
       "Name: prop, dtype: float64"
      ]
     },
     "execution_count": 93,
     "metadata": {},
     "output_type": "execute_result"
    }
   ],
   "source": [
    "names.groupby(['year', 'sex']).prop.sum()"
   ]
  },
  {
   "cell_type": "markdown",
   "metadata": {},
   "source": [
    "Let's reduce the data set by focusing on the top 1000 names for each sex/year combination:"
   ]
  },
  {
   "cell_type": "code",
   "execution_count": 94,
   "metadata": {
    "collapsed": false,
    "scrolled": true
   },
   "outputs": [
    {
     "data": {
      "text/html": [
       "<div>\n",
       "<table border=\"1\" class=\"dataframe\">\n",
       "  <thead>\n",
       "    <tr style=\"text-align: right;\">\n",
       "      <th></th>\n",
       "      <th></th>\n",
       "      <th></th>\n",
       "      <th>name</th>\n",
       "      <th>sex</th>\n",
       "      <th>births</th>\n",
       "      <th>year</th>\n",
       "      <th>prop</th>\n",
       "    </tr>\n",
       "    <tr>\n",
       "      <th>year</th>\n",
       "      <th>sex</th>\n",
       "      <th></th>\n",
       "      <th></th>\n",
       "      <th></th>\n",
       "      <th></th>\n",
       "      <th></th>\n",
       "      <th></th>\n",
       "    </tr>\n",
       "  </thead>\n",
       "  <tbody>\n",
       "    <tr>\n",
       "      <th rowspan=\"30\" valign=\"top\">1880</th>\n",
       "      <th rowspan=\"30\" valign=\"top\">F</th>\n",
       "      <th>0</th>\n",
       "      <td>Mary</td>\n",
       "      <td>F</td>\n",
       "      <td>7065</td>\n",
       "      <td>1880</td>\n",
       "      <td>0.077643</td>\n",
       "    </tr>\n",
       "    <tr>\n",
       "      <th>1</th>\n",
       "      <td>Anna</td>\n",
       "      <td>F</td>\n",
       "      <td>2604</td>\n",
       "      <td>1880</td>\n",
       "      <td>0.028618</td>\n",
       "    </tr>\n",
       "    <tr>\n",
       "      <th>2</th>\n",
       "      <td>Emma</td>\n",
       "      <td>F</td>\n",
       "      <td>2003</td>\n",
       "      <td>1880</td>\n",
       "      <td>0.022013</td>\n",
       "    </tr>\n",
       "    <tr>\n",
       "      <th>3</th>\n",
       "      <td>Elizabeth</td>\n",
       "      <td>F</td>\n",
       "      <td>1939</td>\n",
       "      <td>1880</td>\n",
       "      <td>0.021309</td>\n",
       "    </tr>\n",
       "    <tr>\n",
       "      <th>4</th>\n",
       "      <td>Minnie</td>\n",
       "      <td>F</td>\n",
       "      <td>1746</td>\n",
       "      <td>1880</td>\n",
       "      <td>0.019188</td>\n",
       "    </tr>\n",
       "    <tr>\n",
       "      <th>5</th>\n",
       "      <td>Margaret</td>\n",
       "      <td>F</td>\n",
       "      <td>1578</td>\n",
       "      <td>1880</td>\n",
       "      <td>0.017342</td>\n",
       "    </tr>\n",
       "    <tr>\n",
       "      <th>6</th>\n",
       "      <td>Ida</td>\n",
       "      <td>F</td>\n",
       "      <td>1472</td>\n",
       "      <td>1880</td>\n",
       "      <td>0.016177</td>\n",
       "    </tr>\n",
       "    <tr>\n",
       "      <th>7</th>\n",
       "      <td>Alice</td>\n",
       "      <td>F</td>\n",
       "      <td>1414</td>\n",
       "      <td>1880</td>\n",
       "      <td>0.015540</td>\n",
       "    </tr>\n",
       "    <tr>\n",
       "      <th>8</th>\n",
       "      <td>Bertha</td>\n",
       "      <td>F</td>\n",
       "      <td>1320</td>\n",
       "      <td>1880</td>\n",
       "      <td>0.014507</td>\n",
       "    </tr>\n",
       "    <tr>\n",
       "      <th>9</th>\n",
       "      <td>Sarah</td>\n",
       "      <td>F</td>\n",
       "      <td>1288</td>\n",
       "      <td>1880</td>\n",
       "      <td>0.014155</td>\n",
       "    </tr>\n",
       "    <tr>\n",
       "      <th>10</th>\n",
       "      <td>Annie</td>\n",
       "      <td>F</td>\n",
       "      <td>1258</td>\n",
       "      <td>1880</td>\n",
       "      <td>0.013825</td>\n",
       "    </tr>\n",
       "    <tr>\n",
       "      <th>11</th>\n",
       "      <td>Clara</td>\n",
       "      <td>F</td>\n",
       "      <td>1226</td>\n",
       "      <td>1880</td>\n",
       "      <td>0.013474</td>\n",
       "    </tr>\n",
       "    <tr>\n",
       "      <th>12</th>\n",
       "      <td>Ella</td>\n",
       "      <td>F</td>\n",
       "      <td>1156</td>\n",
       "      <td>1880</td>\n",
       "      <td>0.012704</td>\n",
       "    </tr>\n",
       "    <tr>\n",
       "      <th>13</th>\n",
       "      <td>Florence</td>\n",
       "      <td>F</td>\n",
       "      <td>1063</td>\n",
       "      <td>1880</td>\n",
       "      <td>0.011682</td>\n",
       "    </tr>\n",
       "    <tr>\n",
       "      <th>14</th>\n",
       "      <td>Cora</td>\n",
       "      <td>F</td>\n",
       "      <td>1045</td>\n",
       "      <td>1880</td>\n",
       "      <td>0.011484</td>\n",
       "    </tr>\n",
       "    <tr>\n",
       "      <th>15</th>\n",
       "      <td>Martha</td>\n",
       "      <td>F</td>\n",
       "      <td>1040</td>\n",
       "      <td>1880</td>\n",
       "      <td>0.011429</td>\n",
       "    </tr>\n",
       "    <tr>\n",
       "      <th>16</th>\n",
       "      <td>Laura</td>\n",
       "      <td>F</td>\n",
       "      <td>1012</td>\n",
       "      <td>1880</td>\n",
       "      <td>0.011122</td>\n",
       "    </tr>\n",
       "    <tr>\n",
       "      <th>17</th>\n",
       "      <td>Nellie</td>\n",
       "      <td>F</td>\n",
       "      <td>995</td>\n",
       "      <td>1880</td>\n",
       "      <td>0.010935</td>\n",
       "    </tr>\n",
       "    <tr>\n",
       "      <th>18</th>\n",
       "      <td>Grace</td>\n",
       "      <td>F</td>\n",
       "      <td>982</td>\n",
       "      <td>1880</td>\n",
       "      <td>0.010792</td>\n",
       "    </tr>\n",
       "    <tr>\n",
       "      <th>19</th>\n",
       "      <td>Carrie</td>\n",
       "      <td>F</td>\n",
       "      <td>949</td>\n",
       "      <td>1880</td>\n",
       "      <td>0.010429</td>\n",
       "    </tr>\n",
       "    <tr>\n",
       "      <th>20</th>\n",
       "      <td>Maude</td>\n",
       "      <td>F</td>\n",
       "      <td>858</td>\n",
       "      <td>1880</td>\n",
       "      <td>0.009429</td>\n",
       "    </tr>\n",
       "    <tr>\n",
       "      <th>21</th>\n",
       "      <td>Mabel</td>\n",
       "      <td>F</td>\n",
       "      <td>808</td>\n",
       "      <td>1880</td>\n",
       "      <td>0.008880</td>\n",
       "    </tr>\n",
       "    <tr>\n",
       "      <th>22</th>\n",
       "      <td>Bessie</td>\n",
       "      <td>F</td>\n",
       "      <td>796</td>\n",
       "      <td>1880</td>\n",
       "      <td>0.008748</td>\n",
       "    </tr>\n",
       "    <tr>\n",
       "      <th>23</th>\n",
       "      <td>Jennie</td>\n",
       "      <td>F</td>\n",
       "      <td>793</td>\n",
       "      <td>1880</td>\n",
       "      <td>0.008715</td>\n",
       "    </tr>\n",
       "    <tr>\n",
       "      <th>24</th>\n",
       "      <td>Gertrude</td>\n",
       "      <td>F</td>\n",
       "      <td>787</td>\n",
       "      <td>1880</td>\n",
       "      <td>0.008649</td>\n",
       "    </tr>\n",
       "    <tr>\n",
       "      <th>25</th>\n",
       "      <td>Julia</td>\n",
       "      <td>F</td>\n",
       "      <td>783</td>\n",
       "      <td>1880</td>\n",
       "      <td>0.008605</td>\n",
       "    </tr>\n",
       "    <tr>\n",
       "      <th>26</th>\n",
       "      <td>Hattie</td>\n",
       "      <td>F</td>\n",
       "      <td>769</td>\n",
       "      <td>1880</td>\n",
       "      <td>0.008451</td>\n",
       "    </tr>\n",
       "    <tr>\n",
       "      <th>27</th>\n",
       "      <td>Edith</td>\n",
       "      <td>F</td>\n",
       "      <td>768</td>\n",
       "      <td>1880</td>\n",
       "      <td>0.008440</td>\n",
       "    </tr>\n",
       "    <tr>\n",
       "      <th>28</th>\n",
       "      <td>Mattie</td>\n",
       "      <td>F</td>\n",
       "      <td>704</td>\n",
       "      <td>1880</td>\n",
       "      <td>0.007737</td>\n",
       "    </tr>\n",
       "    <tr>\n",
       "      <th>29</th>\n",
       "      <td>Rose</td>\n",
       "      <td>F</td>\n",
       "      <td>700</td>\n",
       "      <td>1880</td>\n",
       "      <td>0.007693</td>\n",
       "    </tr>\n",
       "    <tr>\n",
       "      <th>...</th>\n",
       "      <th>...</th>\n",
       "      <th>...</th>\n",
       "      <td>...</td>\n",
       "      <td>...</td>\n",
       "      <td>...</td>\n",
       "      <td>...</td>\n",
       "      <td>...</td>\n",
       "    </tr>\n",
       "    <tr>\n",
       "      <th rowspan=\"30\" valign=\"top\">2014</th>\n",
       "      <th rowspan=\"30\" valign=\"top\">M</th>\n",
       "      <th>20037</th>\n",
       "      <td>Dario</td>\n",
       "      <td>M</td>\n",
       "      <td>214</td>\n",
       "      <td>2014</td>\n",
       "      <td>0.000113</td>\n",
       "    </tr>\n",
       "    <tr>\n",
       "      <th>20038</th>\n",
       "      <td>Kale</td>\n",
       "      <td>M</td>\n",
       "      <td>214</td>\n",
       "      <td>2014</td>\n",
       "      <td>0.000113</td>\n",
       "    </tr>\n",
       "    <tr>\n",
       "      <th>20039</th>\n",
       "      <td>Broderick</td>\n",
       "      <td>M</td>\n",
       "      <td>213</td>\n",
       "      <td>2014</td>\n",
       "      <td>0.000112</td>\n",
       "    </tr>\n",
       "    <tr>\n",
       "      <th>20040</th>\n",
       "      <td>Jayvion</td>\n",
       "      <td>M</td>\n",
       "      <td>213</td>\n",
       "      <td>2014</td>\n",
       "      <td>0.000112</td>\n",
       "    </tr>\n",
       "    <tr>\n",
       "      <th>20041</th>\n",
       "      <td>Kaison</td>\n",
       "      <td>M</td>\n",
       "      <td>213</td>\n",
       "      <td>2014</td>\n",
       "      <td>0.000112</td>\n",
       "    </tr>\n",
       "    <tr>\n",
       "      <th>20042</th>\n",
       "      <td>Koen</td>\n",
       "      <td>M</td>\n",
       "      <td>213</td>\n",
       "      <td>2014</td>\n",
       "      <td>0.000112</td>\n",
       "    </tr>\n",
       "    <tr>\n",
       "      <th>20043</th>\n",
       "      <td>Magnus</td>\n",
       "      <td>M</td>\n",
       "      <td>213</td>\n",
       "      <td>2014</td>\n",
       "      <td>0.000112</td>\n",
       "    </tr>\n",
       "    <tr>\n",
       "      <th>20046</th>\n",
       "      <td>Valentin</td>\n",
       "      <td>M</td>\n",
       "      <td>212</td>\n",
       "      <td>2014</td>\n",
       "      <td>0.000111</td>\n",
       "    </tr>\n",
       "    <tr>\n",
       "      <th>20045</th>\n",
       "      <td>Teagan</td>\n",
       "      <td>M</td>\n",
       "      <td>212</td>\n",
       "      <td>2014</td>\n",
       "      <td>0.000111</td>\n",
       "    </tr>\n",
       "    <tr>\n",
       "      <th>20044</th>\n",
       "      <td>Darien</td>\n",
       "      <td>M</td>\n",
       "      <td>212</td>\n",
       "      <td>2014</td>\n",
       "      <td>0.000111</td>\n",
       "    </tr>\n",
       "    <tr>\n",
       "      <th>20047</th>\n",
       "      <td>Bodie</td>\n",
       "      <td>M</td>\n",
       "      <td>211</td>\n",
       "      <td>2014</td>\n",
       "      <td>0.000111</td>\n",
       "    </tr>\n",
       "    <tr>\n",
       "      <th>20048</th>\n",
       "      <td>Brayson</td>\n",
       "      <td>M</td>\n",
       "      <td>211</td>\n",
       "      <td>2014</td>\n",
       "      <td>0.000111</td>\n",
       "    </tr>\n",
       "    <tr>\n",
       "      <th>20049</th>\n",
       "      <td>Chace</td>\n",
       "      <td>M</td>\n",
       "      <td>211</td>\n",
       "      <td>2014</td>\n",
       "      <td>0.000111</td>\n",
       "    </tr>\n",
       "    <tr>\n",
       "      <th>20050</th>\n",
       "      <td>Kylen</td>\n",
       "      <td>M</td>\n",
       "      <td>209</td>\n",
       "      <td>2014</td>\n",
       "      <td>0.000110</td>\n",
       "    </tr>\n",
       "    <tr>\n",
       "      <th>20051</th>\n",
       "      <td>Yehuda</td>\n",
       "      <td>M</td>\n",
       "      <td>209</td>\n",
       "      <td>2014</td>\n",
       "      <td>0.000110</td>\n",
       "    </tr>\n",
       "    <tr>\n",
       "      <th>20052</th>\n",
       "      <td>Bridger</td>\n",
       "      <td>M</td>\n",
       "      <td>208</td>\n",
       "      <td>2014</td>\n",
       "      <td>0.000109</td>\n",
       "    </tr>\n",
       "    <tr>\n",
       "      <th>20053</th>\n",
       "      <td>Howard</td>\n",
       "      <td>M</td>\n",
       "      <td>208</td>\n",
       "      <td>2014</td>\n",
       "      <td>0.000109</td>\n",
       "    </tr>\n",
       "    <tr>\n",
       "      <th>20054</th>\n",
       "      <td>Maddux</td>\n",
       "      <td>M</td>\n",
       "      <td>208</td>\n",
       "      <td>2014</td>\n",
       "      <td>0.000109</td>\n",
       "    </tr>\n",
       "    <tr>\n",
       "      <th>20055</th>\n",
       "      <td>Osvaldo</td>\n",
       "      <td>M</td>\n",
       "      <td>208</td>\n",
       "      <td>2014</td>\n",
       "      <td>0.000109</td>\n",
       "    </tr>\n",
       "    <tr>\n",
       "      <th>20056</th>\n",
       "      <td>Rocky</td>\n",
       "      <td>M</td>\n",
       "      <td>208</td>\n",
       "      <td>2014</td>\n",
       "      <td>0.000109</td>\n",
       "    </tr>\n",
       "    <tr>\n",
       "      <th>20060</th>\n",
       "      <td>Jair</td>\n",
       "      <td>M</td>\n",
       "      <td>207</td>\n",
       "      <td>2014</td>\n",
       "      <td>0.000109</td>\n",
       "    </tr>\n",
       "    <tr>\n",
       "      <th>20062</th>\n",
       "      <td>Tyree</td>\n",
       "      <td>M</td>\n",
       "      <td>207</td>\n",
       "      <td>2014</td>\n",
       "      <td>0.000109</td>\n",
       "    </tr>\n",
       "    <tr>\n",
       "      <th>20061</th>\n",
       "      <td>Reyansh</td>\n",
       "      <td>M</td>\n",
       "      <td>207</td>\n",
       "      <td>2014</td>\n",
       "      <td>0.000109</td>\n",
       "    </tr>\n",
       "    <tr>\n",
       "      <th>20059</th>\n",
       "      <td>Foster</td>\n",
       "      <td>M</td>\n",
       "      <td>207</td>\n",
       "      <td>2014</td>\n",
       "      <td>0.000109</td>\n",
       "    </tr>\n",
       "    <tr>\n",
       "      <th>20058</th>\n",
       "      <td>Boden</td>\n",
       "      <td>M</td>\n",
       "      <td>207</td>\n",
       "      <td>2014</td>\n",
       "      <td>0.000109</td>\n",
       "    </tr>\n",
       "    <tr>\n",
       "      <th>20057</th>\n",
       "      <td>Ayan</td>\n",
       "      <td>M</td>\n",
       "      <td>207</td>\n",
       "      <td>2014</td>\n",
       "      <td>0.000109</td>\n",
       "    </tr>\n",
       "    <tr>\n",
       "      <th>20063</th>\n",
       "      <td>Ean</td>\n",
       "      <td>M</td>\n",
       "      <td>206</td>\n",
       "      <td>2014</td>\n",
       "      <td>0.000108</td>\n",
       "    </tr>\n",
       "    <tr>\n",
       "      <th>20064</th>\n",
       "      <td>Leif</td>\n",
       "      <td>M</td>\n",
       "      <td>205</td>\n",
       "      <td>2014</td>\n",
       "      <td>0.000108</td>\n",
       "    </tr>\n",
       "    <tr>\n",
       "      <th>20065</th>\n",
       "      <td>Reagan</td>\n",
       "      <td>M</td>\n",
       "      <td>205</td>\n",
       "      <td>2014</td>\n",
       "      <td>0.000108</td>\n",
       "    </tr>\n",
       "    <tr>\n",
       "      <th>20066</th>\n",
       "      <td>Rylen</td>\n",
       "      <td>M</td>\n",
       "      <td>205</td>\n",
       "      <td>2014</td>\n",
       "      <td>0.000108</td>\n",
       "    </tr>\n",
       "  </tbody>\n",
       "</table>\n",
       "<p>269877 rows × 5 columns</p>\n",
       "</div>"
      ],
      "text/plain": [
       "                     name sex  births  year      prop\n",
       "year sex                                             \n",
       "1880 F   0           Mary   F    7065  1880  0.077643\n",
       "         1           Anna   F    2604  1880  0.028618\n",
       "         2           Emma   F    2003  1880  0.022013\n",
       "         3      Elizabeth   F    1939  1880  0.021309\n",
       "         4         Minnie   F    1746  1880  0.019188\n",
       "         5       Margaret   F    1578  1880  0.017342\n",
       "         6            Ida   F    1472  1880  0.016177\n",
       "         7          Alice   F    1414  1880  0.015540\n",
       "         8         Bertha   F    1320  1880  0.014507\n",
       "         9          Sarah   F    1288  1880  0.014155\n",
       "         10         Annie   F    1258  1880  0.013825\n",
       "         11         Clara   F    1226  1880  0.013474\n",
       "         12          Ella   F    1156  1880  0.012704\n",
       "         13      Florence   F    1063  1880  0.011682\n",
       "         14          Cora   F    1045  1880  0.011484\n",
       "         15        Martha   F    1040  1880  0.011429\n",
       "         16         Laura   F    1012  1880  0.011122\n",
       "         17        Nellie   F     995  1880  0.010935\n",
       "         18         Grace   F     982  1880  0.010792\n",
       "         19        Carrie   F     949  1880  0.010429\n",
       "         20         Maude   F     858  1880  0.009429\n",
       "         21         Mabel   F     808  1880  0.008880\n",
       "         22        Bessie   F     796  1880  0.008748\n",
       "         23        Jennie   F     793  1880  0.008715\n",
       "         24      Gertrude   F     787  1880  0.008649\n",
       "         25         Julia   F     783  1880  0.008605\n",
       "         26        Hattie   F     769  1880  0.008451\n",
       "         27         Edith   F     768  1880  0.008440\n",
       "         28        Mattie   F     704  1880  0.007737\n",
       "         29          Rose   F     700  1880  0.007693\n",
       "...                   ...  ..     ...   ...       ...\n",
       "2014 M   20037      Dario   M     214  2014  0.000113\n",
       "         20038       Kale   M     214  2014  0.000113\n",
       "         20039  Broderick   M     213  2014  0.000112\n",
       "         20040    Jayvion   M     213  2014  0.000112\n",
       "         20041     Kaison   M     213  2014  0.000112\n",
       "         20042       Koen   M     213  2014  0.000112\n",
       "         20043     Magnus   M     213  2014  0.000112\n",
       "         20046   Valentin   M     212  2014  0.000111\n",
       "         20045     Teagan   M     212  2014  0.000111\n",
       "         20044     Darien   M     212  2014  0.000111\n",
       "         20047      Bodie   M     211  2014  0.000111\n",
       "         20048    Brayson   M     211  2014  0.000111\n",
       "         20049      Chace   M     211  2014  0.000111\n",
       "         20050      Kylen   M     209  2014  0.000110\n",
       "         20051     Yehuda   M     209  2014  0.000110\n",
       "         20052    Bridger   M     208  2014  0.000109\n",
       "         20053     Howard   M     208  2014  0.000109\n",
       "         20054     Maddux   M     208  2014  0.000109\n",
       "         20055    Osvaldo   M     208  2014  0.000109\n",
       "         20056      Rocky   M     208  2014  0.000109\n",
       "         20060       Jair   M     207  2014  0.000109\n",
       "         20062      Tyree   M     207  2014  0.000109\n",
       "         20061    Reyansh   M     207  2014  0.000109\n",
       "         20059     Foster   M     207  2014  0.000109\n",
       "         20058      Boden   M     207  2014  0.000109\n",
       "         20057       Ayan   M     207  2014  0.000109\n",
       "         20063        Ean   M     206  2014  0.000108\n",
       "         20064       Leif   M     205  2014  0.000108\n",
       "         20065     Reagan   M     205  2014  0.000108\n",
       "         20066      Rylen   M     205  2014  0.000108\n",
       "\n",
       "[269877 rows x 5 columns]"
      ]
     },
     "execution_count": 94,
     "metadata": {},
     "output_type": "execute_result"
    }
   ],
   "source": [
    "def get_top1000(group):\n",
    "    return group.sort_index(by='births', ascending=False)[:1000]\n",
    "\n",
    "grouped = names.groupby(['year', 'sex'])\n",
    "top1000 = grouped.apply(get_top1000)\n",
    "\n",
    "top1000"
   ]
  },
  {
   "cell_type": "markdown",
   "metadata": {},
   "source": [
    "It might be hard to see what's going on.  Let's do this in a more pedestrian way.  It's possible to iterate through each of the groups generated by `groupby` with a for loop.  Let's look at a bit of the first three groups:"
   ]
  },
  {
   "cell_type": "code",
   "execution_count": 95,
   "metadata": {
    "collapsed": false
   },
   "outputs": [
    {
     "name": "stdout",
     "output_type": "stream",
     "text": [
      "\n",
      "(1880, 'F')\n",
      "        name sex  births  year      prop\n",
      "0       Mary   F    7065  1880  0.077643\n",
      "1       Anna   F    2604  1880  0.028618\n",
      "2       Emma   F    2003  1880  0.022013\n",
      "3  Elizabeth   F    1939  1880  0.021309\n",
      "4     Minnie   F    1746  1880  0.019188\n",
      "...\n",
      "\n",
      "(1880, 'M')\n",
      "        name sex  births  year      prop\n",
      "942     John   M    9655  1880  0.087383\n",
      "943  William   M    9532  1880  0.086269\n",
      "944    James   M    5927  1880  0.053642\n",
      "945  Charles   M    5348  1880  0.048402\n",
      "946   George   M    5126  1880  0.046393\n",
      "...\n",
      "\n",
      "(1881, 'F')\n",
      "        name sex  births  year      prop\n",
      "0       Mary   F    6919  1881  0.075244\n",
      "1       Anna   F    2698  1881  0.029341\n",
      "2       Emma   F    2034  1881  0.022120\n",
      "3  Elizabeth   F    1852  1881  0.020141\n",
      "4   Margaret   F    1658  1881  0.018031\n",
      "...\n"
     ]
    }
   ],
   "source": [
    "for key, group in list(names.groupby(['year', 'sex']))[:3]:\n",
    "    print(\"\")  # Empty line\n",
    "    print(key)\n",
    "    print(group.head())\n",
    "    print(\"...\")"
   ]
  },
  {
   "cell_type": "markdown",
   "metadata": {},
   "source": [
    "Aha!  We get a DataFrame with only the rows corresponding to each group, along with the group key.  So we can iterate through all the groups as follows:\n",
    "```\n",
    "for (year, sex), group in names.groupby(['year', 'sex']):\n",
    "   ...\n",
    "```"
   ]
  },
  {
   "cell_type": "markdown",
   "metadata": {},
   "source": [
    "**Ex 1.4.10 Using a `for` loop and `pd.concat`, build up a the `top1000` DataFrame, i.e., a DataFrame with year, sex and births columns containing only the top 1000 names for each year/sex combination.**"
   ]
  },
  {
   "cell_type": "markdown",
   "metadata": {},
   "source": [
    "Let's build a pivot table that counts births for each year/name combination."
   ]
  },
  {
   "cell_type": "code",
   "execution_count": 96,
   "metadata": {
    "collapsed": false
   },
   "outputs": [
    {
     "data": {
      "text/html": [
       "<div>\n",
       "<table border=\"1\" class=\"dataframe\">\n",
       "  <thead>\n",
       "    <tr style=\"text-align: right;\">\n",
       "      <th>name</th>\n",
       "      <th>Aaden</th>\n",
       "      <th>Aaliyah</th>\n",
       "      <th>Aanya</th>\n",
       "      <th>Aarav</th>\n",
       "      <th>Aaron</th>\n",
       "      <th>Aarush</th>\n",
       "      <th>Ab</th>\n",
       "      <th>Abagail</th>\n",
       "      <th>Abb</th>\n",
       "      <th>Abbey</th>\n",
       "      <th>...</th>\n",
       "      <th>Zoa</th>\n",
       "      <th>Zoe</th>\n",
       "      <th>Zoey</th>\n",
       "      <th>Zoie</th>\n",
       "      <th>Zola</th>\n",
       "      <th>Zollie</th>\n",
       "      <th>Zona</th>\n",
       "      <th>Zora</th>\n",
       "      <th>Zula</th>\n",
       "      <th>Zuri</th>\n",
       "    </tr>\n",
       "    <tr>\n",
       "      <th>year</th>\n",
       "      <th></th>\n",
       "      <th></th>\n",
       "      <th></th>\n",
       "      <th></th>\n",
       "      <th></th>\n",
       "      <th></th>\n",
       "      <th></th>\n",
       "      <th></th>\n",
       "      <th></th>\n",
       "      <th></th>\n",
       "      <th></th>\n",
       "      <th></th>\n",
       "      <th></th>\n",
       "      <th></th>\n",
       "      <th></th>\n",
       "      <th></th>\n",
       "      <th></th>\n",
       "      <th></th>\n",
       "      <th></th>\n",
       "      <th></th>\n",
       "      <th></th>\n",
       "    </tr>\n",
       "  </thead>\n",
       "  <tbody>\n",
       "    <tr>\n",
       "      <th>1880</th>\n",
       "      <td>NaN</td>\n",
       "      <td>NaN</td>\n",
       "      <td>NaN</td>\n",
       "      <td>NaN</td>\n",
       "      <td>102</td>\n",
       "      <td>NaN</td>\n",
       "      <td>NaN</td>\n",
       "      <td>NaN</td>\n",
       "      <td>NaN</td>\n",
       "      <td>NaN</td>\n",
       "      <td>...</td>\n",
       "      <td>8</td>\n",
       "      <td>23</td>\n",
       "      <td>NaN</td>\n",
       "      <td>NaN</td>\n",
       "      <td>7</td>\n",
       "      <td>NaN</td>\n",
       "      <td>8</td>\n",
       "      <td>28</td>\n",
       "      <td>27</td>\n",
       "      <td>NaN</td>\n",
       "    </tr>\n",
       "    <tr>\n",
       "      <th>1881</th>\n",
       "      <td>NaN</td>\n",
       "      <td>NaN</td>\n",
       "      <td>NaN</td>\n",
       "      <td>NaN</td>\n",
       "      <td>94</td>\n",
       "      <td>NaN</td>\n",
       "      <td>NaN</td>\n",
       "      <td>NaN</td>\n",
       "      <td>NaN</td>\n",
       "      <td>NaN</td>\n",
       "      <td>...</td>\n",
       "      <td>NaN</td>\n",
       "      <td>22</td>\n",
       "      <td>NaN</td>\n",
       "      <td>NaN</td>\n",
       "      <td>10</td>\n",
       "      <td>NaN</td>\n",
       "      <td>9</td>\n",
       "      <td>21</td>\n",
       "      <td>27</td>\n",
       "      <td>NaN</td>\n",
       "    </tr>\n",
       "    <tr>\n",
       "      <th>1882</th>\n",
       "      <td>NaN</td>\n",
       "      <td>NaN</td>\n",
       "      <td>NaN</td>\n",
       "      <td>NaN</td>\n",
       "      <td>85</td>\n",
       "      <td>NaN</td>\n",
       "      <td>NaN</td>\n",
       "      <td>NaN</td>\n",
       "      <td>NaN</td>\n",
       "      <td>NaN</td>\n",
       "      <td>...</td>\n",
       "      <td>8</td>\n",
       "      <td>25</td>\n",
       "      <td>NaN</td>\n",
       "      <td>NaN</td>\n",
       "      <td>9</td>\n",
       "      <td>NaN</td>\n",
       "      <td>17</td>\n",
       "      <td>32</td>\n",
       "      <td>21</td>\n",
       "      <td>NaN</td>\n",
       "    </tr>\n",
       "    <tr>\n",
       "      <th>1883</th>\n",
       "      <td>NaN</td>\n",
       "      <td>NaN</td>\n",
       "      <td>NaN</td>\n",
       "      <td>NaN</td>\n",
       "      <td>105</td>\n",
       "      <td>NaN</td>\n",
       "      <td>NaN</td>\n",
       "      <td>NaN</td>\n",
       "      <td>NaN</td>\n",
       "      <td>NaN</td>\n",
       "      <td>...</td>\n",
       "      <td>NaN</td>\n",
       "      <td>23</td>\n",
       "      <td>NaN</td>\n",
       "      <td>NaN</td>\n",
       "      <td>10</td>\n",
       "      <td>NaN</td>\n",
       "      <td>11</td>\n",
       "      <td>35</td>\n",
       "      <td>25</td>\n",
       "      <td>NaN</td>\n",
       "    </tr>\n",
       "    <tr>\n",
       "      <th>1884</th>\n",
       "      <td>NaN</td>\n",
       "      <td>NaN</td>\n",
       "      <td>NaN</td>\n",
       "      <td>NaN</td>\n",
       "      <td>97</td>\n",
       "      <td>NaN</td>\n",
       "      <td>NaN</td>\n",
       "      <td>NaN</td>\n",
       "      <td>NaN</td>\n",
       "      <td>NaN</td>\n",
       "      <td>...</td>\n",
       "      <td>13</td>\n",
       "      <td>31</td>\n",
       "      <td>NaN</td>\n",
       "      <td>NaN</td>\n",
       "      <td>14</td>\n",
       "      <td>6</td>\n",
       "      <td>8</td>\n",
       "      <td>58</td>\n",
       "      <td>27</td>\n",
       "      <td>NaN</td>\n",
       "    </tr>\n",
       "  </tbody>\n",
       "</table>\n",
       "<p>5 rows × 7031 columns</p>\n",
       "</div>"
      ],
      "text/plain": [
       "name  Aaden  Aaliyah  Aanya  Aarav  Aaron  Aarush  Ab  Abagail  Abb  Abbey  \\\n",
       "year                                                                         \n",
       "1880    NaN      NaN    NaN    NaN    102     NaN NaN      NaN  NaN    NaN   \n",
       "1881    NaN      NaN    NaN    NaN     94     NaN NaN      NaN  NaN    NaN   \n",
       "1882    NaN      NaN    NaN    NaN     85     NaN NaN      NaN  NaN    NaN   \n",
       "1883    NaN      NaN    NaN    NaN    105     NaN NaN      NaN  NaN    NaN   \n",
       "1884    NaN      NaN    NaN    NaN     97     NaN NaN      NaN  NaN    NaN   \n",
       "\n",
       "name  ...   Zoa  Zoe  Zoey  Zoie  Zola  Zollie  Zona  Zora  Zula  Zuri  \n",
       "year  ...                                                               \n",
       "1880  ...     8   23   NaN   NaN     7     NaN     8    28    27   NaN  \n",
       "1881  ...   NaN   22   NaN   NaN    10     NaN     9    21    27   NaN  \n",
       "1882  ...     8   25   NaN   NaN     9     NaN    17    32    21   NaN  \n",
       "1883  ...   NaN   23   NaN   NaN    10     NaN    11    35    25   NaN  \n",
       "1884  ...    13   31   NaN   NaN    14       6     8    58    27   NaN  \n",
       "\n",
       "[5 rows x 7031 columns]"
      ]
     },
     "execution_count": 96,
     "metadata": {},
     "output_type": "execute_result"
    }
   ],
   "source": [
    "total_births = top1000.pivot_table('births',\n",
    "                                   index='year',\n",
    "                                   columns='name',\n",
    "                                  aggfunc=sum)\n",
    "total_births.head()"
   ]
  },
  {
   "cell_type": "markdown",
   "metadata": {},
   "source": [
    "We can plot a couple of the columns in this pivot table to see how naming trends have changed with time:"
   ]
  },
  {
   "cell_type": "code",
   "execution_count": 97,
   "metadata": {
    "collapsed": true
   },
   "outputs": [],
   "source": [
    "subset = total_births[['John', 'Harry', 'Mary', 'Marilyn']]"
   ]
  },
  {
   "cell_type": "code",
   "execution_count": 98,
   "metadata": {
    "collapsed": false
   },
   "outputs": [
    {
     "data": {
      "text/plain": [
       "year\n",
       "1880     201194\n",
       "1881     192699\n",
       "1882     220903\n",
       "1883     216530\n",
       "1884     241959\n",
       "1885     239339\n",
       "1886     253252\n",
       "1887     245350\n",
       "1888     295750\n",
       "1889     285552\n",
       "1890     297278\n",
       "1891     282737\n",
       "1892     328717\n",
       "1893     320035\n",
       "1894     332649\n",
       "1895     344016\n",
       "1896     350269\n",
       "1897     340269\n",
       "1898     372861\n",
       "1899     332399\n",
       "1900     437621\n",
       "1901     338083\n",
       "1902     377190\n",
       "1903     371547\n",
       "1904     392482\n",
       "1905     411909\n",
       "1906     416445\n",
       "1907     450850\n",
       "1908     473146\n",
       "1909     493927\n",
       "         ...   \n",
       "1985    3230187\n",
       "1986    3208443\n",
       "1987    3241422\n",
       "1988    3303985\n",
       "1989    3416768\n",
       "1990    3496960\n",
       "1991    3429951\n",
       "1992    3364877\n",
       "1993    3287621\n",
       "1994    3229203\n",
       "1995    3174774\n",
       "1996    3145853\n",
       "1997    3109261\n",
       "1998    3134981\n",
       "1999    3130657\n",
       "2000    3176781\n",
       "2001    3124323\n",
       "2002    3107495\n",
       "2003    3144498\n",
       "2004    3132384\n",
       "2005    3135412\n",
       "2006    3195432\n",
       "2007    3203550\n",
       "2008    3129057\n",
       "2009    3024194\n",
       "2010    2918723\n",
       "2011    2888231\n",
       "2012    2880561\n",
       "2013    2878181\n",
       "2014    2918178\n",
       "dtype: float64"
      ]
     },
     "execution_count": 98,
     "metadata": {},
     "output_type": "execute_result"
    }
   ],
   "source": [
    "total_births.sum(axis=1)"
   ]
  },
  {
   "cell_type": "code",
   "execution_count": 99,
   "metadata": {
    "collapsed": false
   },
   "outputs": [
    {
     "data": {
      "text/plain": [
       "array([<matplotlib.axes._subplots.AxesSubplot object at 0x1085e2ad0>,\n",
       "       <matplotlib.axes._subplots.AxesSubplot object at 0x108bef050>,\n",
       "       <matplotlib.axes._subplots.AxesSubplot object at 0x10a7bd510>,\n",
       "       <matplotlib.axes._subplots.AxesSubplot object at 0x10ac80690>], dtype=object)"
      ]
     },
     "execution_count": 99,
     "metadata": {},
     "output_type": "execute_result"
    },
    {
     "data": {
      "image/png": "[encoded data removed]",
      "text/plain": [
       "<matplotlib.figure.Figure at 0x1085e2690>"
      ]
     },
     "metadata": {},
     "output_type": "display_data"
    }
   ],
   "source": [
    "subset.plot(subplots=True, figsize=(12,10), grid=False,\n",
    "           title=\"Number of births per year\")"
   ]
  },
  {
   "cell_type": "markdown",
   "metadata": {},
   "source": [
    "**Ex 1.4.11 Plot the proportion in each year of babies named John, Harry, Mary and Marilyn, all in one figure.**"
   ]
  },
  {
   "cell_type": "markdown",
   "metadata": {},
   "source": [
    "Are these names dropping in popularity over time, or is the diversity of names going up with time?  Let's see what the data says...\n",
    "\n",
    "One measure of diversity is the fraction of names accounted for by the top 1000 names every year."
   ]
  },
  {
   "cell_type": "code",
   "execution_count": 100,
   "metadata": {
    "collapsed": true
   },
   "outputs": [],
   "source": [
    "table = top1000.pivot_table('prop',\n",
    "                            index='year',columns='sex', aggfunc=sum)"
   ]
  },
  {
   "cell_type": "code",
   "execution_count": 101,
   "metadata": {
    "collapsed": false
   },
   "outputs": [
    {
     "data": {
      "text/plain": [
       "<matplotlib.axes._subplots.AxesSubplot at 0x1065e33d0>"
      ]
     },
     "execution_count": 101,
     "metadata": {},
     "output_type": "execute_result"
    },
    {
     "data": {
      "image/png": "[encoded data removed]",
      "text/plain": [
       "<matplotlib.figure.Figure at 0x107b728d0>"
      ]
     },
     "metadata": {},
     "output_type": "display_data"
    }
   ],
   "source": [
    "table.plot(title='Sum of table1000.prop by year and sex',\n",
    "          yticks=np.linspace(0, 1.2, 13), xticks=range(1880, 2020, 10))"
   ]
  },
  {
   "cell_type": "markdown",
   "metadata": {},
   "source": [
    "So it looks like diversity has been going up over time: as the years go by, the top 1000 names account for a smaller and smaller proportion of baby names."
   ]
  },
  {
   "cell_type": "markdown",
   "metadata": {},
   "source": [
    "Let's look at another measure of diversity: how many names account for the top 50% of all baby names?  This is tricky to do but perfectly possible with Pandas.  We'll build it up slowly."
   ]
  },
  {
   "cell_type": "markdown",
   "metadata": {},
   "source": [
    "Let's just take the top 1000 girl names in 1880:"
   ]
  },
  {
   "cell_type": "code",
   "execution_count": 102,
   "metadata": {
    "collapsed": false
   },
   "outputs": [
    {
     "data": {
      "text/html": [
       "<div>\n",
       "<table border=\"1\" class=\"dataframe\">\n",
       "  <thead>\n",
       "    <tr style=\"text-align: right;\">\n",
       "      <th></th>\n",
       "      <th></th>\n",
       "      <th></th>\n",
       "      <th>name</th>\n",
       "      <th>sex</th>\n",
       "      <th>births</th>\n",
       "      <th>year</th>\n",
       "      <th>prop</th>\n",
       "    </tr>\n",
       "    <tr>\n",
       "      <th>year</th>\n",
       "      <th>sex</th>\n",
       "      <th></th>\n",
       "      <th></th>\n",
       "      <th></th>\n",
       "      <th></th>\n",
       "      <th></th>\n",
       "      <th></th>\n",
       "    </tr>\n",
       "  </thead>\n",
       "  <tbody>\n",
       "    <tr>\n",
       "      <th rowspan=\"5\" valign=\"top\">1880</th>\n",
       "      <th rowspan=\"5\" valign=\"top\">F</th>\n",
       "      <th>0</th>\n",
       "      <td>Mary</td>\n",
       "      <td>F</td>\n",
       "      <td>7065</td>\n",
       "      <td>1880</td>\n",
       "      <td>0.077643</td>\n",
       "    </tr>\n",
       "    <tr>\n",
       "      <th>1</th>\n",
       "      <td>Anna</td>\n",
       "      <td>F</td>\n",
       "      <td>2604</td>\n",
       "      <td>1880</td>\n",
       "      <td>0.028618</td>\n",
       "    </tr>\n",
       "    <tr>\n",
       "      <th>2</th>\n",
       "      <td>Emma</td>\n",
       "      <td>F</td>\n",
       "      <td>2003</td>\n",
       "      <td>1880</td>\n",
       "      <td>0.022013</td>\n",
       "    </tr>\n",
       "    <tr>\n",
       "      <th>3</th>\n",
       "      <td>Elizabeth</td>\n",
       "      <td>F</td>\n",
       "      <td>1939</td>\n",
       "      <td>1880</td>\n",
       "      <td>0.021309</td>\n",
       "    </tr>\n",
       "    <tr>\n",
       "      <th>4</th>\n",
       "      <td>Minnie</td>\n",
       "      <td>F</td>\n",
       "      <td>1746</td>\n",
       "      <td>1880</td>\n",
       "      <td>0.019188</td>\n",
       "    </tr>\n",
       "  </tbody>\n",
       "</table>\n",
       "</div>"
      ],
      "text/plain": [
       "                 name sex  births  year      prop\n",
       "year sex                                         \n",
       "1880 F   0       Mary   F    7065  1880  0.077643\n",
       "         1       Anna   F    2604  1880  0.028618\n",
       "         2       Emma   F    2003  1880  0.022013\n",
       "         3  Elizabeth   F    1939  1880  0.021309\n",
       "         4     Minnie   F    1746  1880  0.019188"
      ]
     },
     "execution_count": 102,
     "metadata": {},
     "output_type": "execute_result"
    }
   ],
   "source": [
    "top1000_girls_1880 = top1000[(top1000.year == 1880) & (top1000.sex == 'F')]\n",
    "top1000_girls_1880.head()"
   ]
  },
  {
   "cell_type": "markdown",
   "metadata": {},
   "source": [
    "What we need to find is this: if we sort the names starting with the most common, at what point will the cumulative sum of `prop` reach or exceed 50%?"
   ]
  },
  {
   "cell_type": "code",
   "execution_count": 103,
   "metadata": {
    "collapsed": false
   },
   "outputs": [
    {
     "data": {
      "text/html": [
       "<div>\n",
       "<table border=\"1\" class=\"dataframe\">\n",
       "  <thead>\n",
       "    <tr style=\"text-align: right;\">\n",
       "      <th></th>\n",
       "      <th></th>\n",
       "      <th></th>\n",
       "      <th>name</th>\n",
       "      <th>sex</th>\n",
       "      <th>births</th>\n",
       "      <th>year</th>\n",
       "      <th>prop</th>\n",
       "      <th>cumprop</th>\n",
       "    </tr>\n",
       "    <tr>\n",
       "      <th>year</th>\n",
       "      <th>sex</th>\n",
       "      <th></th>\n",
       "      <th></th>\n",
       "      <th></th>\n",
       "      <th></th>\n",
       "      <th></th>\n",
       "      <th></th>\n",
       "      <th></th>\n",
       "    </tr>\n",
       "  </thead>\n",
       "  <tbody>\n",
       "    <tr>\n",
       "      <th rowspan=\"5\" valign=\"top\">1880</th>\n",
       "      <th rowspan=\"5\" valign=\"top\">F</th>\n",
       "      <th>0</th>\n",
       "      <td>Mary</td>\n",
       "      <td>F</td>\n",
       "      <td>7065</td>\n",
       "      <td>1880</td>\n",
       "      <td>0.077643</td>\n",
       "      <td>0.077643</td>\n",
       "    </tr>\n",
       "    <tr>\n",
       "      <th>1</th>\n",
       "      <td>Anna</td>\n",
       "      <td>F</td>\n",
       "      <td>2604</td>\n",
       "      <td>1880</td>\n",
       "      <td>0.028618</td>\n",
       "      <td>0.106261</td>\n",
       "    </tr>\n",
       "    <tr>\n",
       "      <th>2</th>\n",
       "      <td>Emma</td>\n",
       "      <td>F</td>\n",
       "      <td>2003</td>\n",
       "      <td>1880</td>\n",
       "      <td>0.022013</td>\n",
       "      <td>0.128274</td>\n",
       "    </tr>\n",
       "    <tr>\n",
       "      <th>3</th>\n",
       "      <td>Elizabeth</td>\n",
       "      <td>F</td>\n",
       "      <td>1939</td>\n",
       "      <td>1880</td>\n",
       "      <td>0.021309</td>\n",
       "      <td>0.149583</td>\n",
       "    </tr>\n",
       "    <tr>\n",
       "      <th>4</th>\n",
       "      <td>Minnie</td>\n",
       "      <td>F</td>\n",
       "      <td>1746</td>\n",
       "      <td>1880</td>\n",
       "      <td>0.019188</td>\n",
       "      <td>0.168771</td>\n",
       "    </tr>\n",
       "  </tbody>\n",
       "</table>\n",
       "</div>"
      ],
      "text/plain": [
       "                 name sex  births  year      prop   cumprop\n",
       "year sex                                                   \n",
       "1880 F   0       Mary   F    7065  1880  0.077643  0.077643\n",
       "         1       Anna   F    2604  1880  0.028618  0.106261\n",
       "         2       Emma   F    2003  1880  0.022013  0.128274\n",
       "         3  Elizabeth   F    1939  1880  0.021309  0.149583\n",
       "         4     Minnie   F    1746  1880  0.019188  0.168771"
      ]
     },
     "execution_count": 103,
     "metadata": {},
     "output_type": "execute_result"
    }
   ],
   "source": [
    "sorted_names = top1000_girls_1880.sort_index(by='prop', ascending=False)\n",
    "sorted_names['cumprop'] = top1000_girls_1880.prop.cumsum()\n",
    "sorted_names.head()"
   ]
  },
  {
   "cell_type": "markdown",
   "metadata": {},
   "source": [
    "We could either code up a method to scan the `cumprop` column or find a built-in one that will do the job."
   ]
  },
  {
   "cell_type": "markdown",
   "metadata": {},
   "source": [
    "**Ex 1.4.12 Write a method that takes `cumprop` as an array of numbers and finds the index of the first element where cumprop > 0.50**"
   ]
  },
  {
   "cell_type": "markdown",
   "metadata": {},
   "source": [
    "As luck would have it, NumPy already has a method to do what we want: given a sorted list, `searchsorted(x)` returns the index of the first element greater than x:"
   ]
  },
  {
   "cell_type": "code",
   "execution_count": 104,
   "metadata": {
    "collapsed": false
   },
   "outputs": [
    {
     "data": {
      "text/plain": [
       "2"
      ]
     },
     "execution_count": 104,
     "metadata": {},
     "output_type": "execute_result"
    }
   ],
   "source": [
    "np.searchsorted([0.05,0.10,0.15,0.20,0.25], 0.12)"
   ]
  },
  {
   "cell_type": "markdown",
   "metadata": {},
   "source": [
    "In this case, if the vector above were a vector of cumulative fractions, we'd need to include the first 3 items (not the first 2) to cover 12% of the cases."
   ]
  },
  {
   "cell_type": "markdown",
   "metadata": {},
   "source": [
    "Let's put this all together into a function that we can apply to a DataFrame in a `groupby` operation:"
   ]
  },
  {
   "cell_type": "code",
   "execution_count": 105,
   "metadata": {
    "collapsed": true
   },
   "outputs": [],
   "source": [
    "def get_quantile_count(group, q = 0.5):\n",
    "    group = group.sort_index(by='prop', ascending=False)\n",
    "    \n",
    "    # float() to convert a 1-element\n",
    "    return np.searchsorted(group.prop.cumsum().values, q) + 1"
   ]
  },
  {
   "cell_type": "code",
   "execution_count": 106,
   "metadata": {
    "collapsed": false
   },
   "outputs": [
    {
     "data": {
      "text/plain": [
       "year  sex\n",
       "1880  F      38\n",
       "      M      14\n",
       "1881  F      38\n",
       "      M      14\n",
       "1882  F      38\n",
       "dtype: int64"
      ]
     },
     "execution_count": 106,
     "metadata": {},
     "output_type": "execute_result"
    }
   ],
   "source": [
    "diversity = top1000.groupby(['year', 'sex']).agg(get_quantile_count)\n",
    "diversity.head()"
   ]
  },
  {
   "cell_type": "markdown",
   "metadata": {},
   "source": [
    "The table above uses something called hierarchical indexing, where both `year` and `sex` together act as a label.  It's more natural to turn this into a 2D table.  We can do that with `unstack`."
   ]
  },
  {
   "cell_type": "code",
   "execution_count": 107,
   "metadata": {
    "collapsed": false
   },
   "outputs": [
    {
     "data": {
      "text/html": [
       "<div>\n",
       "<table border=\"1\" class=\"dataframe\">\n",
       "  <thead>\n",
       "    <tr style=\"text-align: right;\">\n",
       "      <th>sex</th>\n",
       "      <th>F</th>\n",
       "      <th>M</th>\n",
       "    </tr>\n",
       "    <tr>\n",
       "      <th>year</th>\n",
       "      <th></th>\n",
       "      <th></th>\n",
       "    </tr>\n",
       "  </thead>\n",
       "  <tbody>\n",
       "    <tr>\n",
       "      <th>1880</th>\n",
       "      <td>38</td>\n",
       "      <td>14</td>\n",
       "    </tr>\n",
       "    <tr>\n",
       "      <th>1881</th>\n",
       "      <td>38</td>\n",
       "      <td>14</td>\n",
       "    </tr>\n",
       "    <tr>\n",
       "      <th>1882</th>\n",
       "      <td>38</td>\n",
       "      <td>15</td>\n",
       "    </tr>\n",
       "    <tr>\n",
       "      <th>1883</th>\n",
       "      <td>39</td>\n",
       "      <td>15</td>\n",
       "    </tr>\n",
       "    <tr>\n",
       "      <th>1884</th>\n",
       "      <td>39</td>\n",
       "      <td>16</td>\n",
       "    </tr>\n",
       "  </tbody>\n",
       "</table>\n",
       "</div>"
      ],
      "text/plain": [
       "sex    F   M\n",
       "year        \n",
       "1880  38  14\n",
       "1881  38  14\n",
       "1882  38  15\n",
       "1883  39  15\n",
       "1884  39  16"
      ]
     },
     "execution_count": 107,
     "metadata": {},
     "output_type": "execute_result"
    }
   ],
   "source": [
    "diversity = diversity.unstack()\n",
    "diversity.head()"
   ]
  },
  {
   "cell_type": "code",
   "execution_count": 108,
   "metadata": {
    "collapsed": false
   },
   "outputs": [
    {
     "data": {
      "text/plain": [
       "<matplotlib.axes._subplots.AxesSubplot at 0x10aea58d0>"
      ]
     },
     "execution_count": 108,
     "metadata": {},
     "output_type": "execute_result"
    },
    {
     "data": {
      "image/png": "[encoded data removed]",
      "text/plain": [
       "<matplotlib.figure.Figure at 0x10a27ce90>"
      ]
     },
     "metadata": {},
     "output_type": "display_data"
    }
   ],
   "source": [
    "diversity.plot(title=\"Number of popular names in top 50%\")"
   ]
  },
  {
   "cell_type": "markdown",
   "metadata": {},
   "source": [
    "One final cute example: we can see how some names have changed switched genders over time!"
   ]
  },
  {
   "cell_type": "code",
   "execution_count": 109,
   "metadata": {
    "collapsed": false
   },
   "outputs": [
    {
     "data": {
      "image/png": "[encoded data removed]",
      "text/plain": [
       "<matplotlib.figure.Figure at 0x10a282ed0>"
      ]
     },
     "metadata": {},
     "output_type": "display_data"
    }
   ],
   "source": [
    "names_to_check = ['Allison', 'Alison']\n",
    "\n",
    "# filter on just the names we're interested in\n",
    "births = names[names.name.isin(names_to_check)]\n",
    "\n",
    "# pivot table to get year vs. gender\n",
    "births = births.pivot_table('births', index='year', columns='sex')\n",
    "\n",
    "# fill all NaNs with zeros\n",
    "births = births.fillna(0)\n",
    "\n",
    "# normalize along columns\n",
    "births = births.div(births.sum(1), axis=0)\n",
    "\n",
    "births.plot(title='Fraction of babies named Allison');"
   ]
  },
  {
   "cell_type": "markdown",
   "metadata": {},
   "source": [
    "**(!) Ex 1.4.13  As you can see above, some names have alternate spellings.  It's a tough problem to automatically group all \"similar\" names together.  A first step might be to find groups of names that start with the same 4 letters.  Find all such groups, listing the group with most variants first.**"
   ]
  }
 ],
 "metadata": {
  "kernelspec": {
   "display_name": "Python 2",
   "language": "python",
   "name": "python2"
  },
  "language_info": {
   "codemirror_mode": {
    "name": "ipython",
    "version": 2
   },
   "file_extension": ".py",
   "mimetype": "text/x-python",
   "name": "python",
   "nbconvert_exporter": "python",
   "pygments_lexer": "ipython2",
   "version": "2.7.9"
  }
 },
 "nbformat": 4,
 "nbformat_minor": 0
}
