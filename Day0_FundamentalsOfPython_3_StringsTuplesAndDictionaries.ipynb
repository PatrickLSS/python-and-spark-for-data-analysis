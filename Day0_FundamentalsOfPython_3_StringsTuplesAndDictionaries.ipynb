{
 "cells": [
  {
   "cell_type": "markdown",
   "metadata": {},
   "source": [
    "### 0.9. Strings"
   ]
  },
  {
   "cell_type": "markdown",
   "metadata": {},
   "source": [
    "It's extremely common to deal with lots of text in a real-world context.  Python has plenty of support for textual data.  We'll go through some of the most common operations here."
   ]
  },
  {
   "cell_type": "markdown",
   "metadata": {},
   "source": [
    "Python represents texts as **strings**, which are basically lists of characters."
   ]
  },
  {
   "cell_type": "code",
   "execution_count": 1,
   "metadata": {
    "collapsed": false
   },
   "outputs": [
    {
     "data": {
      "text/plain": [
       "str"
      ]
     },
     "execution_count": 1,
     "metadata": {},
     "output_type": "execute_result"
    }
   ],
   "source": [
    "x = \"Hello, world\"\n",
    "type(x)"
   ]
  },
  {
   "cell_type": "markdown",
   "metadata": {},
   "source": [
    "There are a couple of ways of specifying strings, each of which is most convenient in the right context:\n",
    "* Using single quotes: `'Does the name \"John\" ring a bell?'`\n",
    "* Using double quotes: `\"It's Friday\"`\n",
    "* Using triple quotes: `\"\"\"A long`  \n",
    "`long`  \n",
    "`string\"\"\"`\n",
    "* Raw strings: `r\"\\w*\\d{4}\"` or `r\"C:\\Windows\"` or `r\"\"\"\\w*\\d{4}\"\"\"` (more below)"
   ]
  },
  {
   "cell_type": "markdown",
   "metadata": {},
   "source": [
    "Use single quotes when the string itself contains double quotes.  Likewise, use double quotes when the string itself contains single quotes.  Normal strings can't span multiple lines: that's what triple-quoted strings are useful for."
   ]
  },
  {
   "cell_type": "markdown",
   "metadata": {},
   "source": [
    "Inside strings, you can introduce special characters by _escaping_ them with a backslash.  Here are some common examples:\n",
    "* `\\n`: Newline\n",
    "* `\\r`: Carriage return\n",
    "* `\\t`: Tab\n",
    "* `\\'`: Single quote (works even inside single-quoted strings)\n",
    "* `\\\"`: Double quote (works even inside double-quoted strings)\n",
    "* `\\\\`: Backslash itself\n",
    "\n",
    "Here's an example:"
   ]
  },
  {
   "cell_type": "code",
   "execution_count": 2,
   "metadata": {
    "collapsed": false
   },
   "outputs": [
    {
     "name": "stdout",
     "output_type": "stream",
     "text": [
      "A complex string\n",
      "with\tmany so-called \"quoted' characters,\n",
      "introduced with \\\n"
     ]
    }
   ],
   "source": [
    "print(\"A complex string\\nwith\\tmany so-called \\\"quoted\\' characters,\\nintroduced with \\\\\")"
   ]
  },
  {
   "cell_type": "markdown",
   "metadata": {},
   "source": [
    "In regular expressions (which we'll cover later if you've never seen them), all this quoting really gets in the way.  That's where raw strings are useful.  Raw strings will not interpret any escape characters.  \n",
    "You might also find raw strings useful for specifying pathnames in Windows."
   ]
  },
  {
   "cell_type": "code",
   "execution_count": 3,
   "metadata": {
    "collapsed": false
   },
   "outputs": [
    {
     "name": "stdout",
     "output_type": "stream",
     "text": [
      "Search for backslashed words and digits (hard): '\\\\\\w+\\d{4}'\n",
      "Search for backslashed words and digits (easy): '\\\\\\w+\\d{4}'\n",
      "Path (hard): C:\\Users\\me\\folder\\data.txt\n",
      "Path (easy): C:\\Users\\me\\folder\\data.txt\n"
     ]
    }
   ],
   "source": [
    "print( \"Search for backslashed words and digits (hard): '\\\\\\\\\\\\w+\\\\d{4}'\")\n",
    "print(r\"Search for backslashed words and digits (easy): '\\\\\\w+\\d{4}'\")\n",
    "print( \"Path (hard): C:\\\\Users\\\\me\\\\folder\\\\data.txt\")\n",
    "print(r\"Path (easy): C:\\Users\\me\\folder\\data.txt\")\n"
   ]
  },
  {
   "cell_type": "markdown",
   "metadata": {},
   "source": [
    "As mentioned above, strings are basically lists of characters, which you can access via indexing or slicing:"
   ]
  },
  {
   "cell_type": "code",
   "execution_count": 4,
   "metadata": {
    "collapsed": false
   },
   "outputs": [
    {
     "name": "stdout",
     "output_type": "stream",
     "text": [
      "H\n",
      "ll\n",
      "llo\n"
     ]
    }
   ],
   "source": [
    "s = \"Hello\"\n",
    "print(s[0])\n",
    "print(s[2:4])\n",
    "print(s[-3:])"
   ]
  },
  {
   "cell_type": "markdown",
   "metadata": {},
   "source": [
    "**Ex 0.9.1.  How would you classify a filename based on its extension as either a JPEG, a text file, a CSV, or something else?**  \n",
    "\n",
    "Your solution should recognize the following extensions:\n",
    "* `.csv`\n",
    "* `.txt`\n",
    "* `.jpg`\n",
    "* something else\n",
    "\n",
    "Depending on the extension, print out a file type.  For example, given \"hello.jpg\", you should print out \"a JPEG image\""
   ]
  },
  {
   "cell_type": "markdown",
   "metadata": {},
   "source": [
    "You can iterate through the characters in a string with a for loop:"
   ]
  },
  {
   "cell_type": "code",
   "execution_count": 5,
   "metadata": {
    "collapsed": false
   },
   "outputs": [
    {
     "name": "stdout",
     "output_type": "stream",
     "text": [
      "H\n",
      "e\n",
      "l\n",
      "l\n",
      "o\n"
     ]
    }
   ],
   "source": [
    "for c in \"Hello\":\n",
    "    print c"
   ]
  },
  {
   "cell_type": "markdown",
   "metadata": {},
   "source": [
    "**Ex 0.9.2. Given a string for a phone number, e.g. \"+32-123-456789\", count the number of hyphens in it**"
   ]
  },
  {
   "cell_type": "markdown",
   "metadata": {},
   "source": [
    "You can use list comprehensions on the characters of a string"
   ]
  },
  {
   "cell_type": "markdown",
   "metadata": {},
   "source": [
    "**Ex 0.9.3. Repeat exercise 0.9.2 using list comprehensions**"
   ]
  },
  {
   "cell_type": "markdown",
   "metadata": {},
   "source": [
    "Strings have lots of other specialized functions.  Here are the most common:"
   ]
  },
  {
   "cell_type": "code",
   "execution_count": 6,
   "metadata": {
    "collapsed": false
   },
   "outputs": [
    {
     "data": {
      "text/plain": [
       "'HELLO WORLD'"
      ]
     },
     "execution_count": 6,
     "metadata": {},
     "output_type": "execute_result"
    }
   ],
   "source": [
    "s = \"hello world\"\n",
    "s.upper()"
   ]
  },
  {
   "cell_type": "code",
   "execution_count": 7,
   "metadata": {
    "collapsed": false
   },
   "outputs": [
    {
     "data": {
      "text/plain": [
       "'my name is earl'"
      ]
     },
     "execution_count": 7,
     "metadata": {},
     "output_type": "execute_result"
    }
   ],
   "source": [
    "s = \"My NaMe Is EaRl\"\n",
    "s.lower()"
   ]
  },
  {
   "cell_type": "code",
   "execution_count": 8,
   "metadata": {
    "collapsed": false
   },
   "outputs": [
    {
     "data": {
      "text/plain": [
       "True"
      ]
     },
     "execution_count": 8,
     "metadata": {},
     "output_type": "execute_result"
    }
   ],
   "source": [
    "s = \"John Doe\"\n",
    "s.startswith(\"John\")"
   ]
  },
  {
   "cell_type": "code",
   "execution_count": 9,
   "metadata": {
    "collapsed": false
   },
   "outputs": [
    {
     "data": {
      "text/plain": [
       "True"
      ]
     },
     "execution_count": 9,
     "metadata": {},
     "output_type": "execute_result"
    }
   ],
   "source": [
    "s = \"myfile.jpg\"\n",
    "s.endswith(\".jpg\")"
   ]
  },
  {
   "cell_type": "markdown",
   "metadata": {
    "collapsed": false
   },
   "source": [
    "There are plenty of functions to classify characters:"
   ]
  },
  {
   "cell_type": "code",
   "execution_count": 10,
   "metadata": {
    "collapsed": false
   },
   "outputs": [
    {
     "name": "stdout",
     "output_type": "stream",
     "text": [
      "True\n",
      "True\n",
      "True\n"
     ]
    }
   ],
   "source": [
    "print(\"9\".isdigit())\n",
    "print(\"a\".isalpha())\n",
    "print(\"\\t\".isspace())"
   ]
  },
  {
   "cell_type": "markdown",
   "metadata": {},
   "source": [
    "Two particularly useful operations are `split` and `join`.  `split` takes one string and a delimiter and returns a list of substrings between such delimiters:"
   ]
  },
  {
   "cell_type": "code",
   "execution_count": 11,
   "metadata": {
    "collapsed": false
   },
   "outputs": [
    {
     "data": {
      "text/plain": [
       "['one', 'two', 'three']"
      ]
     },
     "execution_count": 11,
     "metadata": {},
     "output_type": "execute_result"
    }
   ],
   "source": [
    "csvline = \"one,two,three\"\n",
    "csvline.split(\",\")"
   ]
  },
  {
   "cell_type": "markdown",
   "metadata": {},
   "source": [
    "`join` takes a list of strings and a delimiter, then joins the strings with the delimiter in between.  The syntax is a bit special:"
   ]
  },
  {
   "cell_type": "code",
   "execution_count": 12,
   "metadata": {
    "collapsed": false
   },
   "outputs": [
    {
     "data": {
      "text/plain": [
       "'one,two,three'"
      ]
     },
     "execution_count": 12,
     "metadata": {},
     "output_type": "execute_result"
    }
   ],
   "source": [
    "\",\".join([\"one\", \"two\", \"three\"])"
   ]
  },
  {
   "cell_type": "markdown",
   "metadata": {
    "collapsed": false
   },
   "source": [
    "The delimeter can be the empty string.  That's actually quite useful:"
   ]
  },
  {
   "cell_type": "code",
   "execution_count": 13,
   "metadata": {
    "collapsed": false
   },
   "outputs": [
    {
     "data": {
      "text/plain": [
       "'abracadabra'"
      ]
     },
     "execution_count": 13,
     "metadata": {},
     "output_type": "execute_result"
    }
   ],
   "source": [
    "\"\".join([\"abra\",\"cadabra\"])"
   ]
  },
  {
   "cell_type": "markdown",
   "metadata": {},
   "source": [
    "**Ex 0.9.4. Using `join` and a list comprehension, remove anything except the digits in the phone number \"+32-123-456789\"**"
   ]
  },
  {
   "cell_type": "markdown",
   "metadata": {
    "collapsed": false
   },
   "source": [
    "Finally, `strip()` will remove leading and trailing spaces from a string"
   ]
  },
  {
   "cell_type": "code",
   "execution_count": 14,
   "metadata": {
    "collapsed": false
   },
   "outputs": [
    {
     "data": {
      "text/plain": [
       "'hi'"
      ]
     },
     "execution_count": 14,
     "metadata": {},
     "output_type": "execute_result"
    }
   ],
   "source": [
    "\"  hi\\t\".strip()"
   ]
  },
  {
   "cell_type": "markdown",
   "metadata": {},
   "source": [
    "**Ex 0.9.5. Using `split`, `strip` and a list comprehension, take a line from a CSV and make a list of the fields in there, with leading and trailing spaces removed**  \n",
    "Try your code with `csvline=\" one ,  two, three\"`"
   ]
  },
  {
   "cell_type": "markdown",
   "metadata": {},
   "source": [
    "*Optional:* Given `csvline=\"  1, 2.4,5, 1000\"`, could you turn this into a list of `float`s?"
   ]
  },
  {
   "cell_type": "markdown",
   "metadata": {},
   "source": [
    "Let's take a quick detour into IPython.  Suppose you don't quite remember what a string operation is called or how to use it.  IPython can help!  First, make a string variable:"
   ]
  },
  {
   "cell_type": "code",
   "execution_count": 15,
   "metadata": {
    "collapsed": true
   },
   "outputs": [],
   "source": [
    "s = \"hello\""
   ]
  },
  {
   "cell_type": "markdown",
   "metadata": {},
   "source": [
    "Now start typing `s.` and press `TAB`.  You'll see all the operations that are available for strings!\n",
    "\n",
    "Somewhere in there, you should see a `find` operation that we haven't covered.  How can you find out what it does and how to use it?  Simple: add `?` at the end of `find` and evaluate the cell.  IPython will pop up a window with the **help string** of the given function."
   ]
  },
  {
   "cell_type": "code",
   "execution_count": 16,
   "metadata": {
    "collapsed": true
   },
   "outputs": [],
   "source": [
    "s.find?"
   ]
  },
  {
   "cell_type": "markdown",
   "metadata": {},
   "source": [
    "Ok, so we can use it to find the location of a substring!  Or test whether a string contains a substring:"
   ]
  },
  {
   "cell_type": "code",
   "execution_count": 17,
   "metadata": {
    "collapsed": false
   },
   "outputs": [
    {
     "name": "stdout",
     "output_type": "stream",
     "text": [
      "4\n",
      "cadbra\n"
     ]
    }
   ],
   "source": [
    "s = \"abracadbra\"\n",
    "print(s.find(\"cad\"))\n",
    "print(s[s.find(\"cad\"):])"
   ]
  },
  {
   "cell_type": "code",
   "execution_count": 18,
   "metadata": {
    "collapsed": false
   },
   "outputs": [
    {
     "data": {
      "text/plain": [
       "-1"
      ]
     },
     "execution_count": 18,
     "metadata": {},
     "output_type": "execute_result"
    }
   ],
   "source": [
    "s = \"not in here\"\n",
    "s.find(\"there\")"
   ]
  },
  {
   "cell_type": "markdown",
   "metadata": {},
   "source": [
    "**Ex 0.9.6. Look up the help string for `split`.  Now split the string \"one,two,three\" into two parts, one before the first comma and then everything after that**"
   ]
  },
  {
   "cell_type": "markdown",
   "metadata": {
    "collapsed": false
   },
   "source": [
    "**Ex 0.9.7. Look up the help string for `replace`.  Now replace every hyphen in the phone number \"+32-123-456789\" with a dot (`'.'`)**"
   ]
  },
  {
   "cell_type": "markdown",
   "metadata": {},
   "source": [
    "---"
   ]
  },
  {
   "cell_type": "markdown",
   "metadata": {},
   "source": [
    "Now with plenty of practice with strings, we're ready to introduce `format`.  This function allows you to insert values within a string and control how those values are displayed.  Here are a couple of representative examples:"
   ]
  },
  {
   "cell_type": "code",
   "execution_count": 19,
   "metadata": {
    "collapsed": false
   },
   "outputs": [
    {
     "name": "stdout",
     "output_type": "stream",
     "text": [
      "a = 10, a^2 = 100. What do you think, John?\n"
     ]
    }
   ],
   "source": [
    "print(\"a = {0}, a^2 = {1}. What do you think, {2}?\"\n",
    "      .format(10, 10**2, \"John\"))"
   ]
  },
  {
   "cell_type": "markdown",
   "metadata": {},
   "source": [
    "Here's a more interesting example of how you might control field alignment and width to format a table:"
   ]
  },
  {
   "cell_type": "code",
   "execution_count": 20,
   "metadata": {
    "collapsed": false
   },
   "outputs": [
    {
     "name": "stdout",
     "output_type": "stream",
     "text": [
      "name            age       phone        \n",
      "John             25   +32-123-456789   \n",
      "Melissa          38   +1-510-123456    \n",
      "Joey              3       <none>       \n"
     ]
    }
   ],
   "source": [
    "data = [\n",
    "    ['name', 'age', 'phone'],          # Header row\n",
    "    ['John', 25, '+32-123-456789'],    # Data row 1\n",
    "    ['Melissa', 38, '+1-510-123456'],  # Data row 2\n",
    "    ['Joey', 3, '<none>'],             # Data row 3\n",
    "]\n",
    "for line in data:\n",
    "    print('{0:<15}{1:>4}{2:^20}'.format(line[0], line[1], line[2]))"
   ]
  },
  {
   "cell_type": "markdown",
   "metadata": {},
   "source": [
    "Another useful feature of format is its control of precision in formatting floating point numbers and percentages:"
   ]
  },
  {
   "cell_type": "code",
   "execution_count": 21,
   "metadata": {
    "collapsed": false
   },
   "outputs": [
    {
     "name": "stdout",
     "output_type": "stream",
     "text": [
      "3.1\n",
      "3.1416\n",
      "59.21%\n"
     ]
    }
   ],
   "source": [
    "print(\"{0:.1f}\".format(3.141592))\n",
    "print(\"{0:.4f}\".format(3.141592))\n",
    "print(\"{0:.2%}\".format(45./76.))"
   ]
  },
  {
   "cell_type": "markdown",
   "metadata": {
    "collapsed": false
   },
   "source": [
    "The [official Python documentation](https://docs.python.org/2/library/string.html#format-string-syntax) has all the details: this is just a taste of what's possible."
   ]
  },
  {
   "cell_type": "markdown",
   "metadata": {},
   "source": [
    "From now on, we'll use `format` instead of gluing string together"
   ]
  },
  {
   "cell_type": "markdown",
   "metadata": {},
   "source": [
    "### 0.10 Tuples"
   ]
  },
  {
   "cell_type": "markdown",
   "metadata": {},
   "source": [
    "Python has special syntax for short, immutable lists, called **tuples**, that makes many operations a snap."
   ]
  },
  {
   "cell_type": "markdown",
   "metadata": {},
   "source": [
    "A tuple is created like a list, except with parentheses instead of square brackets:"
   ]
  },
  {
   "cell_type": "code",
   "execution_count": 22,
   "metadata": {
    "collapsed": false
   },
   "outputs": [
    {
     "data": {
      "text/plain": [
       "tuple"
      ]
     },
     "execution_count": 22,
     "metadata": {},
     "output_type": "execute_result"
    }
   ],
   "source": [
    "t = (1,2,3)\n",
    "type(t)"
   ]
  },
  {
   "cell_type": "markdown",
   "metadata": {},
   "source": [
    "Most operations that work with lists also work with tuples:"
   ]
  },
  {
   "cell_type": "code",
   "execution_count": 23,
   "metadata": {
    "collapsed": false
   },
   "outputs": [
    {
     "name": "stdout",
     "output_type": "stream",
     "text": [
      "3\n",
      "1\n",
      "(1, 2)\n",
      "6\n"
     ]
    }
   ],
   "source": [
    "print(len(t))\n",
    "print(t[0])\n",
    "print(t[:2])\n",
    "print(sum(t))"
   ]
  },
  {
   "cell_type": "markdown",
   "metadata": {},
   "source": [
    "An empty tuple, like an empty list, is represented by a pair of parentheses with nothing in between:"
   ]
  },
  {
   "cell_type": "code",
   "execution_count": 24,
   "metadata": {
    "collapsed": false
   },
   "outputs": [
    {
     "name": "stdout",
     "output_type": "stream",
     "text": [
      "()\n",
      "0\n"
     ]
    }
   ],
   "source": [
    "empty_tuple = ()\n",
    "print(empty_tuple)\n",
    "print(len(empty_tuple))"
   ]
  },
  {
   "cell_type": "markdown",
   "metadata": {},
   "source": [
    "A tuple with one item needs slightly special syntax to differentiate it from an expression in parentheses:"
   ]
  },
  {
   "cell_type": "code",
   "execution_count": 25,
   "metadata": {
    "collapsed": false
   },
   "outputs": [
    {
     "data": {
      "text/plain": [
       "int"
      ]
     },
     "execution_count": 25,
     "metadata": {},
     "output_type": "execute_result"
    }
   ],
   "source": [
    "the_number_one = (1)\n",
    "type(the_number_one)"
   ]
  },
  {
   "cell_type": "code",
   "execution_count": 26,
   "metadata": {
    "collapsed": false
   },
   "outputs": [
    {
     "data": {
      "text/plain": [
       "tuple"
      ]
     },
     "execution_count": 26,
     "metadata": {},
     "output_type": "execute_result"
    }
   ],
   "source": [
    "a_lonely_tuple = (1,)   # Need an extra comma!\n",
    "type(a_lonely_tuple)"
   ]
  },
  {
   "cell_type": "markdown",
   "metadata": {},
   "source": [
    "**Ex 0.10.1. Using list comprehension, take a number `n` and make a list of all the ways of expressing it as a product of two positive integers.**  \n",
    "For example, given 8, your list should read [(1,8), (2,4), (4,2), (8,1)]"
   ]
  },
  {
   "cell_type": "markdown",
   "metadata": {},
   "source": [
    "Tuples are useful because of the **packing** and **unpacking** operations."
   ]
  },
  {
   "cell_type": "markdown",
   "metadata": {},
   "source": [
    "Python will automatically make a tuple (_packing_) whenever it sees a set of values separated by commas:"
   ]
  },
  {
   "cell_type": "code",
   "execution_count": 27,
   "metadata": {
    "collapsed": false
   },
   "outputs": [
    {
     "data": {
      "text/plain": [
       "tuple"
      ]
     },
     "execution_count": 27,
     "metadata": {},
     "output_type": "execute_result"
    }
   ],
   "source": [
    "stock = 'GOOG', 100, 45.32\n",
    "type(stock)"
   ]
  },
  {
   "cell_type": "code",
   "execution_count": 28,
   "metadata": {
    "collapsed": false
   },
   "outputs": [
    {
     "data": {
      "text/plain": [
       "'GOOG10045.32'"
      ]
     },
     "execution_count": 28,
     "metadata": {},
     "output_type": "execute_result"
    }
   ],
   "source": [
    "'{0}{1}{2}'.format('GOOG', 100, 45.32)"
   ]
  },
  {
   "cell_type": "code",
   "execution_count": 29,
   "metadata": {
    "collapsed": false
   },
   "outputs": [
    {
     "data": {
      "text/plain": [
       "('GOOG', 100, 45.32)"
      ]
     },
     "execution_count": 29,
     "metadata": {},
     "output_type": "execute_result"
    }
   ],
   "source": [
    "stock"
   ]
  },
  {
   "cell_type": "markdown",
   "metadata": {},
   "source": [
    "Python will automatically extract the members of a tuple if you assign to a list of variables:"
   ]
  },
  {
   "cell_type": "code",
   "execution_count": 30,
   "metadata": {
    "collapsed": false
   },
   "outputs": [
    {
     "name": "stdout",
     "output_type": "stream",
     "text": [
      "GOOG\n",
      "100\n",
      "45.32\n"
     ]
    }
   ],
   "source": [
    "name, quantity, price = stock\n",
    "print(name)\n",
    "print(quantity)\n",
    "print(price)"
   ]
  },
  {
   "cell_type": "markdown",
   "metadata": {},
   "source": [
    "This syntax enables several idioms:"
   ]
  },
  {
   "cell_type": "code",
   "execution_count": 31,
   "metadata": {
    "collapsed": false
   },
   "outputs": [
    {
     "name": "stdout",
     "output_type": "stream",
     "text": [
      "a is now 2 and b is now 5\n"
     ]
    }
   ],
   "source": [
    "a = 5\n",
    "b = 2\n",
    "\n",
    "a, b = b, a  # Swap\n",
    "\n",
    "print(\"a is now {0} and b is now {1}\".format(a, b))"
   ]
  },
  {
   "cell_type": "code",
   "execution_count": 32,
   "metadata": {
    "collapsed": false
   },
   "outputs": [
    {
     "name": "stdout",
     "output_type": "stream",
     "text": [
      "I have 100 shares of GOOG, priced at 45.32, for a value of EUR 4,532.00\n",
      "I have 50 shares of APPL, priced at 67.89, for a value of EUR 3,394.50\n",
      "I have 1 shares of MSFT, priced at 0.43, for a value of EUR 0.43\n"
     ]
    }
   ],
   "source": [
    "# Iteration through a list of tuples\n",
    "portfolio = [\n",
    "    ('GOOG', 100, 45.32),\n",
    "    ('APPL',  50, 67.89),\n",
    "    ('MSFT',   1,  0.43),\n",
    "]\n",
    "for name, quantity, price in portfolio:\n",
    "    print(\"I have {0} shares of {1}, priced at {2}, \"\n",
    "          \"for a value of EUR {3:,.2f}\"\n",
    "          .format(quantity, name, price, price*quantity))"
   ]
  },
  {
   "cell_type": "markdown",
   "metadata": {},
   "source": [
    "Notice that the tuples in `portfolio` are unpacked right in the `for` statement.  The above is equal to the slightly more verbose code below:"
   ]
  },
  {
   "cell_type": "code",
   "execution_count": 33,
   "metadata": {
    "collapsed": false
   },
   "outputs": [
    {
     "name": "stdout",
     "output_type": "stream",
     "text": [
      "I have 100 shares of GOOG, priced at 45.32, for a value of EUR 4,532.00\n",
      "I have 50 shares of APPL, priced at 67.89, for a value of EUR 3,394.50\n",
      "I have 1 shares of MSFT, priced at 0.43, for a value of EUR 0.43\n"
     ]
    }
   ],
   "source": [
    "# Iteration through a list of tuples\n",
    "portfolio = [\n",
    "    ('GOOG', 100, 45.32),\n",
    "    ('APPL',  50, 67.89),\n",
    "    ('MSFT',   1,  0.43),\n",
    "]\n",
    "for stock in portfolio:\n",
    "    name, quantity, price = stock\n",
    "    print(\"I have {0} shares of {1}, priced at {2}, \"\n",
    "          \"for a value of EUR {3:,.2f}\"\n",
    "          .format(quantity, name, price, price*quantity))"
   ]
  },
  {
   "cell_type": "markdown",
   "metadata": {},
   "source": [
    "Just to make sure that tuple unpacking doesn't seem mysterious, below is an even more verbose version of the code that extracts each element in the tuple explicitly:"
   ]
  },
  {
   "cell_type": "code",
   "execution_count": 34,
   "metadata": {
    "collapsed": false
   },
   "outputs": [
    {
     "name": "stdout",
     "output_type": "stream",
     "text": [
      "I have 100 shares of GOOG, priced at 45.32, for a value of EUR 4,532.00\n",
      "I have 50 shares of APPL, priced at 67.89, for a value of EUR 3,394.50\n",
      "I have 1 shares of MSFT, priced at 0.43, for a value of EUR 0.43\n"
     ]
    }
   ],
   "source": [
    "# Iteration through a list of tuples\n",
    "portfolio = [\n",
    "    ('GOOG', 100, 45.32),\n",
    "    ('APPL',  50, 67.89),\n",
    "    ('MSFT',   1,  0.43),\n",
    "]\n",
    "for stock in portfolio:\n",
    "    name = stock[0]\n",
    "    quantity = stock[1]\n",
    "    price = stock[2]\n",
    "    print(\"I have {0} shares of {1}, priced at {2}, \"\n",
    "          \"for a value of EUR {3:,.2f}\"\n",
    "          .format(quantity, name, price, price*quantity))"
   ]
  },
  {
   "cell_type": "markdown",
   "metadata": {},
   "source": [
    "Tuple unpacking is also useful together with the `zip` operation on lists.  If you have two \"parallel\" lists A and B, `zip(A,B)` produces a list of the corresponding tuples in each list."
   ]
  },
  {
   "cell_type": "code",
   "execution_count": 35,
   "metadata": {
    "collapsed": false
   },
   "outputs": [
    {
     "data": {
      "text/plain": [
       "[(1, 'one'), (2, 'two'), (3, 'three')]"
      ]
     },
     "execution_count": 35,
     "metadata": {},
     "output_type": "execute_result"
    }
   ],
   "source": [
    "A = [1,2,3]\n",
    "B = [\"one\", \"two\", \"three\"]\n",
    "zip(A,B)"
   ]
  },
  {
   "cell_type": "markdown",
   "metadata": {},
   "source": [
    "The tuples can then be unpacked in a `for` loop:"
   ]
  },
  {
   "cell_type": "code",
   "execution_count": 36,
   "metadata": {
    "collapsed": false
   },
   "outputs": [
    {
     "name": "stdout",
     "output_type": "stream",
     "text": [
      "The word for 1 in English is one\n",
      "The word for 2 in English is two\n",
      "The word for 3 in English is three\n"
     ]
    }
   ],
   "source": [
    "for num, word in zip(A, B):\n",
    "    print(\"The word for {0} in English is {1}\".format(num, word))"
   ]
  },
  {
   "cell_type": "markdown",
   "metadata": {},
   "source": [
    "**(!) Ex 0.10.2. Given a list `l`, produce a list of tuples for the consecutive items in `l`.**  \n",
    "For example, given `l = ['a', 'g', 'x']`, your code would produce the list `[('a', 'g'), ('g', 'x')]`  \n",
    "_Hint_: You'll need to be creative with `zip` and slicing"
   ]
  },
  {
   "cell_type": "markdown",
   "metadata": {},
   "source": [
    "If you need the indices of items in a list, you can use `enumerate`:"
   ]
  },
  {
   "cell_type": "code",
   "execution_count": 37,
   "metadata": {
    "collapsed": false
   },
   "outputs": [
    {
     "name": "stdout",
     "output_type": "stream",
     "text": [
      "Letter 1 is C\n",
      "Letter 2 is r\n",
      "Letter 3 is a\n",
      "Letter 4 is b\n"
     ]
    }
   ],
   "source": [
    "word = \"Crab\"  # You can think of a string as a list of characters\n",
    "for i, c in enumerate(word):\n",
    "    print(\"Letter {0} is {1}\".format(i + 1, c))"
   ]
  },
  {
   "cell_type": "markdown",
   "metadata": {},
   "source": [
    "Another useful idiom has to do with splitting strings of a known structure:"
   ]
  },
  {
   "cell_type": "code",
   "execution_count": 38,
   "metadata": {
    "collapsed": false
   },
   "outputs": [
    {
     "name": "stdout",
     "output_type": "stream",
     "text": [
      "mypicture\n",
      "jpg\n"
     ]
    }
   ],
   "source": [
    "filename = 'mypicture.jpg'\n",
    "basename, extension = filename.split(\".\")\n",
    "print(basename)\n",
    "print(extension)"
   ]
  },
  {
   "cell_type": "code",
   "execution_count": 39,
   "metadata": {
    "collapsed": false
   },
   "outputs": [
    {
     "name": "stdout",
     "output_type": "stream",
     "text": [
      "GOOG\n",
      "100\n",
      "45.32\n"
     ]
    }
   ],
   "source": [
    "csvline = \"GOOG,100,45.32\"\n",
    "name, quantity_str, price_str = csvline.split(\",\")\n",
    "print(name)\n",
    "print(quantity_str)\n",
    "print(price_str)"
   ]
  },
  {
   "cell_type": "code",
   "execution_count": 40,
   "metadata": {
    "collapsed": false
   },
   "outputs": [
    {
     "name": "stdout",
     "output_type": "stream",
     "text": [
      "Header line: 'Name,Quantity,Price'\n",
      "Rest: 'GOOG,100,45.32\n",
      "APPL,50,67.89\n",
      "...'\n",
      "Rest lines: '['GOOG,100,45.32', 'APPL,50,67.89', '...']'\n"
     ]
    }
   ],
   "source": [
    "csvfile_with_header = (\n",
    "\"\"\"Name,Quantity,Price\n",
    "GOOG,100,45.32\n",
    "APPL,50,67.89\n",
    "...\"\"\")\n",
    "header_line, rest = csvfile_with_header.split(\"\\n\", 1)\n",
    "print(\"Header line: '{0}'\".format(header_line))\n",
    "print(\"Rest: '{0}'\".format(rest))\n",
    "print(\"Rest lines: '{0}'\".format(rest.split(\"\\n\")))"
   ]
  },
  {
   "cell_type": "markdown",
   "metadata": {},
   "source": [
    "### 0.11 Dictionaries"
   ]
  },
  {
   "cell_type": "markdown",
   "metadata": {},
   "source": [
    "The final core Python data type we'll talk about are **dictionaries**.  These allow you to _associate_ keys to values.  Here's an example:"
   ]
  },
  {
   "cell_type": "code",
   "execution_count": 41,
   "metadata": {
    "collapsed": false
   },
   "outputs": [
    {
     "data": {
      "text/plain": [
       "dict"
      ]
     },
     "execution_count": 41,
     "metadata": {},
     "output_type": "execute_result"
    }
   ],
   "source": [
    "d = {'GOOG': 45.32, 'APPL': 67.89, 'MSFT': 0.43}\n",
    "type(d)"
   ]
  },
  {
   "cell_type": "markdown",
   "metadata": {},
   "source": [
    "Dictionaries support lookup by key:"
   ]
  },
  {
   "cell_type": "code",
   "execution_count": 42,
   "metadata": {
    "collapsed": false
   },
   "outputs": [
    {
     "name": "stdout",
     "output_type": "stream",
     "text": [
      "45.32\n"
     ]
    }
   ],
   "source": [
    "print(d['GOOG'])"
   ]
  },
  {
   "cell_type": "markdown",
   "metadata": {},
   "source": [
    "You can see if a dictionary contains a given key:"
   ]
  },
  {
   "cell_type": "code",
   "execution_count": 43,
   "metadata": {
    "collapsed": false
   },
   "outputs": [
    {
     "data": {
      "text/plain": [
       "True"
      ]
     },
     "execution_count": 43,
     "metadata": {},
     "output_type": "execute_result"
    }
   ],
   "source": [
    "'APPL' in d"
   ]
  },
  {
   "cell_type": "code",
   "execution_count": 44,
   "metadata": {
    "collapsed": false
   },
   "outputs": [
    {
     "data": {
      "text/plain": [
       "False"
      ]
     },
     "execution_count": 44,
     "metadata": {},
     "output_type": "execute_result"
    }
   ],
   "source": [
    "'IBM' in d"
   ]
  },
  {
   "cell_type": "markdown",
   "metadata": {},
   "source": [
    "You can add new keys to a dictionary:"
   ]
  },
  {
   "cell_type": "code",
   "execution_count": 45,
   "metadata": {
    "collapsed": false
   },
   "outputs": [
    {
     "name": "stdout",
     "output_type": "stream",
     "text": [
      "{'GOOG': 45.32, 'APPL': 67.89, 'IBM': 13.24, 'MSFT': 0.43}\n"
     ]
    }
   ],
   "source": [
    "d['IBM'] = 13.24\n",
    "print(d)"
   ]
  },
  {
   "cell_type": "markdown",
   "metadata": {},
   "source": [
    "Or delete keys:"
   ]
  },
  {
   "cell_type": "code",
   "execution_count": 46,
   "metadata": {
    "collapsed": false
   },
   "outputs": [
    {
     "name": "stdout",
     "output_type": "stream",
     "text": [
      "{'GOOG': 45.32, 'IBM': 13.24, 'MSFT': 0.43}\n"
     ]
    }
   ],
   "source": [
    "del d['APPL']\n",
    "print(d)"
   ]
  },
  {
   "cell_type": "markdown",
   "metadata": {},
   "source": [
    "A key is associated with only one value.  You can replace it as follows:"
   ]
  },
  {
   "cell_type": "code",
   "execution_count": 47,
   "metadata": {
    "collapsed": false
   },
   "outputs": [
    {
     "name": "stdout",
     "output_type": "stream",
     "text": [
      "{'GOOG': 45.32, 'IBM': 13.24, 'MSFT': 0.43}\n",
      "{'GOOG': 0.01, 'IBM': 13.24, 'MSFT': 0.43}\n"
     ]
    }
   ],
   "source": [
    "print(d)\n",
    "d['GOOG'] = 0.01   # Google terminates Gmail...\n",
    "print(d)"
   ]
  },
  {
   "cell_type": "markdown",
   "metadata": {},
   "source": [
    "If you use a `for` loop against a dictionary, you'll iterate through its keys:"
   ]
  },
  {
   "cell_type": "code",
   "execution_count": 48,
   "metadata": {
    "collapsed": false
   },
   "outputs": [
    {
     "name": "stdout",
     "output_type": "stream",
     "text": [
      "The price of GOOG is 0.01\n",
      "The price of IBM is 13.24\n",
      "The price of MSFT is 0.43\n"
     ]
    }
   ],
   "source": [
    "for name in d:\n",
    "    print(\"The price of {0} is {1}\".format(name, d[name]))"
   ]
  },
  {
   "cell_type": "markdown",
   "metadata": {},
   "source": [
    "More often than not, you'll want to iterate through the key-value pairs.  Tuple unpacking makes this super-easy:"
   ]
  },
  {
   "cell_type": "code",
   "execution_count": 49,
   "metadata": {
    "collapsed": false
   },
   "outputs": [
    {
     "name": "stdout",
     "output_type": "stream",
     "text": [
      "The price of GOOG is 0.01\n",
      "The price of IBM is 13.24\n",
      "The price of MSFT is 0.43\n"
     ]
    }
   ],
   "source": [
    "for name, price in d.items():\n",
    "    print(\"The price of {0} is {1}\".format(name, price))"
   ]
  },
  {
   "cell_type": "code",
   "execution_count": 50,
   "metadata": {
    "collapsed": false
   },
   "outputs": [
    {
     "data": {
      "text/plain": [
       "[('GOOG', 0.01), ('IBM', 13.24), ('MSFT', 0.43)]"
      ]
     },
     "execution_count": 50,
     "metadata": {},
     "output_type": "execute_result"
    }
   ],
   "source": [
    "d.items()"
   ]
  },
  {
   "cell_type": "markdown",
   "metadata": {},
   "source": [
    "There is no guaranteed order of iteration.  If you want a sorted order, sort the `items` list as follows:"
   ]
  },
  {
   "cell_type": "code",
   "execution_count": 51,
   "metadata": {
    "collapsed": false
   },
   "outputs": [
    {
     "name": "stdout",
     "output_type": "stream",
     "text": [
      "The price of GOOG is 0.01\n",
      "The price of IBM is 13.24\n",
      "The price of MSFT is 0.43\n"
     ]
    }
   ],
   "source": [
    "for name, price in sorted(d.items()):\n",
    "    print(\"The price of {0} is {1}\".format(name, price))"
   ]
  },
  {
   "cell_type": "markdown",
   "metadata": {},
   "source": [
    "Let's put this all together in an exercise:"
   ]
  },
  {
   "cell_type": "markdown",
   "metadata": {},
   "source": [
    "**(!) Ex 0.11.1  Write some code to create a dictionary that maps each word in a sentence to the number of times it appears in it.  For simplicity, assume words are only separated by spaces.**  \n",
    "For example, given the sentence \"I love love love New York but I don't love York\", your code would output the dictionary\n",
    "```\n",
    "{'I': 2, 'love': 4, 'York': 2, 'but': 1, \"don't\": 1, \"New\": 1}\n",
    "```"
   ]
  },
  {
   "cell_type": "markdown",
   "metadata": {},
   "source": [
    "---\n",
    "# 15-20 minute break"
   ]
  }
 ],
 "metadata": {
  "kernelspec": {
   "display_name": "Python 2",
   "language": "python",
   "name": "python2"
  },
  "language_info": {
   "codemirror_mode": {
    "name": "ipython",
    "version": 2
   },
   "file_extension": ".py",
   "mimetype": "text/x-python",
   "name": "python",
   "nbconvert_exporter": "python",
   "pygments_lexer": "ipython2",
   "version": "2.7.9"
  }
 },
 "nbformat": 4,
 "nbformat_minor": 0
}
