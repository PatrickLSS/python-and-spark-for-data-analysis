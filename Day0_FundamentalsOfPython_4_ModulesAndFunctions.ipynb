{
 "cells": [
  {
   "cell_type": "markdown",
   "metadata": {},
   "source": [
    "### 0.12 Modules"
   ]
  },
  {
   "cell_type": "markdown",
   "metadata": {},
   "source": [
    "Python includes a lot of functionality \"out of the box\", but one of its biggest assets is the amount of extra functionality that other people have built that you can use almost immediately."
   ]
  },
  {
   "cell_type": "markdown",
   "metadata": {},
   "source": [
    "In order not to have a million things preloaded into Python, additional code is placed into units called **modules**.  If you want to use the code, you'll have to **import** the module.\n",
    "\n",
    "One very common module is `math`.  Here's how we can import it:"
   ]
  },
  {
   "cell_type": "code",
   "execution_count": 1,
   "metadata": {
    "collapsed": true
   },
   "outputs": [],
   "source": [
    "import math"
   ]
  },
  {
   "cell_type": "markdown",
   "metadata": {},
   "source": [
    "The `math` module defines some useful constants and functions.  If we want to use them, we have to prepend `math.` to their names.  That tells Python to look for a variables _inside_ a particular module:"
   ]
  },
  {
   "cell_type": "code",
   "execution_count": 2,
   "metadata": {
    "collapsed": false
   },
   "outputs": [
    {
     "name": "stdout",
     "output_type": "stream",
     "text": [
      "The area of the circle is 314.159265359\n"
     ]
    }
   ],
   "source": [
    "print(\"The area of the circle is {0}\".format(math.pi * 10**2))"
   ]
  },
  {
   "cell_type": "markdown",
   "metadata": {},
   "source": [
    "What's in `math`?  One quick way to find out with IPython is to type \"`math.`\" then press `TAB`.  As usual, you can then use `?` to get a help string for any function."
   ]
  },
  {
   "cell_type": "markdown",
   "metadata": {},
   "source": [
    "**Ex 0.12.1  Using functions in `math`, calculate $\\sin(30^\\circ)$, $\\sqrt(5)$ and $e^{2.5}$**"
   ]
  },
  {
   "cell_type": "markdown",
   "metadata": {},
   "source": [
    "Sometimes, we use a function in a module so commonly that it would be nicer to not have to use the module name to get there.  We can do precisely that as follows:"
   ]
  },
  {
   "cell_type": "code",
   "execution_count": 3,
   "metadata": {
    "collapsed": false
   },
   "outputs": [
    {
     "name": "stdout",
     "output_type": "stream",
     "text": [
      "area = 314.159265359\n",
      "circumference = 62.8318530718\n",
      "sphere volume = 4188.79020479\n",
      "sphere surface area = 1256.63706144\n"
     ]
    }
   ],
   "source": [
    "from math import pi\n",
    "r = 10.0\n",
    "print(\"area = {0}\".format(pi * r**2))\n",
    "print(\"circumference = {0}\".format(2 * pi * r))\n",
    "print(\"sphere volume = {0}\".format((4./3.) * pi * r**3))\n",
    "print(\"sphere surface area = {0}\".format(4 * pi * r**2))"
   ]
  },
  {
   "cell_type": "markdown",
   "metadata": {},
   "source": [
    "We can import more than one module at a time and more than one function at a time"
   ]
  },
  {
   "cell_type": "code",
   "execution_count": 4,
   "metadata": {
    "collapsed": true
   },
   "outputs": [],
   "source": [
    "import math, sys\n",
    "from math import pi, e, sin, cos"
   ]
  },
  {
   "cell_type": "markdown",
   "metadata": {},
   "source": [
    "You can, but rarely should, import _everything_ inside a module like this:"
   ]
  },
  {
   "cell_type": "code",
   "execution_count": 5,
   "metadata": {
    "collapsed": true
   },
   "outputs": [],
   "source": [
    "from math import *"
   ]
  },
  {
   "cell_type": "markdown",
   "metadata": {},
   "source": [
    "You can also import one module but rename it for convenience in your code:"
   ]
  },
  {
   "cell_type": "code",
   "execution_count": 6,
   "metadata": {
    "collapsed": false
   },
   "outputs": [
    {
     "data": {
      "text/plain": [
       "314.1592653589793"
      ]
     },
     "execution_count": 6,
     "metadata": {},
     "output_type": "execute_result"
    }
   ],
   "source": [
    "import math as m\n",
    "m.pi * 10**2"
   ]
  },
  {
   "cell_type": "markdown",
   "metadata": {},
   "source": [
    "There are literally _thousands_ of Python modules available.  Over the next three training days, we'll take a deep look at some powerful modules for data processing and modelling.  For now, we'll briefly look at just a tiny sample of what's in the standard Python modules."
   ]
  },
  {
   "cell_type": "markdown",
   "metadata": {},
   "source": [
    "#### Regular expressions"
   ]
  },
  {
   "cell_type": "markdown",
   "metadata": {},
   "source": [
    "Regular expressions are useful at extracting information from textual data.  Python's `re` module provides support for these expressions."
   ]
  },
  {
   "cell_type": "code",
   "execution_count": 7,
   "metadata": {
    "collapsed": true
   },
   "outputs": [],
   "source": [
    "import re"
   ]
  },
  {
   "cell_type": "markdown",
   "metadata": {},
   "source": [
    "The function `re.match` tests if a string matches a particular regular expression.  Here's a (very fragile) way of identifying a phone number:"
   ]
  },
  {
   "cell_type": "code",
   "execution_count": 8,
   "metadata": {
    "collapsed": false
   },
   "outputs": [
    {
     "name": "stdout",
     "output_type": "stream",
     "text": [
      "The string '+32-123-456789' is a phone number? True\n"
     ]
    }
   ],
   "source": [
    "phone = \"+32-123-456789\"\n",
    "if re.match(r'\\+\\d{2}-\\d{3}-\\d{4}', phone):  # Note use of raw string\n",
    "    its_a_phone = True\n",
    "else:\n",
    "    its_a_phone = False\n",
    "print(\"The string '{0}' is a phone number? {1}\".format(phone, its_a_phone))"
   ]
  },
  {
   "cell_type": "code",
   "execution_count": 9,
   "metadata": {
    "collapsed": false
   },
   "outputs": [
    {
     "name": "stdout",
     "output_type": "stream",
     "text": [
      "The string '+32-abc-456789' is a phone number? False\n"
     ]
    }
   ],
   "source": [
    "phone = \"+32-abc-456789\"\n",
    "if re.match(r'\\+\\d{2}-\\d{3}-\\d{4}', phone):\n",
    "    its_a_phone = True\n",
    "else:\n",
    "    its_a_phone = False\n",
    "print(\"The string '{0}' is a phone number? {1}\".format(phone, its_a_phone))"
   ]
  },
  {
   "cell_type": "markdown",
   "metadata": {},
   "source": [
    "You can also use regular expressions to extract fields from a structured string.  For example, ISO datetimes in the UTC timezone always look like this:\n",
    "```\n",
    "2015-12-05T16:32:57Z\n",
    "```  \n",
    "Let's use regular expressions to extract all the relevant components."
   ]
  },
  {
   "cell_type": "code",
   "execution_count": 10,
   "metadata": {
    "collapsed": false
   },
   "outputs": [
    {
     "name": "stdout",
     "output_type": "stream",
     "text": [
      "The year is 2015\n"
     ]
    }
   ],
   "source": [
    "datetime_str = \"2015-12-05T16:32:57Z\"\n",
    "m = re.match(r'(\\d{4})-(\\d{2})-(\\d{2})T(\\d{2}):(\\d{2}):(\\d{2})Z', datetime_str)\n",
    "if m:\n",
    "    year, month, day, hour, minute, second = m.groups()\n",
    "    print(\"The year is {0}\".format(year))\n",
    "else:\n",
    "    print(\"Failed to match\")"
   ]
  },
  {
   "cell_type": "markdown",
   "metadata": {},
   "source": [
    "#### Dates and times"
   ]
  },
  {
   "cell_type": "markdown",
   "metadata": {},
   "source": [
    "The `datetime` module provides functions for dealing with dates, time and time offsets."
   ]
  },
  {
   "cell_type": "code",
   "execution_count": 11,
   "metadata": {
    "collapsed": true
   },
   "outputs": [],
   "source": [
    "from datetime import date, time, datetime, timedelta"
   ]
  },
  {
   "cell_type": "code",
   "execution_count": 12,
   "metadata": {
    "collapsed": false
   },
   "outputs": [
    {
     "name": "stdout",
     "output_type": "stream",
     "text": [
      "2015-12-05\n"
     ]
    }
   ],
   "source": [
    "a_date = date(2015, 12, 5)\n",
    "print(a_date)"
   ]
  },
  {
   "cell_type": "code",
   "execution_count": 13,
   "metadata": {
    "collapsed": false
   },
   "outputs": [
    {
     "name": "stdout",
     "output_type": "stream",
     "text": [
      "16:32:57\n"
     ]
    }
   ],
   "source": [
    "a_time = time(16, 32, 57)\n",
    "print(a_time)"
   ]
  },
  {
   "cell_type": "code",
   "execution_count": 14,
   "metadata": {
    "collapsed": false
   },
   "outputs": [
    {
     "name": "stdout",
     "output_type": "stream",
     "text": [
      "2015-12-05 16:32:57\n"
     ]
    }
   ],
   "source": [
    "a_datetime = datetime(2015, 12, 5, 16, 32, 57)\n",
    "print(a_datetime)"
   ]
  },
  {
   "cell_type": "code",
   "execution_count": 15,
   "metadata": {
    "collapsed": false
   },
   "outputs": [
    {
     "data": {
      "text/plain": [
       "datetime.datetime(2015, 12, 22, 16, 52, 39, 392823)"
      ]
     },
     "execution_count": 15,
     "metadata": {},
     "output_type": "execute_result"
    }
   ],
   "source": [
    "datetime.now()"
   ]
  },
  {
   "cell_type": "code",
   "execution_count": 16,
   "metadata": {
    "collapsed": false
   },
   "outputs": [
    {
     "name": "stdout",
     "output_type": "stream",
     "text": [
      "17 days, 0:19:42.408102\n"
     ]
    }
   ],
   "source": [
    "delta = datetime.now() - a_datetime\n",
    "print(delta)"
   ]
  },
  {
   "cell_type": "code",
   "execution_count": 17,
   "metadata": {
    "collapsed": false
   },
   "outputs": [
    {
     "data": {
      "text/plain": [
       "datetime.timedelta"
      ]
     },
     "execution_count": 17,
     "metadata": {},
     "output_type": "execute_result"
    }
   ],
   "source": [
    "type(delta)"
   ]
  },
  {
   "cell_type": "code",
   "execution_count": 18,
   "metadata": {
    "collapsed": false
   },
   "outputs": [
    {
     "data": {
      "text/plain": [
       "1469982.408102"
      ]
     },
     "execution_count": 18,
     "metadata": {},
     "output_type": "execute_result"
    }
   ],
   "source": [
    "delta.total_seconds()"
   ]
  },
  {
   "cell_type": "code",
   "execution_count": 19,
   "metadata": {
    "collapsed": false
   },
   "outputs": [
    {
     "name": "stdout",
     "output_type": "stream",
     "text": [
      "Now: 2015-12-22 16:52:39.451070, An hour later: 2015-12-22 17:52:39.451070\n"
     ]
    }
   ],
   "source": [
    "now = datetime.now()\n",
    "an_hour_later = now + timedelta(hours=1)\n",
    "print(\"Now: {0}, An hour later: {1}\".format(now, an_hour_later))"
   ]
  },
  {
   "cell_type": "code",
   "execution_count": 20,
   "metadata": {
    "collapsed": false
   },
   "outputs": [
    {
     "data": {
      "text/plain": [
       "'Tue 22 December, 2015 at 4:52:39 PM'"
      ]
     },
     "execution_count": 20,
     "metadata": {},
     "output_type": "execute_result"
    }
   ],
   "source": [
    "# Print out a datetime just how we want it.\n",
    "# Details at http://strftime.org/\n",
    "now.strftime(\"%a %-d %B, %Y at %-I:%M:%S %p\")"
   ]
  },
  {
   "cell_type": "code",
   "execution_count": 21,
   "metadata": {
    "collapsed": false
   },
   "outputs": [
    {
     "data": {
      "text/plain": [
       "datetime.datetime(2015, 12, 5, 16, 40, 4)"
      ]
     },
     "execution_count": 21,
     "metadata": {},
     "output_type": "execute_result"
    }
   ],
   "source": [
    "# Parse a datetime string into the equivalent datetime object\n",
    "x = datetime.strptime('Sat 5 December, 2015 at 4:40:04 PM',\n",
    "                      \"%a %d %B, %Y at %I:%M:%S %p\")\n",
    "x"
   ]
  },
  {
   "cell_type": "code",
   "execution_count": 22,
   "metadata": {
    "collapsed": false
   },
   "outputs": [
    {
     "name": "stdout",
     "output_type": "stream",
     "text": [
      "2015-12-01 00:00:00\n"
     ]
    }
   ],
   "source": [
    "# Calculate the start of the month\n",
    "now = datetime.now()\n",
    "start_of_month = datetime(now.year, now.month, 1, 0, 0, 0)\n",
    "print(start_of_month)"
   ]
  },
  {
   "cell_type": "markdown",
   "metadata": {},
   "source": [
    "#### Scripts with arguments"
   ]
  },
  {
   "cell_type": "markdown",
   "metadata": {},
   "source": [
    "The `sys` module has lots of system information about Python.  In particular, you need `sys` to run scripts with arguments.  We need to step out of IPython for a second to experience this."
   ]
  },
  {
   "cell_type": "markdown",
   "metadata": {},
   "source": [
    "**Ex 0.12.1 Create a script `echoname.py` in PyCharm with the following contents.  Then open a terminal in the same directory and run `python echoname.py John`.  What do you get?**\n",
    "```\n",
    "import sys\n",
    "if len(sys.argv) >= 2:\n",
    "    print(\"Hello, {0}!\".format(sys.argv[1]))\n",
    "else:\n",
    "    print(\"Who are you?\")\n",
    "```"
   ]
  },
  {
   "cell_type": "markdown",
   "metadata": {},
   "source": [
    "**Ex 0.12.2 Create a script `squaresum.py` that takes a number `n` as parameter and prints out the sum of the first `n` squares.**  \n",
    "For example, running `python squaresum.py 10` prints out `385`"
   ]
  },
  {
   "cell_type": "markdown",
   "metadata": {},
   "source": [
    "#### Creating your own modules"
   ]
  },
  {
   "cell_type": "markdown",
   "metadata": {},
   "source": [
    "At the simplest level, a module is just a Python file that lists useful definitions.  For example, make a file called `passwords.py` in the same place as you're running `ipython notebook` with the following contents:\n",
    "```\n",
    "gmail_password = \"r3admymail\"\n",
    "amazon_password = \"knowmytast3s\"\n",
    "netflix_password = \"knowwhat1w@tch\"\n",
    "```"
   ]
  },
  {
   "cell_type": "markdown",
   "metadata": {},
   "source": [
    "Once done, we can import these definitions as a module and use them:"
   ]
  },
  {
   "cell_type": "code",
   "execution_count": 23,
   "metadata": {
    "collapsed": false
   },
   "outputs": [
    {
     "name": "stdout",
     "output_type": "stream",
     "text": [
      "Gmail, open sesame: 'r3admymail'\n"
     ]
    }
   ],
   "source": [
    "import passwords\n",
    "print(\"Gmail, open sesame: '{0}'\".format(passwords.gmail_password))"
   ]
  },
  {
   "cell_type": "markdown",
   "metadata": {},
   "source": [
    "Of course, modules can get a lot more complicated, import other modules themselves, span many files, etc.  We'll revisit those topics in the future."
   ]
  },
  {
   "cell_type": "markdown",
   "metadata": {},
   "source": [
    "### 0.13 Functions"
   ]
  },
  {
   "cell_type": "markdown",
   "metadata": {},
   "source": [
    "So far, we've been writing snippets of code here and there with little structure.  It's time to learn how to abstract this functionality with a name."
   ]
  },
  {
   "cell_type": "markdown",
   "metadata": {},
   "source": [
    "We've seen how to add the numbers from 1 to `n` many times now.  Let's build a function to do it once and for all:"
   ]
  },
  {
   "cell_type": "code",
   "execution_count": 24,
   "metadata": {
    "collapsed": true
   },
   "outputs": [],
   "source": [
    "def sum_nums(n):\n",
    "    # Avoiding list comprehensions on purpose to make the function longer\n",
    "    total = 0\n",
    "    for i in range(1, n+1):\n",
    "        total = total + i\n",
    "    return total"
   ]
  },
  {
   "cell_type": "markdown",
   "metadata": {},
   "source": [
    "Notice a few things:\n",
    "* Use `def` to introduce the definition\n",
    "* The parameters are listed in parentheses after the function name\n",
    "* The body of the function is all indented\n",
    "* Use `return` to return a given value to the function caller"
   ]
  },
  {
   "cell_type": "markdown",
   "metadata": {},
   "source": [
    "Let's use this function a few times:"
   ]
  },
  {
   "cell_type": "code",
   "execution_count": 25,
   "metadata": {
    "collapsed": false
   },
   "outputs": [
    {
     "data": {
      "text/plain": [
       "55"
      ]
     },
     "execution_count": 25,
     "metadata": {},
     "output_type": "execute_result"
    }
   ],
   "source": [
    "sum_nums(10)"
   ]
  },
  {
   "cell_type": "code",
   "execution_count": 26,
   "metadata": {
    "collapsed": false
   },
   "outputs": [
    {
     "data": {
      "text/plain": [
       "825"
      ]
     },
     "execution_count": 26,
     "metadata": {},
     "output_type": "execute_result"
    }
   ],
   "source": [
    "sum_nums(10) * sum_nums(5)"
   ]
  },
  {
   "cell_type": "code",
   "execution_count": 27,
   "metadata": {
    "collapsed": false
   },
   "outputs": [
    {
     "data": {
      "text/plain": [
       "[0, 1, 3, 6, 10, 15, 21, 28, 36, 45]"
      ]
     },
     "execution_count": 27,
     "metadata": {},
     "output_type": "execute_result"
    }
   ],
   "source": [
    "[sum_nums(i) for i in range(10)]"
   ]
  },
  {
   "cell_type": "markdown",
   "metadata": {},
   "source": [
    "Makes sense?"
   ]
  },
  {
   "cell_type": "markdown",
   "metadata": {},
   "source": [
    "**Ex 0.13.1.  Previously, we wrote some code to count the frequencies of words in a string.  Turn it into a function that you can invoke like this: freqs_of_words(\"I love love love New York\")**"
   ]
  },
  {
   "cell_type": "markdown",
   "metadata": {},
   "source": [
    "Functions are useful to break down a problem into smaller and smaller problems, from which a solution is built up incrementally.  You can also reuse old functions in new contexts, which allows you to solve problems more quickly.  As a rule of thumb:\n",
    "```\n",
    "If you have more than about 10 consecutive lines of code,\n",
    "think about how to split it into smaller functions\n",
    "that you then call in turn.\n",
    "```"
   ]
  },
  {
   "cell_type": "markdown",
   "metadata": {},
   "source": [
    "There are only a few more things to learn about functions.  First, functions can take more than one parameter:"
   ]
  },
  {
   "cell_type": "code",
   "execution_count": 28,
   "metadata": {
    "collapsed": true
   },
   "outputs": [],
   "source": [
    "def add_nums(a, b):\n",
    "    return a + b"
   ]
  },
  {
   "cell_type": "code",
   "execution_count": 29,
   "metadata": {
    "collapsed": false
   },
   "outputs": [
    {
     "data": {
      "text/plain": [
       "50"
      ]
     },
     "execution_count": 29,
     "metadata": {},
     "output_type": "execute_result"
    }
   ],
   "source": [
    "add_nums(2, 3) * add_nums(5, 5)"
   ]
  },
  {
   "cell_type": "markdown",
   "metadata": {},
   "source": [
    "When you call a function, you can specify the parameter names explicitly and so vary the order:"
   ]
  },
  {
   "cell_type": "code",
   "execution_count": 30,
   "metadata": {
    "collapsed": true
   },
   "outputs": [],
   "source": [
    "def subtract(a, b):\n",
    "    return a - b"
   ]
  },
  {
   "cell_type": "code",
   "execution_count": 31,
   "metadata": {
    "collapsed": false
   },
   "outputs": [
    {
     "data": {
      "text/plain": [
       "2"
      ]
     },
     "execution_count": 31,
     "metadata": {},
     "output_type": "execute_result"
    }
   ],
   "source": [
    "subtract(5, 3)"
   ]
  },
  {
   "cell_type": "code",
   "execution_count": 32,
   "metadata": {
    "collapsed": false
   },
   "outputs": [
    {
     "data": {
      "text/plain": [
       "2"
      ]
     },
     "execution_count": 32,
     "metadata": {},
     "output_type": "execute_result"
    }
   ],
   "source": [
    "subtract(5, b=3)"
   ]
  },
  {
   "cell_type": "code",
   "execution_count": 33,
   "metadata": {
    "collapsed": false
   },
   "outputs": [
    {
     "data": {
      "text/plain": [
       "2"
      ]
     },
     "execution_count": 33,
     "metadata": {},
     "output_type": "execute_result"
    }
   ],
   "source": [
    "subtract(a=5, b=3)"
   ]
  },
  {
   "cell_type": "code",
   "execution_count": 34,
   "metadata": {
    "collapsed": false
   },
   "outputs": [
    {
     "data": {
      "text/plain": [
       "-2"
      ]
     },
     "execution_count": 34,
     "metadata": {},
     "output_type": "execute_result"
    }
   ],
   "source": [
    "subtract(b=5, a=3)"
   ]
  },
  {
   "cell_type": "markdown",
   "metadata": {},
   "source": [
    "You can also give functions an arbitrary number of arguments, which are passed to a function as a tuple:"
   ]
  },
  {
   "cell_type": "code",
   "execution_count": 35,
   "metadata": {
    "collapsed": true
   },
   "outputs": [],
   "source": [
    "def add_many(*args):\n",
    "    print args\n",
    "    \n",
    "    total = 0\n",
    "    for i in args:\n",
    "        total = total + i\n",
    "    return total"
   ]
  },
  {
   "cell_type": "code",
   "execution_count": 36,
   "metadata": {
    "collapsed": false
   },
   "outputs": [
    {
     "name": "stdout",
     "output_type": "stream",
     "text": [
      "()\n"
     ]
    },
    {
     "data": {
      "text/plain": [
       "0"
      ]
     },
     "execution_count": 36,
     "metadata": {},
     "output_type": "execute_result"
    }
   ],
   "source": [
    "add_many()"
   ]
  },
  {
   "cell_type": "code",
   "execution_count": 37,
   "metadata": {
    "collapsed": false
   },
   "outputs": [
    {
     "name": "stdout",
     "output_type": "stream",
     "text": [
      "(1,)\n"
     ]
    },
    {
     "data": {
      "text/plain": [
       "1"
      ]
     },
     "execution_count": 37,
     "metadata": {},
     "output_type": "execute_result"
    }
   ],
   "source": [
    "add_many(1)"
   ]
  },
  {
   "cell_type": "code",
   "execution_count": 38,
   "metadata": {
    "collapsed": false
   },
   "outputs": [
    {
     "name": "stdout",
     "output_type": "stream",
     "text": [
      "(1, 2, 3, 4, 5)\n"
     ]
    },
    {
     "data": {
      "text/plain": [
       "15"
      ]
     },
     "execution_count": 38,
     "metadata": {},
     "output_type": "execute_result"
    }
   ],
   "source": [
    "add_many(1,2,3,4,5)"
   ]
  },
  {
   "cell_type": "markdown",
   "metadata": {},
   "source": [
    "And if you have a list or a tuple to begin with, you can tell Python to use that as the argument list:"
   ]
  },
  {
   "cell_type": "code",
   "execution_count": 39,
   "metadata": {
    "collapsed": false
   },
   "outputs": [
    {
     "data": {
      "text/plain": [
       "7"
      ]
     },
     "execution_count": 39,
     "metadata": {},
     "output_type": "execute_result"
    }
   ],
   "source": [
    "duo = (2,5)\n",
    "add_nums(*duo)"
   ]
  },
  {
   "cell_type": "code",
   "execution_count": 40,
   "metadata": {
    "collapsed": false
   },
   "outputs": [
    {
     "name": "stdout",
     "output_type": "stream",
     "text": [
      "(0, 1, 4, 9, 16, 25, 36, 49, 64, 81)\n"
     ]
    },
    {
     "data": {
      "text/plain": [
       "285"
      ]
     },
     "execution_count": 40,
     "metadata": {},
     "output_type": "execute_result"
    }
   ],
   "source": [
    "l = [i*i for i in range(10)]\n",
    "add_many(*l)"
   ]
  },
  {
   "cell_type": "markdown",
   "metadata": {},
   "source": [
    "Functions can have default argument values, and you can then omit the parameters:"
   ]
  },
  {
   "cell_type": "code",
   "execution_count": 41,
   "metadata": {
    "collapsed": true
   },
   "outputs": [],
   "source": [
    "def join_strings(strings, delimiter=\",\"):\n",
    "    return delimiter.join(strings)"
   ]
  },
  {
   "cell_type": "code",
   "execution_count": 42,
   "metadata": {
    "collapsed": false
   },
   "outputs": [
    {
     "data": {
      "text/plain": [
       "'one,two'"
      ]
     },
     "execution_count": 42,
     "metadata": {},
     "output_type": "execute_result"
    }
   ],
   "source": [
    "join_strings([\"one\", \"two\"])"
   ]
  },
  {
   "cell_type": "code",
   "execution_count": 43,
   "metadata": {
    "collapsed": false
   },
   "outputs": [
    {
     "data": {
      "text/plain": [
       "'one and two'"
      ]
     },
     "execution_count": 43,
     "metadata": {},
     "output_type": "execute_result"
    }
   ],
   "source": [
    "join_strings([\"one\", \"two\"], \" and \")"
   ]
  },
  {
   "cell_type": "markdown",
   "metadata": {},
   "source": [
    "And as before, you can specify the name of the parameters in the function call:"
   ]
  },
  {
   "cell_type": "code",
   "execution_count": 44,
   "metadata": {
    "collapsed": false
   },
   "outputs": [
    {
     "data": {
      "text/plain": [
       "'one---two'"
      ]
     },
     "execution_count": 44,
     "metadata": {},
     "output_type": "execute_result"
    }
   ],
   "source": [
    "join_strings([\"one\", \"two\"], delimiter=\"---\")"
   ]
  },
  {
   "cell_type": "markdown",
   "metadata": {},
   "source": [
    "**(!) Ex 0.13.2. Write a function to calculate the $n$th Fibonacci number, defined recursively as follows:**\n",
    "\n",
    "$$\n",
    "F(n) = F(n-1) + F(n-2).\n",
    "$$\n",
    "\n",
    "**It's customary to specify $F(0)$ and $F(1)$ explicitly.  Accept keyword arguments for these edge cases, with a default value of $1$ for both.**\n",
    "\n",
    "**What's the value of $F(8)$ when $F(0) = F(1) = 1$?  What about when $F(0) = 10$ and $F(1) = 15$?**"
   ]
  },
  {
   "cell_type": "markdown",
   "metadata": {},
   "source": [
    "In very specialized contexts, it's useful to accept any number of keyword arguments, which you'll receive as a dictionary in the function:"
   ]
  },
  {
   "cell_type": "code",
   "execution_count": 45,
   "metadata": {
    "collapsed": true
   },
   "outputs": [],
   "source": [
    "def query_url(**kwargs):\n",
    "    return '?' + '&'.join([\"{0}={1}\".format(key, value)\n",
    "                           for key, value in kwargs.items()])"
   ]
  },
  {
   "cell_type": "code",
   "execution_count": 46,
   "metadata": {
    "collapsed": false
   },
   "outputs": [
    {
     "data": {
      "text/plain": [
       "'http://www.site.com/login?username=patrick&mfa=123456&password=varilly'"
      ]
     },
     "execution_count": 46,
     "metadata": {},
     "output_type": "execute_result"
    }
   ],
   "source": [
    "'http://www.site.com/login' + \\\n",
    "query_url(username=\"patrick\", password=\"varilly\", mfa=123456)"
   ]
  },
  {
   "cell_type": "markdown",
   "metadata": {},
   "source": [
    "And conversely, you can pass in a dictionary to fill in keyword arguments:"
   ]
  },
  {
   "cell_type": "code",
   "execution_count": 47,
   "metadata": {
    "collapsed": false
   },
   "outputs": [
    {
     "data": {
      "text/plain": [
       "'one***two'"
      ]
     },
     "execution_count": 47,
     "metadata": {},
     "output_type": "execute_result"
    }
   ],
   "source": [
    "options = {'delimiter': \"***\"}\n",
    "join_strings([\"one\", \"two\"], **options)"
   ]
  },
  {
   "cell_type": "markdown",
   "metadata": {},
   "source": [
    "Finally, although you can only return one value from a function, it's idiomatic to return a tuple when you need to return more than one value:"
   ]
  },
  {
   "cell_type": "code",
   "execution_count": 48,
   "metadata": {
    "collapsed": true
   },
   "outputs": [],
   "source": [
    "def head_and_tail(my_list):\n",
    "    return my_list[0], my_list[1:]"
   ]
  },
  {
   "cell_type": "code",
   "execution_count": 49,
   "metadata": {
    "collapsed": false
   },
   "outputs": [
    {
     "name": "stdout",
     "output_type": "stream",
     "text": [
      "1\n",
      "[2, 3, 4, 5]\n"
     ]
    }
   ],
   "source": [
    "head, tail = head_and_tail([1,2,3,4,5])\n",
    "print(head)\n",
    "print(tail)"
   ]
  }
 ],
 "metadata": {
  "kernelspec": {
   "display_name": "Python 2",
   "language": "python",
   "name": "python2"
  },
  "language_info": {
   "codemirror_mode": {
    "name": "ipython",
    "version": 2
   },
   "file_extension": ".py",
   "mimetype": "text/x-python",
   "name": "python",
   "nbconvert_exporter": "python",
   "pygments_lexer": "ipython2",
   "version": "2.7.9"
  }
 },
 "nbformat": 4,
 "nbformat_minor": 0
}
