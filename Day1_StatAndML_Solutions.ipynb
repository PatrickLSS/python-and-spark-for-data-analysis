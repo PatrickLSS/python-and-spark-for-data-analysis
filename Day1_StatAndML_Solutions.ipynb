{
 "cells": [
  {
   "cell_type": "markdown",
   "metadata": {},
   "source": [
    "**Ex 1.2.1.  How would you do this operation with two lists [1.0,2.0,3.0] and [7.0, 8.0, 9.0]**  \n",
    "**Hint: `zip`**"
   ]
  },
  {
   "cell_type": "code",
   "execution_count": 1,
   "metadata": {
    "collapsed": false
   },
   "outputs": [
    {
     "data": {
      "text/plain": [
       "[22.0, 26.0, 30.0]"
      ]
     },
     "execution_count": 1,
     "metadata": {},
     "output_type": "execute_result"
    }
   ],
   "source": [
    "import numpy as np\n",
    "A = [1.0, 2.0, 3.0]\n",
    "B = [7.0, 8.0, 9.0]\n",
    "C = [a+3*b for a,b in zip(A,B)]\n",
    "C"
   ]
  },
  {
   "cell_type": "markdown",
   "metadata": {},
   "source": [
    "**Ex 1.2.2 Using only NumPy operations, create a vector containing the numbers from 1 to 10.  Then construct from there a vector with the squares from $1^2$ to $10^2$.**"
   ]
  },
  {
   "cell_type": "code",
   "execution_count": 2,
   "metadata": {
    "collapsed": false
   },
   "outputs": [
    {
     "name": "stdout",
     "output_type": "stream",
     "text": [
      "[ 1  2  3  4  5  6  7  8  9 10]\n",
      "[  1   4   9  16  25  36  49  64  81 100]\n",
      "[  1.   2.   3.   4.   5.   6.   7.   8.   9.  10.]\n",
      "[   1.    4.    9.   16.   25.   36.   49.   64.   81.  100.]\n"
     ]
    }
   ],
   "source": [
    "import numpy as np\n",
    "\n",
    "one_to_ten = np.arange(1,10+1)\n",
    "print(one_to_ten)\n",
    "first_ten_squares = one_to_ten * one_to_ten  # Multiply vec against itself\n",
    "print(first_ten_squares)\n",
    "\n",
    "one_to_ten = np.linspace(1.0, 10.0, 10)  # Or use np.linspace\n",
    "print(one_to_ten)\n",
    "first_ten_squares = one_to_ten ** 2          # Element-wise squaring\n",
    "print(first_ten_squares)"
   ]
  },
  {
   "cell_type": "markdown",
   "metadata": {},
   "source": [
    "Note that the two definitions of `one_to_ten` give slightly different answers.  The first one is an array of integers, the second, an array of floats"
   ]
  },
  {
   "cell_type": "markdown",
   "metadata": {},
   "source": [
    "**Ex 1.2.3. Calculate the dot product of A and B without using np.dot**"
   ]
  },
  {
   "cell_type": "code",
   "execution_count": 3,
   "metadata": {
    "collapsed": false
   },
   "outputs": [
    {
     "data": {
      "text/plain": [
       "50.0"
      ]
     },
     "execution_count": 3,
     "metadata": {},
     "output_type": "execute_result"
    }
   ],
   "source": [
    "A = np.array([1.0, 2.0, 3.0])\n",
    "B = np.array([7.0, 8.0, 9.0])\n",
    "np.sum(A*B)"
   ]
  },
  {
   "cell_type": "markdown",
   "metadata": {},
   "source": [
    "**Ex 1.2.4  Use `dot` and `linspace` to calculate the following sum:**\n",
    "\n",
    "$$\n",
    "1\\cdot 2 + 2\\cdot 3 + \\cdots + 10\\cdot 11.\n",
    "$$"
   ]
  },
  {
   "cell_type": "code",
   "execution_count": 4,
   "metadata": {
    "collapsed": false
   },
   "outputs": [
    {
     "data": {
      "text/plain": [
       "440.0"
      ]
     },
     "execution_count": 4,
     "metadata": {},
     "output_type": "execute_result"
    }
   ],
   "source": [
    "v = np.linspace(1,10,10)\n",
    "np.dot(v, v+1)"
   ]
  },
  {
   "cell_type": "code",
   "execution_count": 5,
   "metadata": {
    "collapsed": false
   },
   "outputs": [
    {
     "data": {
      "text/plain": [
       "440.0"
      ]
     },
     "execution_count": 5,
     "metadata": {},
     "output_type": "execute_result"
    }
   ],
   "source": [
    "np.dot(np.linspace(1,10,10), np.linspace(2,11,10))"
   ]
  },
  {
   "cell_type": "markdown",
   "metadata": {},
   "source": [
    "**Ex 1.2.5 Write your own my_cumsum() and my_cumprod() functions that operate on lists instead of NumPy arrays**"
   ]
  },
  {
   "cell_type": "code",
   "execution_count": 6,
   "metadata": {
    "collapsed": false
   },
   "outputs": [
    {
     "data": {
      "text/plain": [
       "[1.0, 2.5, 4.5, 7.0, 10.0, 13.5, 17.5]"
      ]
     },
     "execution_count": 6,
     "metadata": {},
     "output_type": "execute_result"
    }
   ],
   "source": [
    "def my_cumsum(xs):\n",
    "    result = []\n",
    "    sofar = 0.0\n",
    "    for x in xs:\n",
    "        sofar = sofar + x\n",
    "        result.append(sofar)\n",
    "    return result\n",
    "\n",
    "my_cumsum([1,1.5,2,2.5,3,3.5,4])"
   ]
  },
  {
   "cell_type": "code",
   "execution_count": 7,
   "metadata": {
    "collapsed": false
   },
   "outputs": [
    {
     "data": {
      "text/plain": [
       "[1, 2.5, 4.5, 7.0, 10.0, 13.5, 17.5]"
      ]
     },
     "execution_count": 7,
     "metadata": {},
     "output_type": "execute_result"
    }
   ],
   "source": [
    "def my_cumsum(xs):\n",
    "    return [sum(xs[:i]) for i in range(1,len(xs)+1)]\n",
    "\n",
    "my_cumsum([1,1.5,2,2.5,3,3.5,4])"
   ]
  },
  {
   "cell_type": "code",
   "execution_count": 8,
   "metadata": {
    "collapsed": false
   },
   "outputs": [
    {
     "data": {
      "text/plain": [
       "[1.0, 1.5, 3.0, 7.5, 22.5, 78.75, 315.0]"
      ]
     },
     "execution_count": 8,
     "metadata": {},
     "output_type": "execute_result"
    }
   ],
   "source": [
    "def my_cumprod(xs):\n",
    "    result = []\n",
    "    sofar = 1.0\n",
    "    for x in xs:\n",
    "        sofar = sofar * x\n",
    "        result.append(sofar)\n",
    "    return result\n",
    "\n",
    "my_cumprod([1,1.5,2,2.5,3,3.5,4])"
   ]
  },
  {
   "cell_type": "markdown",
   "metadata": {},
   "source": [
    "**Ex 1.2.6. With the help of IPython's autocomplete, calculate the Singular Value Decomposition U * S * V of the matrix `mat` above.  Combine the resulting matrices to verify that the decomposition is correct.**"
   ]
  },
  {
   "cell_type": "code",
   "execution_count": 9,
   "metadata": {
    "collapsed": false
   },
   "outputs": [
    {
     "name": "stdout",
     "output_type": "stream",
     "text": [
      "[[-0.40455358 -0.9145143 ]\n",
      " [-0.9145143   0.40455358]]\n",
      "[[ 5.4649857   0.        ]\n",
      " [ 0.          0.36596619]]\n",
      "[[-0.57604844 -0.81741556]\n",
      " [ 0.81741556 -0.57604844]]\n"
     ]
    }
   ],
   "source": [
    "mat = np.array([\n",
    "        [1., 2.],\n",
    "        [3., 4.]\n",
    "    ])\n",
    "\n",
    "u, s, v = np.linalg.svd(mat)\n",
    "print(u)\n",
    "print(np.diag(s))\n",
    "print(v)"
   ]
  },
  {
   "cell_type": "code",
   "execution_count": 10,
   "metadata": {
    "collapsed": false
   },
   "outputs": [
    {
     "name": "stdout",
     "output_type": "stream",
     "text": [
      "[[ 1.  2.]\n",
      " [ 3.  4.]]\n",
      "[[ 1.  2.]\n",
      " [ 3.  4.]]\n"
     ]
    }
   ],
   "source": [
    "# The promise is that u * np.diag(s) * v == mat\n",
    "# But note that '*' here is matrix multiplication (np.dot),\n",
    "# not element-wise multiplication\n",
    "print(mat)\n",
    "print(np.dot(u, np.dot(np.diag(s), v)))"
   ]
  },
  {
   "cell_type": "markdown",
   "metadata": {},
   "source": [
    "**(!) Ex 1.2.7.  We're having elections in a few weeks!  If we could ask everyone their opinion, we'd find the vote split like this:**\n",
    "* **60%: Oligarch's Party**\n",
    "* **40%: Plutocrat's Party**\n",
    "\n",
    "**But we can't ask everyone: we have to do a survey.**\n",
    "\n",
    "**Write a function to run a survey with N people, returning the fraction that supports the Oligarch's Party.  Now write another function to run K surveys, and reports the mean and standard deviation of the results of the surveys.**\n",
    "\n",
    "**By picking a large value for K, estimate the margin of error of a survey of 100 people.  What about 1000 people?  Would it be much better to ask 10,000 people? 1,000,000 people?**"
   ]
  },
  {
   "cell_type": "code",
   "execution_count": 11,
   "metadata": {
    "collapsed": false
   },
   "outputs": [
    {
     "name": "stdout",
     "output_type": "stream",
     "text": [
      "0.58\n",
      "0.57\n",
      "0.53\n",
      "0.61\n",
      "0.57\n"
     ]
    }
   ],
   "source": [
    "import numpy as np\n",
    "\n",
    "def run_survey(N):\n",
    "    # You can write this in many ways...\n",
    "    return np.sum(np.random.rand(N) < 0.60) / float(N)\n",
    "\n",
    "def run_survey_2(N):\n",
    "    # Alternative 1: really explicit\n",
    "    oligarchs = 0\n",
    "    plutocrats = 0\n",
    "    for i in range(N):\n",
    "        if np.random.rand() < 0.60:\n",
    "            oligarchs = oligarchs + 1\n",
    "        else:\n",
    "            plutocrats = plutocrats + 1\n",
    "            \n",
    "    return oligarchs / float(N)\n",
    "\n",
    "def run_survey_3(N):\n",
    "    # Alternative 2: vector random but explicit counting\n",
    "    oligarchs = 0\n",
    "    plutocrats = 0\n",
    "    for p in np.random.rand(N):\n",
    "        if p < 0.60:\n",
    "            oligarchs = oligarchs + 1\n",
    "        else:\n",
    "            plutocrats = plutocrats + 1\n",
    "            \n",
    "    return oligarchs / float(N)\n",
    "\n",
    "def run_survey_4(N):\n",
    "    # Alternative 3: vector random and filtering,\n",
    "    # but no implicit bool -> int conversion\n",
    "    \n",
    "    answers = np.random.rand(N)\n",
    "    \n",
    "    oligarchs  = len(answers[answers <  0.60])\n",
    "    plutocrats = len(answers[answers >= 0.60])\n",
    "    \n",
    "    return oligarchs / float(N)\n",
    "\n",
    "def run_survey_5(N):\n",
    "    # If you read the NumPy docs carefully, you'll find `binomial`...\n",
    "    return np.random.binomial(N, 0.60) / float(N)\n",
    "\n",
    "print(run_survey(100))\n",
    "print(run_survey_2(100))\n",
    "print(run_survey_3(100))\n",
    "print(run_survey_4(100))\n",
    "print(run_survey_5(100))"
   ]
  },
  {
   "cell_type": "code",
   "execution_count": 12,
   "metadata": {
    "collapsed": true
   },
   "outputs": [],
   "source": [
    "def run_many_surveys(N, K):\n",
    "    # There are also many other ways of writing this one...\n",
    "    results = np.array([run_survey(N) for i in range(K)])\n",
    "    return results.mean(), results.std()\n",
    "\n",
    "def run_many_surveys_2(N, K):\n",
    "    results = np.random.binomial(N, 0.60, K) / float(N)\n",
    "    return results.mean(), results.std()"
   ]
  },
  {
   "cell_type": "code",
   "execution_count": 13,
   "metadata": {
    "collapsed": false
   },
   "outputs": [],
   "source": [
    "def run_experiment(N):\n",
    "    mean_result, margin_of_error = run_many_surveys(N, K=1000)\n",
    "    print(\"When asking {0} people, the margin of error is {1:.2%}\"\n",
    "          .format(N, margin_of_error))"
   ]
  },
  {
   "cell_type": "code",
   "execution_count": 14,
   "metadata": {
    "collapsed": false
   },
   "outputs": [
    {
     "name": "stdout",
     "output_type": "stream",
     "text": [
      "When asking 100 people, the margin of error is 4.86%\n",
      "When asking 1000 people, the margin of error is 1.53%\n",
      "When asking 10000 people, the margin of error is 0.51%\n",
      "When asking 1000000 people, the margin of error is 0.05%\n"
     ]
    }
   ],
   "source": [
    "run_experiment(100)\n",
    "run_experiment(1000)\n",
    "run_experiment(10000)\n",
    "run_experiment(1000000)"
   ]
  },
  {
   "cell_type": "markdown",
   "metadata": {},
   "source": [
    "Of course, if you know some statistics, you can calculate the margins of error without simulation.  Interviewing a single person is a Bernoulli trial with $p=0.6$ for a result of $1$ (Oligarch's party) and $q=0.4$ for a result of $0$ (Plutocrat's Party).  The variance of a single interview is $p q$.  The variance in the total number of people answering \"Oligarch's Party\" is $N p q$, so the variance in the fraction of people answering \"Oligarch's party\" is $p q / N$"
   ]
  },
  {
   "cell_type": "code",
   "execution_count": 15,
   "metadata": {
    "collapsed": false
   },
   "outputs": [
    {
     "name": "stdout",
     "output_type": "stream",
     "text": [
      "4.90%\n",
      "1.55%\n",
      "0.49%\n",
      "0.05%\n"
     ]
    }
   ],
   "source": [
    "from math import sqrt\n",
    "print(\"{0:.2%}\".format(sqrt(0.6 * 0.4 / 100)))\n",
    "print(\"{0:.2%}\".format(sqrt(0.6 * 0.4 / 1000)))\n",
    "print(\"{0:.2%}\".format(sqrt(0.6 * 0.4 / 10000)))\n",
    "print(\"{0:.2%}\".format(sqrt(0.6 * 0.4 / 1000000)))"
   ]
  },
  {
   "cell_type": "markdown",
   "metadata": {},
   "source": [
    "Of course, the simulation results are themselves subject to statistical error (!), which I tried to keep very low by setting $K$ to 1000."
   ]
  },
  {
   "cell_type": "markdown",
   "metadata": {},
   "source": [
    "**Ex 1.2.8  Sort the following list of full names by surname:**\n",
    "```\n",
    "names = [\"John Doe\", \"Mary Jane\", \"Jake Williamson\", \"Jack Ripper\"]\n",
    "```"
   ]
  },
  {
   "cell_type": "code",
   "execution_count": 16,
   "metadata": {
    "collapsed": true
   },
   "outputs": [],
   "source": [
    "names = [\"John Doe\", \"Mary Jane\", \"Jake Williamson\", \"Jack Ripper\"]"
   ]
  },
  {
   "cell_type": "code",
   "execution_count": 17,
   "metadata": {
    "collapsed": false
   },
   "outputs": [
    {
     "data": {
      "text/plain": [
       "['John Doe', 'Mary Jane', 'Jack Ripper', 'Jake Williamson']"
      ]
     },
     "execution_count": 17,
     "metadata": {},
     "output_type": "execute_result"
    }
   ],
   "source": [
    "# Do it using a named function\n",
    "\n",
    "def surname(name):\n",
    "    return name.split(\" \")[1]\n",
    "\n",
    "sorted(names, key=surname)"
   ]
  },
  {
   "cell_type": "code",
   "execution_count": 18,
   "metadata": {
    "collapsed": false
   },
   "outputs": [
    {
     "data": {
      "text/plain": [
       "['John Doe', 'Mary Jane', 'Jack Ripper', 'Jake Williamson']"
      ]
     },
     "execution_count": 18,
     "metadata": {},
     "output_type": "execute_result"
    }
   ],
   "source": [
    "# Do it using a lambda\n",
    "sorted(names, key=lambda x: x.split(\" \")[1])"
   ]
  },
  {
   "cell_type": "markdown",
   "metadata": {},
   "source": [
    "**(!!) Ex 1.2.9  Least-squares fitting from first principles**\n",
    "\n",
    "**(a) Write a function f(x, m, c) that represents a straight line according to the following equation:**\n",
    "\n",
    "$$\n",
    "f(x, m, c) = m x + c.\n",
    "$$\n",
    "\n",
    "**(b) Using a lambda, how would you specialize this function to a 1-parameter function g(x), defined as follows:**\n",
    "\n",
    "$$\n",
    "g(x) = f(x, 5.0, 2.0).\n",
    "$$\n",
    "\n",
    "_As in the survey exercise above, we'll generate some simulated data to test out our least-squares fit._\n",
    "\n",
    "**(c) Write a function to generate N random values of x between 0.0 and 10.0.**\n",
    "\n",
    "**(d) Write a function to generate the corresponding values of g(x), plus some normal random noise of standard deviation 0.1 and mean 0.0.**\n",
    "\n",
    "**(e) Least-squares fitting tries to find values of $m$ and $c$ that can be plugged into $y = f(x, m, c)$ that minimize the distance between the actual $y$s and the model $y$s.  In other words, it minimizes the following loss function:**\n",
    "\n",
    "$$\n",
    "L(m, c) = \\sum_{i=1}^N [y_i - f(x_i, m, c)]^2.\n",
    "$$\n",
    "\n",
    "**Write a Python function that calculate L(m, c, xs, ys) given a set of $x_i$ and corresponding $y_i$.**\n",
    "\n",
    "**(f) Use SciPy to minimize this function and estimate the values of $m$ and $c$.  How close are they to the values used to generate the simulated data?**"
   ]
  },
  {
   "cell_type": "code",
   "execution_count": 19,
   "metadata": {
    "collapsed": true
   },
   "outputs": [],
   "source": [
    "def f(x, m, c):\n",
    "    return m*x + c"
   ]
  },
  {
   "cell_type": "code",
   "execution_count": 20,
   "metadata": {
    "collapsed": true
   },
   "outputs": [],
   "source": [
    "g = lambda x: f(x, 5.0, 2.0)"
   ]
  },
  {
   "cell_type": "code",
   "execution_count": 21,
   "metadata": {
    "collapsed": true
   },
   "outputs": [],
   "source": [
    "def rand_xs(N=100):\n",
    "    # Need to map [0,1) returned by np.random.rand() to [0,10)\n",
    "    return 0.0 + (10.0 - 0.0)*np.random.rand(100)"
   ]
  },
  {
   "cell_type": "code",
   "execution_count": 22,
   "metadata": {
    "collapsed": false
   },
   "outputs": [
    {
     "name": "stdout",
     "output_type": "stream",
     "text": [
      "[ 1.25649114  2.96402788  4.83177554  2.5809332   8.586808    9.73663284\n",
      "  5.20091477  7.19920909  7.55274032  3.90760008]\n"
     ]
    }
   ],
   "source": [
    "xs = rand_xs()\n",
    "print(xs[:10])  # Always useful to have a look at some of your data for sanity"
   ]
  },
  {
   "cell_type": "code",
   "execution_count": 23,
   "metadata": {
    "collapsed": true
   },
   "outputs": [],
   "source": [
    "def corresponding_ys(xs, g):\n",
    "    exact_ys = np.array([g(x) for x in xs])\n",
    "    noise = 0.0 + 0.1*np.random.randn(len(xs))\n",
    "    return exact_ys + noise\n",
    "\n",
    "# Could also use np.vectorize to allow element-wise application of g(x)\n",
    "# over array elements, as follows:\n",
    "#\n",
    "#   exact_ys = np.vectorize(g)(xs)"
   ]
  },
  {
   "cell_type": "code",
   "execution_count": 24,
   "metadata": {
    "collapsed": false
   },
   "outputs": [
    {
     "data": {
      "text/plain": [
       "array([  8.08596298,  16.91734217,  26.33203002,  14.91873081,\n",
       "        44.88562346,  50.54526357,  27.96331898,  37.9526478 ,\n",
       "        39.72889133,  21.57041287])"
      ]
     },
     "execution_count": 24,
     "metadata": {},
     "output_type": "execute_result"
    }
   ],
   "source": [
    "ys = corresponding_ys(xs, lambda x: f(x, 5.0, 2.0))\n",
    "ys[:10]"
   ]
  },
  {
   "cell_type": "code",
   "execution_count": 25,
   "metadata": {
    "collapsed": true
   },
   "outputs": [],
   "source": [
    "def L(m, c, xs, ys):\n",
    "    model_ys = np.array([f(x, m, c) for x in xs])\n",
    "    deltas = ys - model_ys\n",
    "    #return np.sum((ys - model_ys)**2)\n",
    "    return np.dot(deltas, deltas)"
   ]
  },
  {
   "cell_type": "code",
   "execution_count": 26,
   "metadata": {
    "collapsed": false
   },
   "outputs": [
    {
     "name": "stdout",
     "output_type": "stream",
     "text": [
      "1.17375750982\n",
      "37.3790566476\n",
      "36.1205311081\n",
      "2.31269264565\n",
      "2.03482237398\n"
     ]
    }
   ],
   "source": [
    "print L(5.0, 2.0, xs, ys)   # This should be very close to minimal\n",
    "print L(5.1, 2.0, xs, ys)\n",
    "print L(4.9, 2.0, xs, ys)\n",
    "print L(5.0, 2.1, xs, ys)\n",
    "print L(5.0, 1.9, xs, ys)"
   ]
  },
  {
   "cell_type": "code",
   "execution_count": 27,
   "metadata": {
    "collapsed": false
   },
   "outputs": [
    {
     "name": "stdout",
     "output_type": "stream",
     "text": [
      "Optimization terminated successfully.\n",
      "         Current function value: 1.168714\n",
      "         Iterations: 122\n",
      "         Function evaluations: 236\n",
      "  status: 0\n",
      "    nfev: 236\n",
      " success: True\n",
      "     fun: 1.1687137829885372\n",
      "       x: array([ 5.00049455,  1.99049953])\n",
      " message: 'Optimization terminated successfully.'\n",
      "     nit: 122\n"
     ]
    }
   ],
   "source": [
    "from scipy.optimize import minimize\n",
    "m0_c0 = [0.0, 0.0]  # Initial guesses for m and c\n",
    "res = minimize(lambda m_c: L(m_c[0], m_c[1], xs, ys), m0_c0, method='nelder-mead',\n",
    "               options={'xtol': 1e-8, 'disp': True})\n",
    "print res"
   ]
  },
  {
   "cell_type": "markdown",
   "metadata": {},
   "source": [
    "Using Nelder-Mead, we get very close to original values without spending too much time.  Not worth it for this use case to add derivative information."
   ]
  },
  {
   "cell_type": "markdown",
   "metadata": {},
   "source": [
    "**Ex 1.3.1  Earlier, we minimized the function f(x) below and found it had a minimum at $x=-1.25$.  Plot this function and verify that this result is correct.**\n",
    "\n",
    "$$\n",
    "f(x) = 2 x^2 + 5 x - 7.\n",
    "$$"
   ]
  },
  {
   "cell_type": "code",
   "execution_count": 28,
   "metadata": {
    "collapsed": true
   },
   "outputs": [],
   "source": [
    "from matplotlib import pyplot as plt\n",
    "%matplotlib inline\n",
    "import numpy as np"
   ]
  },
  {
   "cell_type": "code",
   "execution_count": 29,
   "metadata": {
    "collapsed": false
   },
   "outputs": [
    {
     "data": {
      "text/plain": [
       "[<matplotlib.lines.Line2D at 0x10743bc50>]"
      ]
     },
     "execution_count": 29,
     "metadata": {},
     "output_type": "execute_result"
    },
    {
     "data": {
      "image/png": "[encoded data removed]",
      "text/plain": [
       "<matplotlib.figure.Figure at 0x103dc8550>"
      ]
     },
     "metadata": {},
     "output_type": "display_data"
    }
   ],
   "source": [
    "x = np.linspace(-6.0, 4.0, 100)\n",
    "y = 2*x**2 + 5*x - 7\n",
    "plt.plot(x,y,'r-')\n",
    "\n",
    "# We can add a blue dot at the purported minimum directly\n",
    "plt.plot([-1.25],[-10.125],'bo')"
   ]
  },
  {
   "cell_type": "markdown",
   "metadata": {
    "collapsed": true
   },
   "source": [
    "**Ex 1.4.1 Starting from a dictionary, build a `Series` to represent the population of Belgium broken down by province.  Give both the series and the index a proper name.  From that `Series`, use indexing to sort the `Series` by number of customers.**  \n",
    "Note: We'll see how to sort `Series` easily later.  For now, use explicit indexing."
   ]
  },
  {
   "cell_type": "code",
   "execution_count": 30,
   "metadata": {
    "collapsed": true
   },
   "outputs": [],
   "source": [
    "# Import pandas\n",
    "from pandas import Series, DataFrame\n",
    "import pandas as pd"
   ]
  },
  {
   "cell_type": "code",
   "execution_count": 31,
   "metadata": {
    "collapsed": false
   },
   "outputs": [
    {
     "data": {
      "text/plain": [
       "province\n",
       "Antwerp     100000\n",
       "Brussels    250000\n",
       "Limburg      50000\n",
       "Name: population, dtype: int64"
      ]
     },
     "execution_count": 31,
     "metadata": {},
     "output_type": "execute_result"
    }
   ],
   "source": [
    "# These population numbers are completely fake:\n",
    "customer_data = {\n",
    "    'Antwerp':       100000,\n",
    "    'Limburg':        50000,\n",
    "    'Brussels':      250000,\n",
    "}\n",
    "obj = Series(customer_data)\n",
    "obj.name = 'population'\n",
    "obj.index.name = 'province'\n",
    "obj"
   ]
  },
  {
   "cell_type": "code",
   "execution_count": 32,
   "metadata": {
    "collapsed": false
   },
   "outputs": [
    {
     "data": {
      "text/plain": [
       "province\n",
       "Brussels    250000\n",
       "Antwerp     100000\n",
       "Limburg      50000\n",
       "Name: population, dtype: int64"
      ]
     },
     "execution_count": 32,
     "metadata": {},
     "output_type": "execute_result"
    }
   ],
   "source": [
    "# Sort by explicit indexing\n",
    "obj[['Brussels', 'Antwerp', 'Limburg']]"
   ]
  },
  {
   "cell_type": "code",
   "execution_count": 33,
   "metadata": {
    "collapsed": false
   },
   "outputs": [
    {
     "data": {
      "text/plain": [
       "province\n",
       "Limburg      50000\n",
       "Antwerp     100000\n",
       "Brussels    250000\n",
       "Name: population, dtype: int64"
      ]
     },
     "execution_count": 33,
     "metadata": {},
     "output_type": "execute_result"
    }
   ],
   "source": [
    "# Here's how you would sort a series programatically\n",
    "# (maybe you found out already using IPython's TAB-completion and help!)\n",
    "obj.sort()  # In-place sort\n",
    "obj"
   ]
  },
  {
   "cell_type": "code",
   "execution_count": 34,
   "metadata": {
    "collapsed": false
   },
   "outputs": [
    {
     "data": {
      "text/plain": [
       "province\n",
       "Brussels    250000\n",
       "Antwerp     100000\n",
       "Limburg      50000\n",
       "Name: population, dtype: int64"
      ]
     },
     "execution_count": 34,
     "metadata": {},
     "output_type": "execute_result"
    }
   ],
   "source": [
    "# Non-destructive sort\n",
    "obj.order(ascending=False)"
   ]
  },
  {
   "cell_type": "code",
   "execution_count": 35,
   "metadata": {
    "collapsed": false
   },
   "outputs": [
    {
     "data": {
      "text/plain": [
       "province\n",
       "Limburg      50000\n",
       "Antwerp     100000\n",
       "Brussels    250000\n",
       "Name: population, dtype: int64"
      ]
     },
     "execution_count": 35,
     "metadata": {},
     "output_type": "execute_result"
    }
   ],
   "source": [
    "obj"
   ]
  },
  {
   "cell_type": "markdown",
   "metadata": {},
   "source": [
    "**Ex 1.4.2 Build a DataFrame that captures how the population in each  province of Flanders changed in the years 2013, 2014 and 2015.**"
   ]
  },
  {
   "cell_type": "code",
   "execution_count": 36,
   "metadata": {
    "collapsed": false
   },
   "outputs": [
    {
     "data": {
      "text/html": [
       "<div>\n",
       "<table border=\"1\" class=\"dataframe\">\n",
       "  <thead>\n",
       "    <tr style=\"text-align: right;\">\n",
       "      <th></th>\n",
       "      <th>year</th>\n",
       "      <th>province</th>\n",
       "      <th>customers</th>\n",
       "    </tr>\n",
       "  </thead>\n",
       "  <tbody>\n",
       "    <tr>\n",
       "      <th>0</th>\n",
       "      <td>2013</td>\n",
       "      <td>BXL</td>\n",
       "      <td>150000</td>\n",
       "    </tr>\n",
       "    <tr>\n",
       "      <th>1</th>\n",
       "      <td>2014</td>\n",
       "      <td>BXL</td>\n",
       "      <td>200000</td>\n",
       "    </tr>\n",
       "    <tr>\n",
       "      <th>2</th>\n",
       "      <td>2015</td>\n",
       "      <td>BXL</td>\n",
       "      <td>250000</td>\n",
       "    </tr>\n",
       "    <tr>\n",
       "      <th>3</th>\n",
       "      <td>2013</td>\n",
       "      <td>ANT</td>\n",
       "      <td>200000</td>\n",
       "    </tr>\n",
       "    <tr>\n",
       "      <th>4</th>\n",
       "      <td>2014</td>\n",
       "      <td>ANT</td>\n",
       "      <td>150000</td>\n",
       "    </tr>\n",
       "    <tr>\n",
       "      <th>5</th>\n",
       "      <td>2015</td>\n",
       "      <td>ANT</td>\n",
       "      <td>100000</td>\n",
       "    </tr>\n",
       "  </tbody>\n",
       "</table>\n",
       "</div>"
      ],
      "text/plain": [
       "   year province  customers\n",
       "0  2013      BXL     150000\n",
       "1  2014      BXL     200000\n",
       "2  2015      BXL     250000\n",
       "3  2013      ANT     200000\n",
       "4  2014      ANT     150000\n",
       "5  2015      ANT     100000"
      ]
     },
     "execution_count": 36,
     "metadata": {},
     "output_type": "execute_result"
    }
   ],
   "source": [
    "# Again, totally made-up numbers here\n",
    "data = {\n",
    "    'province': ['BXL', 'BXL', 'BXL', 'ANT', 'ANT', 'ANT'],\n",
    "    'year': [2013, 2014, 2015, 2013, 2014, 2015],\n",
    "    'customers': [150000, 200000, 250000, 200000, 150000, 100000]\n",
    "}\n",
    "frame = DataFrame(data, columns=['year', 'province', 'customers'])\n",
    "frame"
   ]
  },
  {
   "cell_type": "markdown",
   "metadata": {},
   "source": [
    "**Ex 1.4.3 Quick: what's the difference between `frame2.drop('beer_quality')` and `del frame2['beer_quality']`?**"
   ]
  },
  {
   "cell_type": "markdown",
   "metadata": {},
   "source": [
    "`drop` makes a copy of `frame2` with the column removed, whereas `del` removes the column from the original `frame2`"
   ]
  },
  {
   "cell_type": "markdown",
   "metadata": {},
   "source": [
    "**Ex 1.4.5 Let's get some practice with slicing and dicing data.  Given the following DataFrame, extract:**\n",
    "1. **the first 2 rows**\n",
    "2. **the second and third column**\n",
    "3. **all rows where gdp_per_capita exceeds 5000**\n",
    "\n",
    "```\n",
    "data = {\n",
    "    'year': [1913, 1950, 2003, 1913, 1950, 2003],\n",
    "    'country': ['BE', 'BE', 'BE', 'NL', 'NL', 'NL'],\n",
    "    'gdp_per_capita': [4220, 5462, 21205, 4049, 5996, 21480]\n",
    "}\n",
    "frame = DataFrame(data, columns=['year', 'country', 'gdp_per_capita'])\n",
    "```"
   ]
  },
  {
   "cell_type": "code",
   "execution_count": 37,
   "metadata": {
    "collapsed": false
   },
   "outputs": [
    {
     "data": {
      "text/html": [
       "<div>\n",
       "<table border=\"1\" class=\"dataframe\">\n",
       "  <thead>\n",
       "    <tr style=\"text-align: right;\">\n",
       "      <th></th>\n",
       "      <th>year</th>\n",
       "      <th>country</th>\n",
       "      <th>gdp_per_capita</th>\n",
       "    </tr>\n",
       "  </thead>\n",
       "  <tbody>\n",
       "    <tr>\n",
       "      <th>0</th>\n",
       "      <td>1913</td>\n",
       "      <td>BE</td>\n",
       "      <td>4220</td>\n",
       "    </tr>\n",
       "    <tr>\n",
       "      <th>1</th>\n",
       "      <td>1950</td>\n",
       "      <td>BE</td>\n",
       "      <td>5462</td>\n",
       "    </tr>\n",
       "    <tr>\n",
       "      <th>2</th>\n",
       "      <td>2003</td>\n",
       "      <td>BE</td>\n",
       "      <td>21205</td>\n",
       "    </tr>\n",
       "    <tr>\n",
       "      <th>3</th>\n",
       "      <td>1913</td>\n",
       "      <td>NL</td>\n",
       "      <td>4049</td>\n",
       "    </tr>\n",
       "    <tr>\n",
       "      <th>4</th>\n",
       "      <td>1950</td>\n",
       "      <td>NL</td>\n",
       "      <td>5996</td>\n",
       "    </tr>\n",
       "    <tr>\n",
       "      <th>5</th>\n",
       "      <td>2003</td>\n",
       "      <td>NL</td>\n",
       "      <td>21480</td>\n",
       "    </tr>\n",
       "  </tbody>\n",
       "</table>\n",
       "</div>"
      ],
      "text/plain": [
       "   year country  gdp_per_capita\n",
       "0  1913      BE            4220\n",
       "1  1950      BE            5462\n",
       "2  2003      BE           21205\n",
       "3  1913      NL            4049\n",
       "4  1950      NL            5996\n",
       "5  2003      NL           21480"
      ]
     },
     "execution_count": 37,
     "metadata": {},
     "output_type": "execute_result"
    }
   ],
   "source": [
    "# Make the DataFrame first\n",
    "data = {\n",
    "    'year': [1913, 1950, 2003, 1913, 1950, 2003],\n",
    "    'country': ['BE', 'BE', 'BE', 'NL', 'NL', 'NL'],\n",
    "    'gdp_per_capita': [4220, 5462, 21205, 4049, 5996, 21480]\n",
    "}\n",
    "frame = DataFrame(data, columns=['year', 'country', 'gdp_per_capita'])\n",
    "frame"
   ]
  },
  {
   "cell_type": "code",
   "execution_count": 38,
   "metadata": {
    "collapsed": false
   },
   "outputs": [
    {
     "data": {
      "text/html": [
       "<div>\n",
       "<table border=\"1\" class=\"dataframe\">\n",
       "  <thead>\n",
       "    <tr style=\"text-align: right;\">\n",
       "      <th></th>\n",
       "      <th>year</th>\n",
       "      <th>country</th>\n",
       "      <th>gdp_per_capita</th>\n",
       "    </tr>\n",
       "  </thead>\n",
       "  <tbody>\n",
       "    <tr>\n",
       "      <th>0</th>\n",
       "      <td>1913</td>\n",
       "      <td>BE</td>\n",
       "      <td>4220</td>\n",
       "    </tr>\n",
       "    <tr>\n",
       "      <th>1</th>\n",
       "      <td>1950</td>\n",
       "      <td>BE</td>\n",
       "      <td>5462</td>\n",
       "    </tr>\n",
       "  </tbody>\n",
       "</table>\n",
       "</div>"
      ],
      "text/plain": [
       "   year country  gdp_per_capita\n",
       "0  1913      BE            4220\n",
       "1  1950      BE            5462"
      ]
     },
     "execution_count": 38,
     "metadata": {},
     "output_type": "execute_result"
    }
   ],
   "source": [
    "# First two rows\n",
    "frame.ix[:1]   # Note, the usual Python idiom is lost because end is inclusive\n",
    "\n",
    "# Other ways\n",
    "# frame.ix[0:1]\n",
    "# frame.ix[[0, 1]]\n",
    "\n",
    "# Row indexing *always* requires .ix[]"
   ]
  },
  {
   "cell_type": "code",
   "execution_count": 39,
   "metadata": {
    "collapsed": false
   },
   "outputs": [
    {
     "data": {
      "text/html": [
       "<div>\n",
       "<table border=\"1\" class=\"dataframe\">\n",
       "  <thead>\n",
       "    <tr style=\"text-align: right;\">\n",
       "      <th></th>\n",
       "      <th>country</th>\n",
       "      <th>gdp_per_capita</th>\n",
       "    </tr>\n",
       "  </thead>\n",
       "  <tbody>\n",
       "    <tr>\n",
       "      <th>0</th>\n",
       "      <td>BE</td>\n",
       "      <td>4220</td>\n",
       "    </tr>\n",
       "    <tr>\n",
       "      <th>1</th>\n",
       "      <td>BE</td>\n",
       "      <td>5462</td>\n",
       "    </tr>\n",
       "    <tr>\n",
       "      <th>2</th>\n",
       "      <td>BE</td>\n",
       "      <td>21205</td>\n",
       "    </tr>\n",
       "    <tr>\n",
       "      <th>3</th>\n",
       "      <td>NL</td>\n",
       "      <td>4049</td>\n",
       "    </tr>\n",
       "    <tr>\n",
       "      <th>4</th>\n",
       "      <td>NL</td>\n",
       "      <td>5996</td>\n",
       "    </tr>\n",
       "    <tr>\n",
       "      <th>5</th>\n",
       "      <td>NL</td>\n",
       "      <td>21480</td>\n",
       "    </tr>\n",
       "  </tbody>\n",
       "</table>\n",
       "</div>"
      ],
      "text/plain": [
       "  country  gdp_per_capita\n",
       "0      BE            4220\n",
       "1      BE            5462\n",
       "2      BE           21205\n",
       "3      NL            4049\n",
       "4      NL            5996\n",
       "5      NL           21480"
      ]
     },
     "execution_count": 39,
     "metadata": {},
     "output_type": "execute_result"
    }
   ],
   "source": [
    "# Second and third column\n",
    "frame[['country', 'gdp_per_capita']]\n",
    "## frame['country', 'gdp_per_capita']  <-- NOT THIS\n",
    "\n",
    "# Other possibilities\n",
    "# frame.ix[:,1:2]\n",
    "# frame[[1, 2]]\n",
    "# frame.ix[:, ['country', 'gdp_per_capita']]"
   ]
  },
  {
   "cell_type": "code",
   "execution_count": 40,
   "metadata": {
    "collapsed": false
   },
   "outputs": [
    {
     "data": {
      "text/html": [
       "<div>\n",
       "<table border=\"1\" class=\"dataframe\">\n",
       "  <thead>\n",
       "    <tr style=\"text-align: right;\">\n",
       "      <th></th>\n",
       "      <th>year</th>\n",
       "      <th>country</th>\n",
       "      <th>gdp_per_capita</th>\n",
       "    </tr>\n",
       "  </thead>\n",
       "  <tbody>\n",
       "    <tr>\n",
       "      <th>1</th>\n",
       "      <td>1950</td>\n",
       "      <td>BE</td>\n",
       "      <td>5462</td>\n",
       "    </tr>\n",
       "    <tr>\n",
       "      <th>2</th>\n",
       "      <td>2003</td>\n",
       "      <td>BE</td>\n",
       "      <td>21205</td>\n",
       "    </tr>\n",
       "    <tr>\n",
       "      <th>4</th>\n",
       "      <td>1950</td>\n",
       "      <td>NL</td>\n",
       "      <td>5996</td>\n",
       "    </tr>\n",
       "    <tr>\n",
       "      <th>5</th>\n",
       "      <td>2003</td>\n",
       "      <td>NL</td>\n",
       "      <td>21480</td>\n",
       "    </tr>\n",
       "  </tbody>\n",
       "</table>\n",
       "</div>"
      ],
      "text/plain": [
       "   year country  gdp_per_capita\n",
       "1  1950      BE            5462\n",
       "2  2003      BE           21205\n",
       "4  1950      NL            5996\n",
       "5  2003      NL           21480"
      ]
     },
     "execution_count": 40,
     "metadata": {},
     "output_type": "execute_result"
    }
   ],
   "source": [
    "# Rows where GDP per capita exceeds 5000\n",
    "frame[frame.gdp_per_capita > 5000]"
   ]
  },
  {
   "cell_type": "markdown",
   "metadata": {},
   "source": [
    "Why does the above work?  Look at the result of the expression in brackets:"
   ]
  },
  {
   "cell_type": "code",
   "execution_count": 41,
   "metadata": {
    "collapsed": false
   },
   "outputs": [
    {
     "data": {
      "text/plain": [
       "0    False\n",
       "1     True\n",
       "2     True\n",
       "3    False\n",
       "4     True\n",
       "5     True\n",
       "Name: gdp_per_capita, dtype: bool"
      ]
     },
     "execution_count": 41,
     "metadata": {},
     "output_type": "execute_result"
    }
   ],
   "source": [
    "frame.gdp_per_capita > 5000"
   ]
  },
  {
   "cell_type": "markdown",
   "metadata": {},
   "source": [
    "So when indexing with a Boolean array, we get rows, not columns.  Sounds inconsistent, but is very intuitive in practice."
   ]
  },
  {
   "cell_type": "markdown",
   "metadata": {},
   "source": [
    "**Ex 1.4.7 How many different male and female names were used in 1880?**"
   ]
  },
  {
   "cell_type": "code",
   "execution_count": 42,
   "metadata": {
    "collapsed": true
   },
   "outputs": [],
   "source": [
    "names1880 = pd.read_csv('names/yob1880.txt', names=['name', 'sex', 'births'])"
   ]
  },
  {
   "cell_type": "code",
   "execution_count": 43,
   "metadata": {
    "collapsed": false
   },
   "outputs": [
    {
     "data": {
      "text/plain": [
       "sex\n",
       "F     942\n",
       "M    1058\n",
       "Name: births, dtype: int64"
      ]
     },
     "execution_count": 43,
     "metadata": {},
     "output_type": "execute_result"
    }
   ],
   "source": [
    "names1880.groupby('sex').births.count()"
   ]
  },
  {
   "cell_type": "markdown",
   "metadata": {},
   "source": [
    "**Ex 1.4.8 Write a function to read all names data from 1880 to 2014 into a single `DataFrame`.  Store the result in `names`**"
   ]
  },
  {
   "cell_type": "code",
   "execution_count": 44,
   "metadata": {
    "collapsed": true
   },
   "outputs": [],
   "source": [
    "# First, we'll write a function to read in one year\n",
    "def read_one_year(year):\n",
    "    df = pd.read_csv('names/yob{0}.txt'.format(year),\n",
    "                     names=['name', 'sex', 'births'])\n",
    "    df['year'] = int(year)\n",
    "    return df\n",
    "\n",
    "# Then use list comprehension to read all years in and concat them\n",
    "names = pd.concat([read_one_year(y) for y in range(1880, 2014+1)],\n",
    "                 ignore_index=False)"
   ]
  },
  {
   "cell_type": "markdown",
   "metadata": {},
   "source": [
    "**Ex 1.4.9 What percentage of _all_ babies were called 'Mary' in 1880?**"
   ]
  },
  {
   "cell_type": "markdown",
   "metadata": {},
   "source": [
    "The most straightforward way is to just group by 'year', then extract the relevant rows:"
   ]
  },
  {
   "cell_type": "code",
   "execution_count": 45,
   "metadata": {
    "collapsed": false
   },
   "outputs": [
    {
     "data": {
      "text/html": [
       "<div>\n",
       "<table border=\"1\" class=\"dataframe\">\n",
       "  <thead>\n",
       "    <tr style=\"text-align: right;\">\n",
       "      <th></th>\n",
       "      <th>name</th>\n",
       "      <th>sex</th>\n",
       "      <th>births</th>\n",
       "      <th>year</th>\n",
       "      <th>prop</th>\n",
       "    </tr>\n",
       "  </thead>\n",
       "  <tbody>\n",
       "    <tr>\n",
       "      <th>0</th>\n",
       "      <td>Mary</td>\n",
       "      <td>F</td>\n",
       "      <td>7065</td>\n",
       "      <td>1880</td>\n",
       "      <td>0.035065</td>\n",
       "    </tr>\n",
       "    <tr>\n",
       "      <th>1273</th>\n",
       "      <td>Mary</td>\n",
       "      <td>M</td>\n",
       "      <td>27</td>\n",
       "      <td>1880</td>\n",
       "      <td>0.000134</td>\n",
       "    </tr>\n",
       "  </tbody>\n",
       "</table>\n",
       "</div>"
      ],
      "text/plain": [
       "      name sex  births  year      prop\n",
       "0     Mary   F    7065  1880  0.035065\n",
       "1273  Mary   M      27  1880  0.000134"
      ]
     },
     "execution_count": 45,
     "metadata": {},
     "output_type": "execute_result"
    }
   ],
   "source": [
    "def add_prop(group):\n",
    "    births = group.births.astype(float)\n",
    "    group['prop'] = births / births.sum()\n",
    "    return group\n",
    "\n",
    "names = names.groupby(['year']).apply(add_prop)\n",
    "names[(names.name == 'Mary') & (names.year == 1880)]"
   ]
  },
  {
   "cell_type": "markdown",
   "metadata": {},
   "source": [
    "Not surprisingly, about half of all births are girls, so overall, 3.5% of babies born in 1880 were called Mary.  Perhaps more surprisingly is that 27 **boys** were called Mary in 1880!"
   ]
  },
  {
   "cell_type": "markdown",
   "metadata": {},
   "source": [
    "**Ex 1.4.10 Using a `for` loop and `pd.concat`, build up a the `top1000` DataFrame, i.e., a DataFrame with year, sex and births columns containing only the top 1000 names for each year/sex combination.**"
   ]
  },
  {
   "cell_type": "code",
   "execution_count": 46,
   "metadata": {
    "collapsed": false
   },
   "outputs": [
    {
     "data": {
      "text/html": [
       "<div>\n",
       "<table border=\"1\" class=\"dataframe\">\n",
       "  <thead>\n",
       "    <tr style=\"text-align: right;\">\n",
       "      <th></th>\n",
       "      <th>name</th>\n",
       "      <th>sex</th>\n",
       "      <th>births</th>\n",
       "    </tr>\n",
       "  </thead>\n",
       "  <tbody>\n",
       "    <tr>\n",
       "      <th>942</th>\n",
       "      <td>John</td>\n",
       "      <td>M</td>\n",
       "      <td>9655</td>\n",
       "    </tr>\n",
       "    <tr>\n",
       "      <th>943</th>\n",
       "      <td>William</td>\n",
       "      <td>M</td>\n",
       "      <td>9532</td>\n",
       "    </tr>\n",
       "    <tr>\n",
       "      <th>0</th>\n",
       "      <td>Mary</td>\n",
       "      <td>F</td>\n",
       "      <td>7065</td>\n",
       "    </tr>\n",
       "  </tbody>\n",
       "</table>\n",
       "</div>"
      ],
      "text/plain": [
       "        name sex  births\n",
       "942     John   M    9655\n",
       "943  William   M    9532\n",
       "0       Mary   F    7065"
      ]
     },
     "execution_count": 46,
     "metadata": {},
     "output_type": "execute_result"
    }
   ],
   "source": [
    "# Here's what we'd need to do for each group\n",
    "names1880.sort_index(by='births', ascending=False)[:3]"
   ]
  },
  {
   "cell_type": "code",
   "execution_count": 47,
   "metadata": {
    "collapsed": false
   },
   "outputs": [
    {
     "data": {
      "text/html": [
       "<div>\n",
       "<table border=\"1\" class=\"dataframe\">\n",
       "  <thead>\n",
       "    <tr style=\"text-align: right;\">\n",
       "      <th></th>\n",
       "      <th>name</th>\n",
       "      <th>sex</th>\n",
       "      <th>births</th>\n",
       "      <th>year</th>\n",
       "      <th>prop</th>\n",
       "    </tr>\n",
       "  </thead>\n",
       "  <tbody>\n",
       "    <tr>\n",
       "      <th>0</th>\n",
       "      <td>Mary</td>\n",
       "      <td>F</td>\n",
       "      <td>7065</td>\n",
       "      <td>1880</td>\n",
       "      <td>0.035065</td>\n",
       "    </tr>\n",
       "    <tr>\n",
       "      <th>1</th>\n",
       "      <td>Anna</td>\n",
       "      <td>F</td>\n",
       "      <td>2604</td>\n",
       "      <td>1880</td>\n",
       "      <td>0.012924</td>\n",
       "    </tr>\n",
       "    <tr>\n",
       "      <th>2</th>\n",
       "      <td>Emma</td>\n",
       "      <td>F</td>\n",
       "      <td>2003</td>\n",
       "      <td>1880</td>\n",
       "      <td>0.009941</td>\n",
       "    </tr>\n",
       "    <tr>\n",
       "      <th>3</th>\n",
       "      <td>Elizabeth</td>\n",
       "      <td>F</td>\n",
       "      <td>1939</td>\n",
       "      <td>1880</td>\n",
       "      <td>0.009624</td>\n",
       "    </tr>\n",
       "    <tr>\n",
       "      <th>4</th>\n",
       "      <td>Minnie</td>\n",
       "      <td>F</td>\n",
       "      <td>1746</td>\n",
       "      <td>1880</td>\n",
       "      <td>0.008666</td>\n",
       "    </tr>\n",
       "  </tbody>\n",
       "</table>\n",
       "</div>"
      ],
      "text/plain": [
       "        name sex  births  year      prop\n",
       "0       Mary   F    7065  1880  0.035065\n",
       "1       Anna   F    2604  1880  0.012924\n",
       "2       Emma   F    2003  1880  0.009941\n",
       "3  Elizabeth   F    1939  1880  0.009624\n",
       "4     Minnie   F    1746  1880  0.008666"
      ]
     },
     "execution_count": 47,
     "metadata": {},
     "output_type": "execute_result"
    }
   ],
   "source": [
    "# Let's do it by iteration over the groups generated by `groupby`\n",
    "pieces = []\n",
    "for (year, sex), group in names.groupby(['year', 'sex']):\n",
    "    pieces.append(group.sort_index(by='births', ascending=False)[:1000])\n",
    "top1000 = pd.concat(pieces, ignore_index=True)\n",
    "top1000.head()"
   ]
  },
  {
   "cell_type": "markdown",
   "metadata": {},
   "source": [
    "**Ex 1.4.11 Plot the proportion in each year of babies named John, Harry, Mary and Marilyn, all in one figure.**"
   ]
  },
  {
   "cell_type": "code",
   "execution_count": 48,
   "metadata": {
    "collapsed": false
   },
   "outputs": [
    {
     "data": {
      "text/html": [
       "<div>\n",
       "<table border=\"1\" class=\"dataframe\">\n",
       "  <thead>\n",
       "    <tr style=\"text-align: right;\">\n",
       "      <th>name</th>\n",
       "      <th>Aaden</th>\n",
       "      <th>Aaliyah</th>\n",
       "      <th>Aanya</th>\n",
       "      <th>Aarav</th>\n",
       "      <th>Aaron</th>\n",
       "      <th>Aarush</th>\n",
       "      <th>Ab</th>\n",
       "      <th>Abagail</th>\n",
       "      <th>Abb</th>\n",
       "      <th>Abbey</th>\n",
       "      <th>...</th>\n",
       "      <th>Zoa</th>\n",
       "      <th>Zoe</th>\n",
       "      <th>Zoey</th>\n",
       "      <th>Zoie</th>\n",
       "      <th>Zola</th>\n",
       "      <th>Zollie</th>\n",
       "      <th>Zona</th>\n",
       "      <th>Zora</th>\n",
       "      <th>Zula</th>\n",
       "      <th>Zuri</th>\n",
       "    </tr>\n",
       "    <tr>\n",
       "      <th>year</th>\n",
       "      <th></th>\n",
       "      <th></th>\n",
       "      <th></th>\n",
       "      <th></th>\n",
       "      <th></th>\n",
       "      <th></th>\n",
       "      <th></th>\n",
       "      <th></th>\n",
       "      <th></th>\n",
       "      <th></th>\n",
       "      <th></th>\n",
       "      <th></th>\n",
       "      <th></th>\n",
       "      <th></th>\n",
       "      <th></th>\n",
       "      <th></th>\n",
       "      <th></th>\n",
       "      <th></th>\n",
       "      <th></th>\n",
       "      <th></th>\n",
       "      <th></th>\n",
       "    </tr>\n",
       "  </thead>\n",
       "  <tbody>\n",
       "    <tr>\n",
       "      <th>1880</th>\n",
       "      <td>NaN</td>\n",
       "      <td>NaN</td>\n",
       "      <td>NaN</td>\n",
       "      <td>NaN</td>\n",
       "      <td>102</td>\n",
       "      <td>NaN</td>\n",
       "      <td>NaN</td>\n",
       "      <td>NaN</td>\n",
       "      <td>NaN</td>\n",
       "      <td>NaN</td>\n",
       "      <td>...</td>\n",
       "      <td>8</td>\n",
       "      <td>23</td>\n",
       "      <td>NaN</td>\n",
       "      <td>NaN</td>\n",
       "      <td>7</td>\n",
       "      <td>NaN</td>\n",
       "      <td>8</td>\n",
       "      <td>28</td>\n",
       "      <td>27</td>\n",
       "      <td>NaN</td>\n",
       "    </tr>\n",
       "    <tr>\n",
       "      <th>1881</th>\n",
       "      <td>NaN</td>\n",
       "      <td>NaN</td>\n",
       "      <td>NaN</td>\n",
       "      <td>NaN</td>\n",
       "      <td>94</td>\n",
       "      <td>NaN</td>\n",
       "      <td>NaN</td>\n",
       "      <td>NaN</td>\n",
       "      <td>NaN</td>\n",
       "      <td>NaN</td>\n",
       "      <td>...</td>\n",
       "      <td>NaN</td>\n",
       "      <td>22</td>\n",
       "      <td>NaN</td>\n",
       "      <td>NaN</td>\n",
       "      <td>10</td>\n",
       "      <td>NaN</td>\n",
       "      <td>9</td>\n",
       "      <td>21</td>\n",
       "      <td>27</td>\n",
       "      <td>NaN</td>\n",
       "    </tr>\n",
       "    <tr>\n",
       "      <th>1882</th>\n",
       "      <td>NaN</td>\n",
       "      <td>NaN</td>\n",
       "      <td>NaN</td>\n",
       "      <td>NaN</td>\n",
       "      <td>85</td>\n",
       "      <td>NaN</td>\n",
       "      <td>NaN</td>\n",
       "      <td>NaN</td>\n",
       "      <td>NaN</td>\n",
       "      <td>NaN</td>\n",
       "      <td>...</td>\n",
       "      <td>8</td>\n",
       "      <td>25</td>\n",
       "      <td>NaN</td>\n",
       "      <td>NaN</td>\n",
       "      <td>9</td>\n",
       "      <td>NaN</td>\n",
       "      <td>17</td>\n",
       "      <td>32</td>\n",
       "      <td>21</td>\n",
       "      <td>NaN</td>\n",
       "    </tr>\n",
       "    <tr>\n",
       "      <th>1883</th>\n",
       "      <td>NaN</td>\n",
       "      <td>NaN</td>\n",
       "      <td>NaN</td>\n",
       "      <td>NaN</td>\n",
       "      <td>105</td>\n",
       "      <td>NaN</td>\n",
       "      <td>NaN</td>\n",
       "      <td>NaN</td>\n",
       "      <td>NaN</td>\n",
       "      <td>NaN</td>\n",
       "      <td>...</td>\n",
       "      <td>NaN</td>\n",
       "      <td>23</td>\n",
       "      <td>NaN</td>\n",
       "      <td>NaN</td>\n",
       "      <td>10</td>\n",
       "      <td>NaN</td>\n",
       "      <td>11</td>\n",
       "      <td>35</td>\n",
       "      <td>25</td>\n",
       "      <td>NaN</td>\n",
       "    </tr>\n",
       "    <tr>\n",
       "      <th>1884</th>\n",
       "      <td>NaN</td>\n",
       "      <td>NaN</td>\n",
       "      <td>NaN</td>\n",
       "      <td>NaN</td>\n",
       "      <td>97</td>\n",
       "      <td>NaN</td>\n",
       "      <td>NaN</td>\n",
       "      <td>NaN</td>\n",
       "      <td>NaN</td>\n",
       "      <td>NaN</td>\n",
       "      <td>...</td>\n",
       "      <td>13</td>\n",
       "      <td>31</td>\n",
       "      <td>NaN</td>\n",
       "      <td>NaN</td>\n",
       "      <td>14</td>\n",
       "      <td>6</td>\n",
       "      <td>8</td>\n",
       "      <td>58</td>\n",
       "      <td>27</td>\n",
       "      <td>NaN</td>\n",
       "    </tr>\n",
       "  </tbody>\n",
       "</table>\n",
       "<p>5 rows × 7031 columns</p>\n",
       "</div>"
      ],
      "text/plain": [
       "name  Aaden  Aaliyah  Aanya  Aarav  Aaron  Aarush  Ab  Abagail  Abb  Abbey  \\\n",
       "year                                                                         \n",
       "1880    NaN      NaN    NaN    NaN    102     NaN NaN      NaN  NaN    NaN   \n",
       "1881    NaN      NaN    NaN    NaN     94     NaN NaN      NaN  NaN    NaN   \n",
       "1882    NaN      NaN    NaN    NaN     85     NaN NaN      NaN  NaN    NaN   \n",
       "1883    NaN      NaN    NaN    NaN    105     NaN NaN      NaN  NaN    NaN   \n",
       "1884    NaN      NaN    NaN    NaN     97     NaN NaN      NaN  NaN    NaN   \n",
       "\n",
       "name  ...   Zoa  Zoe  Zoey  Zoie  Zola  Zollie  Zona  Zora  Zula  Zuri  \n",
       "year  ...                                                               \n",
       "1880  ...     8   23   NaN   NaN     7     NaN     8    28    27   NaN  \n",
       "1881  ...   NaN   22   NaN   NaN    10     NaN     9    21    27   NaN  \n",
       "1882  ...     8   25   NaN   NaN     9     NaN    17    32    21   NaN  \n",
       "1883  ...   NaN   23   NaN   NaN    10     NaN    11    35    25   NaN  \n",
       "1884  ...    13   31   NaN   NaN    14       6     8    58    27   NaN  \n",
       "\n",
       "[5 rows x 7031 columns]"
      ]
     },
     "execution_count": 48,
     "metadata": {},
     "output_type": "execute_result"
    }
   ],
   "source": [
    "# From the lesson\n",
    "\n",
    "total_births = top1000.pivot_table('births', index='year', columns='name',\n",
    "                                  aggfunc=sum)\n",
    "total_births.head()"
   ]
  },
  {
   "cell_type": "markdown",
   "metadata": {},
   "source": [
    "We need to sum across all the names for each year, then divide by that sum."
   ]
  },
  {
   "cell_type": "code",
   "execution_count": 49,
   "metadata": {
    "collapsed": false
   },
   "outputs": [
    {
     "data": {
      "text/plain": [
       "year\n",
       "1880    201194\n",
       "1881    192699\n",
       "1882    220903\n",
       "1883    216530\n",
       "1884    241959\n",
       "dtype: float64"
      ]
     },
     "execution_count": 49,
     "metadata": {},
     "output_type": "execute_result"
    }
   ],
   "source": [
    "# total_births.sum()   # This sums along the columns\n",
    "births_per_year = total_births.sum(axis=1)\n",
    "births_per_year.head()"
   ]
  },
  {
   "cell_type": "code",
   "execution_count": 50,
   "metadata": {
    "collapsed": false
   },
   "outputs": [
    {
     "data": {
      "text/html": [
       "<div>\n",
       "<table border=\"1\" class=\"dataframe\">\n",
       "  <thead>\n",
       "    <tr style=\"text-align: right;\">\n",
       "      <th>name</th>\n",
       "      <th>Aaden</th>\n",
       "      <th>Aaliyah</th>\n",
       "      <th>Aanya</th>\n",
       "      <th>Aarav</th>\n",
       "      <th>Aaron</th>\n",
       "      <th>Aarush</th>\n",
       "      <th>Ab</th>\n",
       "      <th>Abagail</th>\n",
       "      <th>Abb</th>\n",
       "      <th>Abbey</th>\n",
       "      <th>...</th>\n",
       "      <th>Zoa</th>\n",
       "      <th>Zoe</th>\n",
       "      <th>Zoey</th>\n",
       "      <th>Zoie</th>\n",
       "      <th>Zola</th>\n",
       "      <th>Zollie</th>\n",
       "      <th>Zona</th>\n",
       "      <th>Zora</th>\n",
       "      <th>Zula</th>\n",
       "      <th>Zuri</th>\n",
       "    </tr>\n",
       "    <tr>\n",
       "      <th>year</th>\n",
       "      <th></th>\n",
       "      <th></th>\n",
       "      <th></th>\n",
       "      <th></th>\n",
       "      <th></th>\n",
       "      <th></th>\n",
       "      <th></th>\n",
       "      <th></th>\n",
       "      <th></th>\n",
       "      <th></th>\n",
       "      <th></th>\n",
       "      <th></th>\n",
       "      <th></th>\n",
       "      <th></th>\n",
       "      <th></th>\n",
       "      <th></th>\n",
       "      <th></th>\n",
       "      <th></th>\n",
       "      <th></th>\n",
       "      <th></th>\n",
       "      <th></th>\n",
       "    </tr>\n",
       "  </thead>\n",
       "  <tbody>\n",
       "    <tr>\n",
       "      <th>1880</th>\n",
       "      <td>NaN</td>\n",
       "      <td>NaN</td>\n",
       "      <td>NaN</td>\n",
       "      <td>NaN</td>\n",
       "      <td>0.000507</td>\n",
       "      <td>NaN</td>\n",
       "      <td>NaN</td>\n",
       "      <td>NaN</td>\n",
       "      <td>NaN</td>\n",
       "      <td>NaN</td>\n",
       "      <td>...</td>\n",
       "      <td>0.000040</td>\n",
       "      <td>0.000114</td>\n",
       "      <td>NaN</td>\n",
       "      <td>NaN</td>\n",
       "      <td>0.000035</td>\n",
       "      <td>NaN</td>\n",
       "      <td>0.000040</td>\n",
       "      <td>0.000139</td>\n",
       "      <td>0.000134</td>\n",
       "      <td>NaN</td>\n",
       "    </tr>\n",
       "    <tr>\n",
       "      <th>1881</th>\n",
       "      <td>NaN</td>\n",
       "      <td>NaN</td>\n",
       "      <td>NaN</td>\n",
       "      <td>NaN</td>\n",
       "      <td>0.000488</td>\n",
       "      <td>NaN</td>\n",
       "      <td>NaN</td>\n",
       "      <td>NaN</td>\n",
       "      <td>NaN</td>\n",
       "      <td>NaN</td>\n",
       "      <td>...</td>\n",
       "      <td>NaN</td>\n",
       "      <td>0.000114</td>\n",
       "      <td>NaN</td>\n",
       "      <td>NaN</td>\n",
       "      <td>0.000052</td>\n",
       "      <td>NaN</td>\n",
       "      <td>0.000047</td>\n",
       "      <td>0.000109</td>\n",
       "      <td>0.000140</td>\n",
       "      <td>NaN</td>\n",
       "    </tr>\n",
       "    <tr>\n",
       "      <th>1882</th>\n",
       "      <td>NaN</td>\n",
       "      <td>NaN</td>\n",
       "      <td>NaN</td>\n",
       "      <td>NaN</td>\n",
       "      <td>0.000385</td>\n",
       "      <td>NaN</td>\n",
       "      <td>NaN</td>\n",
       "      <td>NaN</td>\n",
       "      <td>NaN</td>\n",
       "      <td>NaN</td>\n",
       "      <td>...</td>\n",
       "      <td>0.000036</td>\n",
       "      <td>0.000113</td>\n",
       "      <td>NaN</td>\n",
       "      <td>NaN</td>\n",
       "      <td>0.000041</td>\n",
       "      <td>NaN</td>\n",
       "      <td>0.000077</td>\n",
       "      <td>0.000145</td>\n",
       "      <td>0.000095</td>\n",
       "      <td>NaN</td>\n",
       "    </tr>\n",
       "    <tr>\n",
       "      <th>1883</th>\n",
       "      <td>NaN</td>\n",
       "      <td>NaN</td>\n",
       "      <td>NaN</td>\n",
       "      <td>NaN</td>\n",
       "      <td>0.000485</td>\n",
       "      <td>NaN</td>\n",
       "      <td>NaN</td>\n",
       "      <td>NaN</td>\n",
       "      <td>NaN</td>\n",
       "      <td>NaN</td>\n",
       "      <td>...</td>\n",
       "      <td>NaN</td>\n",
       "      <td>0.000106</td>\n",
       "      <td>NaN</td>\n",
       "      <td>NaN</td>\n",
       "      <td>0.000046</td>\n",
       "      <td>NaN</td>\n",
       "      <td>0.000051</td>\n",
       "      <td>0.000162</td>\n",
       "      <td>0.000115</td>\n",
       "      <td>NaN</td>\n",
       "    </tr>\n",
       "    <tr>\n",
       "      <th>1884</th>\n",
       "      <td>NaN</td>\n",
       "      <td>NaN</td>\n",
       "      <td>NaN</td>\n",
       "      <td>NaN</td>\n",
       "      <td>0.000401</td>\n",
       "      <td>NaN</td>\n",
       "      <td>NaN</td>\n",
       "      <td>NaN</td>\n",
       "      <td>NaN</td>\n",
       "      <td>NaN</td>\n",
       "      <td>...</td>\n",
       "      <td>0.000054</td>\n",
       "      <td>0.000128</td>\n",
       "      <td>NaN</td>\n",
       "      <td>NaN</td>\n",
       "      <td>0.000058</td>\n",
       "      <td>0.000025</td>\n",
       "      <td>0.000033</td>\n",
       "      <td>0.000240</td>\n",
       "      <td>0.000112</td>\n",
       "      <td>NaN</td>\n",
       "    </tr>\n",
       "  </tbody>\n",
       "</table>\n",
       "<p>5 rows × 7031 columns</p>\n",
       "</div>"
      ],
      "text/plain": [
       "name  Aaden  Aaliyah  Aanya  Aarav     Aaron  Aarush  Ab  Abagail  Abb  Abbey  \\\n",
       "year                                                                            \n",
       "1880    NaN      NaN    NaN    NaN  0.000507     NaN NaN      NaN  NaN    NaN   \n",
       "1881    NaN      NaN    NaN    NaN  0.000488     NaN NaN      NaN  NaN    NaN   \n",
       "1882    NaN      NaN    NaN    NaN  0.000385     NaN NaN      NaN  NaN    NaN   \n",
       "1883    NaN      NaN    NaN    NaN  0.000485     NaN NaN      NaN  NaN    NaN   \n",
       "1884    NaN      NaN    NaN    NaN  0.000401     NaN NaN      NaN  NaN    NaN   \n",
       "\n",
       "name  ...        Zoa       Zoe  Zoey  Zoie      Zola    Zollie      Zona  \\\n",
       "year  ...                                                                  \n",
       "1880  ...   0.000040  0.000114   NaN   NaN  0.000035       NaN  0.000040   \n",
       "1881  ...        NaN  0.000114   NaN   NaN  0.000052       NaN  0.000047   \n",
       "1882  ...   0.000036  0.000113   NaN   NaN  0.000041       NaN  0.000077   \n",
       "1883  ...        NaN  0.000106   NaN   NaN  0.000046       NaN  0.000051   \n",
       "1884  ...   0.000054  0.000128   NaN   NaN  0.000058  0.000025  0.000033   \n",
       "\n",
       "name      Zora      Zula  Zuri  \n",
       "year                            \n",
       "1880  0.000139  0.000134   NaN  \n",
       "1881  0.000109  0.000140   NaN  \n",
       "1882  0.000145  0.000095   NaN  \n",
       "1883  0.000162  0.000115   NaN  \n",
       "1884  0.000240  0.000112   NaN  \n",
       "\n",
       "[5 rows x 7031 columns]"
      ]
     },
     "execution_count": 50,
     "metadata": {},
     "output_type": "execute_result"
    }
   ],
   "source": [
    "# Match dividend and divisor along axis 0 of dividend\n",
    "props = total_births.div(births_per_year, axis=0)\n",
    "props.head()"
   ]
  },
  {
   "cell_type": "code",
   "execution_count": 51,
   "metadata": {
    "collapsed": false
   },
   "outputs": [
    {
     "data": {
      "text/plain": [
       "<matplotlib.axes._subplots.AxesSubplot at 0x1096ca4d0>"
      ]
     },
     "execution_count": 51,
     "metadata": {},
     "output_type": "execute_result"
    },
    {
     "data": {
      "image/png": "[encoded data removed]",
      "text/plain": [
       "<matplotlib.figure.Figure at 0x1096cac90>"
      ]
     },
     "metadata": {},
     "output_type": "display_data"
    }
   ],
   "source": [
    "%matplotlib inline\n",
    "subset = props[['John', 'Harry', 'Mary', 'Marilyn']]\n",
    "subset.plot(figsize=(12, 10), grid=False, title=\"Proportion of births per year\")"
   ]
  },
  {
   "cell_type": "markdown",
   "metadata": {
    "collapsed": true
   },
   "source": [
    "**Ex 1.4.12 Write a method that takes `cumprop` as an array of numbers and finds the index of the first element where cumprop > 0.50**"
   ]
  },
  {
   "cell_type": "code",
   "execution_count": 52,
   "metadata": {
    "collapsed": true
   },
   "outputs": [],
   "source": [
    "def find_top_half_rank(cumprops):\n",
    "    for i, cumprop in enumerate(cumprops):\n",
    "        if cumprop > 0.50:\n",
    "            return i\n",
    "    \n",
    "    # If cumprop *never* reaches 0.50, return the length of the list\n",
    "    return len(cumprops)"
   ]
  },
  {
   "cell_type": "code",
   "execution_count": 53,
   "metadata": {
    "collapsed": false
   },
   "outputs": [
    {
     "data": {
      "text/plain": [
       "4"
      ]
     },
     "execution_count": 53,
     "metadata": {},
     "output_type": "execute_result"
    }
   ],
   "source": [
    "find_top_half_rank([0.05, 0.15, 0.45, 0.47, 0.51, 0.76, 0.98])"
   ]
  },
  {
   "cell_type": "markdown",
   "metadata": {},
   "source": [
    "**(!) Ex 1.4.13  As you can see above, some names have alternate spellings.  It's a tough problem to automatically group all \"similar\" names together.  A first step might be to find groups of names that start with the same 4 letters.  Find all such groups, listing the group with most variants first.**"
   ]
  },
  {
   "cell_type": "code",
   "execution_count": 54,
   "metadata": {
    "collapsed": false
   },
   "outputs": [
    {
     "data": {
      "text/plain": [
       "array(['Mary', 'Anna', 'Emma', ..., 'Zijun', 'Zilas', 'Zirui'], dtype=object)"
      ]
     },
     "execution_count": 54,
     "metadata": {},
     "output_type": "execute_result"
    }
   ],
   "source": [
    "unique_names = names.name.unique()\n",
    "unique_names"
   ]
  },
  {
   "cell_type": "code",
   "execution_count": 55,
   "metadata": {
    "collapsed": false
   },
   "outputs": [
    {
     "data": {
      "text/html": [
       "<div>\n",
       "<table border=\"1\" class=\"dataframe\">\n",
       "  <thead>\n",
       "    <tr style=\"text-align: right;\">\n",
       "      <th></th>\n",
       "      <th>name</th>\n",
       "    </tr>\n",
       "  </thead>\n",
       "  <tbody>\n",
       "    <tr>\n",
       "      <th>0</th>\n",
       "      <td>Mary</td>\n",
       "    </tr>\n",
       "    <tr>\n",
       "      <th>1</th>\n",
       "      <td>Anna</td>\n",
       "    </tr>\n",
       "    <tr>\n",
       "      <th>2</th>\n",
       "      <td>Emma</td>\n",
       "    </tr>\n",
       "    <tr>\n",
       "      <th>3</th>\n",
       "      <td>Elizabeth</td>\n",
       "    </tr>\n",
       "    <tr>\n",
       "      <th>4</th>\n",
       "      <td>Minnie</td>\n",
       "    </tr>\n",
       "  </tbody>\n",
       "</table>\n",
       "</div>"
      ],
      "text/plain": [
       "        name\n",
       "0       Mary\n",
       "1       Anna\n",
       "2       Emma\n",
       "3  Elizabeth\n",
       "4     Minnie"
      ]
     },
     "execution_count": 55,
     "metadata": {},
     "output_type": "execute_result"
    }
   ],
   "source": [
    "df = DataFrame(unique_names, columns=['name'])\n",
    "df.head()"
   ]
  },
  {
   "cell_type": "code",
   "execution_count": 56,
   "metadata": {
    "collapsed": false
   },
   "outputs": [
    {
     "data": {
      "text/html": [
       "<div>\n",
       "<table border=\"1\" class=\"dataframe\">\n",
       "  <thead>\n",
       "    <tr style=\"text-align: right;\">\n",
       "      <th></th>\n",
       "      <th>name</th>\n",
       "      <th>start</th>\n",
       "    </tr>\n",
       "  </thead>\n",
       "  <tbody>\n",
       "    <tr>\n",
       "      <th>0</th>\n",
       "      <td>Mary</td>\n",
       "      <td>Mary</td>\n",
       "    </tr>\n",
       "    <tr>\n",
       "      <th>1</th>\n",
       "      <td>Anna</td>\n",
       "      <td>Anna</td>\n",
       "    </tr>\n",
       "    <tr>\n",
       "      <th>2</th>\n",
       "      <td>Emma</td>\n",
       "      <td>Emma</td>\n",
       "    </tr>\n",
       "    <tr>\n",
       "      <th>3</th>\n",
       "      <td>Elizabeth</td>\n",
       "      <td>Eliz</td>\n",
       "    </tr>\n",
       "    <tr>\n",
       "      <th>4</th>\n",
       "      <td>Minnie</td>\n",
       "      <td>Minn</td>\n",
       "    </tr>\n",
       "  </tbody>\n",
       "</table>\n",
       "</div>"
      ],
      "text/plain": [
       "        name start\n",
       "0       Mary  Mary\n",
       "1       Anna  Anna\n",
       "2       Emma  Emma\n",
       "3  Elizabeth  Eliz\n",
       "4     Minnie  Minn"
      ]
     },
     "execution_count": 56,
     "metadata": {},
     "output_type": "execute_result"
    }
   ],
   "source": [
    "df['start'] = df.name.apply(lambda x: x[0:4])\n",
    "df.head()"
   ]
  },
  {
   "cell_type": "code",
   "execution_count": 57,
   "metadata": {
    "collapsed": false
   },
   "outputs": [
    {
     "data": {
      "text/html": [
       "<div>\n",
       "<table border=\"1\" class=\"dataframe\">\n",
       "  <thead>\n",
       "    <tr style=\"text-align: right;\">\n",
       "      <th></th>\n",
       "      <th>name</th>\n",
       "    </tr>\n",
       "    <tr>\n",
       "      <th>start</th>\n",
       "      <th></th>\n",
       "    </tr>\n",
       "  </thead>\n",
       "  <tbody>\n",
       "    <tr>\n",
       "      <th>Aaba</th>\n",
       "      <td>1</td>\n",
       "    </tr>\n",
       "    <tr>\n",
       "      <th>Aabh</th>\n",
       "      <td>1</td>\n",
       "    </tr>\n",
       "    <tr>\n",
       "      <th>Aabi</th>\n",
       "      <td>1</td>\n",
       "    </tr>\n",
       "    <tr>\n",
       "      <th>Aabr</th>\n",
       "      <td>1</td>\n",
       "    </tr>\n",
       "    <tr>\n",
       "      <th>Aada</th>\n",
       "      <td>3</td>\n",
       "    </tr>\n",
       "  </tbody>\n",
       "</table>\n",
       "</div>"
      ],
      "text/plain": [
       "       name\n",
       "start      \n",
       "Aaba      1\n",
       "Aabh      1\n",
       "Aabi      1\n",
       "Aabr      1\n",
       "Aada      3"
      ]
     },
     "execution_count": 57,
     "metadata": {},
     "output_type": "execute_result"
    }
   ],
   "source": [
    "# We can count the number of elements in a group,\n",
    "# but then we lose all the names\n",
    "df2 = df.groupby('start').count()\n",
    "df2.head()"
   ]
  },
  {
   "cell_type": "code",
   "execution_count": 58,
   "metadata": {
    "collapsed": false
   },
   "outputs": [
    {
     "data": {
      "text/html": [
       "<div>\n",
       "<table border=\"1\" class=\"dataframe\">\n",
       "  <thead>\n",
       "    <tr style=\"text-align: right;\">\n",
       "      <th></th>\n",
       "      <th>numnames</th>\n",
       "      <th>names</th>\n",
       "    </tr>\n",
       "    <tr>\n",
       "      <th>start</th>\n",
       "      <th></th>\n",
       "      <th></th>\n",
       "    </tr>\n",
       "  </thead>\n",
       "  <tbody>\n",
       "    <tr>\n",
       "      <th>Aaba</th>\n",
       "      <td>1</td>\n",
       "      <td>Aaban</td>\n",
       "    </tr>\n",
       "    <tr>\n",
       "      <th>Aabh</th>\n",
       "      <td>1</td>\n",
       "      <td>Aabha</td>\n",
       "    </tr>\n",
       "    <tr>\n",
       "      <th>Aabi</th>\n",
       "      <td>1</td>\n",
       "      <td>Aabid</td>\n",
       "    </tr>\n",
       "    <tr>\n",
       "      <th>Aabr</th>\n",
       "      <td>1</td>\n",
       "      <td>Aabriella</td>\n",
       "    </tr>\n",
       "    <tr>\n",
       "      <th>Aada</th>\n",
       "      <td>3</td>\n",
       "      <td>Aadam, Aadarsh, Aadan</td>\n",
       "    </tr>\n",
       "  </tbody>\n",
       "</table>\n",
       "</div>"
      ],
      "text/plain": [
       "       numnames                  names\n",
       "start                                 \n",
       "Aaba          1                  Aaban\n",
       "Aabh          1                  Aabha\n",
       "Aabi          1                  Aabid\n",
       "Aabr          1              Aabriella\n",
       "Aada          3  Aadam, Aadarsh, Aadan"
      ]
     },
     "execution_count": 58,
     "metadata": {},
     "output_type": "execute_result"
    }
   ],
   "source": [
    "# Let's build our own groupby function\n",
    "def agg_names(group):\n",
    "    num_names = len(group)\n",
    "    return Series([num_names, \", \".join(group['name'])],\n",
    "                  ['numnames', 'names'])\n",
    "\n",
    "df2 = df.groupby('start').apply(agg_names)\n",
    "df2.head()  # Better!"
   ]
  },
  {
   "cell_type": "code",
   "execution_count": 59,
   "metadata": {
    "collapsed": false
   },
   "outputs": [
    {
     "data": {
      "text/html": [
       "<div>\n",
       "<table border=\"1\" class=\"dataframe\">\n",
       "  <thead>\n",
       "    <tr style=\"text-align: right;\">\n",
       "      <th></th>\n",
       "      <th>numnames</th>\n",
       "      <th>names</th>\n",
       "    </tr>\n",
       "    <tr>\n",
       "      <th>start</th>\n",
       "      <th></th>\n",
       "      <th></th>\n",
       "    </tr>\n",
       "  </thead>\n",
       "  <tbody>\n",
       "    <tr>\n",
       "      <th>Shan</th>\n",
       "      <td>385</td>\n",
       "      <td>Shannon, Shanna, Shane, Shana, Shan, Shanon, S...</td>\n",
       "    </tr>\n",
       "    <tr>\n",
       "      <th>Mari</th>\n",
       "      <td>356</td>\n",
       "      <td>Marie, Maria, Marion, Marian, Mariah, Marietta...</td>\n",
       "    </tr>\n",
       "    <tr>\n",
       "      <th>Char</th>\n",
       "      <td>314</td>\n",
       "      <td>Charlotte, Charity, Charles, Charlotta, Charli...</td>\n",
       "    </tr>\n",
       "    <tr>\n",
       "      <th>Shar</th>\n",
       "      <td>314</td>\n",
       "      <td>Sharon, Sharlene, Sharleen, Sharron, Sharline,...</td>\n",
       "    </tr>\n",
       "    <tr>\n",
       "      <th>Sher</th>\n",
       "      <td>245</td>\n",
       "      <td>Sherman, Sheridan, Sherwood, Sherry, Sherley, ...</td>\n",
       "    </tr>\n",
       "  </tbody>\n",
       "</table>\n",
       "</div>"
      ],
      "text/plain": [
       "       numnames                                              names\n",
       "start                                                             \n",
       "Shan        385  Shannon, Shanna, Shane, Shana, Shan, Shanon, S...\n",
       "Mari        356  Marie, Maria, Marion, Marian, Mariah, Marietta...\n",
       "Char        314  Charlotte, Charity, Charles, Charlotta, Charli...\n",
       "Shar        314  Sharon, Sharlene, Sharleen, Sharron, Sharline,...\n",
       "Sher        245  Sherman, Sheridan, Sherwood, Sherry, Sherley, ..."
      ]
     },
     "execution_count": 59,
     "metadata": {},
     "output_type": "execute_result"
    }
   ],
   "source": [
    "df2.sort_index(by='numnames', ascending=False).head()"
   ]
  },
  {
   "cell_type": "markdown",
   "metadata": {},
   "source": [
    "Well, it's a start..."
   ]
  },
  {
   "cell_type": "markdown",
   "metadata": {},
   "source": [
    "**Ex 1.5.1: What's the equation of the line of best fit?**"
   ]
  },
  {
   "cell_type": "markdown",
   "metadata": {},
   "source": [
    "You can read it off from the properties of the regression model.  In general, it's\n",
    "\n",
    "$$\n",
    "y = \\text{<regr.coef_[0]>} \\cdot x + \\text{<regr.intercept_>}.\n",
    "$$\n",
    "\n",
    "In this example, it's\n",
    "\n",
    "$$\n",
    "y = 3.04 x - 2.76.\n",
    "$$"
   ]
  },
  {
   "cell_type": "markdown",
   "metadata": {},
   "source": [
    "**Ex 1.5.2: What's the predicted value of `y` for `x = 2.5`?**"
   ]
  },
  {
   "cell_type": "code",
   "execution_count": 60,
   "metadata": {
    "collapsed": false
   },
   "outputs": [
    {
     "name": "stdout",
     "output_type": "stream",
     "text": [
      "[ 4.84135857]\n"
     ]
    }
   ],
   "source": [
    "# Let's recalculate the model here to have it available\n",
    "import matplotlib.pyplot as plt\n",
    "%matplotlib inline\n",
    "\n",
    "import numpy as np\n",
    "from sklearn import datasets, linear_model\n",
    "\n",
    "def linear_data_sample(N=40, rseed=0, m=3, b=-2):\n",
    "    \"\"\"Sample N points on the line y = m*x + b + err, where err is normally distributed\"\"\"\n",
    "    rng = np.random.RandomState(rseed)\n",
    "\n",
    "    x = 10 * rng.rand(N)\n",
    "    y = m * x + b + 1.5*rng.randn(N)\n",
    "\n",
    "    return x, y\n",
    "\n",
    "x, y = linear_data_sample()\n",
    "\n",
    "regr = linear_model.LinearRegression(fit_intercept=True)\n",
    "regr.fit(x.reshape((len(x), 1)), y)   # Scikit-learn expects x to be a column-vector\n",
    "\n",
    "print(regr.predict(2.5))"
   ]
  },
  {
   "cell_type": "markdown",
   "metadata": {},
   "source": [
    "**Ex 1.5.3.  What is the predicted class for a point at (1.5, 2.0)?**"
   ]
  },
  {
   "cell_type": "code",
   "execution_count": 61,
   "metadata": {
    "collapsed": false
   },
   "outputs": [
    {
     "data": {
      "text/plain": [
       "array([1])"
      ]
     },
     "execution_count": 61,
     "metadata": {},
     "output_type": "execute_result"
    }
   ],
   "source": [
    "# Let's rebuild the SVM here\n",
    "from sklearn.datasets.samples_generator import make_blobs\n",
    "X, y = make_blobs(n_samples=50, centers=2,\n",
    "                  random_state=0, cluster_std=0.60)\n",
    "\n",
    "from sklearn.svm import SVC # \"Support Vector Classifier\"\n",
    "model = SVC(kernel='linear')\n",
    "model.fit(X, y)\n",
    "\n",
    "model.predict([1.5, 2.0])"
   ]
  },
  {
   "cell_type": "markdown",
   "metadata": {},
   "source": [
    "Which class is \"1\"?  Yellow or Magenta?  Let's classify some extreme points to find out:"
   ]
  },
  {
   "cell_type": "code",
   "execution_count": 62,
   "metadata": {
    "collapsed": false
   },
   "outputs": [
    {
     "data": {
      "text/plain": [
       "array([1, 0])"
      ]
     },
     "execution_count": 62,
     "metadata": {},
     "output_type": "execute_result"
    }
   ],
   "source": [
    "model.predict([\n",
    "        [+10.0, -10.0],   # Lower right\n",
    "        [-10.0, +10.0],   # Upper left\n",
    "])"
   ]
  },
  {
   "cell_type": "markdown",
   "metadata": {},
   "source": [
    "So, \"1\" is yellow and \"0\" is magenta.  So (1.5, 2.0) is classified as yellow.  Indeed that matches what you can eyeball from the plot."
   ]
  },
  {
   "cell_type": "markdown",
   "metadata": {},
   "source": [
    "**(!) Ex 1.5.4. Make a plot that visualizes the result of the above classifier everywhere in the x-y plane.**"
   ]
  },
  {
   "cell_type": "code",
   "execution_count": 63,
   "metadata": {
    "collapsed": false
   },
   "outputs": [
    {
     "data": {
      "text/plain": [
       "<matplotlib.collections.PathCollection at 0x11387c890>"
      ]
     },
     "execution_count": 63,
     "metadata": {},
     "output_type": "execute_result"
    },
    {
     "data": {
      "image/png": "[encoded data removed]",
      "text/plain": [
       "<matplotlib.figure.Figure at 0x1123991d0>"
      ]
     },
     "metadata": {},
     "output_type": "display_data"
    }
   ],
   "source": [
    "# Optional: importing this package makes the default plot settings nicer\n",
    "import seaborn as sns; sns.set()\n",
    "\n",
    "# Create the data and model here so that we can use them\n",
    "from sklearn.datasets.samples_generator import make_blobs\n",
    "X, y = make_blobs(n_samples=300, centers=4,\n",
    "                  random_state=0, cluster_std=0.60)\n",
    "\n",
    "from sklearn.cluster import KMeans\n",
    "est = KMeans(4)  # 4 clusters\n",
    "est.fit(X)\n",
    "y_kmeans = est.predict(X)\n",
    "plt.scatter(X[:, 0], X[:, 1], c=y_kmeans, s=50, cmap='rainbow');\n",
    "\n",
    "## Pitfall: the cluster colours are arbitrary and different every time"
   ]
  },
  {
   "cell_type": "markdown",
   "metadata": {},
   "source": [
    "The idea is to generate a uniform grid of points along the $x$-$y$ plane, then classify each of them, then plot them as we plotted the original data:"
   ]
  },
  {
   "cell_type": "code",
   "execution_count": 64,
   "metadata": {
    "collapsed": true
   },
   "outputs": [],
   "source": [
    "X = np.array([[x,y] for x in np.linspace(-4.0, 4.0, 100)\n",
    "                    for y in np.linspace(-2.0, 10.0, 100)])"
   ]
  },
  {
   "cell_type": "code",
   "execution_count": 65,
   "metadata": {
    "collapsed": false
   },
   "outputs": [
    {
     "data": {
      "text/plain": [
       "array([[-4.        , -2.        ],\n",
       "       [-4.        , -1.87878788],\n",
       "       [-4.        , -1.75757576],\n",
       "       [-4.        , -1.63636364],\n",
       "       [-4.        , -1.51515152],\n",
       "       [-4.        , -1.39393939],\n",
       "       [-4.        , -1.27272727],\n",
       "       [-4.        , -1.15151515],\n",
       "       [-4.        , -1.03030303],\n",
       "       [-4.        , -0.90909091]])"
      ]
     },
     "execution_count": 65,
     "metadata": {},
     "output_type": "execute_result"
    }
   ],
   "source": [
    "X[:10]"
   ]
  },
  {
   "cell_type": "code",
   "execution_count": 66,
   "metadata": {
    "collapsed": true
   },
   "outputs": [],
   "source": [
    "y = est.predict(X)"
   ]
  },
  {
   "cell_type": "code",
   "execution_count": 67,
   "metadata": {
    "collapsed": false
   },
   "outputs": [
    {
     "data": {
      "image/png": "[encoded data removed]",
      "text/plain": [
       "<matplotlib.figure.Figure at 0x10f386090>"
      ]
     },
     "metadata": {},
     "output_type": "display_data"
    }
   ],
   "source": [
    "plt.scatter(X[:, 0], X[:, 1], lw=0, c=y, s=50, cmap='rainbow', );"
   ]
  }
 ],
 "metadata": {
  "kernelspec": {
   "display_name": "Python 2",
   "language": "python",
   "name": "python2"
  },
  "language_info": {
   "codemirror_mode": {
    "name": "ipython",
    "version": 2
   },
   "file_extension": ".py",
   "mimetype": "text/x-python",
   "name": "python",
   "nbconvert_exporter": "python",
   "pygments_lexer": "ipython2",
   "version": "2.7.9"
  }
 },
 "nbformat": 4,
 "nbformat_minor": 0
}
